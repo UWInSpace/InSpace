{
 "cells": [
  {
   "cell_type": "markdown",
   "id": "tight-conflict",
   "metadata": {},
   "source": [
    "### Multiple linear regression code for bacterial dataset"
   ]
  },
  {
   "cell_type": "code",
   "execution_count": 1,
   "id": "purple-worker",
   "metadata": {},
   "outputs": [],
   "source": [
    "#Import python libraries/packages\n",
    "\n",
    "# Pandas to handle dataframes\n",
    "import pandas as pd    \n",
    "\n",
    "# Import Scikit-Learn library for the regression model\n",
    "import sklearn         \n",
    "from sklearn import preprocessing #sklearn for normalization function\n",
    "from sklearn import linear_model, datasets\n",
    "from sklearn.model_selection import train_test_split\n",
    "from sklearn.metrics import mean_squared_error, r2_score\n",
    "# SequentialFeatureSelector\n",
    "from sklearn.feature_selection import f_regression, SequentialFeatureSelector\n",
    "from sklearn.preprocessing import PolynomialFeatures\n",
    "from sklearn.pipeline import make_pipeline\n",
    "\n",
    "# Import numpy \n",
    "import numpy as np\n",
    "\n",
    "\n",
    "# Another statistic model library\n",
    "import statsmodels.api as sm\n",
    "import statsmodels.formula.api as smf\n",
    "\n",
    "import scipy.stats as stats\n",
    "import scipy\n",
    "from scipy import interpolate\n",
    "from scipy.interpolate import interp1d\n",
    "\n",
    "\n",
    "# Import plotting libraries\n",
    "import matplotlib \n",
    "from matplotlib import pyplot as plt\n",
    "# Set larger fontsize for all plots\n",
    "matplotlib.rcParams.update({'font.size': 18})"
   ]
  },
  {
   "cell_type": "code",
   "execution_count": 2,
   "id": "satisfied-sociology",
   "metadata": {},
   "outputs": [
    {
     "name": "stdout",
     "output_type": "stream",
     "text": [
      "0.24.1\n"
     ]
    }
   ],
   "source": [
    "import sklearn\n",
    "print(sklearn.__version__)"
   ]
  },
  {
   "cell_type": "code",
   "execution_count": 3,
   "id": "removable-curve",
   "metadata": {},
   "outputs": [
    {
     "data": {
      "text/html": [
       "<div>\n",
       "<style scoped>\n",
       "    .dataframe tbody tr th:only-of-type {\n",
       "        vertical-align: middle;\n",
       "    }\n",
       "\n",
       "    .dataframe tbody tr th {\n",
       "        vertical-align: top;\n",
       "    }\n",
       "\n",
       "    .dataframe thead th {\n",
       "        text-align: right;\n",
       "    }\n",
       "</style>\n",
       "<table border=\"1\" class=\"dataframe\">\n",
       "  <thead>\n",
       "    <tr style=\"text-align: right;\">\n",
       "      <th></th>\n",
       "      <th>Unnamed: 0</th>\n",
       "      <th>GENENAME</th>\n",
       "      <th>ORG</th>\n",
       "      <th>ENTREZID</th>\n",
       "      <th>REFSEQ</th>\n",
       "      <th>LOG2FC</th>\n",
       "      <th>True_EID</th>\n",
       "      <th>SEQUENCE</th>\n",
       "      <th>AA_NP</th>\n",
       "      <th>AA_POS</th>\n",
       "      <th>AA_POL</th>\n",
       "      <th>AA_NEG</th>\n",
       "      <th>MW</th>\n",
       "      <th>AROM</th>\n",
       "      <th>ISO_E</th>\n",
       "    </tr>\n",
       "  </thead>\n",
       "  <tbody>\n",
       "    <tr>\n",
       "      <th>0</th>\n",
       "      <td>0</td>\n",
       "      <td>ABC_transporter</td>\n",
       "      <td>PA</td>\n",
       "      <td>879411</td>\n",
       "      <td>NP_248876</td>\n",
       "      <td>-0.038469</td>\n",
       "      <td>15595384</td>\n",
       "      <td>mkaltssllglfaapvlagllgayvplasaappkeiriavpdvsag...</td>\n",
       "      <td>59.773371</td>\n",
       "      <td>11.614731</td>\n",
       "      <td>17.847025</td>\n",
       "      <td>10.764873</td>\n",
       "      <td>37193.0756</td>\n",
       "      <td>0.070822</td>\n",
       "      <td>6.871061</td>\n",
       "    </tr>\n",
       "    <tr>\n",
       "      <th>1</th>\n",
       "      <td>1</td>\n",
       "      <td>ABC_transporter</td>\n",
       "      <td>PA</td>\n",
       "      <td>883108</td>\n",
       "      <td>NP_248894</td>\n",
       "      <td>-0.207718</td>\n",
       "      <td>15595400</td>\n",
       "      <td>mhqriasiglgltlalggsaqaagqlnvvswsgyfspqllekfeke...</td>\n",
       "      <td>54.941860</td>\n",
       "      <td>11.337209</td>\n",
       "      <td>22.674419</td>\n",
       "      <td>11.046512</td>\n",
       "      <td>37859.8560</td>\n",
       "      <td>0.093023</td>\n",
       "      <td>6.033937</td>\n",
       "    </tr>\n",
       "    <tr>\n",
       "      <th>2</th>\n",
       "      <td>2</td>\n",
       "      <td>ABC_transporter</td>\n",
       "      <td>PA</td>\n",
       "      <td>878380</td>\n",
       "      <td>NP_249014</td>\n",
       "      <td>-0.187309</td>\n",
       "      <td>15595520</td>\n",
       "      <td>mtyrtpltllfaaglalggqaraegtlhfanwsdyyppellkkfek...</td>\n",
       "      <td>52.449568</td>\n",
       "      <td>14.121037</td>\n",
       "      <td>20.461095</td>\n",
       "      <td>12.968300</td>\n",
       "      <td>38901.0268</td>\n",
       "      <td>0.112392</td>\n",
       "      <td>6.350359</td>\n",
       "    </tr>\n",
       "    <tr>\n",
       "      <th>3</th>\n",
       "      <td>3</td>\n",
       "      <td>ABC_transporter</td>\n",
       "      <td>PA</td>\n",
       "      <td>880771</td>\n",
       "      <td>NP_249293</td>\n",
       "      <td>0.085173</td>\n",
       "      <td>15595799</td>\n",
       "      <td>mlpamrtgllcallgvtapawaeyvtvisfggankeaqetafykpf...</td>\n",
       "      <td>59.593023</td>\n",
       "      <td>11.918605</td>\n",
       "      <td>17.732558</td>\n",
       "      <td>10.755814</td>\n",
       "      <td>37832.8132</td>\n",
       "      <td>0.116279</td>\n",
       "      <td>6.919602</td>\n",
       "    </tr>\n",
       "    <tr>\n",
       "      <th>4</th>\n",
       "      <td>4</td>\n",
       "      <td>ABC_transporter</td>\n",
       "      <td>PA</td>\n",
       "      <td>879023</td>\n",
       "      <td>NP_249295</td>\n",
       "      <td>0.038834</td>\n",
       "      <td>15595801</td>\n",
       "      <td>mskslkaaslkfatlaaglacaaqamavdltvvsfgganksaqika...</td>\n",
       "      <td>54.310345</td>\n",
       "      <td>11.494253</td>\n",
       "      <td>22.413793</td>\n",
       "      <td>11.781609</td>\n",
       "      <td>38166.9526</td>\n",
       "      <td>0.112069</td>\n",
       "      <td>5.869103</td>\n",
       "    </tr>\n",
       "    <tr>\n",
       "      <th>...</th>\n",
       "      <td>...</td>\n",
       "      <td>...</td>\n",
       "      <td>...</td>\n",
       "      <td>...</td>\n",
       "      <td>...</td>\n",
       "      <td>...</td>\n",
       "      <td>...</td>\n",
       "      <td>...</td>\n",
       "      <td>...</td>\n",
       "      <td>...</td>\n",
       "      <td>...</td>\n",
       "      <td>...</td>\n",
       "      <td>...</td>\n",
       "      <td>...</td>\n",
       "      <td>...</td>\n",
       "    </tr>\n",
       "    <tr>\n",
       "      <th>431</th>\n",
       "      <td>431</td>\n",
       "      <td>RNA_polymerase</td>\n",
       "      <td>BS</td>\n",
       "      <td>939937</td>\n",
       "      <td>NP_388354</td>\n",
       "      <td>-0.055848</td>\n",
       "      <td>728883360</td>\n",
       "      <td>mtqpskttkltkdevdrlisdyqtkqdeqaqetlvrvytnlvdmla...</td>\n",
       "      <td>42.748092</td>\n",
       "      <td>16.030534</td>\n",
       "      <td>24.809160</td>\n",
       "      <td>16.412214</td>\n",
       "      <td>29900.8971</td>\n",
       "      <td>0.049618</td>\n",
       "      <td>5.545803</td>\n",
       "    </tr>\n",
       "    <tr>\n",
       "      <th>432</th>\n",
       "      <td>432</td>\n",
       "      <td>RNA_polymerase</td>\n",
       "      <td>BS</td>\n",
       "      <td>936362</td>\n",
       "      <td>NP_391300</td>\n",
       "      <td>-0.140629</td>\n",
       "      <td>728886343</td>\n",
       "      <td>mdmklqqvqvlkpqltqelrqaitllgyhsaelaeyidelslenpl...</td>\n",
       "      <td>43.807339</td>\n",
       "      <td>15.596330</td>\n",
       "      <td>27.752294</td>\n",
       "      <td>12.844037</td>\n",
       "      <td>49700.0669</td>\n",
       "      <td>0.064220</td>\n",
       "      <td>7.716086</td>\n",
       "    </tr>\n",
       "    <tr>\n",
       "      <th>433</th>\n",
       "      <td>433</td>\n",
       "      <td>RNA_polymerase</td>\n",
       "      <td>BS</td>\n",
       "      <td>938729</td>\n",
       "      <td>NP_390226</td>\n",
       "      <td>-0.528350</td>\n",
       "      <td>728885268</td>\n",
       "      <td>mdvevkkngknaqlkdhevkelikqsqngdqqardllieknmrlvw...</td>\n",
       "      <td>43.137255</td>\n",
       "      <td>16.862745</td>\n",
       "      <td>21.568627</td>\n",
       "      <td>18.431373</td>\n",
       "      <td>29372.0675</td>\n",
       "      <td>0.058824</td>\n",
       "      <td>5.252059</td>\n",
       "    </tr>\n",
       "    <tr>\n",
       "      <th>434</th>\n",
       "      <td>434</td>\n",
       "      <td>RNA_polymerase</td>\n",
       "      <td>BS</td>\n",
       "      <td>939953</td>\n",
       "      <td>NP_389416</td>\n",
       "      <td>0.303125</td>\n",
       "      <td>728884442</td>\n",
       "      <td>msrnkveicgvdtsklpvlkneemrklfrqlqdegddsareklvng...</td>\n",
       "      <td>45.384615</td>\n",
       "      <td>16.153846</td>\n",
       "      <td>21.923077</td>\n",
       "      <td>16.538462</td>\n",
       "      <td>30073.0463</td>\n",
       "      <td>0.061538</td>\n",
       "      <td>5.632312</td>\n",
       "    </tr>\n",
       "    <tr>\n",
       "      <th>435</th>\n",
       "      <td>435</td>\n",
       "      <td>RNA_polymerase</td>\n",
       "      <td>BS</td>\n",
       "      <td>939683</td>\n",
       "      <td>NP_389415</td>\n",
       "      <td>-0.083972</td>\n",
       "      <td>728884441</td>\n",
       "      <td>mkklklrlthlwykllmklglksdevyyiggsealppplskdeeqv...</td>\n",
       "      <td>47.280335</td>\n",
       "      <td>17.573222</td>\n",
       "      <td>19.246862</td>\n",
       "      <td>15.899582</td>\n",
       "      <td>27652.0460</td>\n",
       "      <td>0.058577</td>\n",
       "      <td>8.725812</td>\n",
       "    </tr>\n",
       "  </tbody>\n",
       "</table>\n",
       "<p>436 rows × 15 columns</p>\n",
       "</div>"
      ],
      "text/plain": [
       "     Unnamed: 0         GENENAME ORG  ENTREZID     REFSEQ    LOG2FC  \\\n",
       "0             0  ABC_transporter  PA    879411  NP_248876 -0.038469   \n",
       "1             1  ABC_transporter  PA    883108  NP_248894 -0.207718   \n",
       "2             2  ABC_transporter  PA    878380  NP_249014 -0.187309   \n",
       "3             3  ABC_transporter  PA    880771  NP_249293  0.085173   \n",
       "4             4  ABC_transporter  PA    879023  NP_249295  0.038834   \n",
       "..          ...              ...  ..       ...        ...       ...   \n",
       "431         431   RNA_polymerase  BS    939937  NP_388354 -0.055848   \n",
       "432         432   RNA_polymerase  BS    936362  NP_391300 -0.140629   \n",
       "433         433   RNA_polymerase  BS    938729  NP_390226 -0.528350   \n",
       "434         434   RNA_polymerase  BS    939953  NP_389416  0.303125   \n",
       "435         435   RNA_polymerase  BS    939683  NP_389415 -0.083972   \n",
       "\n",
       "      True_EID                                           SEQUENCE      AA_NP  \\\n",
       "0     15595384  mkaltssllglfaapvlagllgayvplasaappkeiriavpdvsag...  59.773371   \n",
       "1     15595400  mhqriasiglgltlalggsaqaagqlnvvswsgyfspqllekfeke...  54.941860   \n",
       "2     15595520  mtyrtpltllfaaglalggqaraegtlhfanwsdyyppellkkfek...  52.449568   \n",
       "3     15595799  mlpamrtgllcallgvtapawaeyvtvisfggankeaqetafykpf...  59.593023   \n",
       "4     15595801  mskslkaaslkfatlaaglacaaqamavdltvvsfgganksaqika...  54.310345   \n",
       "..         ...                                                ...        ...   \n",
       "431  728883360  mtqpskttkltkdevdrlisdyqtkqdeqaqetlvrvytnlvdmla...  42.748092   \n",
       "432  728886343  mdmklqqvqvlkpqltqelrqaitllgyhsaelaeyidelslenpl...  43.807339   \n",
       "433  728885268  mdvevkkngknaqlkdhevkelikqsqngdqqardllieknmrlvw...  43.137255   \n",
       "434  728884442  msrnkveicgvdtsklpvlkneemrklfrqlqdegddsareklvng...  45.384615   \n",
       "435  728884441  mkklklrlthlwykllmklglksdevyyiggsealppplskdeeqv...  47.280335   \n",
       "\n",
       "        AA_POS     AA_POL     AA_NEG          MW      AROM     ISO_E  \n",
       "0    11.614731  17.847025  10.764873  37193.0756  0.070822  6.871061  \n",
       "1    11.337209  22.674419  11.046512  37859.8560  0.093023  6.033937  \n",
       "2    14.121037  20.461095  12.968300  38901.0268  0.112392  6.350359  \n",
       "3    11.918605  17.732558  10.755814  37832.8132  0.116279  6.919602  \n",
       "4    11.494253  22.413793  11.781609  38166.9526  0.112069  5.869103  \n",
       "..         ...        ...        ...         ...       ...       ...  \n",
       "431  16.030534  24.809160  16.412214  29900.8971  0.049618  5.545803  \n",
       "432  15.596330  27.752294  12.844037  49700.0669  0.064220  7.716086  \n",
       "433  16.862745  21.568627  18.431373  29372.0675  0.058824  5.252059  \n",
       "434  16.153846  21.923077  16.538462  30073.0463  0.061538  5.632312  \n",
       "435  17.573222  19.246862  15.899582  27652.0460  0.058577  8.725812  \n",
       "\n",
       "[436 rows x 15 columns]"
      ]
     },
     "execution_count": 3,
     "metadata": {},
     "output_type": "execute_result"
    }
   ],
   "source": [
    "# Open and load dataset\n",
    "bacterial_csv = pd.read_csv('compiled_features_complete.csv')\n",
    "df = pd.DataFrame(data=bacterial_csv)\n",
    "df"
   ]
  },
  {
   "cell_type": "code",
   "execution_count": 58,
   "id": "thousand-meaning",
   "metadata": {},
   "outputs": [],
   "source": [
    "#assign input (X) /output (y) features\n",
    "#X= df[['AA_NP','AA_POS','AA_NEG', 'AA_POL', 'MW', 'AROM', 'ISO_E']]\n",
    "\n",
    "#selector, 6 input features\n",
    "X= df[['AA_NP','AA_POS','AA_NEG', 'AA_POL', 'MW', 'ISO_E']]\n",
    "\n",
    "#selector, 5 input features\n",
    "#X= df[['AA_POS','AA_NEG', 'AA_POL', 'MW', 'ISO_E']]\n",
    "\n",
    "#selector, 4 input features\n",
    "#X= df[['AA_POS','AA_POL', 'MW', 'ISO_E']]\n",
    "\n",
    "#selector, 2 input features\n",
    "#X= df[['AA_POL', 'ISO_E']]\n",
    "\n",
    "y= df['LOG2FC']\n",
    "\n",
    "\n",
    "#Change as you decrease/select input features!!\n",
    "Nfeat = 6"
   ]
  },
  {
   "cell_type": "markdown",
   "id": "royal-arrangement",
   "metadata": {},
   "source": [
    "#### Scale input features (Rory will write a function, need to implement later)\n",
    "for now just do a jupyter notebook lines"
   ]
  },
  {
   "cell_type": "code",
   "execution_count": 59,
   "id": "medieval-burning",
   "metadata": {},
   "outputs": [],
   "source": [
    "X_arr = X.values #returns a numpy array for X (needed to use the min_max_scaler)\n",
    "\n",
    "X_col_names = list(X.columns.values.tolist()) #get column names to then put back into X_norm\n",
    "\n",
    "#min-max normalization (rescaling) of input features\n",
    "min_max_scaler = preprocessing.MinMaxScaler()\n",
    "X_scaled = min_max_scaler.fit_transform(X_arr)\n",
    "X_norm= pd.DataFrame(X_scaled)\n",
    "\n",
    "#put back the original column names\n",
    "X_norm.columns = X_col_names\n",
    "\n",
    "X = X_norm"
   ]
  },
  {
   "cell_type": "code",
   "execution_count": 60,
   "id": "medieval-receiver",
   "metadata": {},
   "outputs": [
    {
     "data": {
      "text/html": [
       "<div>\n",
       "<style scoped>\n",
       "    .dataframe tbody tr th:only-of-type {\n",
       "        vertical-align: middle;\n",
       "    }\n",
       "\n",
       "    .dataframe tbody tr th {\n",
       "        vertical-align: top;\n",
       "    }\n",
       "\n",
       "    .dataframe thead th {\n",
       "        text-align: right;\n",
       "    }\n",
       "</style>\n",
       "<table border=\"1\" class=\"dataframe\">\n",
       "  <thead>\n",
       "    <tr style=\"text-align: right;\">\n",
       "      <th></th>\n",
       "      <th>AA_NP</th>\n",
       "      <th>AA_POS</th>\n",
       "      <th>AA_NEG</th>\n",
       "      <th>AA_POL</th>\n",
       "      <th>MW</th>\n",
       "      <th>ISO_E</th>\n",
       "    </tr>\n",
       "  </thead>\n",
       "  <tbody>\n",
       "    <tr>\n",
       "      <th>0</th>\n",
       "      <td>0.560010</td>\n",
       "      <td>0.473362</td>\n",
       "      <td>0.223260</td>\n",
       "      <td>0.250886</td>\n",
       "      <td>0.208999</td>\n",
       "      <td>0.380891</td>\n",
       "    </tr>\n",
       "    <tr>\n",
       "      <th>1</th>\n",
       "      <td>0.452176</td>\n",
       "      <td>0.457427</td>\n",
       "      <td>0.231083</td>\n",
       "      <td>0.387387</td>\n",
       "      <td>0.213203</td>\n",
       "      <td>0.267864</td>\n",
       "    </tr>\n",
       "    <tr>\n",
       "      <th>2</th>\n",
       "      <td>0.396551</td>\n",
       "      <td>0.617272</td>\n",
       "      <td>0.284465</td>\n",
       "      <td>0.324803</td>\n",
       "      <td>0.219767</td>\n",
       "      <td>0.310587</td>\n",
       "    </tr>\n",
       "    <tr>\n",
       "      <th>3</th>\n",
       "      <td>0.555985</td>\n",
       "      <td>0.490810</td>\n",
       "      <td>0.223009</td>\n",
       "      <td>0.247650</td>\n",
       "      <td>0.213032</td>\n",
       "      <td>0.387445</td>\n",
       "    </tr>\n",
       "    <tr>\n",
       "      <th>4</th>\n",
       "      <td>0.438081</td>\n",
       "      <td>0.466444</td>\n",
       "      <td>0.251502</td>\n",
       "      <td>0.380018</td>\n",
       "      <td>0.215139</td>\n",
       "      <td>0.245608</td>\n",
       "    </tr>\n",
       "    <tr>\n",
       "      <th>...</th>\n",
       "      <td>...</td>\n",
       "      <td>...</td>\n",
       "      <td>...</td>\n",
       "      <td>...</td>\n",
       "      <td>...</td>\n",
       "      <td>...</td>\n",
       "    </tr>\n",
       "    <tr>\n",
       "      <th>431</th>\n",
       "      <td>0.180024</td>\n",
       "      <td>0.726915</td>\n",
       "      <td>0.380126</td>\n",
       "      <td>0.447750</td>\n",
       "      <td>0.163027</td>\n",
       "      <td>0.201957</td>\n",
       "    </tr>\n",
       "    <tr>\n",
       "      <th>432</th>\n",
       "      <td>0.203666</td>\n",
       "      <td>0.701983</td>\n",
       "      <td>0.281013</td>\n",
       "      <td>0.530971</td>\n",
       "      <td>0.287848</td>\n",
       "      <td>0.494985</td>\n",
       "    </tr>\n",
       "    <tr>\n",
       "      <th>433</th>\n",
       "      <td>0.188710</td>\n",
       "      <td>0.774700</td>\n",
       "      <td>0.436212</td>\n",
       "      <td>0.356120</td>\n",
       "      <td>0.159693</td>\n",
       "      <td>0.162296</td>\n",
       "    </tr>\n",
       "    <tr>\n",
       "      <th>434</th>\n",
       "      <td>0.238869</td>\n",
       "      <td>0.733995</td>\n",
       "      <td>0.383633</td>\n",
       "      <td>0.366142</td>\n",
       "      <td>0.164112</td>\n",
       "      <td>0.213637</td>\n",
       "    </tr>\n",
       "    <tr>\n",
       "      <th>435</th>\n",
       "      <td>0.281179</td>\n",
       "      <td>0.815495</td>\n",
       "      <td>0.365887</td>\n",
       "      <td>0.290469</td>\n",
       "      <td>0.148849</td>\n",
       "      <td>0.631316</td>\n",
       "    </tr>\n",
       "  </tbody>\n",
       "</table>\n",
       "<p>436 rows × 6 columns</p>\n",
       "</div>"
      ],
      "text/plain": [
       "        AA_NP    AA_POS    AA_NEG    AA_POL        MW     ISO_E\n",
       "0    0.560010  0.473362  0.223260  0.250886  0.208999  0.380891\n",
       "1    0.452176  0.457427  0.231083  0.387387  0.213203  0.267864\n",
       "2    0.396551  0.617272  0.284465  0.324803  0.219767  0.310587\n",
       "3    0.555985  0.490810  0.223009  0.247650  0.213032  0.387445\n",
       "4    0.438081  0.466444  0.251502  0.380018  0.215139  0.245608\n",
       "..        ...       ...       ...       ...       ...       ...\n",
       "431  0.180024  0.726915  0.380126  0.447750  0.163027  0.201957\n",
       "432  0.203666  0.701983  0.281013  0.530971  0.287848  0.494985\n",
       "433  0.188710  0.774700  0.436212  0.356120  0.159693  0.162296\n",
       "434  0.238869  0.733995  0.383633  0.366142  0.164112  0.213637\n",
       "435  0.281179  0.815495  0.365887  0.290469  0.148849  0.631316\n",
       "\n",
       "[436 rows x 6 columns]"
      ]
     },
     "execution_count": 60,
     "metadata": {},
     "output_type": "execute_result"
    }
   ],
   "source": [
    "X"
   ]
  },
  {
   "cell_type": "markdown",
   "id": "arabic-subject",
   "metadata": {},
   "source": [
    "#### Function to do multiple linear regression (need to specify the split ratio and random_state values)\n",
    "multilinregr_noCV(test_ratio, seed_random)"
   ]
  },
  {
   "cell_type": "code",
   "execution_count": 61,
   "id": "fifth-dialogue",
   "metadata": {},
   "outputs": [],
   "source": [
    "def multilinregr_noCV(test_ratio, seed_random, X, y):\n",
    "#takes in data split ratio and random state seed\n",
    "#returning the split X and y, as well as the predicted output\n",
    "    X_train, X_test, y_train, y_test = train_test_split(X, y, test_size=test_ratio, random_state=seed_random, shuffle=True)\n",
    "    #prediction made is multiple linear regression\n",
    "    model = linear_model.LinearRegression()\n",
    "    model.fit(X_train, y_train)\n",
    "    y_predict = model.predict(X_test)\n",
    "    \n",
    "    mlr_params = [model.coef_,model.intercept_]\n",
    "    \n",
    "    return X_train, X_test, y_train, y_test, y_predict, mlr_params"
   ]
  },
  {
   "cell_type": "code",
   "execution_count": 74,
   "id": "assumed-statement",
   "metadata": {},
   "outputs": [],
   "source": [
    "#output from function:\n",
    "\n",
    "test_ratio = 0.2\n",
    "seed_random = 5\n",
    "X_train, X_test, y_train, y_test, y_predict, mlr_params = multilinregr_noCV(test_ratio, seed_random, X, y)"
   ]
  },
  {
   "cell_type": "code",
   "execution_count": 75,
   "id": "atmospheric-familiar",
   "metadata": {},
   "outputs": [
    {
     "data": {
      "text/plain": [
       "88"
      ]
     },
     "execution_count": 75,
     "metadata": {},
     "output_type": "execute_result"
    }
   ],
   "source": [
    "len(y_predict)"
   ]
  },
  {
   "cell_type": "code",
   "execution_count": 71,
   "id": "phantom-dominant",
   "metadata": {},
   "outputs": [
    {
     "data": {
      "text/plain": [
       "241    0.040464\n",
       "354    0.116968\n",
       "391   -0.260298\n",
       "21    -0.003602\n",
       "318   -0.008017\n",
       "         ...   \n",
       "280    0.125803\n",
       "11     0.034091\n",
       "17     0.008900\n",
       "67    -0.041608\n",
       "344   -1.189207\n",
       "Name: LOG2FC, Length: 175, dtype: float64"
      ]
     },
     "execution_count": 71,
     "metadata": {},
     "output_type": "execute_result"
    }
   ],
   "source": [
    "y_test"
   ]
  },
  {
   "cell_type": "code",
   "execution_count": 76,
   "id": "global-difference",
   "metadata": {
    "scrolled": false
   },
   "outputs": [
    {
     "name": "stdout",
     "output_type": "stream",
     "text": [
      "The multiple linear regression coefficients are [-7.22896621e+13 -2.80989731e+13 -5.80849924e+13 -5.70591973e+13\n",
      " -6.00585938e-02 -6.64062500e-02]\n",
      "The multiple linear regression intercept is 81067342682888.48\n"
     ]
    }
   ],
   "source": [
    "MLR_coeffs = mlr_params[0]\n",
    "MLR_intercept = mlr_params[1]\n",
    "#print the regression coefficients (beta values) and intercept (beta zero)\n",
    "print(f\"The multiple linear regression coefficients are {MLR_coeffs}\")\n",
    "print(f\"The multiple linear regression intercept is {MLR_intercept}\")"
   ]
  },
  {
   "cell_type": "markdown",
   "id": "contained-machinery",
   "metadata": {},
   "source": [
    "#### if run without MLR function"
   ]
  },
  {
   "cell_type": "code",
   "execution_count": 77,
   "id": "hawaiian-closing",
   "metadata": {},
   "outputs": [
    {
     "data": {
      "text/plain": [
       "'\\n#split train:test dataset 80%:20%\\nX_train, X_test, y_train, y_test = train_test_split(X, y, test_size=0.2, random_state=42, shuffle=True)\\n\\n#Define method and fit to the train set\\n\\n#Model is linear reg\\nmodel = linear_model.LinearRegression()\\nmodel.fit(X_train, y_train)\\ny_predict = model.predict(X_test)\\n\\n#print the regression coefficients (beta values) and intercept (beta zero)\\nprint(\"The multiple linear regression coefficients are\" % model.coef_)\\nprint(\"The multiple linear regression intercept is\" % model.intercept_)\\n'"
      ]
     },
     "execution_count": 77,
     "metadata": {},
     "output_type": "execute_result"
    }
   ],
   "source": [
    "'''\n",
    "#split train:test dataset 80%:20%\n",
    "X_train, X_test, y_train, y_test = train_test_split(X, y, test_size=0.2, random_state=42, shuffle=True)\n",
    "\n",
    "#Define method and fit to the train set\n",
    "\n",
    "#Model is linear reg\n",
    "model = linear_model.LinearRegression()\n",
    "model.fit(X_train, y_train)\n",
    "y_predict = model.predict(X_test)\n",
    "\n",
    "#print the regression coefficients (beta values) and intercept (beta zero)\n",
    "print(\"The multiple linear regression coefficients are\" % model.coef_)\n",
    "print(\"The multiple linear regression intercept is\" % model.intercept_)\n",
    "'''"
   ]
  },
  {
   "cell_type": "markdown",
   "id": "demonstrated-contribution",
   "metadata": {},
   "source": [
    "#### Evaluate model"
   ]
  },
  {
   "cell_type": "code",
   "execution_count": 78,
   "id": "original-germany",
   "metadata": {
    "scrolled": true
   },
   "outputs": [
    {
     "name": "stdout",
     "output_type": "stream",
     "text": [
      "Multiple linear regression MSE: 0.06\n",
      "Coefficient of determination (R^2 value): 0.03\n"
     ]
    }
   ],
   "source": [
    "#Evaluate model and report performance\n",
    "\n",
    "# Calculate mean squared error\n",
    "print('Multiple linear regression MSE: %.2f' % mean_squared_error(y_test, y_predict))\n",
    "\n",
    "#calculate R^2 value (best value = 1, negative if we have huge error)\n",
    "print('Coefficient of determination (R^2 value): %.2f' % r2_score(y_test, y_predict))"
   ]
  },
  {
   "cell_type": "markdown",
   "id": "indian-string",
   "metadata": {},
   "source": [
    "#### Check y_test and y_predict per input features"
   ]
  },
  {
   "cell_type": "code",
   "execution_count": 48,
   "id": "checked-template",
   "metadata": {
    "scrolled": true
   },
   "outputs": [
    {
     "data": {
      "image/png": "[encoded data removed]",
      "text/plain": [
       "<Figure size 648x216 with 3 Axes>"
      ]
     },
     "metadata": {
      "needs_background": "light"
     },
     "output_type": "display_data"
    }
   ],
   "source": [
    "# Plot LogFC output feature per input feature\n",
    "feature_names = np.array(list(X.columns))\n",
    "fig, ax = plt.subplots(1,Nfeat,figsize=(Nfeat*3,3))\n",
    "for i in range(Nfeat):\n",
    "  \n",
    "    ax[i].scatter(X_test.iloc[:,i], y_test, s=50, marker='o', color=\"cornflowerblue\", alpha=0.8, label=\"exact\")\n",
    "    ax[i].scatter(X_test.iloc[:,i], y_predict, s=100, marker='>', color=\"tomato\", alpha=0.8, label=\"predicted\")\n",
    "    ax[i].set_xlabel(feature_names[i])\n",
    "    ax[i].set_ylabel('Y target')\n",
    "    ax[i].legend(fontsize=8)\n",
    "\n",
    "plt.tight_layout()"
   ]
  },
  {
   "cell_type": "markdown",
   "id": "indie-destiny",
   "metadata": {},
   "source": [
    "#### F-statistic_ to estimate relationship between response and predictors"
   ]
  },
  {
   "cell_type": "code",
   "execution_count": 253,
   "id": "organized-tyler",
   "metadata": {},
   "outputs": [
    {
     "data": {
      "text/html": [
       "<table class=\"simpletable\">\n",
       "<caption>OLS Regression Results</caption>\n",
       "<tr>\n",
       "  <th>Dep. Variable:</th>         <td>LOG2FC</td>      <th>  R-squared (uncentered):</th>      <td>   0.013</td>\n",
       "</tr>\n",
       "<tr>\n",
       "  <th>Model:</th>                   <td>OLS</td>       <th>  Adj. R-squared (uncentered):</th> <td>   0.003</td>\n",
       "</tr>\n",
       "<tr>\n",
       "  <th>Method:</th>             <td>Least Squares</td>  <th>  F-statistic:       </th>          <td>   1.315</td>\n",
       "</tr>\n",
       "<tr>\n",
       "  <th>Date:</th>             <td>Fri, 12 Mar 2021</td> <th>  Prob (F-statistic):</th>           <td> 0.270</td> \n",
       "</tr>\n",
       "<tr>\n",
       "  <th>Time:</th>                 <td>15:21:33</td>     <th>  Log-Likelihood:    </th>          <td> -63.454</td>\n",
       "</tr>\n",
       "<tr>\n",
       "  <th>No. Observations:</th>      <td>   305</td>      <th>  AIC:               </th>          <td>   132.9</td>\n",
       "</tr>\n",
       "<tr>\n",
       "  <th>Df Residuals:</th>          <td>   302</td>      <th>  BIC:               </th>          <td>   144.1</td>\n",
       "</tr>\n",
       "<tr>\n",
       "  <th>Df Model:</th>              <td>     3</td>      <th>                     </th>              <td> </td>   \n",
       "</tr>\n",
       "<tr>\n",
       "  <th>Covariance Type:</th>      <td>nonrobust</td>    <th>                     </th>              <td> </td>   \n",
       "</tr>\n",
       "</table>\n",
       "<table class=\"simpletable\">\n",
       "<tr>\n",
       "     <td></td>       <th>coef</th>     <th>std err</th>      <th>t</th>      <th>P>|t|</th>   <th>[0.05</th>     <th>0.95]</th>  \n",
       "</tr>\n",
       "<tr>\n",
       "  <th>AA_POL</th> <td>    0.1397</td> <td>    0.075</td> <td>    1.862</td> <td> 0.064</td> <td>    0.016</td> <td>    0.264</td>\n",
       "</tr>\n",
       "<tr>\n",
       "  <th>MW</th>     <td>   -0.1275</td> <td>    0.093</td> <td>   -1.370</td> <td> 0.172</td> <td>   -0.281</td> <td>    0.026</td>\n",
       "</tr>\n",
       "<tr>\n",
       "  <th>ISO_E</th>  <td>   -0.0502</td> <td>    0.052</td> <td>   -0.959</td> <td> 0.338</td> <td>   -0.137</td> <td>    0.036</td>\n",
       "</tr>\n",
       "</table>\n",
       "<table class=\"simpletable\">\n",
       "<tr>\n",
       "  <th>Omnibus:</th>       <td>99.041</td> <th>  Durbin-Watson:     </th> <td>   2.034</td> \n",
       "</tr>\n",
       "<tr>\n",
       "  <th>Prob(Omnibus):</th> <td> 0.000</td> <th>  Jarque-Bera (JB):  </th> <td> 580.893</td> \n",
       "</tr>\n",
       "<tr>\n",
       "  <th>Skew:</th>          <td> 1.194</td> <th>  Prob(JB):          </th> <td>7.26e-127</td>\n",
       "</tr>\n",
       "<tr>\n",
       "  <th>Kurtosis:</th>      <td> 9.325</td> <th>  Cond. No.          </th> <td>    3.71</td> \n",
       "</tr>\n",
       "</table><br/><br/>Notes:<br/>[1] R² is computed without centering (uncentered) since the model does not contain a constant.<br/>[2] Standard Errors assume that the covariance matrix of the errors is correctly specified."
      ],
      "text/plain": [
       "<class 'statsmodels.iolib.summary.Summary'>\n",
       "\"\"\"\n",
       "                                 OLS Regression Results                                \n",
       "=======================================================================================\n",
       "Dep. Variable:                 LOG2FC   R-squared (uncentered):                   0.013\n",
       "Model:                            OLS   Adj. R-squared (uncentered):              0.003\n",
       "Method:                 Least Squares   F-statistic:                              1.315\n",
       "Date:                Fri, 12 Mar 2021   Prob (F-statistic):                       0.270\n",
       "Time:                        15:21:33   Log-Likelihood:                         -63.454\n",
       "No. Observations:                 305   AIC:                                      132.9\n",
       "Df Residuals:                     302   BIC:                                      144.1\n",
       "Df Model:                           3                                                  \n",
       "Covariance Type:            nonrobust                                                  \n",
       "==============================================================================\n",
       "                 coef    std err          t      P>|t|       [0.05       0.95]\n",
       "------------------------------------------------------------------------------\n",
       "AA_POL         0.1397      0.075      1.862      0.064       0.016       0.264\n",
       "MW            -0.1275      0.093     -1.370      0.172      -0.281       0.026\n",
       "ISO_E         -0.0502      0.052     -0.959      0.338      -0.137       0.036\n",
       "==============================================================================\n",
       "Omnibus:                       99.041   Durbin-Watson:                   2.034\n",
       "Prob(Omnibus):                  0.000   Jarque-Bera (JB):              580.893\n",
       "Skew:                           1.194   Prob(JB):                    7.26e-127\n",
       "Kurtosis:                       9.325   Cond. No.                         3.71\n",
       "==============================================================================\n",
       "\n",
       "Notes:\n",
       "[1] R² is computed without centering (uncentered) since the model does not contain a constant.\n",
       "[2] Standard Errors assume that the covariance matrix of the errors is correctly specified.\n",
       "\"\"\""
      ]
     },
     "execution_count": 253,
     "metadata": {},
     "output_type": "execute_result"
    }
   ],
   "source": [
    "mreg = sm.OLS(y_train, X_train).fit()\n",
    "mreg.summary(alpha=0.1) # Set significance level"
   ]
  },
  {
   "cell_type": "markdown",
   "id": "corporate-prime",
   "metadata": {},
   "source": [
    "#### Function to plot test and prediction output: plot_prediction(y_test, y_predict) "
   ]
  },
  {
   "cell_type": "code",
   "execution_count": 243,
   "id": "macro-appreciation",
   "metadata": {},
   "outputs": [],
   "source": [
    "def plot_prediction(y_test, y_predict):\n",
    "#the function will plot prediction and test output data\n",
    "#to see how acurrate the prediction data are\n",
    "    x_ax = range(len(y_test))\n",
    "    plt.scatter(x_ax, y_test, s=5, color=\"blue\", label=\"original\")\n",
    "    plt.plot(x_ax, y_predict, lw=0.8, color=\"red\", label=\"predicted\")\n",
    "    plt.legend(loc='upper right', prop={'size': 10})\n",
    "    plt.show()"
   ]
  },
  {
   "cell_type": "code",
   "execution_count": 254,
   "id": "satellite-disaster",
   "metadata": {
    "scrolled": true
   },
   "outputs": [
    {
     "data": {
      "image/png": "[encoded data removed]",
      "text/plain": [
       "<Figure size 432x288 with 1 Axes>"
      ]
     },
     "metadata": {
      "needs_background": "light"
     },
     "output_type": "display_data"
    }
   ],
   "source": [
    "#Example of using function\n",
    "test_data = y_test\n",
    "pred_data = y_predict\n",
    "plot_pred = plot_prediction(test_data, test_data)"
   ]
  },
  {
   "cell_type": "markdown",
   "id": "regular-cooking",
   "metadata": {},
   "source": [
    "#### If MSE and R^2 is bad, try selecting important import features with Forward stepwise selection"
   ]
  },
  {
   "cell_type": "code",
   "execution_count": 208,
   "id": "breathing-alexandria",
   "metadata": {},
   "outputs": [
    {
     "name": "stdout",
     "output_type": "stream",
     "text": [
      "[False False  True False  True False  True] \n",
      "\n",
      "[2 4 6]\n",
      "Selected input features using Forward Stepwise Selection:\n",
      " ['AA_POL' 'MW' 'ISO_E']\n"
     ]
    }
   ],
   "source": [
    "#Find the most important input features\n",
    "\n",
    "#number of features to select\n",
    "feat_select = 3\n",
    "\n",
    "#Forward stepwise selection\n",
    "sfs_forward = SequentialFeatureSelector(linear_model.LinearRegression(), \n",
    "                                        n_features_to_select=feat_select,\n",
    "                                        direction='forward').fit(X, y)\n",
    "\n",
    "f_names = np.array(list(df.columns[8:15]))\n",
    "#will print T/F boolean, T being important feature\n",
    "print(sfs_forward.get_support(),\"\\n\")\n",
    "#print indices of important input features\n",
    "selected = sfs_forward.get_support(indices=True)\n",
    "print(selected)\n",
    "#print names of important input feature\n",
    "print(\"Selected input features using Forward Stepwise Selection:\\n\", f_names[selected])\n"
   ]
  },
  {
   "cell_type": "code",
   "execution_count": null,
   "id": "fifteen-glucose",
   "metadata": {},
   "outputs": [],
   "source": []
  },
  {
   "cell_type": "code",
   "execution_count": null,
   "id": "north-butterfly",
   "metadata": {},
   "outputs": [],
   "source": []
  }
 ],
 "metadata": {
  "kernelspec": {
   "display_name": "Python 3",
   "language": "python",
   "name": "python3"
  },
  "language_info": {
   "codemirror_mode": {
    "name": "ipython",
    "version": 3
   },
   "file_extension": ".py",
   "mimetype": "text/x-python",
   "name": "python",
   "nbconvert_exporter": "python",
   "pygments_lexer": "ipython3",
   "version": "3.8.5"
  }
 },
 "nbformat": 4,
 "nbformat_minor": 5
}
