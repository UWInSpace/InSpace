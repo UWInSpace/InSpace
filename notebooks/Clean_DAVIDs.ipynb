{
 "cells": [
  {
   "cell_type": "markdown",
   "id": "steady-population",
   "metadata": {},
   "source": [
    "# Clean the DAVID-returned .txt's"
   ]
  },
  {
   "cell_type": "code",
   "execution_count": 1,
   "id": "incorporated-turner",
   "metadata": {},
   "outputs": [],
   "source": [
    "import numpy as np\n",
    "import pandas as pd"
   ]
  },
  {
   "cell_type": "markdown",
   "id": "economic-peter",
   "metadata": {},
   "source": [
    "### List of DAVID .txt's and new .txt's to write to"
   ]
  },
  {
   "cell_type": "code",
   "execution_count": 2,
   "id": "unlimited-recommendation",
   "metadata": {},
   "outputs": [],
   "source": [
    "davids = ['PA_DAVID.txt', 'BS_DAVID.txt', 'EC_DAVID.txt']\n",
    "cl_davids = ['pa_david.txt', 'bs_david.txt', 'ec_david.txt']"
   ]
  },
  {
   "cell_type": "markdown",
   "id": "empirical-chemical",
   "metadata": {},
   "source": [
    "### Import one of the .txt's to practice with"
   ]
  },
  {
   "cell_type": "code",
   "execution_count": 3,
   "id": "close-logan",
   "metadata": {},
   "outputs": [],
   "source": [
    "david_df = pd.read_csv(davids[0], sep='\\t')"
   ]
  },
  {
   "cell_type": "markdown",
   "id": "passive-vegetarian",
   "metadata": {},
   "source": [
    "### Function to clean the DAVID results"
   ]
  },
  {
   "cell_type": "code",
   "execution_count": 4,
   "id": "developmental-conflict",
   "metadata": {},
   "outputs": [],
   "source": [
    "def clean_david(david_df):\n",
    "    '''Clean the david results .txt's'''\n",
    "    # Initiate the cleaned DAVID df with first row of DAVID df from .txt\n",
    "    column_names = ['From', 'To', 'Species', 'Gene Name']\n",
    "    cl_david = pd.DataFrame(columns=column_names)\n",
    "    cl_david = cl_david.append(david_df.loc[0])\n",
    "    \n",
    "    for i in range(len(david_df)):\n",
    "        if david_df['From'][i] in cl_david['From']:\n",
    "            for j in range(len(cl_david)):\n",
    "                if david_df['From'][i] == cl_david['From'][j]:\n",
    "                    if david_df['To'][i] > cl_david['To'][j]:\n",
    "                        cl_david = cl_david.append(david_df.loc[i], ignore_index=True)\n",
    "                        cl_david = cl_david.drop([j], inplace=True)\n",
    "                        cl_david = cl_david.reset_index(drop=True, inplace=True)\n",
    "                    else:\n",
    "                        continue\n",
    "                else:\n",
    "                    continue\n",
    "        else:\n",
    "            cl_david = cl_david.append(david_df.loc[i], ignore_index=True)\n",
    "                \n",
    "    return cl_david"
   ]
  },
  {
   "cell_type": "markdown",
   "id": "small-colony",
   "metadata": {},
   "source": [
    "### Test the function"
   ]
  },
  {
   "cell_type": "code",
   "execution_count": 5,
   "id": "forward-brand",
   "metadata": {},
   "outputs": [
    {
     "ename": "AttributeError",
     "evalue": "'str' object has no attribute 'loc'",
     "output_type": "error",
     "traceback": [
      "\u001b[0;31m---------------------------------------------------------------------------\u001b[0m",
      "\u001b[0;31mAttributeError\u001b[0m                            Traceback (most recent call last)",
      "\u001b[0;32m<ipython-input-5-38ad0a37d7b2>\u001b[0m in \u001b[0;36m<module>\u001b[0;34m\u001b[0m\n\u001b[0;32m----> 1\u001b[0;31m \u001b[0mpa_david\u001b[0m \u001b[0;34m=\u001b[0m \u001b[0mclean_david\u001b[0m\u001b[0;34m(\u001b[0m\u001b[0mdavids\u001b[0m\u001b[0;34m[\u001b[0m\u001b[0;36m0\u001b[0m\u001b[0;34m]\u001b[0m\u001b[0;34m)\u001b[0m\u001b[0;34m\u001b[0m\u001b[0;34m\u001b[0m\u001b[0m\n\u001b[0m",
      "\u001b[0;32m<ipython-input-4-ca839a022f31>\u001b[0m in \u001b[0;36mclean_david\u001b[0;34m(david_df)\u001b[0m\n\u001b[1;32m      4\u001b[0m     \u001b[0mcolumn_names\u001b[0m \u001b[0;34m=\u001b[0m \u001b[0;34m[\u001b[0m\u001b[0;34m'From'\u001b[0m\u001b[0;34m,\u001b[0m \u001b[0;34m'To'\u001b[0m\u001b[0;34m,\u001b[0m \u001b[0;34m'Species'\u001b[0m\u001b[0;34m,\u001b[0m \u001b[0;34m'Gene Name'\u001b[0m\u001b[0;34m]\u001b[0m\u001b[0;34m\u001b[0m\u001b[0;34m\u001b[0m\u001b[0m\n\u001b[1;32m      5\u001b[0m     \u001b[0mcl_david\u001b[0m \u001b[0;34m=\u001b[0m \u001b[0mpd\u001b[0m\u001b[0;34m.\u001b[0m\u001b[0mDataFrame\u001b[0m\u001b[0;34m(\u001b[0m\u001b[0mcolumns\u001b[0m\u001b[0;34m=\u001b[0m\u001b[0mcolumn_names\u001b[0m\u001b[0;34m)\u001b[0m\u001b[0;34m\u001b[0m\u001b[0;34m\u001b[0m\u001b[0m\n\u001b[0;32m----> 6\u001b[0;31m     \u001b[0mcl_david\u001b[0m \u001b[0;34m=\u001b[0m \u001b[0mcl_david\u001b[0m\u001b[0;34m.\u001b[0m\u001b[0mappend\u001b[0m\u001b[0;34m(\u001b[0m\u001b[0mdavid_df\u001b[0m\u001b[0;34m.\u001b[0m\u001b[0mloc\u001b[0m\u001b[0;34m[\u001b[0m\u001b[0;36m0\u001b[0m\u001b[0;34m]\u001b[0m\u001b[0;34m)\u001b[0m\u001b[0;34m\u001b[0m\u001b[0;34m\u001b[0m\u001b[0m\n\u001b[0m\u001b[1;32m      7\u001b[0m \u001b[0;34m\u001b[0m\u001b[0m\n\u001b[1;32m      8\u001b[0m     \u001b[0;32mfor\u001b[0m \u001b[0mi\u001b[0m \u001b[0;32min\u001b[0m \u001b[0mrange\u001b[0m\u001b[0;34m(\u001b[0m\u001b[0mlen\u001b[0m\u001b[0;34m(\u001b[0m\u001b[0mdavid_df\u001b[0m\u001b[0;34m)\u001b[0m\u001b[0;34m)\u001b[0m\u001b[0;34m:\u001b[0m\u001b[0;34m\u001b[0m\u001b[0;34m\u001b[0m\u001b[0m\n",
      "\u001b[0;31mAttributeError\u001b[0m: 'str' object has no attribute 'loc'"
     ]
    }
   ],
   "source": [
    "pa_david = clean_david(davids[0])"
   ]
  },
  {
   "cell_type": "code",
   "execution_count": 6,
   "id": "lesbian-jones",
   "metadata": {},
   "outputs": [
    {
     "data": {
      "text/plain": [
       "pandas.core.frame.DataFrame"
      ]
     },
     "execution_count": 6,
     "metadata": {},
     "output_type": "execute_result"
    }
   ],
   "source": [
    "type(david_df)"
   ]
  },
  {
   "cell_type": "code",
   "execution_count": 7,
   "id": "natural-blood",
   "metadata": {},
   "outputs": [
    {
     "data": {
      "text/plain": [
       "From                           NP_253120\n",
       "To                               9950663\n",
       "Species      Pseudomonas aeruginosa PAO1\n",
       "Gene Name           cytochrome b(PA4430)\n",
       "Name: 0, dtype: object"
      ]
     },
     "execution_count": 7,
     "metadata": {},
     "output_type": "execute_result"
    }
   ],
   "source": [
    "david_df.loc[0]"
   ]
  },
  {
   "cell_type": "markdown",
   "id": "vocational-strike",
   "metadata": {},
   "source": [
    "### It says that 'str' object has no attribute 'loc', but the type of david_df is pd.DF.  This worked earlier and I'm so lost.  Going to bed"
   ]
  },
  {
   "cell_type": "markdown",
   "id": "usual-vatican",
   "metadata": {},
   "source": [
    "### Below this point, stuff gets weird."
   ]
  },
  {
   "cell_type": "code",
   "execution_count": null,
   "id": "optimum-automation",
   "metadata": {},
   "outputs": [],
   "source": []
  },
  {
   "cell_type": "code",
   "execution_count": null,
   "id": "modified-lesbian",
   "metadata": {},
   "outputs": [],
   "source": []
  },
  {
   "cell_type": "code",
   "execution_count": null,
   "id": "difficult-russian",
   "metadata": {},
   "outputs": [],
   "source": [
    "def clean_david(david_df):\n",
    "    '''Clean the david results .txt's'''\n",
    "    # Initiate the cleaned DAVID df with first row of DAVID df from .txt\n",
    "    column_names = ['From', 'To', 'Species', 'Gene Name']\n",
    "    cl_david = pd.DataFrame(columns=column_names)\n",
    "    cl_david = cl_david.append(david_df.loc[0])\n",
    "    \n",
    "    for i in range(len(david_df)):\n",
    "        for j in range(len(cl_david)):\n",
    "            if david_df['From'][i] == cl_david['From'][j]:\n",
    "                if david_df['To'][i] > cl_david['To'][j]:\n",
    "                    cl_david = cl_david.append(david_df.loc[i], ignore_index=True)\n",
    "                    cl_david = cl_david.drop([j], inplace=True)\n",
    "                    cl_david = cl_david.reset_index(drop=True, inplace=True)\n",
    "                else:\n",
    "                    continue\n",
    "            else:\n",
    "                cl_david = cl_david.append(david_df.loc[i])\n",
    "                cl_david = cl_david.reset_index(drop=True, inplace=True)\n",
    "                \n",
    "    return cl_david"
   ]
  },
  {
   "cell_type": "code",
   "execution_count": null,
   "id": "broad-capacity",
   "metadata": {},
   "outputs": [],
   "source": []
  },
  {
   "cell_type": "code",
   "execution_count": null,
   "id": "rapid-binary",
   "metadata": {},
   "outputs": [],
   "source": []
  },
  {
   "cell_type": "code",
   "execution_count": null,
   "id": "incredible-burke",
   "metadata": {},
   "outputs": [],
   "source": []
  },
  {
   "cell_type": "code",
   "execution_count": null,
   "id": "terminal-litigation",
   "metadata": {},
   "outputs": [],
   "source": []
  },
  {
   "cell_type": "code",
   "execution_count": null,
   "id": "first-raleigh",
   "metadata": {},
   "outputs": [],
   "source": []
  },
  {
   "cell_type": "code",
   "execution_count": null,
   "id": "electrical-india",
   "metadata": {},
   "outputs": [],
   "source": []
  },
  {
   "cell_type": "code",
   "execution_count": null,
   "id": "german-camera",
   "metadata": {},
   "outputs": [],
   "source": []
  },
  {
   "cell_type": "code",
   "execution_count": null,
   "id": "soviet-poverty",
   "metadata": {},
   "outputs": [],
   "source": []
  },
  {
   "cell_type": "code",
   "execution_count": 14,
   "id": "vanilla-devon",
   "metadata": {},
   "outputs": [
    {
     "data": {
      "text/html": [
       "<div>\n",
       "<style scoped>\n",
       "    .dataframe tbody tr th:only-of-type {\n",
       "        vertical-align: middle;\n",
       "    }\n",
       "\n",
       "    .dataframe tbody tr th {\n",
       "        vertical-align: top;\n",
       "    }\n",
       "\n",
       "    .dataframe thead th {\n",
       "        text-align: right;\n",
       "    }\n",
       "</style>\n",
       "<table border=\"1\" class=\"dataframe\">\n",
       "  <thead>\n",
       "    <tr style=\"text-align: right;\">\n",
       "      <th></th>\n",
       "      <th>From</th>\n",
       "      <th>To</th>\n",
       "      <th>Species</th>\n",
       "      <th>Gene Name</th>\n",
       "    </tr>\n",
       "  </thead>\n",
       "  <tbody>\n",
       "    <tr>\n",
       "      <th>0</th>\n",
       "      <td>NP_253120</td>\n",
       "      <td>9950663</td>\n",
       "      <td>Pseudomonas aeruginosa PAO1</td>\n",
       "      <td>cytochrome b(PA4430)</td>\n",
       "    </tr>\n",
       "  </tbody>\n",
       "</table>\n",
       "</div>"
      ],
      "text/plain": [
       "        From       To                      Species             Gene Name\n",
       "0  NP_253120  9950663  Pseudomonas aeruginosa PAO1  cytochrome b(PA4430)"
      ]
     },
     "execution_count": 14,
     "metadata": {},
     "output_type": "execute_result"
    }
   ],
   "source": [
    "column_names = ['From', 'To', 'Species', 'Gene Name']\n",
    "cl_david = pd.DataFrame(columns=column_names)\n",
    "cl_david = cl_david.append(david_df.loc[0])\n",
    "cl_david"
   ]
  },
  {
   "cell_type": "code",
   "execution_count": 15,
   "id": "complete-fabric",
   "metadata": {},
   "outputs": [
    {
     "data": {
      "text/plain": [
       "pandas.core.frame.DataFrame"
      ]
     },
     "execution_count": 15,
     "metadata": {},
     "output_type": "execute_result"
    }
   ],
   "source": [
    "type(cl_david)"
   ]
  },
  {
   "cell_type": "code",
   "execution_count": null,
   "id": "progressive-cattle",
   "metadata": {},
   "outputs": [],
   "source": []
  },
  {
   "cell_type": "code",
   "execution_count": null,
   "id": "breathing-blast",
   "metadata": {},
   "outputs": [],
   "source": []
  },
  {
   "cell_type": "code",
   "execution_count": null,
   "id": "brave-cooperation",
   "metadata": {},
   "outputs": [],
   "source": []
  },
  {
   "cell_type": "code",
   "execution_count": 6,
   "id": "going-tomato",
   "metadata": {},
   "outputs": [
    {
     "data": {
      "text/plain": [
       "False"
      ]
     },
     "execution_count": 6,
     "metadata": {},
     "output_type": "execute_result"
    }
   ],
   "source": [
    "i=3\n",
    "j=0\n",
    "david_df['From'][i] == cl_david['From'][j]"
   ]
  },
  {
   "cell_type": "code",
   "execution_count": 7,
   "id": "historical-thumbnail",
   "metadata": {},
   "outputs": [],
   "source": [
    "cl_david = cl_david.append(david_df.loc[i])"
   ]
  },
  {
   "cell_type": "code",
   "execution_count": 12,
   "id": "pacific-klein",
   "metadata": {},
   "outputs": [
    {
     "data": {
      "text/plain": [
       "NoneType"
      ]
     },
     "execution_count": 12,
     "metadata": {},
     "output_type": "execute_result"
    }
   ],
   "source": [
    "type(cl_david)"
   ]
  },
  {
   "cell_type": "code",
   "execution_count": 11,
   "id": "judicial-right",
   "metadata": {},
   "outputs": [
    {
     "ename": "AttributeError",
     "evalue": "'NoneType' object has no attribute 'reset_index'",
     "output_type": "error",
     "traceback": [
      "\u001b[0;31m---------------------------------------------------------------------------\u001b[0m",
      "\u001b[0;31mAttributeError\u001b[0m                            Traceback (most recent call last)",
      "\u001b[0;32m<ipython-input-11-9d1c42f1d482>\u001b[0m in \u001b[0;36m<module>\u001b[0;34m\u001b[0m\n\u001b[0;32m----> 1\u001b[0;31m \u001b[0mcl_david\u001b[0m\u001b[0;34m.\u001b[0m\u001b[0mreset_index\u001b[0m\u001b[0;34m(\u001b[0m\u001b[0mdrop\u001b[0m\u001b[0;34m=\u001b[0m\u001b[0;32mTrue\u001b[0m\u001b[0;34m,\u001b[0m \u001b[0minplace\u001b[0m\u001b[0;34m=\u001b[0m\u001b[0;32mTrue\u001b[0m\u001b[0;34m)\u001b[0m\u001b[0;34m\u001b[0m\u001b[0;34m\u001b[0m\u001b[0m\n\u001b[0m\u001b[1;32m      2\u001b[0m \u001b[0mcl_david\u001b[0m\u001b[0;34m\u001b[0m\u001b[0;34m\u001b[0m\u001b[0m\n",
      "\u001b[0;31mAttributeError\u001b[0m: 'NoneType' object has no attribute 'reset_index'"
     ]
    }
   ],
   "source": [
    "cl_david.reset_index(drop=True, inplace=True)\n",
    "cl_david"
   ]
  },
  {
   "cell_type": "code",
   "execution_count": 104,
   "id": "coastal-skirt",
   "metadata": {},
   "outputs": [
    {
     "data": {
      "text/html": [
       "<div>\n",
       "<style scoped>\n",
       "    .dataframe tbody tr th:only-of-type {\n",
       "        vertical-align: middle;\n",
       "    }\n",
       "\n",
       "    .dataframe tbody tr th {\n",
       "        vertical-align: top;\n",
       "    }\n",
       "\n",
       "    .dataframe thead th {\n",
       "        text-align: right;\n",
       "    }\n",
       "</style>\n",
       "<table border=\"1\" class=\"dataframe\">\n",
       "  <thead>\n",
       "    <tr style=\"text-align: right;\">\n",
       "      <th></th>\n",
       "      <th>From</th>\n",
       "      <th>To</th>\n",
       "      <th>Species</th>\n",
       "      <th>Gene Name</th>\n",
       "    </tr>\n",
       "  </thead>\n",
       "  <tbody>\n",
       "  </tbody>\n",
       "</table>\n",
       "</div>"
      ],
      "text/plain": [
       "Empty DataFrame\n",
       "Columns: [From, To, Species, Gene Name]\n",
       "Index: []"
      ]
     },
     "execution_count": 104,
     "metadata": {},
     "output_type": "execute_result"
    }
   ],
   "source": [
    "pa_david"
   ]
  },
  {
   "cell_type": "code",
   "execution_count": 105,
   "id": "relative-transaction",
   "metadata": {
    "scrolled": true
   },
   "outputs": [
    {
     "data": {
      "text/html": [
       "<div>\n",
       "<style scoped>\n",
       "    .dataframe tbody tr th:only-of-type {\n",
       "        vertical-align: middle;\n",
       "    }\n",
       "\n",
       "    .dataframe tbody tr th {\n",
       "        vertical-align: top;\n",
       "    }\n",
       "\n",
       "    .dataframe thead th {\n",
       "        text-align: right;\n",
       "    }\n",
       "</style>\n",
       "<table border=\"1\" class=\"dataframe\">\n",
       "  <thead>\n",
       "    <tr style=\"text-align: right;\">\n",
       "      <th></th>\n",
       "      <th>From</th>\n",
       "      <th>To</th>\n",
       "      <th>Species</th>\n",
       "      <th>Gene Name</th>\n",
       "    </tr>\n",
       "  </thead>\n",
       "  <tbody>\n",
       "    <tr>\n",
       "      <th>0</th>\n",
       "      <td>NP_253120</td>\n",
       "      <td>9950663</td>\n",
       "      <td>Pseudomonas aeruginosa PAO1</td>\n",
       "      <td>cytochrome b(PA4430)</td>\n",
       "    </tr>\n",
       "  </tbody>\n",
       "</table>\n",
       "</div>"
      ],
      "text/plain": [
       "        From       To                      Species             Gene Name\n",
       "0  NP_253120  9950663  Pseudomonas aeruginosa PAO1  cytochrome b(PA4430)"
      ]
     },
     "execution_count": 105,
     "metadata": {},
     "output_type": "execute_result"
    }
   ],
   "source": [
    "column_names = ['From', 'To', 'Species', 'Gene Name']\n",
    "cl_david = pd.DataFrame(columns=column_names)\n",
    "cl_david = cl_david.append(david_df.loc[0])\n",
    "cl_david"
   ]
  },
  {
   "cell_type": "code",
   "execution_count": null,
   "id": "duplicate-sierra",
   "metadata": {},
   "outputs": [],
   "source": [
    "for i in range(len(david_df)):\n",
    "        for j in range(len(cl_david)):\n",
    "            if david_df['From'][i] == cl_david['From'][j]:\n",
    "                if david_df['To'][i] > cl_david['To'][j]:\n",
    "                    cl_david.append(david_df.loc[i], ignore_index=True)\n",
    "                    cl_david.drop([j], inplace=True)\n",
    "                    cl_david.reset_index(drop=True, inplace=True)"
   ]
  },
  {
   "cell_type": "code",
   "execution_count": 106,
   "id": "better-malawi",
   "metadata": {},
   "outputs": [
    {
     "data": {
      "text/plain": [
       "True"
      ]
     },
     "execution_count": 106,
     "metadata": {},
     "output_type": "execute_result"
    }
   ],
   "source": [
    "i = 0\n",
    "j = 0\n",
    "david_df['From'][i] == cl_david['From'][j]"
   ]
  },
  {
   "cell_type": "code",
   "execution_count": 107,
   "id": "focal-meaning",
   "metadata": {},
   "outputs": [
    {
     "data": {
      "text/plain": [
       "False"
      ]
     },
     "execution_count": 107,
     "metadata": {},
     "output_type": "execute_result"
    }
   ],
   "source": [
    "david_df['To'][i] > cl_david['To'][j]"
   ]
  },
  {
   "cell_type": "code",
   "execution_count": null,
   "id": "embedded-supplier",
   "metadata": {},
   "outputs": [],
   "source": []
  },
  {
   "cell_type": "code",
   "execution_count": null,
   "id": "damaged-orange",
   "metadata": {},
   "outputs": [],
   "source": []
  },
  {
   "cell_type": "code",
   "execution_count": null,
   "id": "sharing-bangkok",
   "metadata": {},
   "outputs": [],
   "source": []
  },
  {
   "cell_type": "code",
   "execution_count": 92,
   "id": "proved-pharmacology",
   "metadata": {
    "scrolled": true
   },
   "outputs": [
    {
     "data": {
      "text/html": [
       "<div>\n",
       "<style scoped>\n",
       "    .dataframe tbody tr th:only-of-type {\n",
       "        vertical-align: middle;\n",
       "    }\n",
       "\n",
       "    .dataframe tbody tr th {\n",
       "        vertical-align: top;\n",
       "    }\n",
       "\n",
       "    .dataframe thead th {\n",
       "        text-align: right;\n",
       "    }\n",
       "</style>\n",
       "<table border=\"1\" class=\"dataframe\">\n",
       "  <thead>\n",
       "    <tr style=\"text-align: right;\">\n",
       "      <th></th>\n",
       "      <th>From</th>\n",
       "      <th>To</th>\n",
       "      <th>Species</th>\n",
       "      <th>Gene Name</th>\n",
       "    </tr>\n",
       "  </thead>\n",
       "  <tbody>\n",
       "    <tr>\n",
       "      <th>0</th>\n",
       "      <td>NP_253120</td>\n",
       "      <td>9950663</td>\n",
       "      <td>Pseudomonas aeruginosa PAO1</td>\n",
       "      <td>cytochrome b(PA4430)</td>\n",
       "    </tr>\n",
       "    <tr>\n",
       "      <th>3</th>\n",
       "      <td>NP_253761</td>\n",
       "      <td>15600267</td>\n",
       "      <td>Pseudomonas aeruginosa PAO1</td>\n",
       "      <td>ABC transporter ATP-binding protein(PA5074)</td>\n",
       "    </tr>\n",
       "  </tbody>\n",
       "</table>\n",
       "</div>"
      ],
      "text/plain": [
       "        From        To                      Species  \\\n",
       "0  NP_253120   9950663  Pseudomonas aeruginosa PAO1   \n",
       "3  NP_253761  15600267  Pseudomonas aeruginosa PAO1   \n",
       "\n",
       "                                     Gene Name  \n",
       "0                         cytochrome b(PA4430)  \n",
       "3  ABC transporter ATP-binding protein(PA5074)  "
      ]
     },
     "execution_count": 92,
     "metadata": {},
     "output_type": "execute_result"
    }
   ],
   "source": [
    "cl_david = cl_david.append(david_df.loc[3])\n",
    "cl_david"
   ]
  },
  {
   "cell_type": "code",
   "execution_count": null,
   "id": "veterinary-declaration",
   "metadata": {},
   "outputs": [],
   "source": []
  },
  {
   "cell_type": "code",
   "execution_count": null,
   "id": "driving-emphasis",
   "metadata": {},
   "outputs": [],
   "source": []
  },
  {
   "cell_type": "code",
   "execution_count": null,
   "id": "indie-basketball",
   "metadata": {},
   "outputs": [],
   "source": []
  },
  {
   "cell_type": "code",
   "execution_count": null,
   "id": "centered-adolescent",
   "metadata": {},
   "outputs": [],
   "source": []
  },
  {
   "cell_type": "code",
   "execution_count": 93,
   "id": "minus-topic",
   "metadata": {},
   "outputs": [
    {
     "data": {
      "text/html": [
       "<div>\n",
       "<style scoped>\n",
       "    .dataframe tbody tr th:only-of-type {\n",
       "        vertical-align: middle;\n",
       "    }\n",
       "\n",
       "    .dataframe tbody tr th {\n",
       "        vertical-align: top;\n",
       "    }\n",
       "\n",
       "    .dataframe thead th {\n",
       "        text-align: right;\n",
       "    }\n",
       "</style>\n",
       "<table border=\"1\" class=\"dataframe\">\n",
       "  <thead>\n",
       "    <tr style=\"text-align: right;\">\n",
       "      <th></th>\n",
       "      <th>From</th>\n",
       "      <th>To</th>\n",
       "      <th>Species</th>\n",
       "      <th>Gene Name</th>\n",
       "    </tr>\n",
       "  </thead>\n",
       "  <tbody>\n",
       "    <tr>\n",
       "      <th>0</th>\n",
       "      <td>NP_253120</td>\n",
       "      <td>9950663</td>\n",
       "      <td>Pseudomonas aeruginosa PAO1</td>\n",
       "      <td>cytochrome b(PA4430)</td>\n",
       "    </tr>\n",
       "    <tr>\n",
       "      <th>3</th>\n",
       "      <td>NP_253761</td>\n",
       "      <td>15600267</td>\n",
       "      <td>Pseudomonas aeruginosa PAO1</td>\n",
       "      <td>ABC transporter ATP-binding protein(PA5074)</td>\n",
       "    </tr>\n",
       "    <tr>\n",
       "      <th>5</th>\n",
       "      <td>NP_254178</td>\n",
       "      <td>9951825</td>\n",
       "      <td>Pseudomonas aeruginosa PAO1</td>\n",
       "      <td>cytochrome(PA5491)</td>\n",
       "    </tr>\n",
       "  </tbody>\n",
       "</table>\n",
       "</div>"
      ],
      "text/plain": [
       "        From        To                      Species  \\\n",
       "0  NP_253120   9950663  Pseudomonas aeruginosa PAO1   \n",
       "3  NP_253761  15600267  Pseudomonas aeruginosa PAO1   \n",
       "5  NP_254178   9951825  Pseudomonas aeruginosa PAO1   \n",
       "\n",
       "                                     Gene Name  \n",
       "0                         cytochrome b(PA4430)  \n",
       "3  ABC transporter ATP-binding protein(PA5074)  \n",
       "5                           cytochrome(PA5491)  "
      ]
     },
     "execution_count": 93,
     "metadata": {},
     "output_type": "execute_result"
    }
   ],
   "source": [
    "cl_david = cl_david.append(david_df.loc[5])\n",
    "cl_david"
   ]
  },
  {
   "cell_type": "code",
   "execution_count": 94,
   "id": "derived-cycling",
   "metadata": {},
   "outputs": [
    {
     "data": {
      "text/html": [
       "<div>\n",
       "<style scoped>\n",
       "    .dataframe tbody tr th:only-of-type {\n",
       "        vertical-align: middle;\n",
       "    }\n",
       "\n",
       "    .dataframe tbody tr th {\n",
       "        vertical-align: top;\n",
       "    }\n",
       "\n",
       "    .dataframe thead th {\n",
       "        text-align: right;\n",
       "    }\n",
       "</style>\n",
       "<table border=\"1\" class=\"dataframe\">\n",
       "  <thead>\n",
       "    <tr style=\"text-align: right;\">\n",
       "      <th></th>\n",
       "      <th>From</th>\n",
       "      <th>To</th>\n",
       "      <th>Species</th>\n",
       "      <th>Gene Name</th>\n",
       "    </tr>\n",
       "  </thead>\n",
       "  <tbody>\n",
       "    <tr>\n",
       "      <th>0</th>\n",
       "      <td>NP_253120</td>\n",
       "      <td>9950663</td>\n",
       "      <td>Pseudomonas aeruginosa PAO1</td>\n",
       "      <td>cytochrome b(PA4430)</td>\n",
       "    </tr>\n",
       "    <tr>\n",
       "      <th>3</th>\n",
       "      <td>NP_253761</td>\n",
       "      <td>15600267</td>\n",
       "      <td>Pseudomonas aeruginosa PAO1</td>\n",
       "      <td>ABC transporter ATP-binding protein(PA5074)</td>\n",
       "    </tr>\n",
       "    <tr>\n",
       "      <th>5</th>\n",
       "      <td>NP_254178</td>\n",
       "      <td>9951825</td>\n",
       "      <td>Pseudomonas aeruginosa PAO1</td>\n",
       "      <td>cytochrome(PA5491)</td>\n",
       "    </tr>\n",
       "    <tr>\n",
       "      <th>2</th>\n",
       "      <td>NP_253761</td>\n",
       "      <td>9951367</td>\n",
       "      <td>Pseudomonas aeruginosa PAO1</td>\n",
       "      <td>ABC transporter ATP-binding protein(PA5074)</td>\n",
       "    </tr>\n",
       "  </tbody>\n",
       "</table>\n",
       "</div>"
      ],
      "text/plain": [
       "        From        To                      Species  \\\n",
       "0  NP_253120   9950663  Pseudomonas aeruginosa PAO1   \n",
       "3  NP_253761  15600267  Pseudomonas aeruginosa PAO1   \n",
       "5  NP_254178   9951825  Pseudomonas aeruginosa PAO1   \n",
       "2  NP_253761   9951367  Pseudomonas aeruginosa PAO1   \n",
       "\n",
       "                                     Gene Name  \n",
       "0                         cytochrome b(PA4430)  \n",
       "3  ABC transporter ATP-binding protein(PA5074)  \n",
       "5                           cytochrome(PA5491)  \n",
       "2  ABC transporter ATP-binding protein(PA5074)  "
      ]
     },
     "execution_count": 94,
     "metadata": {},
     "output_type": "execute_result"
    }
   ],
   "source": [
    "cl_david = cl_david.append(david_df.loc[2])\n",
    "cl_david"
   ]
  },
  {
   "cell_type": "code",
   "execution_count": 96,
   "id": "intermediate-costs",
   "metadata": {},
   "outputs": [
    {
     "data": {
      "text/html": [
       "<div>\n",
       "<style scoped>\n",
       "    .dataframe tbody tr th:only-of-type {\n",
       "        vertical-align: middle;\n",
       "    }\n",
       "\n",
       "    .dataframe tbody tr th {\n",
       "        vertical-align: top;\n",
       "    }\n",
       "\n",
       "    .dataframe thead th {\n",
       "        text-align: right;\n",
       "    }\n",
       "</style>\n",
       "<table border=\"1\" class=\"dataframe\">\n",
       "  <thead>\n",
       "    <tr style=\"text-align: right;\">\n",
       "      <th></th>\n",
       "      <th>From</th>\n",
       "      <th>To</th>\n",
       "      <th>Species</th>\n",
       "      <th>Gene Name</th>\n",
       "    </tr>\n",
       "  </thead>\n",
       "  <tbody>\n",
       "    <tr>\n",
       "      <th>0</th>\n",
       "      <td>NP_253120</td>\n",
       "      <td>9950663</td>\n",
       "      <td>Pseudomonas aeruginosa PAO1</td>\n",
       "      <td>cytochrome b(PA4430)</td>\n",
       "    </tr>\n",
       "    <tr>\n",
       "      <th>2</th>\n",
       "      <td>NP_253761</td>\n",
       "      <td>9951367</td>\n",
       "      <td>Pseudomonas aeruginosa PAO1</td>\n",
       "      <td>ABC transporter ATP-binding protein(PA5074)</td>\n",
       "    </tr>\n",
       "  </tbody>\n",
       "</table>\n",
       "</div>"
      ],
      "text/plain": [
       "        From       To                      Species  \\\n",
       "0  NP_253120  9950663  Pseudomonas aeruginosa PAO1   \n",
       "2  NP_253761  9951367  Pseudomonas aeruginosa PAO1   \n",
       "\n",
       "                                     Gene Name  \n",
       "0                         cytochrome b(PA4430)  \n",
       "2  ABC transporter ATP-binding protein(PA5074)  "
      ]
     },
     "execution_count": 96,
     "metadata": {},
     "output_type": "execute_result"
    }
   ],
   "source": [
    "cl_david.drop(5, inplace=True)\n",
    "cl_david"
   ]
  },
  {
   "cell_type": "code",
   "execution_count": 97,
   "id": "colored-bundle",
   "metadata": {},
   "outputs": [
    {
     "data": {
      "text/html": [
       "<div>\n",
       "<style scoped>\n",
       "    .dataframe tbody tr th:only-of-type {\n",
       "        vertical-align: middle;\n",
       "    }\n",
       "\n",
       "    .dataframe tbody tr th {\n",
       "        vertical-align: top;\n",
       "    }\n",
       "\n",
       "    .dataframe thead th {\n",
       "        text-align: right;\n",
       "    }\n",
       "</style>\n",
       "<table border=\"1\" class=\"dataframe\">\n",
       "  <thead>\n",
       "    <tr style=\"text-align: right;\">\n",
       "      <th></th>\n",
       "      <th>From</th>\n",
       "      <th>To</th>\n",
       "      <th>Species</th>\n",
       "      <th>Gene Name</th>\n",
       "    </tr>\n",
       "  </thead>\n",
       "  <tbody>\n",
       "    <tr>\n",
       "      <th>0</th>\n",
       "      <td>NP_253120</td>\n",
       "      <td>9950663</td>\n",
       "      <td>Pseudomonas aeruginosa PAO1</td>\n",
       "      <td>cytochrome b(PA4430)</td>\n",
       "    </tr>\n",
       "    <tr>\n",
       "      <th>1</th>\n",
       "      <td>NP_253761</td>\n",
       "      <td>9951367</td>\n",
       "      <td>Pseudomonas aeruginosa PAO1</td>\n",
       "      <td>ABC transporter ATP-binding protein(PA5074)</td>\n",
       "    </tr>\n",
       "    <tr>\n",
       "      <th>2</th>\n",
       "      <td>NP_250126</td>\n",
       "      <td>15596632</td>\n",
       "      <td>Pseudomonas aeruginosa PAO1</td>\n",
       "      <td>resistance-nodulation-cell division (RND) effl...</td>\n",
       "    </tr>\n",
       "  </tbody>\n",
       "</table>\n",
       "</div>"
      ],
      "text/plain": [
       "        From        To                      Species  \\\n",
       "0  NP_253120   9950663  Pseudomonas aeruginosa PAO1   \n",
       "1  NP_253761   9951367  Pseudomonas aeruginosa PAO1   \n",
       "2  NP_250126  15596632  Pseudomonas aeruginosa PAO1   \n",
       "\n",
       "                                           Gene Name  \n",
       "0                               cytochrome b(PA4430)  \n",
       "1        ABC transporter ATP-binding protein(PA5074)  \n",
       "2  resistance-nodulation-cell division (RND) effl...  "
      ]
     },
     "execution_count": 97,
     "metadata": {},
     "output_type": "execute_result"
    }
   ],
   "source": [
    "cl_david.reset_index()\n",
    "cl_david.append(david_df.loc[40], ignore_index=True)"
   ]
  },
  {
   "cell_type": "code",
   "execution_count": null,
   "id": "stuffed-treasurer",
   "metadata": {},
   "outputs": [],
   "source": []
  },
  {
   "cell_type": "code",
   "execution_count": null,
   "id": "innovative-karaoke",
   "metadata": {},
   "outputs": [],
   "source": []
  },
  {
   "cell_type": "code",
   "execution_count": 28,
   "id": "cubic-little",
   "metadata": {},
   "outputs": [],
   "source": [
    "# This is a bad function\n",
    "def clean_david(david):\n",
    "    \n",
    "    #Initiate cleaned df\n",
    "    column_names = ['From', 'To', 'Species', 'Gene Name']\n",
    "    cl_david = pd.DataFrame(columns=column_names)\n",
    "\n",
    "    ran = len(david) - 2\n",
    "    for i in range(ran):\n",
    "        if david['From'][i] == david['From'][i+1]:\n",
    "            if david['From'][i] == david['From'][i+2]:\n",
    "                ind = david['To'][i:i+3].idxmax()\n",
    "                cl_david = cl_david.append(david.loc[ind])\n",
    "            else:\n",
    "                ind = david['To'][i:i+2].idxmax()\n",
    "                cl_david = cl_david.append(david.loc[ind])\n",
    "        else:\n",
    "            continue\n",
    "\n",
    "    cl_david = cl_david.reset_index(drop=True)\n",
    "    \n",
    "    return cl_david"
   ]
  },
  {
   "cell_type": "code",
   "execution_count": 29,
   "id": "private-housing",
   "metadata": {},
   "outputs": [],
   "source": [
    "davids = ['PA_DAVID.txt', 'BS_DAVID.txt', 'EC_DAVID.txt']\n",
    "cl_davids = ['pa_david.csv', 'bs_david.csv', 'ec_david.csv']\n",
    "\n",
    "for i in range(len(davids)):\n",
    "    input = pd.read_csv(davids[i], sep='\\t')\n",
    "    output = cl_davids\n",
    "    \n",
    "    cl_david = clean_david(input)\n",
    "    \n",
    "    # For PA organism specifically\n",
    "    if cl_david['Species'][0] == 'Pseudomonas aeruginosa PAO1':\n",
    "        column_names = ['From', 'To', 'Species', 'Gene Name']\n",
    "        cl_david_PA = pd.DataFrame(columns=column_names)\n",
    "        cl_david_PA = cl_david[0:230]\n",
    "        # Append just index 230 row\n",
    "        cl_david_PA = cl_david_PA.append(cl_david.loc[230])\n",
    "        # Save as csv\n",
    "        cl_david_PA.to_csv(output[0])\n",
    "    \n",
    "    # For BA organism specifically\n",
    "    #if cl_david['Species'][0] == 'Bacillus subtilis subsp. subtilis str. 168':\n",
    "        #column_names = ['From', 'To', 'Species', 'Gene Name']\n",
    "        #cl_david_BA = pd.DataFrame(columns=column_names)\n",
    "        #cl_david_BA = cl_david[0:388]\n",
    "        ## Append just index 230 row\n",
    "        #cl_david_BA = cl_david_BA.append(cl_david.loc[388])\n",
    "        ## Save as csv\n",
    "        #cl_david_BA.to_csv(output[1])\n",
    "    \n",
    "    # For EC organism specifically\n",
    "    #if cl_david['Species'][0] == 'Escherichia coli str. K-12 substr. MG1655':\n",
    "        #column_names = ['From', 'To', 'Species', 'Gene Name']\n",
    "        #cl_david_EC = pd.DataFrame(columns=column_names)\n",
    "        #cl_david_EC = cl_david[0:664]\n",
    "        ## Append just index 230 row\n",
    "        #cl_david_EC = cl_david_EC.append(cl_david.loc[664])\n",
    "        ## Save as csv\n",
    "        #cl_david_EC.to_csv(output[2])"
   ]
  },
  {
   "cell_type": "code",
   "execution_count": 30,
   "id": "located-greene",
   "metadata": {},
   "outputs": [
    {
     "data": {
      "text/html": [
       "<div>\n",
       "<style scoped>\n",
       "    .dataframe tbody tr th:only-of-type {\n",
       "        vertical-align: middle;\n",
       "    }\n",
       "\n",
       "    .dataframe tbody tr th {\n",
       "        vertical-align: top;\n",
       "    }\n",
       "\n",
       "    .dataframe thead th {\n",
       "        text-align: right;\n",
       "    }\n",
       "</style>\n",
       "<table border=\"1\" class=\"dataframe\">\n",
       "  <thead>\n",
       "    <tr style=\"text-align: right;\">\n",
       "      <th></th>\n",
       "      <th>From</th>\n",
       "      <th>To</th>\n",
       "      <th>Species</th>\n",
       "      <th>Gene Name</th>\n",
       "    </tr>\n",
       "  </thead>\n",
       "  <tbody>\n",
       "    <tr>\n",
       "      <th>0</th>\n",
       "      <td>NP_417169</td>\n",
       "      <td>937519109</td>\n",
       "      <td>Escherichia coli str. K-12 substr. MG1655</td>\n",
       "      <td>transcriptional repressor of microcin B17 synt...</td>\n",
       "    </tr>\n",
       "    <tr>\n",
       "      <th>1</th>\n",
       "      <td>NP_417169</td>\n",
       "      <td>999849414</td>\n",
       "      <td>Escherichia coli str. K-12 substr. MG1655</td>\n",
       "      <td>transcriptional repressor of microcin B17 synt...</td>\n",
       "    </tr>\n",
       "    <tr>\n",
       "      <th>2</th>\n",
       "      <td>NP_417169</td>\n",
       "      <td>999849414</td>\n",
       "      <td>Escherichia coli str. K-12 substr. MG1655</td>\n",
       "      <td>transcriptional repressor of microcin B17 synt...</td>\n",
       "    </tr>\n",
       "    <tr>\n",
       "      <th>3</th>\n",
       "      <td>NP_417169</td>\n",
       "      <td>999849414</td>\n",
       "      <td>Escherichia coli str. K-12 substr. MG1655</td>\n",
       "      <td>transcriptional repressor of microcin B17 synt...</td>\n",
       "    </tr>\n",
       "    <tr>\n",
       "      <th>4</th>\n",
       "      <td>NP_417169</td>\n",
       "      <td>985001528</td>\n",
       "      <td>Escherichia coli str. K-12 substr. MG1655</td>\n",
       "      <td>transcriptional repressor of microcin B17 synt...</td>\n",
       "    </tr>\n",
       "    <tr>\n",
       "      <th>...</th>\n",
       "      <td>...</td>\n",
       "      <td>...</td>\n",
       "      <td>...</td>\n",
       "      <td>...</td>\n",
       "    </tr>\n",
       "    <tr>\n",
       "      <th>663</th>\n",
       "      <td>YP_588444</td>\n",
       "      <td>937520982</td>\n",
       "      <td>Escherichia coli str. K-12 substr. MG1655</td>\n",
       "      <td>cytochrome d (bd-I) ubiquinol oxidase subunit ...</td>\n",
       "    </tr>\n",
       "    <tr>\n",
       "      <th>664</th>\n",
       "      <td>YP_026264</td>\n",
       "      <td>985002611</td>\n",
       "      <td>Escherichia coli str. K-12 substr. MG1655</td>\n",
       "      <td>threonine efflux pump(rhtC)</td>\n",
       "    </tr>\n",
       "    <tr>\n",
       "      <th>665</th>\n",
       "      <td>YP_026264</td>\n",
       "      <td>985002611</td>\n",
       "      <td>Escherichia coli str. K-12 substr. MG1655</td>\n",
       "      <td>threonine efflux pump(rhtC)</td>\n",
       "    </tr>\n",
       "    <tr>\n",
       "      <th>666</th>\n",
       "      <td>YP_026264</td>\n",
       "      <td>999848325</td>\n",
       "      <td>Escherichia coli str. K-12 substr. MG1655</td>\n",
       "      <td>threonine efflux pump(rhtC)</td>\n",
       "    </tr>\n",
       "    <tr>\n",
       "      <th>667</th>\n",
       "      <td>YP_026264</td>\n",
       "      <td>999848325</td>\n",
       "      <td>Escherichia coli str. K-12 substr. MG1655</td>\n",
       "      <td>threonine efflux pump(rhtC)</td>\n",
       "    </tr>\n",
       "  </tbody>\n",
       "</table>\n",
       "<p>668 rows × 4 columns</p>\n",
       "</div>"
      ],
      "text/plain": [
       "          From         To                                    Species  \\\n",
       "0    NP_417169  937519109  Escherichia coli str. K-12 substr. MG1655   \n",
       "1    NP_417169  999849414  Escherichia coli str. K-12 substr. MG1655   \n",
       "2    NP_417169  999849414  Escherichia coli str. K-12 substr. MG1655   \n",
       "3    NP_417169  999849414  Escherichia coli str. K-12 substr. MG1655   \n",
       "4    NP_417169  985001528  Escherichia coli str. K-12 substr. MG1655   \n",
       "..         ...        ...                                        ...   \n",
       "663  YP_588444  937520982  Escherichia coli str. K-12 substr. MG1655   \n",
       "664  YP_026264  985002611  Escherichia coli str. K-12 substr. MG1655   \n",
       "665  YP_026264  985002611  Escherichia coli str. K-12 substr. MG1655   \n",
       "666  YP_026264  999848325  Escherichia coli str. K-12 substr. MG1655   \n",
       "667  YP_026264  999848325  Escherichia coli str. K-12 substr. MG1655   \n",
       "\n",
       "                                             Gene Name  \n",
       "0    transcriptional repressor of microcin B17 synt...  \n",
       "1    transcriptional repressor of microcin B17 synt...  \n",
       "2    transcriptional repressor of microcin B17 synt...  \n",
       "3    transcriptional repressor of microcin B17 synt...  \n",
       "4    transcriptional repressor of microcin B17 synt...  \n",
       "..                                                 ...  \n",
       "663  cytochrome d (bd-I) ubiquinol oxidase subunit ...  \n",
       "664                        threonine efflux pump(rhtC)  \n",
       "665                        threonine efflux pump(rhtC)  \n",
       "666                        threonine efflux pump(rhtC)  \n",
       "667                        threonine efflux pump(rhtC)  \n",
       "\n",
       "[668 rows x 4 columns]"
      ]
     },
     "execution_count": 30,
     "metadata": {},
     "output_type": "execute_result"
    }
   ],
   "source": [
    "cl_david"
   ]
  },
  {
   "cell_type": "code",
   "execution_count": null,
   "id": "generous-youth",
   "metadata": {},
   "outputs": [],
   "source": []
  },
  {
   "cell_type": "code",
   "execution_count": null,
   "id": "favorite-coalition",
   "metadata": {},
   "outputs": [],
   "source": []
  },
  {
   "cell_type": "code",
   "execution_count": null,
   "id": "mysterious-checklist",
   "metadata": {},
   "outputs": [],
   "source": []
  },
  {
   "cell_type": "code",
   "execution_count": null,
   "id": "fatty-sterling",
   "metadata": {},
   "outputs": [],
   "source": []
  },
  {
   "cell_type": "code",
   "execution_count": null,
   "id": "spatial-pierre",
   "metadata": {},
   "outputs": [],
   "source": []
  },
  {
   "cell_type": "markdown",
   "id": "transparent-edgar",
   "metadata": {},
   "source": [
    "### Work to get to the code above"
   ]
  },
  {
   "cell_type": "code",
   "execution_count": 25,
   "id": "packed-system",
   "metadata": {
    "scrolled": false
   },
   "outputs": [
    {
     "data": {
      "text/html": [
       "<div>\n",
       "<style scoped>\n",
       "    .dataframe tbody tr th:only-of-type {\n",
       "        vertical-align: middle;\n",
       "    }\n",
       "\n",
       "    .dataframe tbody tr th {\n",
       "        vertical-align: top;\n",
       "    }\n",
       "\n",
       "    .dataframe thead th {\n",
       "        text-align: right;\n",
       "    }\n",
       "</style>\n",
       "<table border=\"1\" class=\"dataframe\">\n",
       "  <thead>\n",
       "    <tr style=\"text-align: right;\">\n",
       "      <th></th>\n",
       "      <th>Unnamed: 0</th>\n",
       "      <th>From</th>\n",
       "      <th>To</th>\n",
       "      <th>Species</th>\n",
       "      <th>Gene Name</th>\n",
       "    </tr>\n",
       "  </thead>\n",
       "  <tbody>\n",
       "    <tr>\n",
       "      <th>0</th>\n",
       "      <td>0</td>\n",
       "      <td>NP_417169</td>\n",
       "      <td>937519109</td>\n",
       "      <td>Escherichia coli str. K-12 substr. MG1655</td>\n",
       "      <td>transcriptional repressor of microcin B17 synt...</td>\n",
       "    </tr>\n",
       "    <tr>\n",
       "      <th>1</th>\n",
       "      <td>1</td>\n",
       "      <td>NP_417169</td>\n",
       "      <td>999849414</td>\n",
       "      <td>Escherichia coli str. K-12 substr. MG1655</td>\n",
       "      <td>transcriptional repressor of microcin B17 synt...</td>\n",
       "    </tr>\n",
       "    <tr>\n",
       "      <th>2</th>\n",
       "      <td>2</td>\n",
       "      <td>NP_417169</td>\n",
       "      <td>999849414</td>\n",
       "      <td>Escherichia coli str. K-12 substr. MG1655</td>\n",
       "      <td>transcriptional repressor of microcin B17 synt...</td>\n",
       "    </tr>\n",
       "    <tr>\n",
       "      <th>3</th>\n",
       "      <td>3</td>\n",
       "      <td>NP_417169</td>\n",
       "      <td>999849414</td>\n",
       "      <td>Escherichia coli str. K-12 substr. MG1655</td>\n",
       "      <td>transcriptional repressor of microcin B17 synt...</td>\n",
       "    </tr>\n",
       "    <tr>\n",
       "      <th>4</th>\n",
       "      <td>4</td>\n",
       "      <td>NP_417169</td>\n",
       "      <td>985001528</td>\n",
       "      <td>Escherichia coli str. K-12 substr. MG1655</td>\n",
       "      <td>transcriptional repressor of microcin B17 synt...</td>\n",
       "    </tr>\n",
       "    <tr>\n",
       "      <th>...</th>\n",
       "      <td>...</td>\n",
       "      <td>...</td>\n",
       "      <td>...</td>\n",
       "      <td>...</td>\n",
       "      <td>...</td>\n",
       "    </tr>\n",
       "    <tr>\n",
       "      <th>660</th>\n",
       "      <td>660</td>\n",
       "      <td>YP_588444</td>\n",
       "      <td>999851277</td>\n",
       "      <td>Escherichia coli str. K-12 substr. MG1655</td>\n",
       "      <td>cytochrome d (bd-I) ubiquinol oxidase subunit ...</td>\n",
       "    </tr>\n",
       "    <tr>\n",
       "      <th>661</th>\n",
       "      <td>661</td>\n",
       "      <td>YP_588444</td>\n",
       "      <td>999851277</td>\n",
       "      <td>Escherichia coli str. K-12 substr. MG1655</td>\n",
       "      <td>cytochrome d (bd-I) ubiquinol oxidase subunit ...</td>\n",
       "    </tr>\n",
       "    <tr>\n",
       "      <th>662</th>\n",
       "      <td>662</td>\n",
       "      <td>YP_588444</td>\n",
       "      <td>937520982</td>\n",
       "      <td>Escherichia coli str. K-12 substr. MG1655</td>\n",
       "      <td>cytochrome d (bd-I) ubiquinol oxidase subunit ...</td>\n",
       "    </tr>\n",
       "    <tr>\n",
       "      <th>663</th>\n",
       "      <td>663</td>\n",
       "      <td>YP_588444</td>\n",
       "      <td>937520982</td>\n",
       "      <td>Escherichia coli str. K-12 substr. MG1655</td>\n",
       "      <td>cytochrome d (bd-I) ubiquinol oxidase subunit ...</td>\n",
       "    </tr>\n",
       "    <tr>\n",
       "      <th>664</th>\n",
       "      <td>664</td>\n",
       "      <td>YP_026264</td>\n",
       "      <td>985002611</td>\n",
       "      <td>Escherichia coli str. K-12 substr. MG1655</td>\n",
       "      <td>threonine efflux pump(rhtC)</td>\n",
       "    </tr>\n",
       "  </tbody>\n",
       "</table>\n",
       "<p>665 rows × 5 columns</p>\n",
       "</div>"
      ],
      "text/plain": [
       "     Unnamed: 0       From         To  \\\n",
       "0             0  NP_417169  937519109   \n",
       "1             1  NP_417169  999849414   \n",
       "2             2  NP_417169  999849414   \n",
       "3             3  NP_417169  999849414   \n",
       "4             4  NP_417169  985001528   \n",
       "..          ...        ...        ...   \n",
       "660         660  YP_588444  999851277   \n",
       "661         661  YP_588444  999851277   \n",
       "662         662  YP_588444  937520982   \n",
       "663         663  YP_588444  937520982   \n",
       "664         664  YP_026264  985002611   \n",
       "\n",
       "                                       Species  \\\n",
       "0    Escherichia coli str. K-12 substr. MG1655   \n",
       "1    Escherichia coli str. K-12 substr. MG1655   \n",
       "2    Escherichia coli str. K-12 substr. MG1655   \n",
       "3    Escherichia coli str. K-12 substr. MG1655   \n",
       "4    Escherichia coli str. K-12 substr. MG1655   \n",
       "..                                         ...   \n",
       "660  Escherichia coli str. K-12 substr. MG1655   \n",
       "661  Escherichia coli str. K-12 substr. MG1655   \n",
       "662  Escherichia coli str. K-12 substr. MG1655   \n",
       "663  Escherichia coli str. K-12 substr. MG1655   \n",
       "664  Escherichia coli str. K-12 substr. MG1655   \n",
       "\n",
       "                                             Gene Name  \n",
       "0    transcriptional repressor of microcin B17 synt...  \n",
       "1    transcriptional repressor of microcin B17 synt...  \n",
       "2    transcriptional repressor of microcin B17 synt...  \n",
       "3    transcriptional repressor of microcin B17 synt...  \n",
       "4    transcriptional repressor of microcin B17 synt...  \n",
       "..                                                 ...  \n",
       "660  cytochrome d (bd-I) ubiquinol oxidase subunit ...  \n",
       "661  cytochrome d (bd-I) ubiquinol oxidase subunit ...  \n",
       "662  cytochrome d (bd-I) ubiquinol oxidase subunit ...  \n",
       "663  cytochrome d (bd-I) ubiquinol oxidase subunit ...  \n",
       "664                        threonine efflux pump(rhtC)  \n",
       "\n",
       "[665 rows x 5 columns]"
      ]
     },
     "execution_count": 25,
     "metadata": {},
     "output_type": "execute_result"
    }
   ],
   "source": [
    "david"
   ]
  },
  {
   "cell_type": "code",
   "execution_count": 54,
   "id": "racial-optics",
   "metadata": {},
   "outputs": [
    {
     "data": {
      "text/plain": [
       "numpy.int64"
      ]
     },
     "execution_count": 54,
     "metadata": {},
     "output_type": "execute_result"
    }
   ],
   "source": [
    "type(david['To'][2])"
   ]
  },
  {
   "cell_type": "code",
   "execution_count": 61,
   "id": "horizontal-parts",
   "metadata": {
    "scrolled": true
   },
   "outputs": [
    {
     "data": {
      "text/plain": [
       "True"
      ]
     },
     "execution_count": 61,
     "metadata": {},
     "output_type": "execute_result"
    }
   ],
   "source": [
    "i = 0\n",
    "david['From'][i:i+2]\n",
    "\n",
    "david['From'][i] == david['From'][i+1]"
   ]
  },
  {
   "cell_type": "code",
   "execution_count": 63,
   "id": "favorite-tribe",
   "metadata": {},
   "outputs": [
    {
     "data": {
      "text/html": [
       "<div>\n",
       "<style scoped>\n",
       "    .dataframe tbody tr th:only-of-type {\n",
       "        vertical-align: middle;\n",
       "    }\n",
       "\n",
       "    .dataframe tbody tr th {\n",
       "        vertical-align: top;\n",
       "    }\n",
       "\n",
       "    .dataframe thead th {\n",
       "        text-align: right;\n",
       "    }\n",
       "</style>\n",
       "<table border=\"1\" class=\"dataframe\">\n",
       "  <thead>\n",
       "    <tr style=\"text-align: right;\">\n",
       "      <th></th>\n",
       "      <th>From</th>\n",
       "      <th>To</th>\n",
       "      <th>Species</th>\n",
       "      <th>Gene Name</th>\n",
       "    </tr>\n",
       "  </thead>\n",
       "  <tbody>\n",
       "  </tbody>\n",
       "</table>\n",
       "</div>"
      ],
      "text/plain": [
       "Empty DataFrame\n",
       "Columns: [From, To, Species, Gene Name]\n",
       "Index: []"
      ]
     },
     "execution_count": 63,
     "metadata": {},
     "output_type": "execute_result"
    }
   ],
   "source": [
    "column_names = ['From', 'To', 'Species', 'Gene Name']\n",
    "cl_david = pd.DataFrame(columns=column_names)\n",
    "cl_david"
   ]
  },
  {
   "cell_type": "code",
   "execution_count": 56,
   "id": "infrared-canberra",
   "metadata": {},
   "outputs": [
    {
     "name": "stdout",
     "output_type": "stream",
     "text": [
      "4\n"
     ]
    }
   ],
   "source": [
    "ind = david['To'][i:i+5].idxmax()\n",
    "print(ind)"
   ]
  },
  {
   "cell_type": "code",
   "execution_count": 57,
   "id": "involved-cinema",
   "metadata": {},
   "outputs": [
    {
     "data": {
      "text/plain": [
       "From                           NP_254178\n",
       "To                              15600684\n",
       "Species      Pseudomonas aeruginosa PAO1\n",
       "Gene Name             cytochrome(PA5491)\n",
       "Name: 4, dtype: object"
      ]
     },
     "execution_count": 57,
     "metadata": {},
     "output_type": "execute_result"
    }
   ],
   "source": [
    "david.loc[ind]"
   ]
  },
  {
   "cell_type": "code",
   "execution_count": 58,
   "id": "ordinary-portrait",
   "metadata": {},
   "outputs": [
    {
     "data": {
      "text/html": [
       "<div>\n",
       "<style scoped>\n",
       "    .dataframe tbody tr th:only-of-type {\n",
       "        vertical-align: middle;\n",
       "    }\n",
       "\n",
       "    .dataframe tbody tr th {\n",
       "        vertical-align: top;\n",
       "    }\n",
       "\n",
       "    .dataframe thead th {\n",
       "        text-align: right;\n",
       "    }\n",
       "</style>\n",
       "<table border=\"1\" class=\"dataframe\">\n",
       "  <thead>\n",
       "    <tr style=\"text-align: right;\">\n",
       "      <th></th>\n",
       "      <th>From</th>\n",
       "      <th>To</th>\n",
       "      <th>Species</th>\n",
       "      <th>Gene Name</th>\n",
       "    </tr>\n",
       "  </thead>\n",
       "  <tbody>\n",
       "    <tr>\n",
       "      <th>4</th>\n",
       "      <td>NP_254178</td>\n",
       "      <td>15600684</td>\n",
       "      <td>Pseudomonas aeruginosa PAO1</td>\n",
       "      <td>cytochrome(PA5491)</td>\n",
       "    </tr>\n",
       "  </tbody>\n",
       "</table>\n",
       "</div>"
      ],
      "text/plain": [
       "        From        To                      Species           Gene Name\n",
       "4  NP_254178  15600684  Pseudomonas aeruginosa PAO1  cytochrome(PA5491)"
      ]
     },
     "execution_count": 58,
     "metadata": {},
     "output_type": "execute_result"
    }
   ],
   "source": [
    "cl_david.append(david.loc[ind])"
   ]
  },
  {
   "cell_type": "code",
   "execution_count": 102,
   "id": "heavy-asset",
   "metadata": {},
   "outputs": [],
   "source": [
    "#Initiate cleaned df\n",
    "column_names = ['From', 'To', 'Species', 'Gene Name']\n",
    "cl_david = pd.DataFrame(columns=column_names)\n",
    "\n",
    "ran = len(david) - 4\n",
    "for i in range(ran):\n",
    "    if david['From'][i] == david['From'][i+1]:\n",
    "        if david['From'][i] == david['From'][i+2]:\n",
    "            ind = david['To'][i:i+3].idxmax()\n",
    "            cl_david = cl_david.append(david.loc[ind])\n",
    "        else:\n",
    "            ind = david['To'][i:i+2].idxmax()\n",
    "            cl_david = cl_david.append(david.loc[ind])\n",
    "    else:\n",
    "         continue\n",
    "\n",
    "cl_david = cl_david.reset_index(drop=True)\n",
    "\n",
    "# For PA organism specifically\n",
    "if cl_david['Species'][0] == 'Pseudomonas aeruginosa PAO1':\n",
    "    column_names = ['From', 'To', 'Species', 'Gene Name']\n",
    "    cl_david_PA = pd.DataFrame(columns=column_names)\n",
    "    cl_david_PA = cl_david[0:230]\n",
    "    # Append just index 230 row\n",
    "    cl_david_PA = cl_david_PA.append(cl_david.loc[230])"
   ]
  },
  {
   "cell_type": "code",
   "execution_count": 103,
   "id": "differential-polyester",
   "metadata": {
    "scrolled": false
   },
   "outputs": [
    {
     "data": {
      "text/html": [
       "<div>\n",
       "<style scoped>\n",
       "    .dataframe tbody tr th:only-of-type {\n",
       "        vertical-align: middle;\n",
       "    }\n",
       "\n",
       "    .dataframe tbody tr th {\n",
       "        vertical-align: top;\n",
       "    }\n",
       "\n",
       "    .dataframe thead th {\n",
       "        text-align: right;\n",
       "    }\n",
       "</style>\n",
       "<table border=\"1\" class=\"dataframe\">\n",
       "  <thead>\n",
       "    <tr style=\"text-align: right;\">\n",
       "      <th></th>\n",
       "      <th>From</th>\n",
       "      <th>To</th>\n",
       "      <th>Species</th>\n",
       "      <th>Gene Name</th>\n",
       "    </tr>\n",
       "  </thead>\n",
       "  <tbody>\n",
       "    <tr>\n",
       "      <th>0</th>\n",
       "      <td>NP_253120</td>\n",
       "      <td>15599626</td>\n",
       "      <td>Pseudomonas aeruginosa PAO1</td>\n",
       "      <td>cytochrome b(PA4430)</td>\n",
       "    </tr>\n",
       "    <tr>\n",
       "      <th>1</th>\n",
       "      <td>NP_253761</td>\n",
       "      <td>15600267</td>\n",
       "      <td>Pseudomonas aeruginosa PAO1</td>\n",
       "      <td>ABC transporter ATP-binding protein(PA5074)</td>\n",
       "    </tr>\n",
       "    <tr>\n",
       "      <th>2</th>\n",
       "      <td>NP_254178</td>\n",
       "      <td>15600684</td>\n",
       "      <td>Pseudomonas aeruginosa PAO1</td>\n",
       "      <td>cytochrome(PA5491)</td>\n",
       "    </tr>\n",
       "    <tr>\n",
       "      <th>3</th>\n",
       "      <td>NP_249786</td>\n",
       "      <td>15596292</td>\n",
       "      <td>Pseudomonas aeruginosa PAO1</td>\n",
       "      <td>B-type flagellar protein FliS(PA1095)</td>\n",
       "    </tr>\n",
       "    <tr>\n",
       "      <th>4</th>\n",
       "      <td>NP_249786</td>\n",
       "      <td>15596292</td>\n",
       "      <td>Pseudomonas aeruginosa PAO1</td>\n",
       "      <td>B-type flagellar protein FliS(PA1095)</td>\n",
       "    </tr>\n",
       "    <tr>\n",
       "      <th>...</th>\n",
       "      <td>...</td>\n",
       "      <td>...</td>\n",
       "      <td>...</td>\n",
       "      <td>...</td>\n",
       "    </tr>\n",
       "    <tr>\n",
       "      <th>226</th>\n",
       "      <td>NP_251502</td>\n",
       "      <td>15598008</td>\n",
       "      <td>Pseudomonas aeruginosa PAO1</td>\n",
       "      <td>ABC transporter ATP-binding protein(PA2812)</td>\n",
       "    </tr>\n",
       "    <tr>\n",
       "      <th>227</th>\n",
       "      <td>NP_250133</td>\n",
       "      <td>15596639</td>\n",
       "      <td>Pseudomonas aeruginosa PAO1</td>\n",
       "      <td>flagellar basal body protein FliL(PA1442)</td>\n",
       "    </tr>\n",
       "    <tr>\n",
       "      <th>228</th>\n",
       "      <td>NP_253769</td>\n",
       "      <td>15600275</td>\n",
       "      <td>Pseudomonas aeruginosa PAO1</td>\n",
       "      <td>ABC transporter(PA5082)</td>\n",
       "    </tr>\n",
       "    <tr>\n",
       "      <th>229</th>\n",
       "      <td>NP_253763</td>\n",
       "      <td>15600269</td>\n",
       "      <td>Pseudomonas aeruginosa PAO1</td>\n",
       "      <td>ABC transporter(PA5076)</td>\n",
       "    </tr>\n",
       "    <tr>\n",
       "      <th>230</th>\n",
       "      <td>NP_253762</td>\n",
       "      <td>300562301</td>\n",
       "      <td>Pseudomonas aeruginosa PAO1</td>\n",
       "      <td>ABC transporter permease(PA5075)</td>\n",
       "    </tr>\n",
       "  </tbody>\n",
       "</table>\n",
       "<p>231 rows × 4 columns</p>\n",
       "</div>"
      ],
      "text/plain": [
       "          From         To                      Species  \\\n",
       "0    NP_253120   15599626  Pseudomonas aeruginosa PAO1   \n",
       "1    NP_253761   15600267  Pseudomonas aeruginosa PAO1   \n",
       "2    NP_254178   15600684  Pseudomonas aeruginosa PAO1   \n",
       "3    NP_249786   15596292  Pseudomonas aeruginosa PAO1   \n",
       "4    NP_249786   15596292  Pseudomonas aeruginosa PAO1   \n",
       "..         ...        ...                          ...   \n",
       "226  NP_251502   15598008  Pseudomonas aeruginosa PAO1   \n",
       "227  NP_250133   15596639  Pseudomonas aeruginosa PAO1   \n",
       "228  NP_253769   15600275  Pseudomonas aeruginosa PAO1   \n",
       "229  NP_253763   15600269  Pseudomonas aeruginosa PAO1   \n",
       "230  NP_253762  300562301  Pseudomonas aeruginosa PAO1   \n",
       "\n",
       "                                       Gene Name  \n",
       "0                           cytochrome b(PA4430)  \n",
       "1    ABC transporter ATP-binding protein(PA5074)  \n",
       "2                             cytochrome(PA5491)  \n",
       "3          B-type flagellar protein FliS(PA1095)  \n",
       "4          B-type flagellar protein FliS(PA1095)  \n",
       "..                                           ...  \n",
       "226  ABC transporter ATP-binding protein(PA2812)  \n",
       "227    flagellar basal body protein FliL(PA1442)  \n",
       "228                      ABC transporter(PA5082)  \n",
       "229                      ABC transporter(PA5076)  \n",
       "230             ABC transporter permease(PA5075)  \n",
       "\n",
       "[231 rows x 4 columns]"
      ]
     },
     "execution_count": 103,
     "metadata": {},
     "output_type": "execute_result"
    }
   ],
   "source": [
    "cl_david_PA"
   ]
  },
  {
   "cell_type": "code",
   "execution_count": null,
   "id": "cordless-plate",
   "metadata": {},
   "outputs": [],
   "source": [
    "#Initiate cleaned df --doesn't work\n",
    "column_names = ['From', 'To', 'Species', 'Gene Name']\n",
    "cl_david = pd.DataFrame(columns=column_names)\n",
    "\n",
    "for i in range(len(david)-1):\n",
    "        if david['From'][i] == david['From'][i+1]:\n",
    "            if david['From'][i] == david['From'][i+2]:\n",
    "                if david['From'][i] == david['From'][i+3]:\n",
    "                    if david['From'][i] == david['From'][i+4]:\n",
    "                        if david['From'][i] == david['From'][i+5]:\n",
    "                            ind = david['To'][i:i+6].idxmax()\n",
    "                            cl_david.append(david.loc[ind])\n",
    "                        else:\n",
    "                            ind = david['To'][i:i+5].idxmax()\n",
    "                            cl_david.append(david.loc[ind])\n",
    "                    else:\n",
    "                        ind = david['To'][i:i+4].idxmax()\n",
    "                        cl_david.append(david.loc[ind])\n",
    "                else:\n",
    "                    ind = david['To'][i:i+3].idxmax()\n",
    "                    cl_david.append(david.loc[ind])\n",
    "            else:\n",
    "                ind = david['To'][i:i+2].idxmax()\n",
    "                cl_david.append(david.loc[ind])\n",
    "        else:\n",
    "            continue"
   ]
  },
  {
   "cell_type": "code",
   "execution_count": null,
   "id": "younger-turner",
   "metadata": {},
   "outputs": [],
   "source": []
  },
  {
   "cell_type": "code",
   "execution_count": null,
   "id": "authentic-seating",
   "metadata": {},
   "outputs": [],
   "source": []
  },
  {
   "cell_type": "code",
   "execution_count": null,
   "id": "personalized-meditation",
   "metadata": {},
   "outputs": [],
   "source": []
  },
  {
   "cell_type": "code",
   "execution_count": null,
   "id": "gorgeous-texas",
   "metadata": {},
   "outputs": [],
   "source": [
    "davids = ['PA_DAVID.txt', 'BS_DAVID.txt', 'EC_DAVID.txt']\n",
    "cl_davids = ['pa_david.txt', 'bs_david.txt', 'ec_david.txt']\n",
    "david = pd.read_csv(davids[0], sep='\\t')"
   ]
  },
  {
   "cell_type": "code",
   "execution_count": null,
   "id": "textile-individual",
   "metadata": {},
   "outputs": [],
   "source": [
    "# MW my edits\n",
    "gene_dict = {}\n",
    "gene_name_dict = {}\n",
    "species_dict = {}\n",
    "\n",
    "\n",
    "def add_max_to_dict(key, value):\n",
    "    if key not in gene_dict.keys():\n",
    "        gene_dict[key] = value\n",
    "    else:\n",
    "        if value > gene_dict[key]:\n",
    "            print(f'Replacing <{key}, {gene_dict[key]}> with {value}')\n",
    "\n",
    "        gene_dict[key] = max(value, gene_dict[key])\n",
    "\n",
    "\n",
    "def add_to_dict(dict_name, key, value):\n",
    "    if key not in dict_name.keys():\n",
    "        dict_name[key] = value\n",
    "\n",
    "\n",
    "def print_dict(dict_name):\n",
    "    for key in dict_name.keys():\n",
    "        print(f'[ {key} : {dict_name[key]} ]')\n",
    "\n",
    "\n",
    "with open('PA_DAVID.txt', 'r') as f:\n",
    "    f.readline()\n",
    "    for line in f.readlines():\n",
    "        clean_line = line.replace('\\t', ', ')\n",
    "        values = clean_line.split(\",\")\n",
    "        add_max_to_dict(values[0], int(values[1]))\n",
    "        add_to_dict(gene_name_dict, values[0], values[3].strip())\n",
    "        add_to_dict(species_dict, values[0], values[2].strip())\n",
    "\n",
    "print_dict(gene_dict)\n",
    "print_dict(gene_name_dict)\n",
    "print_dict(species_dict)"
   ]
  },
  {
   "cell_type": "code",
   "execution_count": 24,
   "id": "visible-bathroom",
   "metadata": {},
   "outputs": [
    {
     "ename": "IndentationError",
     "evalue": "expected an indented block (<ipython-input-24-592d527e09d9>, line 14)",
     "output_type": "error",
     "traceback": [
      "\u001b[0;36m  File \u001b[0;32m\"<ipython-input-24-592d527e09d9>\"\u001b[0;36m, line \u001b[0;32m14\u001b[0m\n\u001b[0;31m    gene_dict[key] = max(value, gene_dict[key])\u001b[0m\n\u001b[0m    ^\u001b[0m\n\u001b[0;31mIndentationError\u001b[0m\u001b[0;31m:\u001b[0m expected an indented block\n"
     ]
    }
   ],
   "source": [
    "# Matthew Weser suggestion\n",
    "gene_dict = {}\n",
    "gene_name_dict = {}\n",
    "species_dict = {}\n",
    "\n",
    "\n",
    "def add_max_to_dict(key, value):\n",
    "    if key not in gene_dict.keys():\n",
    "        gene_dict[key] = value\n",
    "    else:\n",
    "        if value > gene_dict[key]:\n",
    "            print(f'Replacing <{key}, {gene_dict[key]}> with {value}')\n",
    "\n",
    "        gene_dict[key] = max(value, gene_dict[key])\n",
    "\n",
    "\n",
    "def add_to_dict(dict_name, key, value):\n",
    "    if key not in dict_name.keys():\n",
    "        dict_name[key] = value\n",
    "\n",
    "\n",
    "def print_dict(dict_name):\n",
    "    for key in dict_name.keys():\n",
    "        print(f'[ {key} : {dict_name[key]} ]')\n",
    "\n",
    "\n",
    "with open('PA_DAVID.txt', 'r') as f:\n",
    "    f.readline()\n",
    "    for line in f.readlines():\n",
    "        clean_line = line.replace('\\t', ', ')\n",
    "        values = clean_line.split(\",\")\n",
    "        add_max_to_dict(values[0], int(values[1]))\n",
    "        add_to_dict(gene_name_dict, values[0], values[3].strip())\n",
    "        add_to_dict(species_dict, values[0], values[2].strip())\n",
    "\n",
    "print_dict(gene_dict)\n",
    "print_dict(gene_name_dict)\n",
    "print_dict(species_dict)"
   ]
  },
  {
   "cell_type": "code",
   "execution_count": null,
   "id": "periodic-ethiopia",
   "metadata": {},
   "outputs": [],
   "source": []
  }
 ],
 "metadata": {
  "kernelspec": {
   "display_name": "Python 3",
   "language": "python",
   "name": "python3"
  },
  "language_info": {
   "codemirror_mode": {
    "name": "ipython",
    "version": 3
   },
   "file_extension": ".py",
   "mimetype": "text/x-python",
   "name": "python",
   "nbconvert_exporter": "python",
   "pygments_lexer": "ipython3",
   "version": "3.8.5"
  }
 },
 "nbformat": 4,
 "nbformat_minor": 5
}
