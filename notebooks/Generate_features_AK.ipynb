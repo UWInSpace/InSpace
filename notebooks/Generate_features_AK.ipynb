{
 "cells": [
  {
   "cell_type": "markdown",
   "metadata": {},
   "source": [
    "## Generate features for each protein sequence\n",
    "With each protein sequence generated and compiled using Bio.Entrez, the following script will generate corresponding features to train the prediction model and visualization of each protein's gene expression. \n",
    "\n",
    "After this, WIDI's MODEL."
   ]
  },
  {
   "cell_type": "code",
   "execution_count": 2,
   "metadata": {},
   "outputs": [],
   "source": [
    "# import relevant libraries\n",
    "\n",
    "import Bio \n",
    "from Bio.SeqUtils.ProtParam import ProteinAnalysis\n",
    "import pandas as pd"
   ]
  },
  {
   "cell_type": "code",
   "execution_count": 12,
   "metadata": {},
   "outputs": [
    {
     "name": "stdout",
     "output_type": "stream",
     "text": [
      "17103.1617\n",
      "{'A': 6, 'C': 3, 'D': 5, 'E': 12, 'F': 6, 'G': 14, 'H': 5, 'I': 5, 'K': 12, 'L': 18, 'M': 2, 'N': 7, 'P': 8, 'Q': 6, 'R': 6, 'S': 10, 'T': 13, 'V': 5, 'W': 1, 'Y': 8}\n",
      "0.09868421052631579\n",
      "7.7224523544311525\n"
     ]
    }
   ],
   "source": [
    "# test Biopython functionality\n",
    "ProtA = ProteinAnalysis(\"MAEGEITTFTALTEKFNLPPGNYKKPKLLYCSNGGHFLRILPDGTVDGT\"\n",
    "                    \"RDRSDQHIQLQLSAESVGEVYIKSTETGQYLAMDTSGLLYGSQTPSEEC\"\n",
    "                    \"LFLERLEENHYNTYTSKKHAEKNWFVGLKKNGSCKRGPRTHYGQKAILF\"\n",
    "                    \"LPLPV\")\n",
    "\n",
    "MW = ProtA.molecular_weight()\n",
    "count_AA = ProtA.count_amino_acids()\n",
    "arom = ProtA.aromaticity()\n",
    "iso_el = ProtA.isoelectric_point()\n",
    "\n",
    "print(MW)\n",
    "print(count_AA)\n",
    "print(arom)\n",
    "print(iso_el)"
   ]
  },
  {
   "cell_type": "markdown",
   "metadata": {},
   "source": [
    "PSEUDOCODE: \n",
    "\n",
    "take 1 protein sequence from dataframe (1 column, iterate through rows):\n",
    "    for each protein sequence\n",
    "        run MW\n",
    "        run count AA\n",
    "        run arom\n",
    "        run iso_el\n",
    "            output to new columns"
   ]
  },
  {
   "cell_type": "code",
   "execution_count": 6,
   "metadata": {},
   "outputs": [],
   "source": [
    "# generate features function\n",
    "\n",
    "d = pd.read_csv('compiled_features.csv')\n",
    "df = pd.DataFrame(d)\n",
    "\n",
    "MW_features = []\n",
    "count_features = []\n",
    "arom_features = []\n",
    "iso_features = []\n",
    "\n",
    "for i in df['SEQUENCE'].values:\n",
    "    ProtA = ProteinAnalysis(i)\n",
    "\n",
    "    MW = ProtA.molecular_weight()\n",
    "    MW_features.append(MW)\n",
    "    \n",
    "    #count_AA = ProtA.count_amino_acids()\n",
    "    #count_features.append(count_AA)\n",
    "    \n",
    "    arom = ProtA.aromaticity()\n",
    "    arom_features.append(arom)\n",
    "    \n",
    "    iso_e = ProtA.isoelectric_point()\n",
    "    iso_features.append(iso_e)\n",
    "    \n",
    "df['MW'] = MW_features\n",
    "#df['COUNT_AA'] = count_features\n",
    "df['AROM'] = arom_features\n",
    "df['ISO_E'] = iso_features"
   ]
  },
  {
   "cell_type": "code",
   "execution_count": 7,
   "metadata": {},
   "outputs": [
    {
     "data": {
      "text/html": [
       "<div>\n",
       "<style scoped>\n",
       "    .dataframe tbody tr th:only-of-type {\n",
       "        vertical-align: middle;\n",
       "    }\n",
       "\n",
       "    .dataframe tbody tr th {\n",
       "        vertical-align: top;\n",
       "    }\n",
       "\n",
       "    .dataframe thead th {\n",
       "        text-align: right;\n",
       "    }\n",
       "</style>\n",
       "<table border=\"1\" class=\"dataframe\">\n",
       "  <thead>\n",
       "    <tr style=\"text-align: right;\">\n",
       "      <th></th>\n",
       "      <th>Unnamed: 0</th>\n",
       "      <th>GENENAME</th>\n",
       "      <th>ORG</th>\n",
       "      <th>ENTREZID</th>\n",
       "      <th>REFSEQ</th>\n",
       "      <th>LOG2FC</th>\n",
       "      <th>True_EID</th>\n",
       "      <th>SEQUENCE</th>\n",
       "      <th>AA_NP</th>\n",
       "      <th>AA_POS</th>\n",
       "      <th>AA_POL</th>\n",
       "      <th>AA_NEG</th>\n",
       "      <th>MW</th>\n",
       "      <th>AROM</th>\n",
       "      <th>ISO_E</th>\n",
       "    </tr>\n",
       "  </thead>\n",
       "  <tbody>\n",
       "    <tr>\n",
       "      <th>0</th>\n",
       "      <td>0</td>\n",
       "      <td>ABC_transporter</td>\n",
       "      <td>PA</td>\n",
       "      <td>879411</td>\n",
       "      <td>NP_248876</td>\n",
       "      <td>-0.038469</td>\n",
       "      <td>15595384</td>\n",
       "      <td>mkaltssllglfaapvlagllgayvplasaappkeiriavpdvsag...</td>\n",
       "      <td>59.773371</td>\n",
       "      <td>11.614731</td>\n",
       "      <td>17.847025</td>\n",
       "      <td>10.764873</td>\n",
       "      <td>37193.0756</td>\n",
       "      <td>0.070822</td>\n",
       "      <td>6.871061</td>\n",
       "    </tr>\n",
       "    <tr>\n",
       "      <th>1</th>\n",
       "      <td>1</td>\n",
       "      <td>ABC_transporter</td>\n",
       "      <td>PA</td>\n",
       "      <td>883108</td>\n",
       "      <td>NP_248894</td>\n",
       "      <td>-0.207718</td>\n",
       "      <td>15595400</td>\n",
       "      <td>mhqriasiglgltlalggsaqaagqlnvvswsgyfspqllekfeke...</td>\n",
       "      <td>54.941860</td>\n",
       "      <td>11.337209</td>\n",
       "      <td>22.674419</td>\n",
       "      <td>11.046512</td>\n",
       "      <td>37859.8560</td>\n",
       "      <td>0.093023</td>\n",
       "      <td>6.033937</td>\n",
       "    </tr>\n",
       "    <tr>\n",
       "      <th>2</th>\n",
       "      <td>2</td>\n",
       "      <td>ABC_transporter</td>\n",
       "      <td>PA</td>\n",
       "      <td>878380</td>\n",
       "      <td>NP_249014</td>\n",
       "      <td>-0.187309</td>\n",
       "      <td>15595520</td>\n",
       "      <td>mtyrtpltllfaaglalggqaraegtlhfanwsdyyppellkkfek...</td>\n",
       "      <td>52.449568</td>\n",
       "      <td>14.121037</td>\n",
       "      <td>20.461095</td>\n",
       "      <td>12.968300</td>\n",
       "      <td>38901.0268</td>\n",
       "      <td>0.112392</td>\n",
       "      <td>6.350359</td>\n",
       "    </tr>\n",
       "    <tr>\n",
       "      <th>3</th>\n",
       "      <td>3</td>\n",
       "      <td>ABC_transporter</td>\n",
       "      <td>PA</td>\n",
       "      <td>880771</td>\n",
       "      <td>NP_249293</td>\n",
       "      <td>0.085173</td>\n",
       "      <td>15595799</td>\n",
       "      <td>mlpamrtgllcallgvtapawaeyvtvisfggankeaqetafykpf...</td>\n",
       "      <td>59.593023</td>\n",
       "      <td>11.918605</td>\n",
       "      <td>17.732558</td>\n",
       "      <td>10.755814</td>\n",
       "      <td>37832.8132</td>\n",
       "      <td>0.116279</td>\n",
       "      <td>6.919602</td>\n",
       "    </tr>\n",
       "    <tr>\n",
       "      <th>4</th>\n",
       "      <td>4</td>\n",
       "      <td>ABC_transporter</td>\n",
       "      <td>PA</td>\n",
       "      <td>879023</td>\n",
       "      <td>NP_249295</td>\n",
       "      <td>0.038834</td>\n",
       "      <td>15595801</td>\n",
       "      <td>mskslkaaslkfatlaaglacaaqamavdltvvsfgganksaqika...</td>\n",
       "      <td>54.310345</td>\n",
       "      <td>11.494253</td>\n",
       "      <td>22.413793</td>\n",
       "      <td>11.781609</td>\n",
       "      <td>38166.9526</td>\n",
       "      <td>0.112069</td>\n",
       "      <td>5.869103</td>\n",
       "    </tr>\n",
       "  </tbody>\n",
       "</table>\n",
       "</div>"
      ],
      "text/plain": [
       "   Unnamed: 0         GENENAME ORG  ENTREZID     REFSEQ    LOG2FC  True_EID  \\\n",
       "0           0  ABC_transporter  PA    879411  NP_248876 -0.038469  15595384   \n",
       "1           1  ABC_transporter  PA    883108  NP_248894 -0.207718  15595400   \n",
       "2           2  ABC_transporter  PA    878380  NP_249014 -0.187309  15595520   \n",
       "3           3  ABC_transporter  PA    880771  NP_249293  0.085173  15595799   \n",
       "4           4  ABC_transporter  PA    879023  NP_249295  0.038834  15595801   \n",
       "\n",
       "                                            SEQUENCE      AA_NP     AA_POS  \\\n",
       "0  mkaltssllglfaapvlagllgayvplasaappkeiriavpdvsag...  59.773371  11.614731   \n",
       "1  mhqriasiglgltlalggsaqaagqlnvvswsgyfspqllekfeke...  54.941860  11.337209   \n",
       "2  mtyrtpltllfaaglalggqaraegtlhfanwsdyyppellkkfek...  52.449568  14.121037   \n",
       "3  mlpamrtgllcallgvtapawaeyvtvisfggankeaqetafykpf...  59.593023  11.918605   \n",
       "4  mskslkaaslkfatlaaglacaaqamavdltvvsfgganksaqika...  54.310345  11.494253   \n",
       "\n",
       "      AA_POL     AA_NEG          MW      AROM     ISO_E  \n",
       "0  17.847025  10.764873  37193.0756  0.070822  6.871061  \n",
       "1  22.674419  11.046512  37859.8560  0.093023  6.033937  \n",
       "2  20.461095  12.968300  38901.0268  0.112392  6.350359  \n",
       "3  17.732558  10.755814  37832.8132  0.116279  6.919602  \n",
       "4  22.413793  11.781609  38166.9526  0.112069  5.869103  "
      ]
     },
     "execution_count": 7,
     "metadata": {},
     "output_type": "execute_result"
    }
   ],
   "source": [
    "df.head()"
   ]
  },
  {
   "cell_type": "code",
   "execution_count": 43,
   "metadata": {},
   "outputs": [
    {
     "data": {
      "text/plain": [
       "PROT_SEQ    MAEGEITTFTALTEKFNLPPGNYKKPKLLYCSNGGHFLRILPDGTV...\n",
       "Name: 0, dtype: object"
      ]
     },
     "execution_count": 43,
     "metadata": {},
     "output_type": "execute_result"
    }
   ],
   "source": [
    "df.iloc[0]"
   ]
  },
  {
   "cell_type": "code",
   "execution_count": 44,
   "metadata": {},
   "outputs": [
    {
     "data": {
      "text/plain": [
       "0    MAEGEITTFTALTEKFNLPPGNYKKPKLLYCSNGGHFLRILPDGTV...\n",
       "Name: PROT_SEQ, dtype: object"
      ]
     },
     "execution_count": 44,
     "metadata": {},
     "output_type": "execute_result"
    }
   ],
   "source": [
    "df['PROT_SEQ']"
   ]
  },
  {
   "cell_type": "code",
   "execution_count": 45,
   "metadata": {},
   "outputs": [
    {
     "data": {
      "text/plain": [
       "array([['MAEGEITTFTALTEKFNLPPGNYKKPKLLYCSNGGHFLRILPDGTVDGTRDRSDQHIQLQLSAESVGEVYIKSTETGQYLAMDTSGLLYGSQTPSEECLFLERLEENHYNTYTSKKHAEKNWFVGLKKNGSCKRGPRTHYGQKAILFLPLPV']],\n",
       "      dtype=object)"
      ]
     },
     "execution_count": 45,
     "metadata": {},
     "output_type": "execute_result"
    }
   ],
   "source": [
    "df.values"
   ]
  },
  {
   "cell_type": "code",
   "execution_count": null,
   "metadata": {},
   "outputs": [],
   "source": []
  }
 ],
 "metadata": {
  "kernelspec": {
   "display_name": "Python 3",
   "language": "python",
   "name": "python3"
  },
  "language_info": {
   "codemirror_mode": {
    "name": "ipython",
    "version": 3
   },
   "file_extension": ".py",
   "mimetype": "text/x-python",
   "name": "python",
   "nbconvert_exporter": "python",
   "pygments_lexer": "ipython3",
   "version": "3.8.5"
  }
 },
 "nbformat": 4,
 "nbformat_minor": 4
}
