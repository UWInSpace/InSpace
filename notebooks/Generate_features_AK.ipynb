{
 "cells": [
  {
   "cell_type": "markdown",
   "metadata": {},
   "source": [
    "## Generate features for each protein sequence\n",
    "With each protein sequence generated and compiled using Bio.Entrez, the following script will generate corresponding features to train the prediction model and visualization of each protein's gene expression. \n",
    "\n",
    "After this, WIDI's MODEL."
   ]
  },
  {
   "cell_type": "code",
   "execution_count": 20,
   "metadata": {},
   "outputs": [],
   "source": [
    "# import relevant libraries\n",
    "\n",
    "import Bio \n",
    "from Bio.SeqUtils.ProtParam import ProteinAnalysis\n",
    "import pandas as pd"
   ]
  },
  {
   "cell_type": "code",
   "execution_count": 12,
   "metadata": {},
   "outputs": [
    {
     "name": "stdout",
     "output_type": "stream",
     "text": [
      "17103.1617\n",
      "{'A': 6, 'C': 3, 'D': 5, 'E': 12, 'F': 6, 'G': 14, 'H': 5, 'I': 5, 'K': 12, 'L': 18, 'M': 2, 'N': 7, 'P': 8, 'Q': 6, 'R': 6, 'S': 10, 'T': 13, 'V': 5, 'W': 1, 'Y': 8}\n",
      "0.09868421052631579\n",
      "7.7224523544311525\n"
     ]
    }
   ],
   "source": [
    "# test Biopython functionality\n",
    "ProtA = ProteinAnalysis(\"MAEGEITTFTALTEKFNLPPGNYKKPKLLYCSNGGHFLRILPDGTVDGT\"\n",
    "                    \"RDRSDQHIQLQLSAESVGEVYIKSTETGQYLAMDTSGLLYGSQTPSEEC\"\n",
    "                    \"LFLERLEENHYNTYTSKKHAEKNWFVGLKKNGSCKRGPRTHYGQKAILF\"\n",
    "                    \"LPLPV\")\n",
    "\n",
    "MW = ProtA.molecular_weight()\n",
    "count_AA = ProtA.count_amino_acids()\n",
    "arom = ProtA.aromaticity()\n",
    "iso_el = ProtA.isoelectric_point()\n",
    "\n",
    "print(MW)\n",
    "print(count_AA)\n",
    "print(arom)\n",
    "print(iso_el)"
   ]
  },
  {
   "cell_type": "markdown",
   "metadata": {},
   "source": [
    "PSEUDOCODE: \n",
    "\n",
    "take 1 protein sequence from dataframe (1 column, iterate through rows):\n",
    "    for each protein sequence\n",
    "        run MW\n",
    "        run count AA\n",
    "        run arom\n",
    "        run iso_el\n",
    "            output to new columns"
   ]
  },
  {
   "cell_type": "code",
   "execution_count": 63,
   "metadata": {},
   "outputs": [],
   "source": [
    "# generate features function\n",
    "\n",
    "d = {\"PROT_SEQ\":[\"MAEGEITTFTALTEKFNLPPGNYKKPKLLYCSNGGHFLRILPDGTVDGTRDRSDQHIQLQLSAESVGEVYIKSTETGQYLAMDTSGLLYGSQTPSEECLFLERLEENHYNTYTSKKHAEKNWFVGLKKNGSCKRGPRTHYGQKAILFLPLPV\"]}\n",
    "df = pd.DataFrame(d, columns = [\"PROT_SEQ\"])\n",
    "\n",
    "MW_features = []\n",
    "count_features = []\n",
    "arom_features = []\n",
    "iso_features = []\n",
    "\n",
    "for i in df['PROT_SEQ'].values:\n",
    "    ProtA = ProteinAnalysis(i)\n",
    "\n",
    "    MW = ProtA.molecular_weight()\n",
    "    MW_features.append(MW)\n",
    "    \n",
    "    #count_AA = ProtA.count_amino_acids()\n",
    "    #count_features.append(count_AA)\n",
    "    \n",
    "    arom = ProtA.aromaticity()\n",
    "    arom_features.append(arom)\n",
    "    \n",
    "    iso_e = ProtA.isoelectric_point()\n",
    "    iso_features.append(iso_e)\n",
    "    \n",
    "df['MW'] = MW_features\n",
    "#df['COUNT_AA'] = count_features\n",
    "df['AROM'] = arom_features\n",
    "df['ISO_E'] = iso_features"
   ]
  },
  {
   "cell_type": "code",
   "execution_count": 64,
   "metadata": {},
   "outputs": [
    {
     "data": {
      "text/html": [
       "<div>\n",
       "<style scoped>\n",
       "    .dataframe tbody tr th:only-of-type {\n",
       "        vertical-align: middle;\n",
       "    }\n",
       "\n",
       "    .dataframe tbody tr th {\n",
       "        vertical-align: top;\n",
       "    }\n",
       "\n",
       "    .dataframe thead th {\n",
       "        text-align: right;\n",
       "    }\n",
       "</style>\n",
       "<table border=\"1\" class=\"dataframe\">\n",
       "  <thead>\n",
       "    <tr style=\"text-align: right;\">\n",
       "      <th></th>\n",
       "      <th>PROT_SEQ</th>\n",
       "      <th>MW</th>\n",
       "      <th>AROM</th>\n",
       "      <th>ISO_E</th>\n",
       "    </tr>\n",
       "  </thead>\n",
       "  <tbody>\n",
       "    <tr>\n",
       "      <th>0</th>\n",
       "      <td>MAEGEITTFTALTEKFNLPPGNYKKPKLLYCSNGGHFLRILPDGTV...</td>\n",
       "      <td>17103.1617</td>\n",
       "      <td>0.098684</td>\n",
       "      <td>7.722452</td>\n",
       "    </tr>\n",
       "  </tbody>\n",
       "</table>\n",
       "</div>"
      ],
      "text/plain": [
       "                                            PROT_SEQ          MW      AROM  \\\n",
       "0  MAEGEITTFTALTEKFNLPPGNYKKPKLLYCSNGGHFLRILPDGTV...  17103.1617  0.098684   \n",
       "\n",
       "      ISO_E  \n",
       "0  7.722452  "
      ]
     },
     "execution_count": 64,
     "metadata": {},
     "output_type": "execute_result"
    }
   ],
   "source": [
    "df.head()"
   ]
  },
  {
   "cell_type": "code",
   "execution_count": 43,
   "metadata": {},
   "outputs": [
    {
     "data": {
      "text/plain": [
       "PROT_SEQ    MAEGEITTFTALTEKFNLPPGNYKKPKLLYCSNGGHFLRILPDGTV...\n",
       "Name: 0, dtype: object"
      ]
     },
     "execution_count": 43,
     "metadata": {},
     "output_type": "execute_result"
    }
   ],
   "source": [
    "df.iloc[0]"
   ]
  },
  {
   "cell_type": "code",
   "execution_count": 44,
   "metadata": {},
   "outputs": [
    {
     "data": {
      "text/plain": [
       "0    MAEGEITTFTALTEKFNLPPGNYKKPKLLYCSNGGHFLRILPDGTV...\n",
       "Name: PROT_SEQ, dtype: object"
      ]
     },
     "execution_count": 44,
     "metadata": {},
     "output_type": "execute_result"
    }
   ],
   "source": [
    "df['PROT_SEQ']"
   ]
  },
  {
   "cell_type": "code",
   "execution_count": 45,
   "metadata": {},
   "outputs": [
    {
     "data": {
      "text/plain": [
       "array([['MAEGEITTFTALTEKFNLPPGNYKKPKLLYCSNGGHFLRILPDGTVDGTRDRSDQHIQLQLSAESVGEVYIKSTETGQYLAMDTSGLLYGSQTPSEECLFLERLEENHYNTYTSKKHAEKNWFVGLKKNGSCKRGPRTHYGQKAILFLPLPV']],\n",
       "      dtype=object)"
      ]
     },
     "execution_count": 45,
     "metadata": {},
     "output_type": "execute_result"
    }
   ],
   "source": [
    "df.values"
   ]
  },
  {
   "cell_type": "code",
   "execution_count": null,
   "metadata": {},
   "outputs": [],
   "source": []
  }
 ],
 "metadata": {
  "kernelspec": {
   "display_name": "Python 3",
   "language": "python",
   "name": "python3"
  },
  "language_info": {
   "codemirror_mode": {
    "name": "ipython",
    "version": 3
   },
   "file_extension": ".py",
   "mimetype": "text/x-python",
   "name": "python",
   "nbconvert_exporter": "python",
   "pygments_lexer": "ipython3",
   "version": "3.8.5"
  }
 },
 "nbformat": 4,
 "nbformat_minor": 4
}
