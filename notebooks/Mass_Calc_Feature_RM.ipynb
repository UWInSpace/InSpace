{
 "cells": [
  {
   "cell_type": "code",
   "execution_count": 1,
   "id": "delayed-collins",
   "metadata": {},
   "outputs": [],
   "source": [
    "import pandas as pd"
   ]
  },
  {
   "cell_type": "markdown",
   "id": "negative-university",
   "metadata": {},
   "source": [
    "Average masses taken from http://proteomicsresource.washington.edu/protocols06/masses.php."
   ]
  },
  {
   "cell_type": "code",
   "execution_count": 2,
   "id": "standing-commonwealth",
   "metadata": {},
   "outputs": [],
   "source": [
    "# Define dictionary keys and values\n",
    "\n",
    "molecular_mass_dict = {\n",
    "    'A':71.0779, \n",
    "    'R':156.18568, \n",
    "    'G':57.05132, \n",
    "    'S':87.0773, \n",
    "    'P':97.11518, \n",
    "    'V':99.13106, \n",
    "    'T':101.10388, \n",
    "    'C':103.1429, \n",
    "    'L':113.15764, \n",
    "    'I':113.15764, \n",
    "    'N':114.10264, \n",
    "    'D':115.0874, \n",
    "    'Q':128.12922, \n",
    "    'K':128.17228, \n",
    "    'E':129.11398, \n",
    "    'M':131.19606, \n",
    "    'H':137.13928, \n",
    "    'F':147.17386, \n",
    "    'U':150.3079, \n",
    "    'Y':163.17326, \n",
    "    'W':186.2099, \n",
    "    'O':237.29816\n",
    "}"
   ]
  },
  {
   "cell_type": "code",
   "execution_count": null,
   "id": "simplified-smell",
   "metadata": {},
   "outputs": [],
   "source": [
    "# Convert seq column to list\n",
    "# May have to change df and column name depending on use\n",
    "\n",
    "seq_list = list(test_df['AASeq'].tolist())\n",
    "seq_list"
   ]
  },
  {
   "cell_type": "code",
   "execution_count": null,
   "id": "accessory-lender",
   "metadata": {},
   "outputs": [],
   "source": [
    "# Calculate approx mass in same order as seq_list\n",
    "\n",
    "total_mass = []\n",
    "\n",
    "for seq in seq_list:\n",
    "    mass_list = []\n",
    "    for amino_acid, mw in molecular_mass_dict.items():\n",
    "        aa_weight = seq.count(amino_acid)*mw\n",
    "        mass_list.append(aa_weight)\n",
    "    total_mass.append(sum(mass_list))\n",
    "    \n",
    "\n",
    "print(total_mass)"
   ]
  },
  {
   "cell_type": "markdown",
   "id": "smart-crack",
   "metadata": {},
   "source": [
    "### Below code tests above code\n",
    "Random sequences generated using http://molbiotools.com/randomsequencegenerator.html."
   ]
  },
  {
   "cell_type": "code",
   "execution_count": 3,
   "id": "square-adjustment",
   "metadata": {},
   "outputs": [
    {
     "data": {
      "text/html": [
       "<div>\n",
       "<style scoped>\n",
       "    .dataframe tbody tr th:only-of-type {\n",
       "        vertical-align: middle;\n",
       "    }\n",
       "\n",
       "    .dataframe tbody tr th {\n",
       "        vertical-align: top;\n",
       "    }\n",
       "\n",
       "    .dataframe thead th {\n",
       "        text-align: right;\n",
       "    }\n",
       "</style>\n",
       "<table border=\"1\" class=\"dataframe\">\n",
       "  <thead>\n",
       "    <tr style=\"text-align: right;\">\n",
       "      <th></th>\n",
       "      <th>Gene</th>\n",
       "      <th>AASeq</th>\n",
       "    </tr>\n",
       "  </thead>\n",
       "  <tbody>\n",
       "    <tr>\n",
       "      <th>0</th>\n",
       "      <td>RealNiceProtein</td>\n",
       "      <td>MPFMVNNIYVSFCEIKEIVCAGGSTTKYADVLQENNEQGRTVKLQ</td>\n",
       "    </tr>\n",
       "    <tr>\n",
       "      <th>1</th>\n",
       "      <td>EvenCoolerProtein</td>\n",
       "      <td>MIDVVEDAKANALNNVRCNMVGSGLQAAGAIMGLAERESFFQAMEE...</td>\n",
       "    </tr>\n",
       "    <tr>\n",
       "      <th>2</th>\n",
       "      <td>SuperBigProtein</td>\n",
       "      <td>MSVMKVCCFYAPKQRLNSSLQMPQCVLMNDVALIVRQSDEGIIGGF...</td>\n",
       "    </tr>\n",
       "  </tbody>\n",
       "</table>\n",
       "</div>"
      ],
      "text/plain": [
       "                Gene                                              AASeq\n",
       "0    RealNiceProtein      MPFMVNNIYVSFCEIKEIVCAGGSTTKYADVLQENNEQGRTVKLQ\n",
       "1  EvenCoolerProtein  MIDVVEDAKANALNNVRCNMVGSGLQAAGAIMGLAERESFFQAMEE...\n",
       "2    SuperBigProtein  MSVMKVCCFYAPKQRLNSSLQMPQCVLMNDVALIVRQSDEGIIGGF..."
      ]
     },
     "execution_count": 3,
     "metadata": {},
     "output_type": "execute_result"
    }
   ],
   "source": [
    "# Generating test dataframe with random sequences of variable length\n",
    "\n",
    "test_data = {\n",
    "    'Gene': ['RealNiceProtein', \n",
    "             'EvenCoolerProtein', \n",
    "             'SuperBigProtein'],\n",
    "    'AASeq': ['MPFMVNNIYVSFCEIKEIVCAGGSTTKYADVLQENNEQGRTVKLQ', \n",
    "             'MIDVVEDAKANALNNVRCNMVGSGLQAAGAIMGLAERESFFQAMEEARSAKGECEWKIDE', \n",
    "             'MSVMKVCCFYAPKQRLNSSLQMPQCVLMNDVALIVRQSDEGIIGGFRLMHKYVKIVYGPKTSESYKRVGPNERLGIDTAKDGIAKAWSLPILEIRCLENVLPYDLGKMHP']\n",
    "}\n",
    "\n",
    "test_df = pd.DataFrame(test_data, columns = ['Gene', 'AASeq'])\n",
    "\n",
    "test_df"
   ]
  },
  {
   "cell_type": "code",
   "execution_count": 4,
   "id": "advanced-effect",
   "metadata": {},
   "outputs": [
    {
     "data": {
      "text/plain": [
       "['MPFMVNNIYVSFCEIKEIVCAGGSTTKYADVLQENNEQGRTVKLQ',\n",
       " 'MIDVVEDAKANALNNVRCNMVGSGLQAAGAIMGLAERESFFQAMEEARSAKGECEWKIDE',\n",
       " 'MSVMKVCCFYAPKQRLNSSLQMPQCVLMNDVALIVRQSDEGIIGGFRLMHKYVKIVYGPKTSESYKRVGPNERLGIDTAKDGIAKAWSLPILEIRCLENVLPYDLGKMHP']"
      ]
     },
     "execution_count": 4,
     "metadata": {},
     "output_type": "execute_result"
    }
   ],
   "source": [
    "# Convert seq column to list\n",
    "# May have to change df and column name depending on use\n",
    "\n",
    "seq_list = list(test_df['AASeq'].tolist())\n",
    "seq_list"
   ]
  },
  {
   "cell_type": "code",
   "execution_count": 5,
   "id": "important-stock",
   "metadata": {},
   "outputs": [
    {
     "name": "stdout",
     "output_type": "stream",
     "text": [
      "[5051.7509, 6488.28216, 12396.57926]\n"
     ]
    }
   ],
   "source": [
    "# Calculate approx mass in same order as seq_list\n",
    "\n",
    "total_mass = []\n",
    "\n",
    "for seq in seq_list:\n",
    "    mass_list = []\n",
    "    for amino_acid, mw in molecular_mass_dict.items():\n",
    "        aa_weight = seq.count(amino_acid)*mw\n",
    "        mass_list.append(aa_weight)\n",
    "    total_mass.append(sum(mass_list))\n",
    "    \n",
    "\n",
    "print(total_mass)"
   ]
  },
  {
   "cell_type": "code",
   "execution_count": 6,
   "id": "dried-performer",
   "metadata": {},
   "outputs": [
    {
     "data": {
      "text/html": [
       "<div>\n",
       "<style scoped>\n",
       "    .dataframe tbody tr th:only-of-type {\n",
       "        vertical-align: middle;\n",
       "    }\n",
       "\n",
       "    .dataframe tbody tr th {\n",
       "        vertical-align: top;\n",
       "    }\n",
       "\n",
       "    .dataframe thead th {\n",
       "        text-align: right;\n",
       "    }\n",
       "</style>\n",
       "<table border=\"1\" class=\"dataframe\">\n",
       "  <thead>\n",
       "    <tr style=\"text-align: right;\">\n",
       "      <th></th>\n",
       "      <th>Gene</th>\n",
       "      <th>AASeq</th>\n",
       "      <th>Mass</th>\n",
       "    </tr>\n",
       "  </thead>\n",
       "  <tbody>\n",
       "    <tr>\n",
       "      <th>0</th>\n",
       "      <td>RealNiceProtein</td>\n",
       "      <td>MPFMVNNIYVSFCEIKEIVCAGGSTTKYADVLQENNEQGRTVKLQ</td>\n",
       "      <td>5051.75090</td>\n",
       "    </tr>\n",
       "    <tr>\n",
       "      <th>1</th>\n",
       "      <td>EvenCoolerProtein</td>\n",
       "      <td>MIDVVEDAKANALNNVRCNMVGSGLQAAGAIMGLAERESFFQAMEE...</td>\n",
       "      <td>6488.28216</td>\n",
       "    </tr>\n",
       "    <tr>\n",
       "      <th>2</th>\n",
       "      <td>SuperBigProtein</td>\n",
       "      <td>MSVMKVCCFYAPKQRLNSSLQMPQCVLMNDVALIVRQSDEGIIGGF...</td>\n",
       "      <td>12396.57926</td>\n",
       "    </tr>\n",
       "  </tbody>\n",
       "</table>\n",
       "</div>"
      ],
      "text/plain": [
       "                Gene                                              AASeq  \\\n",
       "0    RealNiceProtein      MPFMVNNIYVSFCEIKEIVCAGGSTTKYADVLQENNEQGRTVKLQ   \n",
       "1  EvenCoolerProtein  MIDVVEDAKANALNNVRCNMVGSGLQAAGAIMGLAERESFFQAMEE...   \n",
       "2    SuperBigProtein  MSVMKVCCFYAPKQRLNSSLQMPQCVLMNDVALIVRQSDEGIIGGF...   \n",
       "\n",
       "          Mass  \n",
       "0   5051.75090  \n",
       "1   6488.28216  \n",
       "2  12396.57926  "
      ]
     },
     "execution_count": 6,
     "metadata": {},
     "output_type": "execute_result"
    }
   ],
   "source": [
    "# Append new list to specific location in original dataframe\n",
    "\n",
    "test_df.insert(loc=2, # May have to change location depending on dataframe shape\n",
    "               column='Mass',\n",
    "               value = total_mass\n",
    "              )\n",
    "\n",
    "test_df"
   ]
  },
  {
   "cell_type": "markdown",
   "id": "functional-thesis",
   "metadata": {},
   "source": [
    "# Below cells contain function version of above code"
   ]
  },
  {
   "cell_type": "code",
   "execution_count": 86,
   "id": "thorough-peace",
   "metadata": {},
   "outputs": [],
   "source": [
    "def get_prot_mass(AASeq):\n",
    "    \n",
    "    '''Tabulate approximate total mass of input amino acid string based on the sum of\n",
    "    the average masses for every amino acid in the string.'''\n",
    "    \n",
    "    # Create dict with amino acid sybols as keys and associated average masses as values\n",
    "    # Average masses taken from http://proteomicsresource.washington.edu/protocols06/masses.php\n",
    "    molecular_mass_dict = {\n",
    "    'A':71.0779, \n",
    "    'R':156.18568, \n",
    "    'G':57.05132, \n",
    "    'S':87.0773, \n",
    "    'P':97.11518, \n",
    "    'V':99.13106, \n",
    "    'T':101.10388, \n",
    "    'C':103.1429, \n",
    "    'L':113.15764, \n",
    "    'I':113.15764, \n",
    "    'N':114.10264, \n",
    "    'D':115.0874, \n",
    "    'Q':128.12922, \n",
    "    'K':128.17228, \n",
    "    'E':129.11398, \n",
    "    'M':131.19606, \n",
    "    'H':137.13928, \n",
    "    'F':147.17386, \n",
    "    'U':150.3079, \n",
    "    'Y':163.17326, \n",
    "    'W':186.2099, \n",
    "    'O':237.29816\n",
    "    }\n",
    "    \n",
    "    # Calculate approx mass for amino acid sequence\n",
    "    mass_list = []\n",
    "    \n",
    "    # Capitalize all letters in amino acid string prior to taking mass\n",
    "    AASeq = AASeq.upper()\n",
    "    \n",
    "    # Raise error if amino acid sequence contains characters not in the dict\n",
    "    acceptable_amino_acids_list = list(molecular_mass_dict.keys())\n",
    "\n",
    "    for char in AASeq:\n",
    "        if char not in acceptable_amino_acids_list:\n",
    "            if char == ' ':\n",
    "                continue\n",
    "            else:\n",
    "                raise ValueError('AASeq contains unacceptable characters')\n",
    "    \n",
    "    for amino_acid, mw in molecular_mass_dict.items():\n",
    "        aa_weight = AASeq.count(amino_acid)*mw\n",
    "        mass_list.append(aa_weight)\n",
    "    total_mass = sum(mass_list)\n",
    "    \n",
    "    return total_mass"
   ]
  },
  {
   "cell_type": "markdown",
   "id": "coupled-classic",
   "metadata": {},
   "source": [
    "### Unit Tests"
   ]
  },
  {
   "cell_type": "code",
   "execution_count": 88,
   "id": "southwest-congo",
   "metadata": {},
   "outputs": [
    {
     "ename": "ModuleNotFoundError",
     "evalue": "No module named 'mcalc'",
     "output_type": "error",
     "traceback": [
      "\u001b[0;31m---------------------------------------------------------------------------\u001b[0m",
      "\u001b[0;31mModuleNotFoundError\u001b[0m                       Traceback (most recent call last)",
      "\u001b[0;32m<ipython-input-88-3a90334e6a1b>\u001b[0m in \u001b[0;36m<module>\u001b[0;34m\u001b[0m\n\u001b[1;32m      1\u001b[0m \u001b[0;32mimport\u001b[0m \u001b[0munittest\u001b[0m\u001b[0;34m\u001b[0m\u001b[0;34m\u001b[0m\u001b[0m\n\u001b[1;32m      2\u001b[0m \u001b[0;34m\u001b[0m\u001b[0m\n\u001b[0;32m----> 3\u001b[0;31m \u001b[0;32mfrom\u001b[0m \u001b[0mmcalc\u001b[0m \u001b[0;32mimport\u001b[0m \u001b[0mget_prot_mass\u001b[0m\u001b[0;34m\u001b[0m\u001b[0;34m\u001b[0m\u001b[0m\n\u001b[0m\u001b[1;32m      4\u001b[0m \u001b[0;34m\u001b[0m\u001b[0m\n\u001b[1;32m      5\u001b[0m \u001b[0;32mclass\u001b[0m \u001b[0mMolecularMassTestCase\u001b[0m\u001b[0;34m(\u001b[0m\u001b[0munittest\u001b[0m\u001b[0;34m.\u001b[0m\u001b[0mTestCase\u001b[0m\u001b[0;34m)\u001b[0m\u001b[0;34m:\u001b[0m\u001b[0;34m\u001b[0m\u001b[0;34m\u001b[0m\u001b[0m\n",
      "\u001b[0;31mModuleNotFoundError\u001b[0m: No module named 'mcalc'"
     ]
    }
   ],
   "source": [
    "import unittest\n",
    "\n",
    "from mcalc import get_prot_mass\n",
    "\n",
    "class MolecularMassTestCase(unittest.TestCase):\n",
    "\n",
    "    def test_lower(self):\n",
    "        result_lower = get_prot_mass('mpfmvnniyvsfceikeivcaggsttkyadvlqenneqgrtvklq')\n",
    "        self.assertEqual(results_lower, 5051.7509)\n",
    "        \n",
    "    def test_gaps(self):\n",
    "        result_gaps = get_prot_mass('MPFMVNNIYVSF  CEIKEIV CAGGSTTKYADVLQEN NEQGRTVKLQ')\n",
    "        self.assertEqual(result_gaps, 5051.7509)\n",
    "\n",
    "    def test_numbers(self):\n",
    "        # check that the function fails when fed values other than strings\n",
    "        with self.assertRaises(AttributeError):\n",
    "            get_prot_mass(123)\n",
    "\n",
    "    def test_amino_acids(self):\n",
    "        # check that the function fails when fed values other than strings containing real amino acid symbols\n",
    "        with self.assertRaises(ValueError):\n",
    "            get_prot_mass('MPFMVNNIYVSF528ZZZ')\n",
    "\n",
    "if __name__ == '__main__':\n",
    "    unittest.main()"
   ]
  },
  {
   "cell_type": "code",
   "execution_count": null,
   "id": "improved-testament",
   "metadata": {},
   "outputs": [],
   "source": []
  }
 ],
 "metadata": {
  "kernelspec": {
   "display_name": "Python 3",
   "language": "python",
   "name": "python3"
  },
  "language_info": {
   "codemirror_mode": {
    "name": "ipython",
    "version": 3
   },
   "file_extension": ".py",
   "mimetype": "text/x-python",
   "name": "python",
   "nbconvert_exporter": "python",
   "pygments_lexer": "ipython3",
   "version": "3.8.5"
  }
 },
 "nbformat": 4,
 "nbformat_minor": 5
}
