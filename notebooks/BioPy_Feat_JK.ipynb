{
 "cells": [
  {
   "cell_type": "markdown",
   "id": "separated-domestic",
   "metadata": {},
   "source": [
    "# Biopython Features Function\n",
    "To return data in the correct format to feed into normalization function"
   ]
  },
  {
   "cell_type": "code",
   "execution_count": 10,
   "id": "capable-democrat",
   "metadata": {},
   "outputs": [],
   "source": [
    "import Bio \n",
    "from Bio.SeqUtils.ProtParam import ProteinAnalysis\n",
    "import math"
   ]
  },
  {
   "cell_type": "code",
   "execution_count": 7,
   "id": "proper-order",
   "metadata": {},
   "outputs": [],
   "source": [
    "def get_biopy_feat(sequence):\n",
    "    \"\"\"\n",
    "    Taken-in dataframe with a column specified as 'SEQUENCE' and uses Biopython to \n",
    "    generate additional features from each protein sequence to help better train a machine\n",
    "    learning model to predict log2FC\n",
    "    \"\"\"\n",
    "    ProtA = ProteinAnalysis(sequence)\n",
    "    molwt_biopy = ProtA.molecular_weight()\n",
    "    aromaticity = ProtA.aromaticity()\n",
    "    isoelectric_pt = ProtA.isoelectric_point()\n",
    "\n",
    "    return molwt_biopy, aromaticity, isoelectric_pt"
   ]
  },
  {
   "cell_type": "code",
   "execution_count": 15,
   "id": "demonstrated-tiger",
   "metadata": {},
   "outputs": [],
   "source": [
    "def test_get_biopy_feat():\n",
    "    seq = 'mlpamrtgllcallgvtapawaeyvtvisfggankeaqetafykpfksatgnrvvhgsyngdlaklkrmveishvswdvveveapelargceeglfekldmakvgdpadfvpgavqpcgvgifvwttllaynpgkvagspqgwadfwdvkkfpgkrglrwgakyslefalmadgvapkdvyqtlatpagverafrkldelkpyihwwksgqdpvrdladgtvvmssayngriaaaqaekqrlamvwsggvydfdfwalpvgvwkkqlaeefirfasqpeqqkafaeniaygpanrkavglldpqvaanlptapqnmqnavgmnvafwaehgealeqrfqnwakr'\n",
    "    molwt_biopy, aromaticity, isoelctric_pt = get_biopy_feat(seq)\n",
    "    #print(molwt_biopy)\n",
    "    #print(aromaticity)\n",
    "    #print(isoelctric_pt)\n",
    "    expect_molwt = 37832.81\n",
    "    assert math.isclose(molwt_biopy, expect_molwt, rel_tol=0.05), 'the get_biopy_feat function does not work'\n",
    "    return"
   ]
  },
  {
   "cell_type": "code",
   "execution_count": 16,
   "id": "recorded-pendant",
   "metadata": {},
   "outputs": [
    {
     "name": "stdout",
     "output_type": "stream",
     "text": [
      "37832.813200000026\n",
      "0.11627906976744184\n",
      "6.919601631164551\n"
     ]
    }
   ],
   "source": [
    "test_get_biopy_feat()"
   ]
  },
  {
   "cell_type": "code",
   "execution_count": null,
   "id": "miniature-commercial",
   "metadata": {},
   "outputs": [],
   "source": []
  }
 ],
 "metadata": {
  "kernelspec": {
   "display_name": "Python 3",
   "language": "python",
   "name": "python3"
  },
  "language_info": {
   "codemirror_mode": {
    "name": "ipython",
    "version": 3
   },
   "file_extension": ".py",
   "mimetype": "text/x-python",
   "name": "python",
   "nbconvert_exporter": "python",
   "pygments_lexer": "ipython3",
   "version": "3.8.5"
  }
 },
 "nbformat": 4,
 "nbformat_minor": 5
}
