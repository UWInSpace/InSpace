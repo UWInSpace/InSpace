{
 "cells": [
  {
   "cell_type": "markdown",
   "id": "referenced-showcase",
   "metadata": {},
   "source": [
    "# Unit testing\n",
    "Using nosetests"
   ]
  },
  {
   "cell_type": "markdown",
   "id": "stuck-surge",
   "metadata": {},
   "source": [
    "### `get_seq`"
   ]
  },
  {
   "cell_type": "code",
   "execution_count": 3,
   "id": "improved-optics",
   "metadata": {},
   "outputs": [],
   "source": [
    "def get_seq(email, prot_accession_num):\n",
    "    from Bio import Entrez\n",
    "    from Bio.SeqUtils.ProtParam import ProteinAnalysis\n",
    "    \n",
    "    Entrez.email = email\n",
    "\n",
    "    gis = [prot_accession_num] \n",
    "    request = Entrez.epost(\"protein\",id=\",\".join(map(str,gis)))\n",
    "    result = Entrez.read(request)\n",
    "    webEnv = result[\"WebEnv\"]\n",
    "    queryKey = result[\"QueryKey\"]\n",
    "    handle = Entrez.efetch(db=\"protein\",retmode=\"xml\", webenv=webEnv, query_key=queryKey) \n",
    "\n",
    "    for r in Entrez.parse(handle):\n",
    "        try:\n",
    "            gi=int([x for x in r['GBSeq_other-seqids'] if \"gi\" in x][0].split(\"|\")[1])\n",
    "        except ValueError:\n",
    "            gi=None\n",
    "        #print(r['GBSeq_sequence'])\n",
    "        seq = r['GBSeq_sequence']\n",
    "    return seq"
   ]
  },
  {
   "cell_type": "code",
   "execution_count": 2,
   "id": "dutch-american",
   "metadata": {},
   "outputs": [],
   "source": [
    "def test_get_seq():\n",
    "    seq = get_seq(\"karanjia@uw.edu\", 728886557)\n",
    "    expect = 'mlrsmltasttlnqlqqqidtissnlsnsnttgykakdtnfselvrqqfdqvdekneevakarktppglrlgvgammssrlvsdqgsiqktdrdldiaftspyqylqvnvngnrqytrdgalyvtpsaananqlqlvtgngypvldengntvnidssmknitinkngtltasdgnavqrfnlgvvqvnnpqelksegnnlfsidnaaafeelnganrqnigmqqgslemsnvdiseqmtdlitsqrsyqlnsrtitmgdqmlglinsvr'\n",
    "    assert seq == expect, 'the get_seq function is not working'\n",
    "    return"
   ]
  },
  {
   "cell_type": "code",
   "execution_count": 3,
   "id": "civic-characteristic",
   "metadata": {},
   "outputs": [],
   "source": [
    "test_get_seq()"
   ]
  },
  {
   "cell_type": "markdown",
   "id": "closing-ceremony",
   "metadata": {},
   "source": [
    "### `usr_seq`"
   ]
  },
  {
   "cell_type": "code",
   "execution_count": 1,
   "id": "collect-direction",
   "metadata": {},
   "outputs": [],
   "source": [
    "def usr_seq(user_input, email):\n",
    "    \"\"\"If user input is an integer (EID and not a sequence that would be a string), get the sequence\n",
    "    \"\"\"\n",
    "    t = type(user_input)\n",
    "    if t is int:\n",
    "        user_sequence = get_seq(email, user_input)\n",
    "    else:\n",
    "        user_sequence = user_input\n",
    "    \n",
    "    return user_sequence"
   ]
  },
  {
   "cell_type": "code",
   "execution_count": 13,
   "id": "proprietary-section",
   "metadata": {},
   "outputs": [],
   "source": [
    "def test_usr_seq():\n",
    "    # Case 1: input is EID\n",
    "    email = 'jaking11@uw.edu'\n",
    "    usr_in = 15599626\n",
    "    result = usr_seq(usr_in, email)\n",
    "    assert result == 'mnkfmawvdarfpatkmwedhlskyyapknfnfwyffgslallvlvnqiltgiwltmsftpsaeeafasveyimrdvdygwiirymhstgasaffivvylhmfrgllygsyqkprelvwifgmliylalmaeafmgyllpwgqmsywgaqviislfgaipvvgedlaqwirgdflisgitlnrffalhvialpivllglvvlhilalhevgsnnpdgvdikkkkdengvpldgiafhpyytvkdivgvvvflfifctvifffpemggyflekpnfemanqfktpehiapvwyftpfyailravpdklmgvvamgaaiavlfvlpwldrspvrsirykgwlsklwlvifavsfvilgyygaqapsplgttlsrvctvlyfaffilmpfytrmektkpvpervtg', 'the usr_seq function does not work'\n",
    "    return"
   ]
  },
  {
   "cell_type": "code",
   "execution_count": 14,
   "id": "global-shelf",
   "metadata": {},
   "outputs": [],
   "source": [
    "test_usr_seq()"
   ]
  },
  {
   "cell_type": "markdown",
   "id": "necessary-surveillance",
   "metadata": {},
   "source": [
    "### `get_prot_mass`"
   ]
  },
  {
   "cell_type": "code",
   "execution_count": 13,
   "id": "widespread-lucas",
   "metadata": {},
   "outputs": [],
   "source": [
    "def get_prot_mass(AASeq):\n",
    "    \n",
    "    '''Tabulate approximate total mass of input amino acid string based on the sum of\n",
    "    the average masses for every amino acid in the string.'''\n",
    "    \n",
    "    # Create dict with amino acid sybols as keys and associated average masses as values\n",
    "    # Average masses taken from http://proteomicsresource.washington.edu/protocols06/masses.php\n",
    "    molecular_mass_dict = {\n",
    "    'A':71.0779, \n",
    "    'R':156.18568, \n",
    "    'G':57.05132, \n",
    "    'S':87.0773, \n",
    "    'P':97.11518, \n",
    "    'V':99.13106, \n",
    "    'T':101.10388, \n",
    "    'C':103.1429, \n",
    "    'L':113.15764, \n",
    "    'I':113.15764, \n",
    "    'N':114.10264, \n",
    "    'D':115.0874, \n",
    "    'Q':128.12922, \n",
    "    'K':128.17228, \n",
    "    'E':129.11398, \n",
    "    'M':131.19606, \n",
    "    'H':137.13928, \n",
    "    'F':147.17386, \n",
    "    'U':150.3079, \n",
    "    'Y':163.17326, \n",
    "    'W':186.2099, \n",
    "    'O':237.29816\n",
    "    }\n",
    "    \n",
    "    # Calculate approx mass for amino acid sequence\n",
    "    mass_list = []\n",
    "    \n",
    "    # Capitalize all letters in amino acid string prior to taking mass\n",
    "    AASeq = AASeq.upper()\n",
    "    \n",
    "    # Raise error if amino acid sequence contains characters not in the dict\n",
    "    acceptable_amino_acids_list = list(molecular_mass_dict.keys())\n",
    "\n",
    "    for char in AASeq:\n",
    "        if char not in acceptable_amino_acids_list:\n",
    "            if char == ' ':\n",
    "                continue\n",
    "            else:\n",
    "                raise ValueError('AASeq contains unacceptable characters')\n",
    "    \n",
    "    for amino_acid, mw in molecular_mass_dict.items():\n",
    "        aa_weight = AASeq.count(amino_acid)*mw\n",
    "        mass_list.append(aa_weight)\n",
    "    total_mass = sum(mass_list)\n",
    "    total_mass = round(total_mass, 2)\n",
    "    \n",
    "    return total_mass"
   ]
  },
  {
   "cell_type": "code",
   "execution_count": 37,
   "id": "expected-found",
   "metadata": {},
   "outputs": [],
   "source": [
    "def test_get_prot_mass():\n",
    "    import math\n",
    "    seq = 'TACO'\n",
    "    result = get_prot_mass(seq)\n",
    "    expect = 512.62\n",
    "    assert math.isclose(result, expect), 'the get_prot_mass function does not work'\n",
    "    return"
   ]
  },
  {
   "cell_type": "code",
   "execution_count": 38,
   "id": "white-shirt",
   "metadata": {},
   "outputs": [],
   "source": [
    "test_get_prot_mass()"
   ]
  },
  {
   "cell_type": "markdown",
   "id": "formal-prairie",
   "metadata": {},
   "source": [
    "### `get_biopy_feat`"
   ]
  },
  {
   "cell_type": "code",
   "execution_count": 26,
   "id": "developmental-armor",
   "metadata": {},
   "outputs": [],
   "source": [
    "def get_biopy_feat(sequence):\n",
    "    \"\"\"\n",
    "    Taken-in dataframe with a column specified as 'SEQUENCE' and uses Biopython to \n",
    "    generate additional features from each protein sequence to help better train a machine\n",
    "    learning model to predict log2FC\n",
    "    \"\"\"\n",
    "    from Bio.SeqUtils.ProtParam import ProteinAnalysis\n",
    "    ProtA = ProteinAnalysis(sequence)\n",
    "    molwt_biopy = ProtA.molecular_weight()\n",
    "    aromaticity = ProtA.aromaticity()\n",
    "    isoelectric_pt = ProtA.isoelectric_point()\n",
    "\n",
    "    return molwt_biopy, aromaticity, isoelectric_pt"
   ]
  },
  {
   "cell_type": "code",
   "execution_count": 35,
   "id": "excited-priest",
   "metadata": {},
   "outputs": [],
   "source": [
    "def test_get_biopy_feat():\n",
    "    import math\n",
    "    seq = 'TACO'\n",
    "    molwt_biopy, aromaticity, isoelectric_pt = get_biopy_feat(seq)\n",
    "    expect = 530.6381\n",
    "    assert math.isclose(molwt_biopy, expect), 'the get_biopy_feat function does not work'\n",
    "    return"
   ]
  },
  {
   "cell_type": "code",
   "execution_count": 36,
   "id": "mighty-cornwall",
   "metadata": {},
   "outputs": [],
   "source": [
    "test_get_biopy_feat()"
   ]
  },
  {
   "cell_type": "markdown",
   "id": "statistical-flush",
   "metadata": {},
   "source": [
    "### `count_aa_types`"
   ]
  },
  {
   "cell_type": "code",
   "execution_count": 31,
   "id": "hawaiian-emergency",
   "metadata": {},
   "outputs": [],
   "source": [
    "def count_aa_types(sequence):\n",
    "    '''here, sequence is an element in a list, not a list itself\n",
    "    Function takes the sequence, counts how many times amino acids occur per each of 4 \n",
    "    groups and returns values as percentages of the total amino acides in the sequence'''\n",
    "    l = len(sequence)\n",
    "    \n",
    "    ninja = {\n",
    "        'nonpolar': ['G', 'g', 'A', 'a', 'V', 'v', 'C', 'c', 'P', 'p', 'L', 'l', 'I', 'i', 'M', 'm', 'W', 'w', 'F', 'f'],\n",
    "        'positive': ['K', 'k', 'R', 'r', 'H', 'h'],\n",
    "        'polar': ['S', 's', 'T', 't', 'Y', 'y', 'N', 'n', 'Q', 'q'],\n",
    "        'negative': ['D', 'd', 'E', 'e']\n",
    "    }\n",
    "    \n",
    "    # Initiate lists for counts\n",
    "    nonpolar_l = []\n",
    "    positive_l = []\n",
    "    polar_l = []\n",
    "    negative_l = []\n",
    "    \n",
    "    for i in range(l):\n",
    "        aa = sequence[i]\n",
    "        if aa in ninja['nonpolar']:\n",
    "            nonpolar_l.append(1)\n",
    "        elif aa in ninja['positive']:\n",
    "            positive_l.append(1)\n",
    "        elif aa in ninja['polar']:\n",
    "            polar_l.append(1)\n",
    "        else:\n",
    "            negative_l.append(1)\n",
    "            \n",
    "    # Sum the lists to return\n",
    "    nonpolar_c = sum(nonpolar_l)\n",
    "    positive_c = sum(positive_l)\n",
    "    polar_c = sum(polar_l)\n",
    "    negative_c = sum(negative_l)\n",
    "    \n",
    "    # Percentage calculation to return\n",
    "    nonpolar = nonpolar_c / l *100\n",
    "    nonpolar = round(nonpolar, 2)\n",
    "    positive = positive_c / l *100\n",
    "    positive = round(positive, 2)\n",
    "    polar = polar_c / l *100\n",
    "    polar = round(polar, 2)\n",
    "    negative = negative_c / l *100\n",
    "    negative = round(negative, 2)\n",
    "    \n",
    "    return nonpolar, positive, polar, negative"
   ]
  },
  {
   "cell_type": "code",
   "execution_count": 65,
   "id": "dried-arthur",
   "metadata": {},
   "outputs": [],
   "source": [
    "def test_count_aa_types():\n",
    "    import math\n",
    "    seq = 'TACO'\n",
    "    nonpolar, positive, polar, negative = count_aa_types(seq)\n",
    "    expect = 25.0\n",
    "    assert math.isclose(polar, expect), 'the count_aa_types function does not work'\n",
    "    return"
   ]
  },
  {
   "cell_type": "code",
   "execution_count": 34,
   "id": "moving-creator",
   "metadata": {},
   "outputs": [],
   "source": [
    "test_count_aa_types()"
   ]
  },
  {
   "cell_type": "markdown",
   "id": "distinguished-privacy",
   "metadata": {},
   "source": [
    "### `get_feat`"
   ]
  },
  {
   "cell_type": "code",
   "execution_count": 40,
   "id": "technical-hughes",
   "metadata": {},
   "outputs": [],
   "source": [
    "def get_feat(user_sequence):\n",
    "    \"\"\"\n",
    "    This function takes the sequence that the user is querying and returns a dataframe appended \n",
    "    with all of the features used in the predictive model\n",
    "    \"\"\"\n",
    "    import pandas as pd\n",
    "    mass = get_prot_mass(user_sequence)\n",
    "    \n",
    "    molwt_biopy, aromaticity, isoelectric_pt = get_biopy_feat(user_sequence)\n",
    "    \n",
    "    nonpolar, positive, polar, negative = count_aa_types(user_sequence)\n",
    "    \n",
    "    # Make the features into a Pandas DataFrame\n",
    "    column_names = ['AA_NP', 'AA_POS', 'AA_POL', 'AA_NEG', 'MW', 'AROM', 'ISO_E']   \n",
    "    feat_list = [nonpolar, positive, polar, negative, mass, aromaticity, isoelectric_pt]\n",
    "    feat_df = pd.DataFrame([feat_list], columns=column_names)\n",
    "    \n",
    "    return feat_df"
   ]
  },
  {
   "cell_type": "code",
   "execution_count": 66,
   "id": "indonesian-festival",
   "metadata": {},
   "outputs": [],
   "source": [
    "def test_get_feat():\n",
    "    import math\n",
    "    seq = 'TACO'\n",
    "    df = get_feat(seq)\n",
    "    result = df['MW']\n",
    "    expect = 512.62\n",
    "    assert math.isclose(result, expect), 'the get_feat function is not working'\n",
    "    return"
   ]
  },
  {
   "cell_type": "code",
   "execution_count": 44,
   "id": "strong-guarantee",
   "metadata": {},
   "outputs": [],
   "source": [
    "test_get_feat()"
   ]
  },
  {
   "cell_type": "markdown",
   "id": "saved-greene",
   "metadata": {},
   "source": [
    "### `scale_input_feat`"
   ]
  },
  {
   "cell_type": "code",
   "execution_count": 49,
   "id": "occupational-server",
   "metadata": {},
   "outputs": [],
   "source": [
    "def scale_input_feat(X):\n",
    "    '''\n",
    "    The function takes in X (our input features), and rescale based on min-max normalization\n",
    "    it returns the normalized X\n",
    "    '''\n",
    "    import pandas as pd\n",
    "    from sklearn import preprocessing\n",
    "    #returns a numpy array for X (needed to use the min_max_scaler)\n",
    "    X_arr = X.values \n",
    "\n",
    "    X_col_names = list(X.columns.values.tolist()) #get column names to then put back into X_norm\n",
    "\n",
    "    #min-max normalization (rescaling) of input features\n",
    "    min_max_scaler = preprocessing.MinMaxScaler()\n",
    "    X_scaled = min_max_scaler.fit_transform(X_arr)\n",
    "    X_norm= pd.DataFrame(X_scaled)\n",
    "\n",
    "    #put back the original column names\n",
    "    X_norm.columns = X_col_names\n",
    "    \n",
    "    return X_norm"
   ]
  },
  {
   "cell_type": "code",
   "execution_count": 67,
   "id": "unavailable-egyptian",
   "metadata": {},
   "outputs": [],
   "source": [
    "def test_scale_input_feat():\n",
    "    import math\n",
    "    import numpy as np\n",
    "    import pandas as pd\n",
    "\n",
    "    arr = np.array([[1, 2], [2, 3], [3, 1]])\n",
    "    df = pd.DataFrame(arr)\n",
    "    df_norm = scale_input_feat(df)    \n",
    "    result = df_norm[0].max()\n",
    "    expect = 1.0\n",
    "    assert math.isclose(result, expect), 'the scale_input_feat function is not working'\n",
    "    return"
   ]
  },
  {
   "cell_type": "code",
   "execution_count": 52,
   "id": "improved-archive",
   "metadata": {},
   "outputs": [],
   "source": [
    "test_scale_input_feat()"
   ]
  },
  {
   "cell_type": "markdown",
   "id": "noticed-birthday",
   "metadata": {},
   "source": [
    "### `bagging_regr`"
   ]
  },
  {
   "cell_type": "code",
   "execution_count": 56,
   "id": "improving-growing",
   "metadata": {},
   "outputs": [],
   "source": [
    "def bagging_regr(X_user):\n",
    "    '''\n",
    "    the function takes in the master csv and user input\n",
    "    csv_file should be inputted as a string = 'compiled_features_complete.csv'\n",
    "    test ratio, random state and n_estimator are set (from previous ML optimization)\n",
    "    returning the predicted output based on user input\n",
    "    '''\n",
    "    import pandas as pd\n",
    "    from sklearn import preprocessing\n",
    "    \n",
    "    from sklearn.model_selection import train_test_split\n",
    "    from sklearn.metrics import mean_squared_error, r2_score\n",
    "    from sklearn.ensemble import BaggingRegressor\n",
    "    from sklearn.tree import DecisionTreeRegressor\n",
    "    # Open and load dataset\n",
    "    bacterial_csv = pd.read_csv('UWInSpace_ModelData.csv')\n",
    "    df = pd.DataFrame(data=bacterial_csv)\n",
    "    \n",
    "    #assign input (X) /output (y) features\n",
    "    X= df[['AA_NP','AA_POS', 'AA_POL','AA_NEG', 'MW', 'AROM', 'ISO_E']]\n",
    "    y= df['LOG2FC']\n",
    "    \n",
    "    #Scale input features\n",
    "    X_arr = X.values #returns a numpy array for X (needed to use the min_max_scaler)\n",
    "\n",
    "    X_col_names = list(X.columns.values.tolist()) #get column names to then put back into X_norm\n",
    "\n",
    "    #min-max normalization (rescaling) of input features\n",
    "    min_max_scaler = preprocessing.MinMaxScaler()\n",
    "    X_scaled = min_max_scaler.fit_transform(X_arr)\n",
    "    X_norm= pd.DataFrame(X_scaled)\n",
    "\n",
    "    #put back the original column names\n",
    "    X_norm.columns = X_col_names\n",
    "    \n",
    "  \n",
    "    #set Bagging regressor parameters, from ML training: \n",
    "    test_ratio = 0.30\n",
    "    seed_random = 42\n",
    "    n_estim= 20\n",
    "    \n",
    "    X_train, X_test, y_train, y_test = train_test_split(X_norm, y, test_size=test_ratio, random_state=seed_random, shuffle=True)\n",
    "    #Model is Bagging Regressor, base estimator is Decision Tree regressor\n",
    "    model = BaggingRegressor(base_estimator=DecisionTreeRegressor(),n_estimators=n_estim, random_state=seed_random)\n",
    "    model.fit(X_train, y_train)\n",
    "    #y_testpredict = model.predict(X_test)\n",
    "       \n",
    "      \n",
    "    user_predict = model.predict(X_user)\n",
    "    \n",
    "    return user_predict"
   ]
  },
  {
   "cell_type": "code",
   "execution_count": 62,
   "id": "piano-stations",
   "metadata": {},
   "outputs": [],
   "source": [
    "def test_bagging_regr():\n",
    "    import math\n",
    "    import numpy as np\n",
    "    import pandas as pd\n",
    "    from sklearn import preprocessing\n",
    "    from sklearn.model_selection import train_test_split\n",
    "    from sklearn.metrics import mean_squared_error, r2_score\n",
    "    from sklearn.ensemble import BaggingRegressor\n",
    "    from sklearn.tree import DecisionTreeRegressor\n",
    "\n",
    "    arr = np.array([[1, 0], [0.5, 0.5], [0.5, 1]])\n",
    "    df = pd.DataFrame(arr)\n",
    "    predict = scale_input_feat(df)    \n",
    "    result = df_norm[0].max()\n",
    "    expect = 1.0\n",
    "    assert math.isclose(result, expect), 'the scale_input_feat function is not working'\n",
    "    return"
   ]
  },
  {
   "cell_type": "code",
   "execution_count": null,
   "id": "wicked-campbell",
   "metadata": {},
   "outputs": [],
   "source": []
  },
  {
   "cell_type": "markdown",
   "id": "younger-webmaster",
   "metadata": {},
   "source": [
    "### `predict_log2fc`"
   ]
  },
  {
   "cell_type": "code",
   "execution_count": 53,
   "id": "martial-fancy",
   "metadata": {},
   "outputs": [],
   "source": [
    "def predict_log2fc(user_input, email):\n",
    "    \"\"\"\n",
    "    This function takes the user input of either a protein accesion number or \n",
    "    an amino acid sequence and predicts how much the sequence will change after \n",
    "    being in space (near-zero gravity and increased radiation exposure)\n",
    "    \"\"\"\n",
    "    import Bio\n",
    "    from Bio import Entrez\n",
    "    from Bio.SeqUtils.ProtParam import ProteinAnalysis\n",
    "    import math\n",
    "    import pandas as pd\n",
    "    import numpy as np\n",
    "    import matplotlib.pyplot as plt   \n",
    "\n",
    "    # Import Scikit-Learn library for the regression model\n",
    "    import sklearn   \n",
    "    from sklearn import preprocessing #sklearn for normalization function\n",
    "    from sklearn.model_selection import train_test_split\n",
    "    from sklearn.metrics import mean_squared_error, r2_score\n",
    "    #for Bagging regressor\n",
    "    from sklearn.ensemble import BaggingRegressor\n",
    "    from sklearn.tree import DecisionTreeRegressor\n",
    "    \n",
    "    # Get user sequence\n",
    "    user_sequence = usr_seq(user_input, email)\n",
    "    \n",
    "    # Get features\n",
    "    user_features_df = get_feat(user_sequence)\n",
    "    \n",
    "    # Predict log2fc\n",
    "    prediction = bagging_regr(user_features_df)\n",
    "    prediction = prediction[0]\n",
    "    prediction = round(prediction, 4)\n",
    "    \n",
    "    user_features_df['LOG2FC'] = [prediction]\n",
    "    \n",
    "    print('The predicted log2fc is ', prediction)\n",
    "    \n",
    "    return prediction, user_features_df"
   ]
  },
  {
   "cell_type": "code",
   "execution_count": 61,
   "id": "pursuant-xerox",
   "metadata": {},
   "outputs": [],
   "source": [
    "def test_predict_log2fc():\n",
    "    import math\n",
    "    user_input = 15600267\n",
    "    email = 'jaking11@uw.edu'\n",
    "    prediction, user_features_df = predict_log2fc(user_input, email)\n",
    "    expect = 0.168\n",
    "    assert math.isclose(prediction, expect), 'the predict_log2fc function does not work'\n",
    "    return"
   ]
  },
  {
   "cell_type": "code",
   "execution_count": 60,
   "id": "selected-asbestos",
   "metadata": {},
   "outputs": [
    {
     "name": "stdout",
     "output_type": "stream",
     "text": [
      "The predicted log2fc is  0.168\n"
     ]
    }
   ],
   "source": [
    "test_predict_log2fc()"
   ]
  },
  {
   "cell_type": "markdown",
   "id": "taken-adelaide",
   "metadata": {},
   "source": [
    "### `cluster_visuals`"
   ]
  },
  {
   "cell_type": "code",
   "execution_count": null,
   "id": "civil-korean",
   "metadata": {},
   "outputs": [],
   "source": [
    "def cluster_visuals(user_df, user_genecluster):\n",
    "    import pandas as pd\n",
    "    import seaborn as sns\n",
    "    from matplotlib import pyplot as plt\n",
    "\n",
    "    # set seaborn as default plotting language\n",
    "    sns.set()\n",
    "\n",
    "    # function definition\n",
    "    # NASA_data is the \"compiled features complete CSV\", maybe need to change to final version of this\n",
    "\n",
    "    UD = user_df\n",
    "    NASA_data = pd.read_csv('UWInSpace_ModelData.csv')\n",
    "    \n",
    "    ND_ABC = NASA_data[NASA_data['GENENAME'] == 'ABC_transporter']\n",
    "    ND_CYT = NASA_data[NASA_data['GENENAME'] == 'cytochrome']\n",
    "    ND_DNA = NASA_data[NASA_data['GENENAME'] == 'DNA_polymerase']\n",
    "    ND_EFF = NASA_data[NASA_data['GENENAME'] == 'efflux_transporter']\n",
    "    ND_ELE = NASA_data[NASA_data['GENENAME'] == 'electron_transfer']\n",
    "    ND_FLA = NASA_data[NASA_data['GENENAME'] == 'flagellar_motility']\n",
    "    ND_NAD = NASA_data[NASA_data['GENENAME'] == 'NADH_NADPH']\n",
    "    ND_RNA = NASA_data[NASA_data['GENENAME'] == 'RNA_polymerase']\n",
    "    \n",
    "    fig, axes = plt.subplots(1, 7, figsize= (15, 5), sharey=True)\n",
    "    fig.suptitle('Comparison of features per user-specified gene cluster')\n",
    "    \n",
    "    if user_genecluster == 'ABC_transporter':\n",
    "        ND = ND_ABC\n",
    "    elif user_genecluster == 'cytochrome':\n",
    "        ND = ND_CYT\n",
    "    elif user_genecluster == 'DNA_polymerase':\n",
    "        ND = ND_DNA\n",
    "    elif user_genecluster == 'efflux_transporter':\n",
    "        ND = ND_EFF\n",
    "    elif user_genecluster == 'electron_transfer':\n",
    "        ND = ND_ELE\n",
    "    elif user_genecluster == 'flagellar_motility':\n",
    "        ND = ND_FLA\n",
    "    elif user_genecluster == 'NADH_NADPH':\n",
    "        ND = ND_NAD\n",
    "    elif user_genecluster == 'RNA_polymerase':\n",
    "        ND = ND_RNA\n",
    "    else: \n",
    "        print('Please check your user-defined gene cluster and ensure that it matches the possible 8 categories')\n",
    "    \n",
    "    # user protein df\n",
    "    p0a = sns.scatterplot(ax=axes[0], data=UD, x='AA_NP', y='LOG2FC', hue='LOG2FC', palette=['red'], legend=False)\n",
    "    p1a = sns.scatterplot(ax=axes[1], data=UD, x='AA_POL', y='LOG2FC', hue='LOG2FC', palette=['red'], legend=False)\n",
    "    p2a = sns.scatterplot(ax=axes[2], data=UD, x='AA_POS', y='LOG2FC', hue='LOG2FC', palette=['red'], legend=False)\n",
    "    p3a = sns.scatterplot(ax=axes[3], data=UD, x='AA_NEG', y='LOG2FC', hue='LOG2FC', palette=['red'], legend=False)\n",
    "    p4a = sns.scatterplot(ax=axes[4], data=UD, x='MW', y='LOG2FC', hue='LOG2FC', palette=['red'], legend=False)\n",
    "    p5a = sns.scatterplot(ax=axes[5], data=UD, x='AROM', y='LOG2FC', hue='LOG2FC', palette=['red'], legend=False)\n",
    "    p6a = sns.scatterplot(ax=axes[6], data=UD, x='ISO_E', y='LOG2FC', hue='LOG2FC', palette=['red'])\n",
    "    \n",
    "    p0 = sns.scatterplot(ax=axes[0], data=ND, x='AA_NP', y='LOG2FC', hue='ORG', legend=False)\n",
    "    p1 = sns.scatterplot(ax=axes[1], data=ND, x='AA_POL', y='LOG2FC', hue='ORG', legend=False)\n",
    "    p2 = sns.scatterplot(ax=axes[2], data=ND, x='AA_POS', y='LOG2FC', hue='ORG', legend=False)\n",
    "    p3 = sns.scatterplot(ax=axes[3], data=ND, x='AA_NEG', y='LOG2FC', hue='ORG', legend=False)\n",
    "    p4 = sns.scatterplot(ax=axes[4], data=ND, x='MW', y='LOG2FC', hue='ORG', legend=False)\n",
    "    p5 = sns.scatterplot(ax=axes[5], data=ND, x='AROM', y='LOG2FC', hue='ORG', legend=False)\n",
    "    p6 = sns.scatterplot(ax=axes[6], data=ND, x='ISO_E', y='LOG2FC', hue='ORG')\n",
    "    \n",
    "    return"
   ]
  },
  {
   "cell_type": "code",
   "execution_count": null,
   "id": "ranging-decline",
   "metadata": {},
   "outputs": [],
   "source": []
  }
 ],
 "metadata": {
  "kernelspec": {
   "display_name": "Python 3",
   "language": "python",
   "name": "python3"
  },
  "language_info": {
   "codemirror_mode": {
    "name": "ipython",
    "version": 3
   },
   "file_extension": ".py",
   "mimetype": "text/x-python",
   "name": "python",
   "nbconvert_exporter": "python",
   "pygments_lexer": "ipython3",
   "version": "3.8.5"
  }
 },
 "nbformat": 4,
 "nbformat_minor": 5
}
