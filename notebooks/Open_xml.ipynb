{
 "cells": [
  {
   "cell_type": "markdown",
   "id": "functional-alignment",
   "metadata": {},
   "source": [
    "# Opening the .xml's"
   ]
  },
  {
   "cell_type": "code",
   "execution_count": 1,
   "id": "identical-sleeve",
   "metadata": {},
   "outputs": [],
   "source": [
    "import math\n",
    "import os\n",
    "import requests\n",
    "\n",
    "from Bio.Blast import NCBIWWW\n",
    "from Bio.Blast import NCBIXML\n",
    "import numpy as np\n",
    "import pandas as pd"
   ]
  },
  {
   "cell_type": "markdown",
   "id": "determined-insulation",
   "metadata": {},
   "source": [
    "## Open the .xml's in the same directory as this notebook"
   ]
  },
  {
   "cell_type": "code",
   "execution_count": 21,
   "id": "illegal-newcastle",
   "metadata": {},
   "outputs": [],
   "source": [
    "# Open and read the .xml from the BLAST\n",
    "result_handle = open('dna001_1.xml')\n",
    "blast_record = NCBIXML.read(result_handle)"
   ]
  },
  {
   "cell_type": "code",
   "execution_count": 19,
   "id": "hollow-hampshire",
   "metadata": {
    "scrolled": true
   },
   "outputs": [
    {
     "ename": "IndexError",
     "evalue": "string index out of range",
     "output_type": "error",
     "traceback": [
      "\u001b[0;31m---------------------------------------------------------------------------\u001b[0m",
      "\u001b[0;31mIndexError\u001b[0m                                Traceback (most recent call last)",
      "\u001b[0;32m<ipython-input-19-527a289ea045>\u001b[0m in \u001b[0;36m<module>\u001b[0;34m\u001b[0m\n\u001b[1;32m     26\u001b[0m \u001b[0mnormalized_scores\u001b[0m \u001b[0;34m=\u001b[0m \u001b[0;34m[\u001b[0m\u001b[0;34m]\u001b[0m\u001b[0;34m\u001b[0m\u001b[0;34m\u001b[0m\u001b[0m\n\u001b[1;32m     27\u001b[0m \u001b[0;32mfor\u001b[0m \u001b[0mi\u001b[0m \u001b[0;32min\u001b[0m \u001b[0mrange\u001b[0m\u001b[0;34m(\u001b[0m\u001b[0mlen\u001b[0m\u001b[0;34m(\u001b[0m\u001b[0mpdb_hits_array\u001b[0m\u001b[0;34m)\u001b[0m\u001b[0;34m)\u001b[0m\u001b[0;34m:\u001b[0m\u001b[0;34m\u001b[0m\u001b[0;34m\u001b[0m\u001b[0m\n\u001b[0;32m---> 28\u001b[0;31m     \u001b[0mnormalized_scores\u001b[0m\u001b[0;34m[\u001b[0m\u001b[0mi\u001b[0m\u001b[0;34m]\u001b[0m \u001b[0;34m=\u001b[0m \u001b[0mpdb_hits_array\u001b[0m\u001b[0;34m[\u001b[0m\u001b[0mi\u001b[0m\u001b[0;34m]\u001b[0m\u001b[0;34m[\u001b[0m\u001b[0;36m2\u001b[0m\u001b[0;34m]\u001b[0m \u001b[0;34m/\u001b[0m \u001b[0mpdb_hits_array\u001b[0m\u001b[0;34m[\u001b[0m\u001b[0;36m0\u001b[0m\u001b[0;34m]\u001b[0m\u001b[0;34m[\u001b[0m\u001b[0;36m2\u001b[0m\u001b[0;34m]\u001b[0m \u001b[0;34m*\u001b[0m \u001b[0;36m100\u001b[0m\u001b[0;34m\u001b[0m\u001b[0;34m\u001b[0m\u001b[0m\n\u001b[0m\u001b[1;32m     29\u001b[0m \u001b[0;34m\u001b[0m\u001b[0m\n\u001b[1;32m     30\u001b[0m \u001b[0mpdb_hits_array\u001b[0m\u001b[0;34m.\u001b[0m\u001b[0mappend\u001b[0m\u001b[0;34m(\u001b[0m\u001b[0mnormalized_scores\u001b[0m\u001b[0;34m,\u001b[0m \u001b[0maxis\u001b[0m\u001b[0;34m=\u001b[0m\u001b[0;36m1\u001b[0m\u001b[0;34m)\u001b[0m\u001b[0;34m\u001b[0m\u001b[0;34m\u001b[0m\u001b[0m\n",
      "\u001b[0;31mIndexError\u001b[0m: string index out of range"
     ]
    }
   ],
   "source": [
    "# Use Numpy array to store data\n",
    "# Initiate array\n",
    "pdb_hits_array = [['string0', 0, 0]]\n",
    "\n",
    "# Leave out the normalized score!!  Hard to iterate through when not iterating integers\n",
    "\n",
    "# Add alginment data to hits_array\n",
    "E_VALUE_THRESH = 0.0000000000000000000000000000000000000000000000004\n",
    "for alignment in blast_record.alignments:\n",
    "    for hsp in alignment.hsps:\n",
    "        if hsp.expect < E_VALUE_THRESH:\n",
    "            alignment_data = ['string0', 'string1', 'string2']\n",
    "            alignment_data[0] = alignment.title\n",
    "            alignment_data[1] = hsp.expect\n",
    "            alignment_data[2] = hsp.score\n",
    "            #make expect and score floats from strings\n",
    "            alignment_data[1] = float(alignment_data[1])\n",
    "            alignment_data[2] = float(alignment_data[2])\n",
    "            #append the alignment data to the database hits array\n",
    "            pdb_hits_array.append(alignment_data)\n",
    "\n",
    "# Make the hits array a NumPy array\n",
    "pdb_hits_array = np.array(pdb_hits_array)\n",
    "            \n",
    "# Delete the first rosws (of zeros) and \n",
    "pdb_hits_array = np.arrpdb_hits_array.remove([1])\n",
    "\n",
    "# Make forth column that normalized the scores\n",
    "normalized_scores = []\n",
    "for i in range(len(pdb_hits_array)):\n",
    "    normalized_scores[i] = pdb_hits_array[i][2] / pdb_hits_array[0][2] * 100\n",
    "\n",
    "pdb_hits_array.append(normalized_scores, axis=1)            \n",
    "\n",
    "# Convert NumPy ndarray to Pandas DataFrame\n",
    "pdb_hits_0 = pd.DataFrame(pdb_hits_array, columns=column_names)\n",
    "\n",
    "# Convert Pandas DataFrame to .csv\n",
    "pdb_hits_0.to_csv('dna001_1.csv')"
   ]
  },
  {
   "cell_type": "code",
   "execution_count": 35,
   "id": "pressed-heath",
   "metadata": {},
   "outputs": [
    {
     "data": {
      "text/plain": [
       "array(['0', '0'], dtype='<U7')"
      ]
     },
     "execution_count": 35,
     "metadata": {},
     "output_type": "execute_result"
    }
   ],
   "source": [
    "pdb_hits_array"
   ]
  },
  {
   "cell_type": "code",
   "execution_count": 38,
   "id": "corresponding-civilian",
   "metadata": {},
   "outputs": [
    {
     "name": "stdout",
     "output_type": "stream",
     "text": [
      "['string0' 'string1' 'string2']\n",
      "['string0' '1' '2']\n",
      "['string0' '1.0' '2.0']\n",
      "<class 'numpy.str_'>\n"
     ]
    },
    {
     "ename": "TypeError",
     "evalue": "unsupported operand type(s) for /: 'numpy.str_' and 'float'",
     "output_type": "error",
     "traceback": [
      "\u001b[0;31m---------------------------------------------------------------------------\u001b[0m",
      "\u001b[0;31mTypeError\u001b[0m                                 Traceback (most recent call last)",
      "\u001b[0;32m<ipython-input-38-e12186d11d35>\u001b[0m in \u001b[0;36m<module>\u001b[0;34m\u001b[0m\n\u001b[1;32m     14\u001b[0m \u001b[0mprint\u001b[0m\u001b[0;34m(\u001b[0m\u001b[0mtype\u001b[0m\u001b[0;34m(\u001b[0m\u001b[0mlist\u001b[0m\u001b[0;34m[\u001b[0m\u001b[0;36m1\u001b[0m\u001b[0;34m]\u001b[0m\u001b[0;34m)\u001b[0m\u001b[0;34m)\u001b[0m\u001b[0;34m\u001b[0m\u001b[0;34m\u001b[0m\u001b[0m\n\u001b[1;32m     15\u001b[0m \u001b[0;34m\u001b[0m\u001b[0m\n\u001b[0;32m---> 16\u001b[0;31m \u001b[0mlist\u001b[0m\u001b[0;34m[\u001b[0m\u001b[0;36m1\u001b[0m\u001b[0;34m]\u001b[0m \u001b[0;34m=\u001b[0m \u001b[0mlist\u001b[0m\u001b[0;34m[\u001b[0m\u001b[0;36m1\u001b[0m\u001b[0;34m]\u001b[0m \u001b[0;34m/\u001b[0m \u001b[0;36m0.5\u001b[0m\u001b[0;34m\u001b[0m\u001b[0;34m\u001b[0m\u001b[0m\n\u001b[0m\u001b[1;32m     17\u001b[0m \u001b[0mlist\u001b[0m\u001b[0;34m[\u001b[0m\u001b[0;36m2\u001b[0m\u001b[0;34m]\u001b[0m \u001b[0;34m=\u001b[0m \u001b[0mlist\u001b[0m\u001b[0;34m[\u001b[0m\u001b[0;36m2\u001b[0m\u001b[0;34m]\u001b[0m \u001b[0;34m*\u001b[0m \u001b[0;36m4\u001b[0m\u001b[0;34m\u001b[0m\u001b[0;34m\u001b[0m\u001b[0m\n\u001b[1;32m     18\u001b[0m \u001b[0mprint\u001b[0m\u001b[0;34m(\u001b[0m\u001b[0mlist\u001b[0m\u001b[0;34m)\u001b[0m\u001b[0;34m\u001b[0m\u001b[0;34m\u001b[0m\u001b[0m\n",
      "\u001b[0;31mTypeError\u001b[0m: unsupported operand type(s) for /: 'numpy.str_' and 'float'"
     ]
    }
   ],
   "source": [
    "list0 = np.array(['string', 0, 0])\n",
    "\n",
    "list = np.array(['string0', 'string1', 'string2'])\n",
    "print(list)\n",
    "\n",
    "list[1] = '1'\n",
    "list[2] = '2'\n",
    "print(list)\n",
    "\n",
    "list[1] = float(list[1])\n",
    "list[2] = float(list[2])\n",
    "print(list)\n",
    "\n",
    "print(type(list[1]))\n",
    "\n",
    "list[1] = list[1] / 0.5\n",
    "list[2] = list[2] * 4\n",
    "print(list)"
   ]
  },
  {
   "cell_type": "code",
   "execution_count": 32,
   "id": "behavioral-harris",
   "metadata": {},
   "outputs": [
    {
     "name": "stdout",
     "output_type": "stream",
     "text": [
      "['string0' 'string1' 'string2']\n",
      "['string0' '1' '2']\n",
      "['string0' '1.0' '2.0']\n",
      "<class 'numpy.str_'>\n"
     ]
    },
    {
     "ename": "AttributeError",
     "evalue": "'numpy.ndarray' object has no attribute 'append'",
     "output_type": "error",
     "traceback": [
      "\u001b[0;31m---------------------------------------------------------------------------\u001b[0m",
      "\u001b[0;31mAttributeError\u001b[0m                            Traceback (most recent call last)",
      "\u001b[0;32m<ipython-input-32-1132dfeedbad>\u001b[0m in \u001b[0;36m<module>\u001b[0;34m\u001b[0m\n\u001b[1;32m     13\u001b[0m \u001b[0mprint\u001b[0m\u001b[0;34m(\u001b[0m\u001b[0mtype\u001b[0m\u001b[0;34m(\u001b[0m\u001b[0mlist\u001b[0m\u001b[0;34m[\u001b[0m\u001b[0;36m1\u001b[0m\u001b[0;34m]\u001b[0m\u001b[0;34m)\u001b[0m\u001b[0;34m)\u001b[0m\u001b[0;34m\u001b[0m\u001b[0;34m\u001b[0m\u001b[0m\n\u001b[1;32m     14\u001b[0m \u001b[0;34m\u001b[0m\u001b[0m\n\u001b[0;32m---> 15\u001b[0;31m \u001b[0mlist0\u001b[0m\u001b[0;34m.\u001b[0m\u001b[0mappend\u001b[0m\u001b[0;34m(\u001b[0m\u001b[0mlist\u001b[0m\u001b[0;34m)\u001b[0m\u001b[0;34m\u001b[0m\u001b[0;34m\u001b[0m\u001b[0m\n\u001b[0m\u001b[1;32m     16\u001b[0m \u001b[0mprint\u001b[0m\u001b[0;34m(\u001b[0m\u001b[0mlist0\u001b[0m\u001b[0;34m)\u001b[0m\u001b[0;34m\u001b[0m\u001b[0;34m\u001b[0m\u001b[0m\n",
      "\u001b[0;31mAttributeError\u001b[0m: 'numpy.ndarray' object has no attribute 'append'"
     ]
    }
   ],
   "source": [
    "list0 = np.array(['string', 0, 0])\n",
    "\n",
    "list = np.array(['string0', 'string1', 'string2'])\n",
    "print(list)\n",
    "\n",
    "list[1] = '1'\n",
    "list[2] = '2'\n",
    "print(list)\n",
    "\n",
    "list[1] = float(list[1])\n",
    "list[2] = float(list[2])\n",
    "print(list)\n",
    "print(type(list[1]))\n",
    "\n",
    "list0.append(list)\n",
    "print(list0)"
   ]
  },
  {
   "cell_type": "code",
   "execution_count": 34,
   "id": "changing-alert",
   "metadata": {},
   "outputs": [
    {
     "name": "stdout",
     "output_type": "stream",
     "text": [
      "<class 'str'>\n",
      "<class 'float'>\n",
      "1.1\n"
     ]
    }
   ],
   "source": [
    "a = '2.2'\n",
    "print(type(a))\n",
    "\n",
    "a = float(a)\n",
    "print(type(a))\n",
    "\n",
    "b = a / 2\n",
    "print(b)"
   ]
  },
  {
   "cell_type": "code",
   "execution_count": 91,
   "id": "robust-issue",
   "metadata": {},
   "outputs": [
    {
     "name": "stdout",
     "output_type": "stream",
     "text": [
      "['string0', 'string1', 'string']\n",
      "['1', '2', 'string']\n",
      "[1.0, 2.0, 'string']\n",
      "<class 'float'>\n",
      "<class 'str'>\n",
      "[[0.0, 0.0, 'string']]\n",
      "[[0.0, 0.0, 'string'], [1.0, 2.0, 'string']]\n"
     ]
    }
   ],
   "source": [
    "list0 = [[0., 0., 'string']]\n",
    "\n",
    "list = ['string0', 'string1', 'string']\n",
    "print(list)\n",
    "\n",
    "list[0] = '1'\n",
    "list[1] = '2'\n",
    "print(list)\n",
    "\n",
    "list[0] = float(list[0])\n",
    "list[1] = float(list[1])\n",
    "\n",
    "print(list)\n",
    "print(type(list[1]))\n",
    "print(type(list[2]))\n",
    "print(list0)\n",
    "\n",
    "list0.append(list)\n",
    "print(list0)"
   ]
  },
  {
   "cell_type": "code",
   "execution_count": 92,
   "id": "unlike-punishment",
   "metadata": {},
   "outputs": [],
   "source": [
    "list0 = np.array(list0)"
   ]
  },
  {
   "cell_type": "code",
   "execution_count": 93,
   "id": "saving-consolidation",
   "metadata": {},
   "outputs": [
    {
     "data": {
      "text/plain": [
       "numpy.ndarray"
      ]
     },
     "execution_count": 93,
     "metadata": {},
     "output_type": "execute_result"
    }
   ],
   "source": [
    "type(list0)"
   ]
  },
  {
   "cell_type": "code",
   "execution_count": 96,
   "id": "prime-rugby",
   "metadata": {},
   "outputs": [
    {
     "name": "stdout",
     "output_type": "stream",
     "text": [
      "[['0.0' '0.0' 'string']\n",
      " ['1.0' '2.0' 'string']]\n",
      "[['0.0' '0.0' 'string']\n",
      " ['1.0' '2.0' 'string']]\n"
     ]
    }
   ],
   "source": [
    "print(list0)\n",
    "np.delete(list0, 0)\n",
    "print(list0)"
   ]
  },
  {
   "cell_type": "code",
   "execution_count": null,
   "id": "alive-archives",
   "metadata": {},
   "outputs": [],
   "source": []
  }
 ],
 "metadata": {
  "kernelspec": {
   "display_name": "Python 3",
   "language": "python",
   "name": "python3"
  },
  "language_info": {
   "codemirror_mode": {
    "name": "ipython",
    "version": 3
   },
   "file_extension": ".py",
   "mimetype": "text/x-python",
   "name": "python",
   "nbconvert_exporter": "python",
   "pygments_lexer": "ipython3",
   "version": "3.8.5"
  }
 },
 "nbformat": 4,
 "nbformat_minor": 5
}
