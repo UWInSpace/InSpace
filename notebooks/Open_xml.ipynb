{
 "cells": [
  {
   "cell_type": "markdown",
   "id": "stupid-shift",
   "metadata": {},
   "source": [
    "# Opening the .xml's"
   ]
  },
  {
   "cell_type": "code",
   "execution_count": 1,
   "id": "chemical-pregnancy",
   "metadata": {},
   "outputs": [],
   "source": [
    "import math\n",
    "import os\n",
    "import requests\n",
    "\n",
    "from Bio.Blast import NCBIWWW\n",
    "from Bio.Blast import NCBIXML\n",
    "import numpy as np\n",
    "import pandas as pd"
   ]
  },
  {
   "cell_type": "code",
   "execution_count": 2,
   "id": "discrete-endorsement",
   "metadata": {},
   "outputs": [],
   "source": [
    "# File names in list that I've downloaded into .xml's\n",
    "abc_xml = ['abc001_10.xml', 'abc001_11.xml','abc001_12.xml','abc001_13.xml','abc001_14.xml', 'abc002_1.xml',]\n",
    "dna_xml = ['dna001_1.xml', 'dna002_4.xml', 'dna004_2.xml']\n",
    "\n",
    "# Files names to write the .csv's\n",
    "abc_csv = ['abc001_10.csv', 'abc001_11.csv','abc001_12.csv','abc001_13.csv','abc001_14.csv', 'abc002_1.csv',]\n",
    "dna_csv = ['dna001_1.csv', 'dna002_4.csv', 'dna004_2.csv']"
   ]
  },
  {
   "cell_type": "code",
   "execution_count": null,
   "id": "filled-marks",
   "metadata": {},
   "outputs": [],
   "source": [
    "# Open and read the .xml from the BLAST\n",
    "result_handle = open(abc_xml[1])\n",
    "blast_record = NCBIXML.read(result_handle)\n",
    "\n",
    "# Initiate arrays\n",
    "hit_names = []\n",
    "hit_e_values = []\n",
    "hit_scores = []\n",
    "hit_norm_scores = []\n",
    "\n",
    "# Add alginment data to hits_array\n",
    "E_VALUE_THRESH = 0.0000000000000000000000000000000000000000000000004\n",
    "for alignment in blast_record.alignments:\n",
    "    for hsp in alignment.hsps:\n",
    "        if hsp.expect < E_VALUE_THRESH:\n",
    "            alignment_data = ['string0', 'string1', 'string2']\n",
    "            alignment_data[0] = alignment.title\n",
    "            alignment_data[1] = hsp.expect\n",
    "            alignment_data[2] = hsp.score\n",
    "            #make expect and score floats from strings\n",
    "            alignment_data[1] = float(alignment_data[1])\n",
    "            alignment_data[2] = float(alignment_data[2])\n",
    "            #append the alignment data to the database hits array\n",
    "            pdb_hits_array.append(alignment_data)\n",
    "\n",
    "# Convert Python array to Pandas DataFrame\n",
    "column_names = ['hit_title', 'e_value', 'score']\n",
    "pdb_hits_df = pd.DataFrame(pdb_hits_array, columns=column_names)\n",
    "\n",
    "# Calculate the normalized score\n",
    "norm_score = [100]\n",
    "for i in range(1,len(pdb_hits_array)):\n",
    "    norm_score_i = pdb_hits_df['score'][i] / pdb_hits_df['score'][0] *100\n",
    "    norm_score.append(norm_score_i)\n",
    "\n",
    "# Add Pandas Series from this list of normalized scores to the hits DataFrame\n",
    "pdb_hits_df['norm_score'] = pd.Series(norm_score)\n",
    "\n",
    "# Convert Pandas DataFrame to .csv\n",
    "pdb_hits_df.to_csv('dna002_4.csv')"
   ]
  },
  {
   "cell_type": "code",
   "execution_count": null,
   "id": "cooperative-isolation",
   "metadata": {},
   "outputs": [],
   "source": []
  },
  {
   "cell_type": "code",
   "execution_count": null,
   "id": "protective-provider",
   "metadata": {},
   "outputs": [],
   "source": []
  },
  {
   "cell_type": "code",
   "execution_count": null,
   "id": "constant-robinson",
   "metadata": {},
   "outputs": [],
   "source": []
  },
  {
   "cell_type": "code",
   "execution_count": null,
   "id": "neural-kansas",
   "metadata": {},
   "outputs": [],
   "source": []
  },
  {
   "cell_type": "code",
   "execution_count": null,
   "id": "liberal-journalist",
   "metadata": {},
   "outputs": [],
   "source": []
  },
  {
   "cell_type": "code",
   "execution_count": null,
   "id": "indoor-holmes",
   "metadata": {},
   "outputs": [],
   "source": []
  },
  {
   "cell_type": "code",
   "execution_count": null,
   "id": "leading-cause",
   "metadata": {},
   "outputs": [],
   "source": []
  },
  {
   "cell_type": "code",
   "execution_count": null,
   "id": "rental-donna",
   "metadata": {},
   "outputs": [],
   "source": []
  },
  {
   "cell_type": "code",
   "execution_count": null,
   "id": "substantial-breed",
   "metadata": {},
   "outputs": [],
   "source": []
  },
  {
   "cell_type": "markdown",
   "id": "hairy-programming",
   "metadata": {},
   "source": [
    "# Don't look past here"
   ]
  },
  {
   "cell_type": "markdown",
   "id": "dress-better",
   "metadata": {},
   "source": [
    "## Open the .xml's in the same directory as this notebook"
   ]
  },
  {
   "cell_type": "code",
   "execution_count": 3,
   "id": "welsh-header",
   "metadata": {},
   "outputs": [],
   "source": [
    "# Open and read the .xml from the BLAST\n",
    "result_handle = open('dna002_4.xml')\n",
    "blast_record = NCBIXML.read(result_handle)"
   ]
  },
  {
   "cell_type": "code",
   "execution_count": 4,
   "id": "unknown-favor",
   "metadata": {
    "scrolled": true
   },
   "outputs": [],
   "source": [
    "# Use Numpy array to store data\n",
    "# Initiate array\n",
    "pdb_hits_array = []\n",
    "\n",
    "# Leave out the normalized score!!  Hard to iterate through when not iterating integers\n",
    "\n",
    "# Add alginment data to hits_array\n",
    "E_VALUE_THRESH = 0.0000000000000000000000000000000000000000000000004\n",
    "for alignment in blast_record.alignments:\n",
    "    for hsp in alignment.hsps:\n",
    "        if hsp.expect < E_VALUE_THRESH:\n",
    "            alignment_data = ['string0', 'string1', 'string2']\n",
    "            alignment_data[0] = alignment.title\n",
    "            alignment_data[1] = hsp.expect\n",
    "            alignment_data[2] = hsp.score\n",
    "            #make expect and score floats from strings\n",
    "            alignment_data[1] = float(alignment_data[1])\n",
    "            alignment_data[2] = float(alignment_data[2])\n",
    "            #append the alignment data to the database hits array\n",
    "            pdb_hits_array.append(alignment_data)\n",
    "\n",
    "# Convert Python array to Pandas DataFrame\n",
    "column_names = ['hit_title', 'e_value', 'score']\n",
    "pdb_hits_df = pd.DataFrame(pdb_hits_array, columns=column_names)\n",
    "\n",
    "# Calculate the normalized score\n",
    "norm_score = [100]\n",
    "for i in range(1,len(pdb_hits_array)):\n",
    "    norm_score_i = pdb_hits_df['score'][i] / pdb_hits_df['score'][0] *100\n",
    "    norm_score.append(norm_score_i)\n",
    "\n",
    "# Add Pandas Series from this list of normalized scores to the hits DataFrame\n",
    "pdb_hits_df['norm_score'] = pd.Series(norm_score)\n",
    "\n",
    "# Convert Pandas DataFrame to .csv\n",
    "pdb_hits_df.to_csv('dna002_4.csv')"
   ]
  },
  {
   "cell_type": "code",
   "execution_count": 21,
   "id": "found-health",
   "metadata": {},
   "outputs": [
    {
     "data": {
      "text/plain": [
       "[]"
      ]
     },
     "execution_count": 21,
     "metadata": {},
     "output_type": "execute_result"
    }
   ],
   "source": [
    "pdb_hits_array"
   ]
  },
  {
   "cell_type": "markdown",
   "id": "likely-pointer",
   "metadata": {},
   "source": [
    "## Printing hits_results using tutorial code"
   ]
  },
  {
   "cell_type": "code",
   "execution_count": 12,
   "id": "interstate-tuition",
   "metadata": {},
   "outputs": [
    {
     "name": "stdout",
     "output_type": "stream",
     "text": [
      "There are 4 sequences in the BLAST output\n"
     ]
    }
   ],
   "source": [
    "result_handle = open('abc001_13.xml')\n",
    "\n",
    "blast_record = NCBIXML.read(result_handle)\n",
    "\n",
    "# Getting info out of code\n",
    "E_VALUE_THRESH = 0.0000000000000000000000000000000000000000000000001\n",
    "count = 0\n",
    "for alignment in blast_record.alignments:\n",
    "    count += 1\n",
    "    for hsp in alignment.hsps:\n",
    "        if hsp.expect < E_VALUE_THRESH:\n",
    "            print('****Alignment****')\n",
    "            print('sequence:', alignment.title)\n",
    "            print('e value:', hsp.expect)\n",
    "            print('score:', hsp.score)\n",
    "            #print('identities:', hsp.identities)\n",
    "print('There are', count, 'sequences in the BLAST output')"
   ]
  }
 ],
 "metadata": {
  "kernelspec": {
   "display_name": "Python 3",
   "language": "python",
   "name": "python3"
  },
  "language_info": {
   "codemirror_mode": {
    "name": "ipython",
    "version": 3
   },
   "file_extension": ".py",
   "mimetype": "text/x-python",
   "name": "python",
   "nbconvert_exporter": "python",
   "pygments_lexer": "ipython3",
   "version": "3.8.5"
  }
 },
 "nbformat": 4,
 "nbformat_minor": 5
}
