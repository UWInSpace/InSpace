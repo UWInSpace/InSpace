{
 "cells": [
  {
   "cell_type": "markdown",
   "id": "satellite-drilling",
   "metadata": {},
   "source": [
    "# Tool Flow\n",
    "Per the user input  \n",
    "  \n",
    "Functions in this notebook and what they wrap:  \n",
    "`predict_log2fc()`  \n",
    "1. `usr_seq()`  \n",
    "    a. `get_seq()`  \n",
    "  \n",
    "2. `get_feat()`  \n",
    "    a. `get_prot_mass()`  \n",
    "    b. `get_biopy_feat()`  \n",
    "    c. `count_aa_types()`  \n",
    "  \n",
    "3. `scale_input_feat()`    \n",
    "    \n",
    "4. `bagging_regr()` - the modeling function that outputs the predicted log2fc  \n",
    "5. `vizualization_thing_here()`\n",
    "\n",
    "`multi_pred_log2fc()`"
   ]
  },
  {
   "cell_type": "markdown",
   "id": "distributed-characteristic",
   "metadata": {},
   "source": [
    "### Imports"
   ]
  },
  {
   "cell_type": "code",
   "execution_count": 1,
   "id": "disabled-tanzania",
   "metadata": {},
   "outputs": [],
   "source": [
    "import Bio\n",
    "from Bio import Entrez\n",
    "from Bio.SeqUtils.ProtParam import ProteinAnalysis\n",
    "import math\n",
    "import pandas as pd\n",
    "import numpy as np\n",
    "import matplotlib.pyplot as plt   \n",
    "\n",
    "# Import Scikit-Learn library for the regression model\n",
    "import sklearn   \n",
    "from sklearn import preprocessing #sklearn for normalization function\n",
    "from sklearn.model_selection import train_test_split\n",
    "from sklearn.metrics import mean_squared_error, r2_score\n",
    "#for Bagging regressor\n",
    "from sklearn.ensemble import BaggingRegressor\n",
    "from sklearn.tree import DecisionTreeRegressor"
   ]
  },
  {
   "cell_type": "markdown",
   "id": "specific-barrel",
   "metadata": {},
   "source": [
    "## Input EID or sequence"
   ]
  },
  {
   "cell_type": "code",
   "execution_count": null,
   "id": "regulation-thesaurus",
   "metadata": {},
   "outputs": [],
   "source": [
    "user_input = eid"
   ]
  },
  {
   "cell_type": "markdown",
   "id": "specialized-casino",
   "metadata": {},
   "source": [
    "## The `usr_seq` Function"
   ]
  },
  {
   "cell_type": "code",
   "execution_count": 2,
   "id": "objective-cooper",
   "metadata": {},
   "outputs": [],
   "source": [
    "def usr_seq(user_input, email):\n",
    "    \"\"\"If user input is an integer (EID and not a sequence that would be a string), get the sequence\n",
    "    \"\"\"\n",
    "    t = type(user_input)\n",
    "    if t is int:\n",
    "        user_sequence = get_seq(email, user_input)\n",
    "    else:\n",
    "        user_sequence = user_input\n",
    "    \n",
    "    return user_sequence"
   ]
  },
  {
   "cell_type": "code",
   "execution_count": 3,
   "id": "reliable-bailey",
   "metadata": {},
   "outputs": [],
   "source": [
    "def test_usr_seq():\n",
    "    # Case 1: input is EID\n",
    "    usr_in = 15599626\n",
    "    result = usr_seq(usr_in)\n",
    "    assert result is str, 'the usr_seq function does not work'\n",
    "    # Case 2: input is sequence\n",
    "    usr_in = 'juliaisthecoolest'\n",
    "    result = usr_seq(usr_in)\n",
    "    assert result == usr_in, 'the usr_seq function does not work'\n",
    "    return"
   ]
  },
  {
   "cell_type": "markdown",
   "id": "intelligent-local",
   "metadata": {},
   "source": [
    "## The `get_seq` function"
   ]
  },
  {
   "cell_type": "code",
   "execution_count": 4,
   "id": "precise-stanley",
   "metadata": {},
   "outputs": [],
   "source": [
    "# definition of function:\n",
    "def get_seq(email, prot_accession_num): \n",
    "    Entrez.email = email\n",
    "\n",
    "    gis = [prot_accession_num] \n",
    "    request = Entrez.epost(\"protein\",id=\",\".join(map(str,gis)))\n",
    "    result = Entrez.read(request)\n",
    "    webEnv = result[\"WebEnv\"]\n",
    "    queryKey = result[\"QueryKey\"]\n",
    "    handle = Entrez.efetch(db=\"protein\",retmode=\"xml\", webenv=webEnv, query_key=queryKey) \n",
    "\n",
    "    for r in Entrez.parse(handle):\n",
    "        try:\n",
    "            gi=int([x for x in r['GBSeq_other-seqids'] if \"gi\" in x][0].split(\"|\")[1])\n",
    "        except ValueError:\n",
    "            gi=None\n",
    "        #print(r['GBSeq_sequence'])\n",
    "        seq = r['GBSeq_sequence']\n",
    "    return seq"
   ]
  },
  {
   "cell_type": "code",
   "execution_count": 5,
   "id": "convinced-confirmation",
   "metadata": {},
   "outputs": [],
   "source": [
    "def test_get_seq():\n",
    "    seq = get_seq(\"karanjia@uw.edu\", 728886557)\n",
    "    expect = 'mlrsmltasttlnqlqqqidtissnlsnsnttgykakdtnfselvrqqfdqvdekneevakarktppglrlgvgammssrlvsdqgsiqktdrdldiaftspyqylqvnvngnrqytrdgalyvtpsaananqlqlvtgngypvldengntvnidssmknitinkngtltasdgnavqrfnlgvvqvnnpqelksegnnlfsidnaaafeelnganrqnigmqqgslemsnvdiseqmtdlitsqrsyqlnsrtitmgdqmlglinsvr'\n",
    "    assert seq == expect, 'the get_seq function is not working'"
   ]
  },
  {
   "cell_type": "markdown",
   "id": "detected-rwanda",
   "metadata": {},
   "source": [
    "## The `get_feat` function"
   ]
  },
  {
   "cell_type": "code",
   "execution_count": 6,
   "id": "champion-summary",
   "metadata": {},
   "outputs": [],
   "source": [
    "def get_feat(user_sequence):\n",
    "    \"\"\"\n",
    "    This function takes the sequence that the user is querying and returns a dataframe appended \n",
    "    with all of the features used in the predictive model\n",
    "    \"\"\"\n",
    "    \n",
    "    mass = get_prot_mass(user_sequence)\n",
    "    \n",
    "    molwt_biopy, aromaticity, isoelctric_pt = get_biopy_feat(user_sequence)\n",
    "    \n",
    "    nonpolar, positive, polar, negative = count_aa_types(user_sequence)\n",
    "    \n",
    "    # Make the features into a Pandas DataFrame\n",
    "    feat_list = [ nonpolar, positive, negative, polar, mass, aromaticity, isoelctric_pt,]\n",
    "    column_names = ['AA_NP','AA_POS','AA_NEG', 'AA_POL', 'MW', 'AROM', 'ISO_E']\n",
    "    feat_df = pd. DataFrame(feat_list, columns=column_names)\n",
    "    \n",
    "    return feat_df"
   ]
  },
  {
   "cell_type": "markdown",
   "id": "matched-occasions",
   "metadata": {},
   "source": [
    "### Functions that support `get_feat`"
   ]
  },
  {
   "cell_type": "markdown",
   "id": "driving-occurrence",
   "metadata": {},
   "source": [
    "### `get_prot_mass`"
   ]
  },
  {
   "cell_type": "code",
   "execution_count": 14,
   "id": "selected-visit",
   "metadata": {},
   "outputs": [],
   "source": [
    "def get_prot_mass(AASeq):\n",
    "    \n",
    "    '''Tabulate approximate total mass of input amino acid string based on the sum of\n",
    "    the average masses for every amino acid in the string.'''\n",
    "    \n",
    "    # Create dict with amino acid sybols as keys and associated average masses as values\n",
    "    # Average masses taken from http://proteomicsresource.washington.edu/protocols06/masses.php\n",
    "    molecular_mass_dict = {\n",
    "    'A':71.0779, \n",
    "    'R':156.18568, \n",
    "    'G':57.05132, \n",
    "    'S':87.0773, \n",
    "    'P':97.11518, \n",
    "    'V':99.13106, \n",
    "    'T':101.10388, \n",
    "    'C':103.1429, \n",
    "    'L':113.15764, \n",
    "    'I':113.15764, \n",
    "    'N':114.10264, \n",
    "    'D':115.0874, \n",
    "    'Q':128.12922, \n",
    "    'K':128.17228, \n",
    "    'E':129.11398, \n",
    "    'M':131.19606, \n",
    "    'H':137.13928, \n",
    "    'F':147.17386, \n",
    "    'U':150.3079, \n",
    "    'Y':163.17326, \n",
    "    'W':186.2099, \n",
    "    'O':237.29816\n",
    "    }\n",
    "    \n",
    "    # Calculate approx mass for amino acid sequence\n",
    "    mass_list = []\n",
    "    \n",
    "    # Capitalize all letters in amino acid string prior to taking mass\n",
    "    AASeq = AASeq.upper()\n",
    "    \n",
    "    # Raise error if amino acid sequence contains characters not in the dict\n",
    "    acceptable_amino_acids_list = list(molecular_mass_dict.keys())\n",
    "\n",
    "    for char in AASeq:\n",
    "        if char not in acceptable_amino_acids_list:\n",
    "            if char == ' ':\n",
    "                continue\n",
    "            else:\n",
    "                raise ValueError('AASeq contains unacceptable characters')\n",
    "    \n",
    "    for amino_acid, mw in molecular_mass_dict.items():\n",
    "        aa_weight = AASeq.count(amino_acid)*mw\n",
    "        mass_list.append(aa_weight)\n",
    "    total_mass = sum(mass_list)\n",
    "    \n",
    "    return total_mass"
   ]
  },
  {
   "cell_type": "markdown",
   "id": "perfect-moment",
   "metadata": {},
   "source": [
    "### `get_biopy_feat`"
   ]
  },
  {
   "cell_type": "code",
   "execution_count": 15,
   "id": "conventional-academy",
   "metadata": {},
   "outputs": [],
   "source": [
    "def get_biopy_feat(sequence):\n",
    "    \"\"\"\n",
    "    Taken-in dataframe with a column specified as 'SEQUENCE' and uses Biopython to \n",
    "    generate additional features from each protein sequence to help better train a machine\n",
    "    learning model to predict log2FC\n",
    "    \"\"\"\n",
    "    ProtA = ProteinAnalysis(sequence)\n",
    "    molwt_biopy = ProtA.molecular_weight()\n",
    "    aromaticity = ProtA.aromaticity()\n",
    "    isoelectric_pt = ProtA.isoelectric_point()\n",
    "\n",
    "    return molwt_biopy, aromaticity, isoelectric_pt"
   ]
  },
  {
   "cell_type": "markdown",
   "id": "pleased-beast",
   "metadata": {},
   "source": [
    "### `count_aa_types`"
   ]
  },
  {
   "cell_type": "code",
   "execution_count": 13,
   "id": "micro-solution",
   "metadata": {},
   "outputs": [],
   "source": [
    "def count_aa_types(sequence):\n",
    "    '''here, sequence is an element in a list, not a list itself\n",
    "    Function takes the sequence, counts how many times amino acids occur per each of 4 \n",
    "    groups and returns values as percentages of the total amino acides in the sequence'''\n",
    "    l = len(sequence)\n",
    "    \n",
    "    ninja = {\n",
    "        'nonpolar': ['G', 'g', 'A', 'a', 'V', 'v', 'C', 'c', 'P', 'p', 'L', 'l', 'I', 'i', 'M', 'm', 'W', 'w', 'F', 'f'],\n",
    "        'positive': ['K', 'k', 'R', 'r', 'H', 'h'],\n",
    "        'polar': ['S', 's', 'T', 't', 'Y', 'y', 'N', 'n', 'Q', 'q'],\n",
    "        'negative': ['D', 'd', 'E', 'e']\n",
    "    }\n",
    "    \n",
    "    # Initiate lists for counts\n",
    "    nonpolar_l = []\n",
    "    positive_l = []\n",
    "    polar_l = []\n",
    "    negative_l = []\n",
    "    \n",
    "    for i in range(l):\n",
    "        aa = sequence[i]\n",
    "        if aa in ninja['nonpolar']:\n",
    "            nonpolar_l.append(1)\n",
    "        elif aa in ninja['positive']:\n",
    "            positive_l.append(1)\n",
    "        elif aa in ninja['polar']:\n",
    "            polar_l.append(1)\n",
    "        else:\n",
    "            negative_l.append(1)\n",
    "            \n",
    "    # Sum the lists to return\n",
    "    nonpolar_c = sum(nonpolar_l)\n",
    "    positive_c = sum(positive_l)\n",
    "    polar_c = sum(polar_l)\n",
    "    negative_c = sum(negative_l)\n",
    "    \n",
    "    # Percentage calculation to return\n",
    "    nonpolar = nonpolar_c / l *100\n",
    "    positive = positive_c / l *100\n",
    "    polar = polar_c / l *100\n",
    "    negative = negative_c / l *100\n",
    "    \n",
    "    return nonpolar, positive, polar, negative"
   ]
  },
  {
   "cell_type": "markdown",
   "id": "classical-savings",
   "metadata": {},
   "source": [
    "## The `scale_input_feat` function"
   ]
  },
  {
   "cell_type": "code",
   "execution_count": 16,
   "id": "level-halloween",
   "metadata": {},
   "outputs": [],
   "source": [
    "def scale_input_feat(X):\n",
    "    '''\n",
    "    The function takes in X (our input features), and rescale based on min-max normalization\n",
    "    it returns the normalized X\n",
    "    '''\n",
    "    #returns a numpy array for X (needed to use the min_max_scaler)\n",
    "    X_arr = X.values \n",
    "\n",
    "    X_col_names = list(X.columns.values.tolist()) #get column names to then put back into X_norm\n",
    "\n",
    "    #min-max normalization (rescaling) of input features\n",
    "    min_max_scaler = preprocessing.MinMaxScaler()\n",
    "    X_scaled = min_max_scaler.fit_transform(X_arr)\n",
    "    X_norm= pd.DataFrame(X_scaled)\n",
    "\n",
    "    #put back the original column names\n",
    "    X_norm.columns = X_col_names\n",
    "    \n",
    "    return X_norm"
   ]
  },
  {
   "cell_type": "code",
   "execution_count": null,
   "id": "toxic-substitute",
   "metadata": {},
   "outputs": [],
   "source": []
  },
  {
   "cell_type": "markdown",
   "id": "exotic-charles",
   "metadata": {},
   "source": [
    "## The `bagging_regr` function"
   ]
  },
  {
   "cell_type": "code",
   "execution_count": 8,
   "id": "raising-stock",
   "metadata": {},
   "outputs": [],
   "source": [
    "def bagging_regr(X_user):\n",
    "    '''\n",
    "    the function takes in the master csv and user input\n",
    "    csv_file should be inputted as a string = 'compiled_features_complete.csv'\n",
    "    test ratio, random state and n_estimator are set (from previous ML optimization)\n",
    "    returning the predicted output based on user input\n",
    "    '''\n",
    "\n",
    "    # Open and load dataset\n",
    "    bacterial_csv = pd.read_csv('UWInSpace_ModelData.csv')\n",
    "    df = pd.DataFrame(data=bacterial_csv)\n",
    "    \n",
    "    #assign input (X) /output (y) features\n",
    "    X= df[['AA_NP','AA_POS', 'AA_POL','AA_NEG', 'MW', 'AROM', 'ISO_E']]\n",
    "    y= df['LOG2FC']\n",
    "    \n",
    "    #Scale input features\n",
    "    X_arr = X.values #returns a numpy array for X (needed to use the min_max_scaler)\n",
    "\n",
    "    X_col_names = list(X.columns.values.tolist()) #get column names to then put back into X_norm\n",
    "\n",
    "    #min-max normalization (rescaling) of input features\n",
    "    min_max_scaler = preprocessing.MinMaxScaler()\n",
    "    X_scaled = min_max_scaler.fit_transform(X_arr)\n",
    "    X_norm= pd.DataFrame(X_scaled)\n",
    "\n",
    "    #put back the original column names\n",
    "    X_norm.columns = X_col_names\n",
    "    \n",
    "  \n",
    "    #set Bagging regressor parameters, from ML training: \n",
    "    test_ratio = 0.30\n",
    "    seed_random = 42\n",
    "    n_estim= 20\n",
    "    \n",
    "    X_train, X_test, y_train, y_test = train_test_split(X_norm, y, test_size=test_ratio, random_state=seed_random, shuffle=True)\n",
    "    #Model is Bagging Regressor, base estimator is Decision Tree regressor\n",
    "    model = BaggingRegressor(base_estimator=DecisionTreeRegressor(),n_estimators=n_estim, random_state=seed_random)\n",
    "    model.fit(X_train, y_train)\n",
    "    #y_testpredict = model.predict(X_test)\n",
    "       \n",
    "      \n",
    "    user_predict = model.predict(X_user)\n",
    "    \n",
    "    return user_predict"
   ]
  },
  {
   "cell_type": "markdown",
   "id": "positive-target",
   "metadata": {},
   "source": [
    "# Overall tool function:"
   ]
  },
  {
   "cell_type": "code",
   "execution_count": 9,
   "id": "curious-tribe",
   "metadata": {},
   "outputs": [],
   "source": [
    "def predict_log2fc(user_input, email):\n",
    "    \"\"\"\n",
    "    This function takes the user input of either a protein accesion number or \n",
    "    an amino acid sequence and predicts how much the sequence will change after \n",
    "    being in space (near-zero gravity and increased radiation exposure)\n",
    "    \"\"\"\n",
    "    \n",
    "    # Get user sequence\n",
    "    user_sequence = usr_seq(user_input, email)\n",
    "    \n",
    "    # Get features\n",
    "    user_features_df = get_feat(user_sequence)\n",
    "    \n",
    "    # Scale features\n",
    "    scaled_features_df = scale_input_feat(user_features_df)\n",
    "    \n",
    "    # Predict log2fc\n",
    "    prediction = bagging_regr(scaled_features_df)\n",
    "    \n",
    "    print('The predicted log2fc is ', prediction)\n",
    "    \n",
    "    return prediction"
   ]
  },
  {
   "cell_type": "code",
   "execution_count": null,
   "id": "brown-impression",
   "metadata": {},
   "outputs": [],
   "source": []
  },
  {
   "cell_type": "markdown",
   "id": "binary-national",
   "metadata": {},
   "source": [
    "## Do multiple predictions"
   ]
  },
  {
   "cell_type": "code",
   "execution_count": 10,
   "id": "unable-removal",
   "metadata": {},
   "outputs": [],
   "source": [
    "def multi_pred_log2fc(user_inputs, email):\n",
    "    \"\"\"Input the proteins of interest as a list.  This function will iterate through \n",
    "    and return a list of predicted log2fc's.\n",
    "    \"\"\"\n",
    "    \n",
    "    input_length = len(user_input)\n",
    "    \n",
    "    # Initiate results list\n",
    "    result_log2fc = []\n",
    "    \n",
    "    for i in range(input_length):\n",
    "        result = predict_log2fc(user_input[i], email)\n",
    "        result_log2fc.append(result)\n",
    "    \n",
    "    return result_log2fc"
   ]
  },
  {
   "cell_type": "code",
   "execution_count": null,
   "id": "middle-savings",
   "metadata": {},
   "outputs": [],
   "source": []
  },
  {
   "cell_type": "code",
   "execution_count": null,
   "id": "latter-cocktail",
   "metadata": {},
   "outputs": [],
   "source": []
  },
  {
   "cell_type": "markdown",
   "id": "under-madness",
   "metadata": {},
   "source": [
    "## Trying it out...*gulp*"
   ]
  },
  {
   "cell_type": "code",
   "execution_count": 17,
   "id": "respective-cable",
   "metadata": {},
   "outputs": [
    {
     "ename": "ValueError",
     "evalue": "Shape of passed values is (7, 1), indices imply (7, 7)",
     "output_type": "error",
     "traceback": [
      "\u001b[0;31m---------------------------------------------------------------------------\u001b[0m",
      "\u001b[0;31mValueError\u001b[0m                                Traceback (most recent call last)",
      "\u001b[0;32m~/miniconda3/lib/python3.8/site-packages/pandas/core/internals/managers.py\u001b[0m in \u001b[0;36mcreate_block_manager_from_blocks\u001b[0;34m(blocks, axes)\u001b[0m\n\u001b[1;32m   1674\u001b[0m                 blocks = [\n\u001b[0;32m-> 1675\u001b[0;31m                     make_block(\n\u001b[0m\u001b[1;32m   1676\u001b[0m                         \u001b[0mvalues\u001b[0m\u001b[0;34m=\u001b[0m\u001b[0mblocks\u001b[0m\u001b[0;34m[\u001b[0m\u001b[0;36m0\u001b[0m\u001b[0;34m]\u001b[0m\u001b[0;34m,\u001b[0m \u001b[0mplacement\u001b[0m\u001b[0;34m=\u001b[0m\u001b[0mslice\u001b[0m\u001b[0;34m(\u001b[0m\u001b[0;36m0\u001b[0m\u001b[0;34m,\u001b[0m \u001b[0mlen\u001b[0m\u001b[0;34m(\u001b[0m\u001b[0maxes\u001b[0m\u001b[0;34m[\u001b[0m\u001b[0;36m0\u001b[0m\u001b[0;34m]\u001b[0m\u001b[0;34m)\u001b[0m\u001b[0;34m)\u001b[0m\u001b[0;34m,\u001b[0m \u001b[0mndim\u001b[0m\u001b[0;34m=\u001b[0m\u001b[0;36m2\u001b[0m\u001b[0;34m\u001b[0m\u001b[0;34m\u001b[0m\u001b[0m\n",
      "\u001b[0;32m~/miniconda3/lib/python3.8/site-packages/pandas/core/internals/blocks.py\u001b[0m in \u001b[0;36mmake_block\u001b[0;34m(values, placement, klass, ndim, dtype)\u001b[0m\n\u001b[1;32m   2710\u001b[0m \u001b[0;34m\u001b[0m\u001b[0m\n\u001b[0;32m-> 2711\u001b[0;31m     \u001b[0;32mreturn\u001b[0m \u001b[0mklass\u001b[0m\u001b[0;34m(\u001b[0m\u001b[0mvalues\u001b[0m\u001b[0;34m,\u001b[0m \u001b[0mndim\u001b[0m\u001b[0;34m=\u001b[0m\u001b[0mndim\u001b[0m\u001b[0;34m,\u001b[0m \u001b[0mplacement\u001b[0m\u001b[0;34m=\u001b[0m\u001b[0mplacement\u001b[0m\u001b[0;34m)\u001b[0m\u001b[0;34m\u001b[0m\u001b[0;34m\u001b[0m\u001b[0m\n\u001b[0m\u001b[1;32m   2712\u001b[0m \u001b[0;34m\u001b[0m\u001b[0m\n",
      "\u001b[0;32m~/miniconda3/lib/python3.8/site-packages/pandas/core/internals/blocks.py\u001b[0m in \u001b[0;36m__init__\u001b[0;34m(self, values, placement, ndim)\u001b[0m\n\u001b[1;32m    141\u001b[0m         \u001b[0;32mif\u001b[0m \u001b[0mself\u001b[0m\u001b[0;34m.\u001b[0m\u001b[0m_validate_ndim\u001b[0m \u001b[0;32mand\u001b[0m \u001b[0mself\u001b[0m\u001b[0;34m.\u001b[0m\u001b[0mndim\u001b[0m \u001b[0;32mand\u001b[0m \u001b[0mlen\u001b[0m\u001b[0;34m(\u001b[0m\u001b[0mself\u001b[0m\u001b[0;34m.\u001b[0m\u001b[0mmgr_locs\u001b[0m\u001b[0;34m)\u001b[0m \u001b[0;34m!=\u001b[0m \u001b[0mlen\u001b[0m\u001b[0;34m(\u001b[0m\u001b[0mself\u001b[0m\u001b[0;34m.\u001b[0m\u001b[0mvalues\u001b[0m\u001b[0;34m)\u001b[0m\u001b[0;34m:\u001b[0m\u001b[0;34m\u001b[0m\u001b[0;34m\u001b[0m\u001b[0m\n\u001b[0;32m--> 142\u001b[0;31m             raise ValueError(\n\u001b[0m\u001b[1;32m    143\u001b[0m                 \u001b[0;34mf\"Wrong number of items passed {len(self.values)}, \"\u001b[0m\u001b[0;34m\u001b[0m\u001b[0;34m\u001b[0m\u001b[0m\n",
      "\u001b[0;31mValueError\u001b[0m: Wrong number of items passed 1, placement implies 7",
      "\nDuring handling of the above exception, another exception occurred:\n",
      "\u001b[0;31mValueError\u001b[0m                                Traceback (most recent call last)",
      "\u001b[0;32m<ipython-input-17-9b066081171e>\u001b[0m in \u001b[0;36m<module>\u001b[0;34m\u001b[0m\n\u001b[1;32m      1\u001b[0m \u001b[0muser_input\u001b[0m \u001b[0;34m=\u001b[0m \u001b[0;36m15600267\u001b[0m\u001b[0;34m\u001b[0m\u001b[0;34m\u001b[0m\u001b[0m\n\u001b[1;32m      2\u001b[0m \u001b[0memail\u001b[0m \u001b[0;34m=\u001b[0m \u001b[0;34m'jaking11@uw.edu'\u001b[0m\u001b[0;34m\u001b[0m\u001b[0;34m\u001b[0m\u001b[0m\n\u001b[0;32m----> 3\u001b[0;31m \u001b[0mprediction\u001b[0m \u001b[0;34m=\u001b[0m \u001b[0mpredict_log2fc\u001b[0m\u001b[0;34m(\u001b[0m\u001b[0muser_input\u001b[0m\u001b[0;34m,\u001b[0m \u001b[0memail\u001b[0m\u001b[0;34m)\u001b[0m\u001b[0;34m\u001b[0m\u001b[0;34m\u001b[0m\u001b[0m\n\u001b[0m",
      "\u001b[0;32m<ipython-input-9-d2a0c77c54cf>\u001b[0m in \u001b[0;36mpredict_log2fc\u001b[0;34m(user_input, email)\u001b[0m\n\u001b[1;32m     10\u001b[0m \u001b[0;34m\u001b[0m\u001b[0m\n\u001b[1;32m     11\u001b[0m     \u001b[0;31m# Get features\u001b[0m\u001b[0;34m\u001b[0m\u001b[0;34m\u001b[0m\u001b[0;34m\u001b[0m\u001b[0m\n\u001b[0;32m---> 12\u001b[0;31m     \u001b[0muser_features_df\u001b[0m \u001b[0;34m=\u001b[0m \u001b[0mget_feat\u001b[0m\u001b[0;34m(\u001b[0m\u001b[0muser_sequence\u001b[0m\u001b[0;34m)\u001b[0m\u001b[0;34m\u001b[0m\u001b[0;34m\u001b[0m\u001b[0m\n\u001b[0m\u001b[1;32m     13\u001b[0m \u001b[0;34m\u001b[0m\u001b[0m\n\u001b[1;32m     14\u001b[0m     \u001b[0;31m# Scale features\u001b[0m\u001b[0;34m\u001b[0m\u001b[0;34m\u001b[0m\u001b[0;34m\u001b[0m\u001b[0m\n",
      "\u001b[0;32m<ipython-input-6-946d242b9c79>\u001b[0m in \u001b[0;36mget_feat\u001b[0;34m(user_sequence)\u001b[0m\n\u001b[1;32m     14\u001b[0m     \u001b[0mfeat_list\u001b[0m \u001b[0;34m=\u001b[0m \u001b[0;34m[\u001b[0m \u001b[0mnonpolar\u001b[0m\u001b[0;34m,\u001b[0m \u001b[0mpositive\u001b[0m\u001b[0;34m,\u001b[0m \u001b[0mnegative\u001b[0m\u001b[0;34m,\u001b[0m \u001b[0mpolar\u001b[0m\u001b[0;34m,\u001b[0m \u001b[0mmass\u001b[0m\u001b[0;34m,\u001b[0m \u001b[0maromaticity\u001b[0m\u001b[0;34m,\u001b[0m \u001b[0misoelctric_pt\u001b[0m\u001b[0;34m,\u001b[0m\u001b[0;34m]\u001b[0m\u001b[0;34m\u001b[0m\u001b[0;34m\u001b[0m\u001b[0m\n\u001b[1;32m     15\u001b[0m     \u001b[0mcolumn_names\u001b[0m \u001b[0;34m=\u001b[0m \u001b[0;34m[\u001b[0m\u001b[0;34m'AA_NP'\u001b[0m\u001b[0;34m,\u001b[0m\u001b[0;34m'AA_POS'\u001b[0m\u001b[0;34m,\u001b[0m\u001b[0;34m'AA_NEG'\u001b[0m\u001b[0;34m,\u001b[0m \u001b[0;34m'AA_POL'\u001b[0m\u001b[0;34m,\u001b[0m \u001b[0;34m'MW'\u001b[0m\u001b[0;34m,\u001b[0m \u001b[0;34m'AROM'\u001b[0m\u001b[0;34m,\u001b[0m \u001b[0;34m'ISO_E'\u001b[0m\u001b[0;34m]\u001b[0m\u001b[0;34m\u001b[0m\u001b[0;34m\u001b[0m\u001b[0m\n\u001b[0;32m---> 16\u001b[0;31m     \u001b[0mfeat_df\u001b[0m \u001b[0;34m=\u001b[0m \u001b[0mpd\u001b[0m\u001b[0;34m.\u001b[0m \u001b[0mDataFrame\u001b[0m\u001b[0;34m(\u001b[0m\u001b[0mfeat_list\u001b[0m\u001b[0;34m,\u001b[0m \u001b[0mcolumns\u001b[0m\u001b[0;34m=\u001b[0m\u001b[0mcolumn_names\u001b[0m\u001b[0;34m)\u001b[0m\u001b[0;34m\u001b[0m\u001b[0;34m\u001b[0m\u001b[0m\n\u001b[0m\u001b[1;32m     17\u001b[0m \u001b[0;34m\u001b[0m\u001b[0m\n\u001b[1;32m     18\u001b[0m     \u001b[0;32mreturn\u001b[0m \u001b[0mfeat_df\u001b[0m\u001b[0;34m\u001b[0m\u001b[0;34m\u001b[0m\u001b[0m\n",
      "\u001b[0;32m~/miniconda3/lib/python3.8/site-packages/pandas/core/frame.py\u001b[0m in \u001b[0;36m__init__\u001b[0;34m(self, data, index, columns, dtype, copy)\u001b[0m\n\u001b[1;32m    582\u001b[0m                     \u001b[0mmgr\u001b[0m \u001b[0;34m=\u001b[0m \u001b[0marrays_to_mgr\u001b[0m\u001b[0;34m(\u001b[0m\u001b[0marrays\u001b[0m\u001b[0;34m,\u001b[0m \u001b[0mcolumns\u001b[0m\u001b[0;34m,\u001b[0m \u001b[0mindex\u001b[0m\u001b[0;34m,\u001b[0m \u001b[0mcolumns\u001b[0m\u001b[0;34m,\u001b[0m \u001b[0mdtype\u001b[0m\u001b[0;34m=\u001b[0m\u001b[0mdtype\u001b[0m\u001b[0;34m)\u001b[0m\u001b[0;34m\u001b[0m\u001b[0;34m\u001b[0m\u001b[0m\n\u001b[1;32m    583\u001b[0m                 \u001b[0;32melse\u001b[0m\u001b[0;34m:\u001b[0m\u001b[0;34m\u001b[0m\u001b[0;34m\u001b[0m\u001b[0m\n\u001b[0;32m--> 584\u001b[0;31m                     \u001b[0mmgr\u001b[0m \u001b[0;34m=\u001b[0m \u001b[0minit_ndarray\u001b[0m\u001b[0;34m(\u001b[0m\u001b[0mdata\u001b[0m\u001b[0;34m,\u001b[0m \u001b[0mindex\u001b[0m\u001b[0;34m,\u001b[0m \u001b[0mcolumns\u001b[0m\u001b[0;34m,\u001b[0m \u001b[0mdtype\u001b[0m\u001b[0;34m=\u001b[0m\u001b[0mdtype\u001b[0m\u001b[0;34m,\u001b[0m \u001b[0mcopy\u001b[0m\u001b[0;34m=\u001b[0m\u001b[0mcopy\u001b[0m\u001b[0;34m)\u001b[0m\u001b[0;34m\u001b[0m\u001b[0;34m\u001b[0m\u001b[0m\n\u001b[0m\u001b[1;32m    585\u001b[0m             \u001b[0;32melse\u001b[0m\u001b[0;34m:\u001b[0m\u001b[0;34m\u001b[0m\u001b[0;34m\u001b[0m\u001b[0m\n\u001b[1;32m    586\u001b[0m                 \u001b[0mmgr\u001b[0m \u001b[0;34m=\u001b[0m \u001b[0minit_dict\u001b[0m\u001b[0;34m(\u001b[0m\u001b[0;34m{\u001b[0m\u001b[0;34m}\u001b[0m\u001b[0;34m,\u001b[0m \u001b[0mindex\u001b[0m\u001b[0;34m,\u001b[0m \u001b[0mcolumns\u001b[0m\u001b[0;34m,\u001b[0m \u001b[0mdtype\u001b[0m\u001b[0;34m=\u001b[0m\u001b[0mdtype\u001b[0m\u001b[0;34m)\u001b[0m\u001b[0;34m\u001b[0m\u001b[0;34m\u001b[0m\u001b[0m\n",
      "\u001b[0;32m~/miniconda3/lib/python3.8/site-packages/pandas/core/internals/construction.py\u001b[0m in \u001b[0;36minit_ndarray\u001b[0;34m(values, index, columns, dtype, copy)\u001b[0m\n\u001b[1;32m    236\u001b[0m         \u001b[0mblock_values\u001b[0m \u001b[0;34m=\u001b[0m \u001b[0;34m[\u001b[0m\u001b[0mvalues\u001b[0m\u001b[0;34m]\u001b[0m\u001b[0;34m\u001b[0m\u001b[0;34m\u001b[0m\u001b[0m\n\u001b[1;32m    237\u001b[0m \u001b[0;34m\u001b[0m\u001b[0m\n\u001b[0;32m--> 238\u001b[0;31m     \u001b[0;32mreturn\u001b[0m \u001b[0mcreate_block_manager_from_blocks\u001b[0m\u001b[0;34m(\u001b[0m\u001b[0mblock_values\u001b[0m\u001b[0;34m,\u001b[0m \u001b[0;34m[\u001b[0m\u001b[0mcolumns\u001b[0m\u001b[0;34m,\u001b[0m \u001b[0mindex\u001b[0m\u001b[0;34m]\u001b[0m\u001b[0;34m)\u001b[0m\u001b[0;34m\u001b[0m\u001b[0;34m\u001b[0m\u001b[0m\n\u001b[0m\u001b[1;32m    239\u001b[0m \u001b[0;34m\u001b[0m\u001b[0m\n\u001b[1;32m    240\u001b[0m \u001b[0;34m\u001b[0m\u001b[0m\n",
      "\u001b[0;32m~/miniconda3/lib/python3.8/site-packages/pandas/core/internals/managers.py\u001b[0m in \u001b[0;36mcreate_block_manager_from_blocks\u001b[0;34m(blocks, axes)\u001b[0m\n\u001b[1;32m   1685\u001b[0m         \u001b[0mblocks\u001b[0m \u001b[0;34m=\u001b[0m \u001b[0;34m[\u001b[0m\u001b[0mgetattr\u001b[0m\u001b[0;34m(\u001b[0m\u001b[0mb\u001b[0m\u001b[0;34m,\u001b[0m \u001b[0;34m\"values\"\u001b[0m\u001b[0;34m,\u001b[0m \u001b[0mb\u001b[0m\u001b[0;34m)\u001b[0m \u001b[0;32mfor\u001b[0m \u001b[0mb\u001b[0m \u001b[0;32min\u001b[0m \u001b[0mblocks\u001b[0m\u001b[0;34m]\u001b[0m\u001b[0;34m\u001b[0m\u001b[0;34m\u001b[0m\u001b[0m\n\u001b[1;32m   1686\u001b[0m         \u001b[0mtot_items\u001b[0m \u001b[0;34m=\u001b[0m \u001b[0msum\u001b[0m\u001b[0;34m(\u001b[0m\u001b[0mb\u001b[0m\u001b[0;34m.\u001b[0m\u001b[0mshape\u001b[0m\u001b[0;34m[\u001b[0m\u001b[0;36m0\u001b[0m\u001b[0;34m]\u001b[0m \u001b[0;32mfor\u001b[0m \u001b[0mb\u001b[0m \u001b[0;32min\u001b[0m \u001b[0mblocks\u001b[0m\u001b[0;34m)\u001b[0m\u001b[0;34m\u001b[0m\u001b[0;34m\u001b[0m\u001b[0m\n\u001b[0;32m-> 1687\u001b[0;31m         \u001b[0;32mraise\u001b[0m \u001b[0mconstruction_error\u001b[0m\u001b[0;34m(\u001b[0m\u001b[0mtot_items\u001b[0m\u001b[0;34m,\u001b[0m \u001b[0mblocks\u001b[0m\u001b[0;34m[\u001b[0m\u001b[0;36m0\u001b[0m\u001b[0;34m]\u001b[0m\u001b[0;34m.\u001b[0m\u001b[0mshape\u001b[0m\u001b[0;34m[\u001b[0m\u001b[0;36m1\u001b[0m\u001b[0;34m:\u001b[0m\u001b[0;34m]\u001b[0m\u001b[0;34m,\u001b[0m \u001b[0maxes\u001b[0m\u001b[0;34m,\u001b[0m \u001b[0me\u001b[0m\u001b[0;34m)\u001b[0m\u001b[0;34m\u001b[0m\u001b[0;34m\u001b[0m\u001b[0m\n\u001b[0m\u001b[1;32m   1688\u001b[0m \u001b[0;34m\u001b[0m\u001b[0m\n\u001b[1;32m   1689\u001b[0m \u001b[0;34m\u001b[0m\u001b[0m\n",
      "\u001b[0;31mValueError\u001b[0m: Shape of passed values is (7, 1), indices imply (7, 7)"
     ]
    }
   ],
   "source": [
    "user_input = 15600267\n",
    "email = 'jaking11@uw.edu'\n",
    "prediction = predict_log2fc(user_input, email)"
   ]
  },
  {
   "cell_type": "code",
   "execution_count": null,
   "id": "hearing-credit",
   "metadata": {},
   "outputs": [],
   "source": []
  }
 ],
 "metadata": {
  "kernelspec": {
   "display_name": "Python 3",
   "language": "python",
   "name": "python3"
  },
  "language_info": {
   "codemirror_mode": {
    "name": "ipython",
    "version": 3
   },
   "file_extension": ".py",
   "mimetype": "text/x-python",
   "name": "python",
   "nbconvert_exporter": "python",
   "pygments_lexer": "ipython3",
   "version": "3.8.5"
  }
 },
 "nbformat": 4,
 "nbformat_minor": 5
}
