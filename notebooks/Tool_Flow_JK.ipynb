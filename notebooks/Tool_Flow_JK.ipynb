{
 "cells": [
  {
   "cell_type": "markdown",
   "id": "italic-governor",
   "metadata": {},
   "source": [
    "# Tool Flow\n",
    "Per the user input  \n",
    "  \n",
    "<span style=\"color:red\">NEED:  \n",
    "1. <span style=\"color:red\">Biopython ENTREZ function for user input of EID\n",
    "  \n",
    "Functions in this notebook and what they wrap:  \n",
    "1. `usr_seq()`  \n",
    "    a. `get_seq()`  \n",
    "  \n",
    "2. `get_feat()`  \n",
    "    a. `get_prot_mass()`  \n",
    "    b. `Bio_feat()`  \n",
    "    c. `count_aa_types()`  \n",
    "  \n",
    "3. `predict_log2fc()`  \n",
    "    a. `det_log2fc()` - the modeling function that outputs the predicted log2fc"
   ]
  },
  {
   "cell_type": "markdown",
   "id": "greenhouse-enough",
   "metadata": {},
   "source": [
    "## Input EID or sequence"
   ]
  },
  {
   "cell_type": "code",
   "execution_count": null,
   "id": "veterinary-sessions",
   "metadata": {},
   "outputs": [],
   "source": [
    "user_input = eid"
   ]
  },
  {
   "cell_type": "markdown",
   "id": "fresh-underwear",
   "metadata": {},
   "source": [
    "## The `usr_seq` Function <span style=\"color:red\">--NEED ENTREZ `get_seq()` FUNCTION HERE"
   ]
  },
  {
   "cell_type": "code",
   "execution_count": 2,
   "id": "tough-appointment",
   "metadata": {},
   "outputs": [],
   "source": [
    "def usr_seq(user_input, email):\n",
    "    \"\"\"If user input is an integer (EID and not a sequence that would be a string), get the sequence\n",
    "    \"\"\"\n",
    "    t = type(user_input)\n",
    "    if t is int:\n",
    "        **************************\n",
    "        user_sequence = get_seq(user_input, email)\n",
    "    else:\n",
    "        user_sequence = user_input\n",
    "    \n",
    "    return user_sequence"
   ]
  },
  {
   "cell_type": "code",
   "execution_count": 4,
   "id": "awful-travel",
   "metadata": {},
   "outputs": [],
   "source": [
    "def test_usr_seq():\n",
    "    # Case 1: input is EID\n",
    "    usr_in = 15599626\n",
    "    result = usr_seq(usr_in)\n",
    "    assert result is str, 'the usr_seq function does not work'\n",
    "    # Case 2: input is sequence\n",
    "    usr_in = 'juliaisthecoolest'\n",
    "    result = usr_seq(usr_in)\n",
    "    assert result == usr_in, 'the usr_seq function does not work'"
   ]
  },
  {
   "cell_type": "markdown",
   "id": "superb-laser",
   "metadata": {},
   "source": [
    "## The `get_feat` function"
   ]
  },
  {
   "cell_type": "code",
   "execution_count": null,
   "id": "christian-strengthening",
   "metadata": {},
   "outputs": [],
   "source": [
    "def get_feat(user_sequence):\n",
    "    \"\"\"\n",
    "    This function takes the sequence that the user is querying and returns a dataframe appended \n",
    "    with all of the features used in the predictive model\n",
    "    \"\"\"\n",
    "    \n",
    "    mass = get_prot_mass(user_sequence)\n",
    "    \n",
    "    Bio_feat(user_sequence)\n",
    "    \n",
    "    # This returns percentages of type of aa for the one sequence and stores as \n",
    "    # 4 different values\n",
    "    nonpolar, positive, polar, negative = count_aa_types(user_sequence)"
   ]
  },
  {
   "cell_type": "code",
   "execution_count": null,
   "id": "tested-inquiry",
   "metadata": {},
   "outputs": [],
   "source": []
  },
  {
   "cell_type": "markdown",
   "id": "elegant-institution",
   "metadata": {},
   "source": [
    "# Overall tool function:"
   ]
  },
  {
   "cell_type": "code",
   "execution_count": 1,
   "id": "backed-mongolia",
   "metadata": {},
   "outputs": [],
   "source": [
    "def predict_log2fc(user_input, email):\n",
    "    \"\"\"\n",
    "    This function takes the user input of either a protein accesion number or \n",
    "    an amino acid sequence and predicts how much the sequence will change after \n",
    "    being in space (near-zero gravity and increased radiation exposure)\n",
    "    \"\"\"\n",
    "    \n",
    "    # Get user sequence\n",
    "    user_sequence = usr_seq(user_input)\n",
    "    \n",
    "    # Get features\n",
    "    user_features = get_feat(user_sequence)\n",
    "    \n",
    "    # Predict log2fc\n",
    "    prediction = det_log2fc(user_features)\n",
    "    print('The predicted log2fc is ', prediction)\n",
    "    \n",
    "    return prediction"
   ]
  },
  {
   "cell_type": "code",
   "execution_count": null,
   "id": "fifty-correspondence",
   "metadata": {},
   "outputs": [],
   "source": []
  }
 ],
 "metadata": {
  "kernelspec": {
   "display_name": "Python 3",
   "language": "python",
   "name": "python3"
  },
  "language_info": {
   "codemirror_mode": {
    "name": "ipython",
    "version": 3
   },
   "file_extension": ".py",
   "mimetype": "text/x-python",
   "name": "python",
   "nbconvert_exporter": "python",
   "pygments_lexer": "ipython3",
   "version": "3.8.5"
  }
 },
 "nbformat": 4,
 "nbformat_minor": 5
}
