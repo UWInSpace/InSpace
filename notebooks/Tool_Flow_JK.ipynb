{
 "cells": [
  {
   "cell_type": "markdown",
   "id": "continuing-people",
   "metadata": {},
   "source": [
    "# Tool Flow\n",
    "Per the user input  \n",
    "  \n",
    "Functions in this notebook and what they wrap:  \n",
    "`predict_log2fc()`  \n",
    "1. `usr_seq()`  \n",
    "    a. `get_seq()`  \n",
    "  \n",
    "2. `get_feat()`  \n",
    "    a. `get_prot_mass()`  \n",
    "    b. `get_biopy_feat()`  \n",
    "    c. `count_aa_types()`  \n",
    "  \n",
    "3. `scale_input_feat()`    \n",
    "    \n",
    "4. `bagging_regr()` - the modeling function that outputs the predicted log2fc  \n",
    "5. `vizualization_thing_here()`\n",
    "\n",
    "`multi_pred_log2fc()`"
   ]
  },
  {
   "cell_type": "markdown",
   "id": "overall-handbook",
   "metadata": {},
   "source": [
    "### Imports"
   ]
  },
  {
   "cell_type": "code",
   "execution_count": 1,
   "id": "urban-torture",
   "metadata": {},
   "outputs": [],
   "source": [
    "import Bio\n",
    "from Bio import Entrez\n",
    "from Bio.SeqUtils.ProtParam import ProteinAnalysis\n",
    "import math\n",
    "import pandas as pd\n",
    "import numpy as np\n",
    "import matplotlib.pyplot as plt   \n",
    "\n",
    "# Import Scikit-Learn library for the regression model\n",
    "import sklearn   \n",
    "from sklearn import preprocessing #sklearn for normalization function\n",
    "from sklearn.model_selection import train_test_split\n",
    "from sklearn.metrics import mean_squared_error, r2_score\n",
    "#for Bagging regressor\n",
    "from sklearn.ensemble import BaggingRegressor\n",
    "from sklearn.tree import DecisionTreeRegressor"
   ]
  },
  {
   "cell_type": "markdown",
   "id": "legal-addiction",
   "metadata": {},
   "source": [
    "## The `usr_seq` Function"
   ]
  },
  {
   "cell_type": "code",
   "execution_count": 2,
   "id": "exciting-deficit",
   "metadata": {},
   "outputs": [],
   "source": [
    "def usr_seq(user_input, email):\n",
    "    \"\"\"If user input is an integer (EID and not a sequence that would be a string), get the sequence\n",
    "    \"\"\"\n",
    "    t = type(user_input)\n",
    "    if t is int:\n",
    "        user_sequence = get_seq(email, user_input)\n",
    "    else:\n",
    "        user_sequence = user_input\n",
    "    \n",
    "    return user_sequence"
   ]
  },
  {
   "cell_type": "code",
   "execution_count": 3,
   "id": "integral-piece",
   "metadata": {},
   "outputs": [],
   "source": [
    "def test_usr_seq():\n",
    "    # Case 1: input is EID\n",
    "    usr_in = 15599626\n",
    "    result = usr_seq(usr_in)\n",
    "    assert result is str, 'the usr_seq function does not work'\n",
    "    # Case 2: input is sequence\n",
    "    usr_in = 'juliaisthecoolest'\n",
    "    result = usr_seq(usr_in)\n",
    "    assert result == usr_in, 'the usr_seq function does not work'\n",
    "    return"
   ]
  },
  {
   "cell_type": "markdown",
   "id": "simplified-teaching",
   "metadata": {},
   "source": [
    "## The `get_seq` function"
   ]
  },
  {
   "cell_type": "code",
   "execution_count": 4,
   "id": "lesbian-chosen",
   "metadata": {},
   "outputs": [],
   "source": [
    "# definition of function:\n",
    "def get_seq(email, prot_accession_num): \n",
    "    Entrez.email = email\n",
    "\n",
    "    gis = [prot_accession_num] \n",
    "    request = Entrez.epost(\"protein\",id=\",\".join(map(str,gis)))\n",
    "    result = Entrez.read(request)\n",
    "    webEnv = result[\"WebEnv\"]\n",
    "    queryKey = result[\"QueryKey\"]\n",
    "    handle = Entrez.efetch(db=\"protein\",retmode=\"xml\", webenv=webEnv, query_key=queryKey) \n",
    "\n",
    "    for r in Entrez.parse(handle):\n",
    "        try:\n",
    "            gi=int([x for x in r['GBSeq_other-seqids'] if \"gi\" in x][0].split(\"|\")[1])\n",
    "        except ValueError:\n",
    "            gi=None\n",
    "        #print(r['GBSeq_sequence'])\n",
    "        seq = r['GBSeq_sequence']\n",
    "    return seq"
   ]
  },
  {
   "cell_type": "code",
   "execution_count": 5,
   "id": "another-trainer",
   "metadata": {},
   "outputs": [],
   "source": [
    "def test_get_seq():\n",
    "    seq = get_seq(\"karanjia@uw.edu\", 728886557)\n",
    "    expect = 'mlrsmltasttlnqlqqqidtissnlsnsnttgykakdtnfselvrqqfdqvdekneevakarktppglrlgvgammssrlvsdqgsiqktdrdldiaftspyqylqvnvngnrqytrdgalyvtpsaananqlqlvtgngypvldengntvnidssmknitinkngtltasdgnavqrfnlgvvqvnnpqelksegnnlfsidnaaafeelnganrqnigmqqgslemsnvdiseqmtdlitsqrsyqlnsrtitmgdqmlglinsvr'\n",
    "    assert seq == expect, 'the get_seq function is not working'"
   ]
  },
  {
   "cell_type": "markdown",
   "id": "instrumental-bridges",
   "metadata": {},
   "source": [
    "## Functions to support `get_feat` below"
   ]
  },
  {
   "cell_type": "markdown",
   "id": "elder-sphere",
   "metadata": {},
   "source": [
    "### `get_prot_mass`"
   ]
  },
  {
   "cell_type": "code",
   "execution_count": 17,
   "id": "involved-vehicle",
   "metadata": {},
   "outputs": [],
   "source": [
    "def get_prot_mass(AASeq):\n",
    "    \n",
    "    '''Tabulate approximate total mass of input amino acid string based on the sum of\n",
    "    the average masses for every amino acid in the string.'''\n",
    "    \n",
    "    # Create dict with amino acid sybols as keys and associated average masses as values\n",
    "    # Average masses taken from http://proteomicsresource.washington.edu/protocols06/masses.php\n",
    "    molecular_mass_dict = {\n",
    "    'A':71.0779, \n",
    "    'R':156.18568, \n",
    "    'G':57.05132, \n",
    "    'S':87.0773, \n",
    "    'P':97.11518, \n",
    "    'V':99.13106, \n",
    "    'T':101.10388, \n",
    "    'C':103.1429, \n",
    "    'L':113.15764, \n",
    "    'I':113.15764, \n",
    "    'N':114.10264, \n",
    "    'D':115.0874, \n",
    "    'Q':128.12922, \n",
    "    'K':128.17228, \n",
    "    'E':129.11398, \n",
    "    'M':131.19606, \n",
    "    'H':137.13928, \n",
    "    'F':147.17386, \n",
    "    'U':150.3079, \n",
    "    'Y':163.17326, \n",
    "    'W':186.2099, \n",
    "    'O':237.29816\n",
    "    }\n",
    "    \n",
    "    # Calculate approx mass for amino acid sequence\n",
    "    mass_list = []\n",
    "    \n",
    "    # Capitalize all letters in amino acid string prior to taking mass\n",
    "    AASeq = AASeq.upper()\n",
    "    \n",
    "    # Raise error if amino acid sequence contains characters not in the dict\n",
    "    acceptable_amino_acids_list = list(molecular_mass_dict.keys())\n",
    "\n",
    "    for char in AASeq:\n",
    "        if char not in acceptable_amino_acids_list:\n",
    "            if char == ' ':\n",
    "                continue\n",
    "            else:\n",
    "                raise ValueError('AASeq contains unacceptable characters')\n",
    "    \n",
    "    for amino_acid, mw in molecular_mass_dict.items():\n",
    "        aa_weight = AASeq.count(amino_acid)*mw\n",
    "        mass_list.append(aa_weight)\n",
    "    total_mass = sum(mass_list)\n",
    "    \n",
    "    return total_mass"
   ]
  },
  {
   "cell_type": "markdown",
   "id": "viral-check",
   "metadata": {},
   "source": [
    "### `get_biopy_feat`"
   ]
  },
  {
   "cell_type": "code",
   "execution_count": 18,
   "id": "double-trinidad",
   "metadata": {},
   "outputs": [],
   "source": [
    "def get_biopy_feat(sequence):\n",
    "    \"\"\"\n",
    "    Taken-in dataframe with a column specified as 'SEQUENCE' and uses Biopython to \n",
    "    generate additional features from each protein sequence to help better train a machine\n",
    "    learning model to predict log2FC\n",
    "    \"\"\"\n",
    "    ProtA = ProteinAnalysis(sequence)\n",
    "    molwt_biopy = ProtA.molecular_weight()\n",
    "    aromaticity = ProtA.aromaticity()\n",
    "    isoelectric_pt = ProtA.isoelectric_point()\n",
    "\n",
    "    return molwt_biopy, aromaticity, isoelectric_pt"
   ]
  },
  {
   "cell_type": "markdown",
   "id": "analyzed-damage",
   "metadata": {},
   "source": [
    "### `count_aa_types`"
   ]
  },
  {
   "cell_type": "code",
   "execution_count": 19,
   "id": "amazing-eclipse",
   "metadata": {},
   "outputs": [],
   "source": [
    "def count_aa_types(sequence):\n",
    "    '''here, sequence is an element in a list, not a list itself\n",
    "    Function takes the sequence, counts how many times amino acids occur per each of 4 \n",
    "    groups and returns values as percentages of the total amino acides in the sequence'''\n",
    "    l = len(sequence)\n",
    "    \n",
    "    ninja = {\n",
    "        'nonpolar': ['G', 'g', 'A', 'a', 'V', 'v', 'C', 'c', 'P', 'p', 'L', 'l', 'I', 'i', 'M', 'm', 'W', 'w', 'F', 'f'],\n",
    "        'positive': ['K', 'k', 'R', 'r', 'H', 'h'],\n",
    "        'polar': ['S', 's', 'T', 't', 'Y', 'y', 'N', 'n', 'Q', 'q'],\n",
    "        'negative': ['D', 'd', 'E', 'e']\n",
    "    }\n",
    "    \n",
    "    # Initiate lists for counts\n",
    "    nonpolar_l = []\n",
    "    positive_l = []\n",
    "    polar_l = []\n",
    "    negative_l = []\n",
    "    \n",
    "    for i in range(l):\n",
    "        aa = sequence[i]\n",
    "        if aa in ninja['nonpolar']:\n",
    "            nonpolar_l.append(1)\n",
    "        elif aa in ninja['positive']:\n",
    "            positive_l.append(1)\n",
    "        elif aa in ninja['polar']:\n",
    "            polar_l.append(1)\n",
    "        else:\n",
    "            negative_l.append(1)\n",
    "            \n",
    "    # Sum the lists to return\n",
    "    nonpolar_c = sum(nonpolar_l)\n",
    "    positive_c = sum(positive_l)\n",
    "    polar_c = sum(polar_l)\n",
    "    negative_c = sum(negative_l)\n",
    "    \n",
    "    # Percentage calculation to return\n",
    "    nonpolar = nonpolar_c / l *100\n",
    "    positive = positive_c / l *100\n",
    "    polar = polar_c / l *100\n",
    "    negative = negative_c / l *100\n",
    "    \n",
    "    return nonpolar, positive, polar, negative"
   ]
  },
  {
   "cell_type": "code",
   "execution_count": null,
   "id": "prescription-genre",
   "metadata": {},
   "outputs": [],
   "source": []
  },
  {
   "cell_type": "code",
   "execution_count": null,
   "id": "satisfactory-force",
   "metadata": {},
   "outputs": [],
   "source": []
  },
  {
   "cell_type": "markdown",
   "id": "formal-james",
   "metadata": {},
   "source": [
    "## The `get_feat` function"
   ]
  },
  {
   "cell_type": "code",
   "execution_count": 6,
   "id": "continent-retailer",
   "metadata": {},
   "outputs": [],
   "source": [
    "def get_feat(user_sequence):\n",
    "    \"\"\"\n",
    "    This function takes the sequence that the user is querying and returns a dataframe appended \n",
    "    with all of the features used in the predictive model\n",
    "    \"\"\"\n",
    "    \n",
    "    mass = get_prot_mass(user_sequence)\n",
    "    \n",
    "    molwt_biopy, aromaticity, isoelectric_pt = get_biopy_feat(user_sequence)\n",
    "    \n",
    "    nonpolar, positive, polar, negative = count_aa_types(user_sequence)\n",
    "    \n",
    "    # Make the features into a Pandas DataFrame\n",
    "    column_names = ['AA_NP', 'AA_POS', 'AA_POL', 'AA_NEG', 'MW', 'AROM', 'ISO_E']   \n",
    "    feat_list = [nonpolar, positive, polar, negative, mass, aromaticity, isoelectric_pt]\n",
    "    feat_df = pd.DataFrame([feat_list], columns=column_names)\n",
    "    \n",
    "    return feat_df"
   ]
  },
  {
   "cell_type": "code",
   "execution_count": 15,
   "id": "theoretical-syracuse",
   "metadata": {},
   "outputs": [
    {
     "data": {
      "text/html": [
       "<div>\n",
       "<style scoped>\n",
       "    .dataframe tbody tr th:only-of-type {\n",
       "        vertical-align: middle;\n",
       "    }\n",
       "\n",
       "    .dataframe tbody tr th {\n",
       "        vertical-align: top;\n",
       "    }\n",
       "\n",
       "    .dataframe thead th {\n",
       "        text-align: right;\n",
       "    }\n",
       "</style>\n",
       "<table border=\"1\" class=\"dataframe\">\n",
       "  <thead>\n",
       "    <tr style=\"text-align: right;\">\n",
       "      <th></th>\n",
       "      <th>AA_NP</th>\n",
       "      <th>AA_POS</th>\n",
       "      <th>AA_POL</th>\n",
       "      <th>AA_NEG</th>\n",
       "      <th>MW</th>\n",
       "      <th>AROM</th>\n",
       "      <th>ISO_E</th>\n",
       "    </tr>\n",
       "  </thead>\n",
       "  <tbody>\n",
       "    <tr>\n",
       "      <th>0</th>\n",
       "      <td>41.635688</td>\n",
       "      <td>8.178439</td>\n",
       "      <td>40.148699</td>\n",
       "      <td>10.037175</td>\n",
       "      <td>29484.36112</td>\n",
       "      <td>0.048327</td>\n",
       "      <td>4.888517</td>\n",
       "    </tr>\n",
       "  </tbody>\n",
       "</table>\n",
       "</div>"
      ],
      "text/plain": [
       "       AA_NP    AA_POS     AA_POL     AA_NEG           MW      AROM     ISO_E\n",
       "0  41.635688  8.178439  40.148699  10.037175  29484.36112  0.048327  4.888517"
      ]
     },
     "execution_count": 15,
     "metadata": {},
     "output_type": "execute_result"
    }
   ],
   "source": [
    "user_sequence = 'mlrsmltasttlnqlqqqidtissnlsnsnttgykakdtnfselvrqqfdqvdekneevakarktppglrlgvgammssrlvsdqgsiqktdrdldiaftspyqylqvnvngnrqytrdgalyvtpsaananqlqlvtgngypvldengntvnidssmknitinkngtltasdgnavqrfnlgvvqvnnpqelksegnnlfsidnaaafeelnganrqnigmqqgslemsnvdiseqmtdlitsqrsyqlnsrtitmgdqmlglinsvr'\n",
    "df = get_feat(user_sequence)\n",
    "df"
   ]
  },
  {
   "cell_type": "code",
   "execution_count": 15,
   "id": "multiple-shift",
   "metadata": {},
   "outputs": [],
   "source": [
    "def test_get_feat():\n",
    "    user_sequence = 'mlrsmltasttlnqlqqqidtissnlsnsnttgykakdtnfselvrqqfdqvdekneevakarktppglrlgvgammssrlvsdqgsiqktdrdldiaftspyqylqvnvngnrqytrdgalyvtpsaananqlqlvtgngypvldengntvnidssmknitinkngtltasdgnavqrfnlgvvqvnnpqelksegnnlfsidnaaafeelnganrqnigmqqgslemsnvdiseqmtdlitsqrsyqlnsrtitmgdqmlglinsvr'\n",
    "    result_df = get_feat(user_sequence)\n",
    "    result_test = result_df['MW'][0]\n",
    "    expect = 29484.36112\n",
    "    assert math.isclose(result_test, expect)"
   ]
  },
  {
   "cell_type": "code",
   "execution_count": 16,
   "id": "traditional-dover",
   "metadata": {},
   "outputs": [],
   "source": [
    "test_get_feat()"
   ]
  },
  {
   "cell_type": "markdown",
   "id": "square-appliance",
   "metadata": {},
   "source": [
    "## The `scale_input_feat` function"
   ]
  },
  {
   "cell_type": "code",
   "execution_count": 11,
   "id": "cloudy-satin",
   "metadata": {},
   "outputs": [],
   "source": [
    "def scale_input_feat(X):\n",
    "    '''\n",
    "    The function takes in X (our input features), and rescale based on min-max normalization\n",
    "    it returns the normalized X\n",
    "    '''\n",
    "    #returns a numpy array for X (needed to use the min_max_scaler)\n",
    "    X_arr = X.values \n",
    "\n",
    "    X_col_names = list(X.columns.values.tolist()) #get column names to then put back into X_norm\n",
    "\n",
    "    #min-max normalization (rescaling) of input features\n",
    "    min_max_scaler = preprocessing.MinMaxScaler()\n",
    "    X_scaled = min_max_scaler.fit_transform(X_arr)\n",
    "    X_norm= pd.DataFrame(X_scaled)\n",
    "\n",
    "    #put back the original column names\n",
    "    X_norm.columns = X_col_names\n",
    "    \n",
    "    return X_norm"
   ]
  },
  {
   "cell_type": "markdown",
   "id": "cross-ladder",
   "metadata": {},
   "source": [
    "## The `bagging_regr` function"
   ]
  },
  {
   "cell_type": "code",
   "execution_count": 12,
   "id": "inclusive-lawyer",
   "metadata": {},
   "outputs": [],
   "source": [
    "def bagging_regr(X_user):\n",
    "    '''\n",
    "    the function takes in the master csv and user input\n",
    "    csv_file should be inputted as a string = 'compiled_features_complete.csv'\n",
    "    test ratio, random state and n_estimator are set (from previous ML optimization)\n",
    "    returning the predicted output based on user input\n",
    "    '''\n",
    "\n",
    "    # Open and load dataset\n",
    "    bacterial_csv = pd.read_csv('UWInSpace_ModelData.csv')\n",
    "    df = pd.DataFrame(data=bacterial_csv)\n",
    "    \n",
    "    #assign input (X) /output (y) features\n",
    "    X= df[['AA_NP','AA_POS', 'AA_POL','AA_NEG', 'MW', 'AROM', 'ISO_E']]\n",
    "    y= df['LOG2FC']\n",
    "    \n",
    "    #Scale input features\n",
    "    X_arr = X.values #returns a numpy array for X (needed to use the min_max_scaler)\n",
    "\n",
    "    X_col_names = list(X.columns.values.tolist()) #get column names to then put back into X_norm\n",
    "\n",
    "    #min-max normalization (rescaling) of input features\n",
    "    min_max_scaler = preprocessing.MinMaxScaler()\n",
    "    X_scaled = min_max_scaler.fit_transform(X_arr)\n",
    "    X_norm= pd.DataFrame(X_scaled)\n",
    "\n",
    "    #put back the original column names\n",
    "    X_norm.columns = X_col_names\n",
    "    \n",
    "  \n",
    "    #set Bagging regressor parameters, from ML training: \n",
    "    test_ratio = 0.30\n",
    "    seed_random = 42\n",
    "    n_estim= 20\n",
    "    \n",
    "    X_train, X_test, y_train, y_test = train_test_split(X_norm, y, test_size=test_ratio, random_state=seed_random, shuffle=True)\n",
    "    #Model is Bagging Regressor, base estimator is Decision Tree regressor\n",
    "    model = BaggingRegressor(base_estimator=DecisionTreeRegressor(),n_estimators=n_estim, random_state=seed_random)\n",
    "    model.fit(X_train, y_train)\n",
    "    #y_testpredict = model.predict(X_test)\n",
    "       \n",
    "      \n",
    "    user_predict = model.predict(X_user)\n",
    "    \n",
    "    return user_predict"
   ]
  },
  {
   "cell_type": "markdown",
   "id": "cordless-occurrence",
   "metadata": {},
   "source": [
    "# Overall tool function:"
   ]
  },
  {
   "cell_type": "code",
   "execution_count": 20,
   "id": "respected-intranet",
   "metadata": {},
   "outputs": [],
   "source": [
    "def predict_log2fc(user_input, email):\n",
    "    \"\"\"\n",
    "    This function takes the user input of either a protein accesion number or \n",
    "    an amino acid sequence and predicts how much the sequence will change after \n",
    "    being in space (near-zero gravity and increased radiation exposure)\n",
    "    \"\"\"\n",
    "    \n",
    "    # Get user sequence\n",
    "    user_sequence = usr_seq(user_input, email)\n",
    "    \n",
    "    # Get features\n",
    "    user_features_df = get_feat(user_sequence)\n",
    "    \n",
    "    # Scale features\n",
    "    scaled_features_df = scale_input_feat(user_features_df)\n",
    "    \n",
    "    # Predict log2fc\n",
    "    prediction = bagging_regr(scaled_features_df)\n",
    "    prediction = prediction[0]\n",
    "    prediction = round(prediction, 4)\n",
    "    \n",
    "    print('The predicted log2fc is ', prediction)\n",
    "    \n",
    "    return prediction, user_features_df"
   ]
  },
  {
   "cell_type": "code",
   "execution_count": null,
   "id": "auburn-franklin",
   "metadata": {},
   "outputs": [],
   "source": []
  },
  {
   "cell_type": "markdown",
   "id": "armed-finland",
   "metadata": {},
   "source": [
    "## Do multiple predictions"
   ]
  },
  {
   "cell_type": "code",
   "execution_count": 14,
   "id": "attractive-medicaid",
   "metadata": {},
   "outputs": [],
   "source": [
    "def multi_pred_log2fc(user_inputs, email):\n",
    "    \"\"\"Input the proteins of interest as a list.  This function will iterate through \n",
    "    and return a list of predicted log2fc's.\n",
    "    \"\"\"\n",
    "    \n",
    "    input_length = len(user_input)\n",
    "    \n",
    "    # Initiate results list\n",
    "    result_log2fc = []\n",
    "    \n",
    "    for i in range(input_length):\n",
    "        result = predict_log2fc(user_input[i], email)\n",
    "        result_log2fc.append(result)\n",
    "    \n",
    "    return result_log2fc"
   ]
  },
  {
   "cell_type": "code",
   "execution_count": null,
   "id": "western-bottom",
   "metadata": {},
   "outputs": [],
   "source": []
  },
  {
   "cell_type": "code",
   "execution_count": null,
   "id": "rapid-length",
   "metadata": {},
   "outputs": [],
   "source": []
  },
  {
   "cell_type": "markdown",
   "id": "wanted-spiritual",
   "metadata": {},
   "source": [
    "## Trying it out...*gulp*"
   ]
  },
  {
   "cell_type": "code",
   "execution_count": 21,
   "id": "willing-peace",
   "metadata": {},
   "outputs": [
    {
     "name": "stdout",
     "output_type": "stream",
     "text": [
      "The predicted log2fc is  0.5338\n"
     ]
    }
   ],
   "source": [
    "user_input = 15600267\n",
    "email = 'jaking11@uw.edu'\n",
    "prediction, user_features_df = predict_log2fc(user_input, email)"
   ]
  },
  {
   "cell_type": "code",
   "execution_count": 22,
   "id": "guilty-princess",
   "metadata": {},
   "outputs": [
    {
     "data": {
      "text/html": [
       "<div>\n",
       "<style scoped>\n",
       "    .dataframe tbody tr th:only-of-type {\n",
       "        vertical-align: middle;\n",
       "    }\n",
       "\n",
       "    .dataframe tbody tr th {\n",
       "        vertical-align: top;\n",
       "    }\n",
       "\n",
       "    .dataframe thead th {\n",
       "        text-align: right;\n",
       "    }\n",
       "</style>\n",
       "<table border=\"1\" class=\"dataframe\">\n",
       "  <thead>\n",
       "    <tr style=\"text-align: right;\">\n",
       "      <th></th>\n",
       "      <th>AA_NP</th>\n",
       "      <th>AA_POS</th>\n",
       "      <th>AA_POL</th>\n",
       "      <th>AA_NEG</th>\n",
       "      <th>MW</th>\n",
       "      <th>AROM</th>\n",
       "      <th>ISO_E</th>\n",
       "    </tr>\n",
       "  </thead>\n",
       "  <tbody>\n",
       "    <tr>\n",
       "      <th>0</th>\n",
       "      <td>56.147541</td>\n",
       "      <td>14.344262</td>\n",
       "      <td>15.163934</td>\n",
       "      <td>14.344262</td>\n",
       "      <td>27056.93132</td>\n",
       "      <td>0.061475</td>\n",
       "      <td>5.676419</td>\n",
       "    </tr>\n",
       "  </tbody>\n",
       "</table>\n",
       "</div>"
      ],
      "text/plain": [
       "       AA_NP     AA_POS     AA_POL     AA_NEG           MW      AROM     ISO_E\n",
       "0  56.147541  14.344262  15.163934  14.344262  27056.93132  0.061475  5.676419"
      ]
     },
     "execution_count": 22,
     "metadata": {},
     "output_type": "execute_result"
    }
   ],
   "source": [
    "user_features_df"
   ]
  },
  {
   "cell_type": "code",
   "execution_count": null,
   "id": "elect-hostel",
   "metadata": {},
   "outputs": [],
   "source": []
  }
 ],
 "metadata": {
  "kernelspec": {
   "display_name": "Python 3",
   "language": "python",
   "name": "python3"
  },
  "language_info": {
   "codemirror_mode": {
    "name": "ipython",
    "version": 3
   },
   "file_extension": ".py",
   "mimetype": "text/x-python",
   "name": "python",
   "nbconvert_exporter": "python",
   "pygments_lexer": "ipython3",
   "version": "3.8.5"
  }
 },
 "nbformat": 4,
 "nbformat_minor": 5
}
