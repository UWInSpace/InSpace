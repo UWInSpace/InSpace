{
 "cells": [
  {
   "cell_type": "markdown",
   "id": "absolute-blond",
   "metadata": {},
   "source": [
    "# Tool Flow\n",
    "Per the user input  \n",
    "  \n",
    "Functions in this notebook and what they wrap:  \n",
    "`predict_log2fc()`  \n",
    "1. `usr_seq()`  \n",
    "    a. `get_seq()`  \n",
    "  \n",
    "2. `get_feat()`  \n",
    "    a. `get_prot_mass()`  \n",
    "    b. `get_biopy_feat()`  \n",
    "    c. `count_aa_types()`  \n",
    "  \n",
    "3. `scale_input_feat()`    \n",
    "    \n",
    "4. `bagging_regr()` - the modeling function that outputs the predicted log2fc  \n",
    "5. `vizualization_thing_here()`\n",
    "\n",
    "`multi_pred_log2fc()`"
   ]
  },
  {
   "cell_type": "markdown",
   "id": "complete-childhood",
   "metadata": {},
   "source": [
    "## Input EID or sequence"
   ]
  },
  {
   "cell_type": "code",
   "execution_count": null,
   "id": "legendary-fence",
   "metadata": {},
   "outputs": [],
   "source": [
    "user_input = eid"
   ]
  },
  {
   "cell_type": "markdown",
   "id": "opposite-possibility",
   "metadata": {},
   "source": [
    "## The `usr_seq` Function <span style=\"color:red\">--NEED ENTREZ `get_seq()` FUNCTION HERE"
   ]
  },
  {
   "cell_type": "code",
   "execution_count": 2,
   "id": "blind-trinidad",
   "metadata": {},
   "outputs": [],
   "source": [
    "def usr_seq(user_input, email):\n",
    "    \"\"\"If user input is an integer (EID and not a sequence that would be a string), get the sequence\n",
    "    \"\"\"\n",
    "    t = type(user_input)\n",
    "    if t is int:\n",
    "        **************************\n",
    "        user_sequence = get_seq(user_input, email)\n",
    "    else:\n",
    "        user_sequence = user_input\n",
    "    \n",
    "    return user_sequence"
   ]
  },
  {
   "cell_type": "code",
   "execution_count": 4,
   "id": "satisfied-moscow",
   "metadata": {},
   "outputs": [],
   "source": [
    "def test_usr_seq():\n",
    "    # Case 1: input is EID\n",
    "    usr_in = 15599626\n",
    "    result = usr_seq(usr_in)\n",
    "    assert result is str, 'the usr_seq function does not work'\n",
    "    # Case 2: input is sequence\n",
    "    usr_in = 'juliaisthecoolest'\n",
    "    result = usr_seq(usr_in)\n",
    "    assert result == usr_in, 'the usr_seq function does not work'\n",
    "    return"
   ]
  },
  {
   "cell_type": "markdown",
   "id": "sacred-mongolia",
   "metadata": {},
   "source": [
    "## The `get_feat` function"
   ]
  },
  {
   "cell_type": "code",
   "execution_count": null,
   "id": "impaired-bulgarian",
   "metadata": {},
   "outputs": [],
   "source": [
    "def get_feat(user_sequence):\n",
    "    \"\"\"\n",
    "    This function takes the sequence that the user is querying and returns a dataframe appended \n",
    "    with all of the features used in the predictive model\n",
    "    \"\"\"\n",
    "    \n",
    "    mass = get_prot_mass(user_sequence)\n",
    "    \n",
    "    molwt_biopy, aromaticity, isoelctric_pt = get_biopy_feat(user_sequence)\n",
    "    \n",
    "    nonpolar, positive, polar, negative = count_aa_types(user_sequence)\n",
    "    \n",
    "    # Make the features into a Pandas DataFrame\n",
    "    feat_list = [ nonpolar, positive, negative, polar, mass, aromaticity, isoelctric_pt,]\n",
    "    column_names = ['AA_NP','AA_POS','AA_NEG', 'AA_POL', 'MW', 'AROM', 'ISO_E']\n",
    "    df = pd. DataFrame(feat_list, columns=column_names)\n",
    "    \n",
    "    return df"
   ]
  },
  {
   "cell_type": "markdown",
   "id": "gentle-thing",
   "metadata": {},
   "source": [
    "# Overall tool function:"
   ]
  },
  {
   "cell_type": "code",
   "execution_count": 1,
   "id": "composed-shopping",
   "metadata": {},
   "outputs": [],
   "source": [
    "def predict_log2fc(user_input, email):\n",
    "    \"\"\"\n",
    "    This function takes the user input of either a protein accesion number or \n",
    "    an amino acid sequence and predicts how much the sequence will change after \n",
    "    being in space (near-zero gravity and increased radiation exposure)\n",
    "    \"\"\"\n",
    "    \n",
    "    # Get user sequence\n",
    "    user_sequence = usr_seq(user_input)\n",
    "    \n",
    "    # Get features\n",
    "    user_features = get_feat(user_sequence)\n",
    "    \n",
    "    # Make dataframe of features\n",
    "    column_names = ['AA_NP','AA_POS','AA_NEG', 'AA_POL', 'MW', 'AROM', 'ISO_E']\n",
    "    features_df = pd.DataFrame(user_features, columns=column_names)\n",
    "    \n",
    "    # Scale features\n",
    "    scaled_features = scale_input_feat(user_features)\n",
    "    \n",
    "    # Predict log2fc\n",
    "    prediction = bagging_regr(test_ratio, n_estim, seed_random, X, y)\n",
    "    \n",
    "    print('The predicted log2fc is ', prediction)\n",
    "    \n",
    "    return prediction"
   ]
  },
  {
   "cell_type": "markdown",
   "id": "retained-harvest",
   "metadata": {},
   "source": [
    "## Do multiple predictions"
   ]
  },
  {
   "cell_type": "code",
   "execution_count": null,
   "id": "viral-shipping",
   "metadata": {},
   "outputs": [],
   "source": [
    "def multi_pred_log2fc(user_inputs, email):\n",
    "    \"\"\"Input the proteins of interest as a list.  This function will iterate through \n",
    "    and return a list of predicted log2fc's.\n",
    "    \"\"\"\n",
    "    \n",
    "    input_length = len(user_input)\n",
    "    \n",
    "    # Initiate results list\n",
    "    result_log2fc = []\n",
    "    \n",
    "    for i in range(input_length):\n",
    "        result = predict_log2fc(user_input[i], email)\n",
    "        result_log2fc.append(result)\n",
    "    \n",
    "    return result_log2fc"
   ]
  }
 ],
 "metadata": {
  "kernelspec": {
   "display_name": "Python 3",
   "language": "python",
   "name": "python3"
  },
  "language_info": {
   "codemirror_mode": {
    "name": "ipython",
    "version": 3
   },
   "file_extension": ".py",
   "mimetype": "text/x-python",
   "name": "python",
   "nbconvert_exporter": "python",
   "pygments_lexer": "ipython3",
   "version": "3.8.5"
  }
 },
 "nbformat": 4,
 "nbformat_minor": 5
}
