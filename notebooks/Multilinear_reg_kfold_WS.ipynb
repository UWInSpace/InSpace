{
 "cells": [
  {
   "cell_type": "markdown",
   "id": "active-dictionary",
   "metadata": {},
   "source": [
    "### Multiple linear regression with kfold Cross-validation code for bacterial dataset"
   ]
  },
  {
   "cell_type": "code",
   "execution_count": 66,
   "id": "treated-gather",
   "metadata": {},
   "outputs": [],
   "source": [
    "#Import python libraries/packages\n",
    "\n",
    "# Pandas to handle dataframes\n",
    "import pandas as pd    \n",
    "\n",
    "# Import Scikit-Learn library for the regression model\n",
    "import sklearn         \n",
    "from sklearn import preprocessing #sklearn for normalization function\n",
    "from sklearn import linear_model, datasets\n",
    "from sklearn.model_selection import cross_val_score, KFold\n",
    "from sklearn.metrics import mean_squared_error, r2_score\n",
    "# SequentialFeatureSelector\n",
    "from sklearn.feature_selection import f_regression, SequentialFeatureSelector\n",
    "from sklearn.preprocessing import PolynomialFeatures\n",
    "from sklearn.pipeline import make_pipeline\n",
    "\n",
    "\n",
    "# Another statistic model library\n",
    "import statsmodels.api as sm\n",
    "import statsmodels.formula.api as smf\n",
    "\n",
    "import scipy.stats as stats\n",
    "import scipy\n",
    "from scipy import interpolate\n",
    "from scipy.interpolate import interp1d\n",
    "\n",
    "# Import numpy \n",
    "import numpy as np\n",
    "\n",
    "# Import plotting libraries\n",
    "import matplotlib \n",
    "from matplotlib import pyplot as plt\n",
    "# Set larger fontsize for all plots\n",
    "matplotlib.rcParams.update({'font.size': 18})"
   ]
  },
  {
   "cell_type": "code",
   "execution_count": 67,
   "id": "indonesian-tribute",
   "metadata": {},
   "outputs": [
    {
     "data": {
      "text/html": [
       "<div>\n",
       "<style scoped>\n",
       "    .dataframe tbody tr th:only-of-type {\n",
       "        vertical-align: middle;\n",
       "    }\n",
       "\n",
       "    .dataframe tbody tr th {\n",
       "        vertical-align: top;\n",
       "    }\n",
       "\n",
       "    .dataframe thead th {\n",
       "        text-align: right;\n",
       "    }\n",
       "</style>\n",
       "<table border=\"1\" class=\"dataframe\">\n",
       "  <thead>\n",
       "    <tr style=\"text-align: right;\">\n",
       "      <th></th>\n",
       "      <th>Unnamed: 0</th>\n",
       "      <th>GENENAME</th>\n",
       "      <th>ORG</th>\n",
       "      <th>ENTREZID</th>\n",
       "      <th>REFSEQ</th>\n",
       "      <th>LOG2FC</th>\n",
       "      <th>True_EID</th>\n",
       "      <th>SEQUENCE</th>\n",
       "      <th>AA_NP</th>\n",
       "      <th>AA_POS</th>\n",
       "      <th>AA_POL</th>\n",
       "      <th>AA_NEG</th>\n",
       "      <th>MW</th>\n",
       "      <th>AROM</th>\n",
       "      <th>ISO_E</th>\n",
       "    </tr>\n",
       "  </thead>\n",
       "  <tbody>\n",
       "    <tr>\n",
       "      <th>0</th>\n",
       "      <td>0</td>\n",
       "      <td>ABC_transporter</td>\n",
       "      <td>PA</td>\n",
       "      <td>879411</td>\n",
       "      <td>NP_248876</td>\n",
       "      <td>-0.038469</td>\n",
       "      <td>15595384</td>\n",
       "      <td>mkaltssllglfaapvlagllgayvplasaappkeiriavpdvsag...</td>\n",
       "      <td>59.773371</td>\n",
       "      <td>11.614731</td>\n",
       "      <td>17.847025</td>\n",
       "      <td>10.764873</td>\n",
       "      <td>37193.0756</td>\n",
       "      <td>0.070822</td>\n",
       "      <td>6.871061</td>\n",
       "    </tr>\n",
       "    <tr>\n",
       "      <th>1</th>\n",
       "      <td>1</td>\n",
       "      <td>ABC_transporter</td>\n",
       "      <td>PA</td>\n",
       "      <td>883108</td>\n",
       "      <td>NP_248894</td>\n",
       "      <td>-0.207718</td>\n",
       "      <td>15595400</td>\n",
       "      <td>mhqriasiglgltlalggsaqaagqlnvvswsgyfspqllekfeke...</td>\n",
       "      <td>54.941860</td>\n",
       "      <td>11.337209</td>\n",
       "      <td>22.674419</td>\n",
       "      <td>11.046512</td>\n",
       "      <td>37859.8560</td>\n",
       "      <td>0.093023</td>\n",
       "      <td>6.033937</td>\n",
       "    </tr>\n",
       "    <tr>\n",
       "      <th>2</th>\n",
       "      <td>2</td>\n",
       "      <td>ABC_transporter</td>\n",
       "      <td>PA</td>\n",
       "      <td>878380</td>\n",
       "      <td>NP_249014</td>\n",
       "      <td>-0.187309</td>\n",
       "      <td>15595520</td>\n",
       "      <td>mtyrtpltllfaaglalggqaraegtlhfanwsdyyppellkkfek...</td>\n",
       "      <td>52.449568</td>\n",
       "      <td>14.121037</td>\n",
       "      <td>20.461095</td>\n",
       "      <td>12.968300</td>\n",
       "      <td>38901.0268</td>\n",
       "      <td>0.112392</td>\n",
       "      <td>6.350359</td>\n",
       "    </tr>\n",
       "    <tr>\n",
       "      <th>3</th>\n",
       "      <td>3</td>\n",
       "      <td>ABC_transporter</td>\n",
       "      <td>PA</td>\n",
       "      <td>880771</td>\n",
       "      <td>NP_249293</td>\n",
       "      <td>0.085173</td>\n",
       "      <td>15595799</td>\n",
       "      <td>mlpamrtgllcallgvtapawaeyvtvisfggankeaqetafykpf...</td>\n",
       "      <td>59.593023</td>\n",
       "      <td>11.918605</td>\n",
       "      <td>17.732558</td>\n",
       "      <td>10.755814</td>\n",
       "      <td>37832.8132</td>\n",
       "      <td>0.116279</td>\n",
       "      <td>6.919602</td>\n",
       "    </tr>\n",
       "    <tr>\n",
       "      <th>4</th>\n",
       "      <td>4</td>\n",
       "      <td>ABC_transporter</td>\n",
       "      <td>PA</td>\n",
       "      <td>879023</td>\n",
       "      <td>NP_249295</td>\n",
       "      <td>0.038834</td>\n",
       "      <td>15595801</td>\n",
       "      <td>mskslkaaslkfatlaaglacaaqamavdltvvsfgganksaqika...</td>\n",
       "      <td>54.310345</td>\n",
       "      <td>11.494253</td>\n",
       "      <td>22.413793</td>\n",
       "      <td>11.781609</td>\n",
       "      <td>38166.9526</td>\n",
       "      <td>0.112069</td>\n",
       "      <td>5.869103</td>\n",
       "    </tr>\n",
       "    <tr>\n",
       "      <th>...</th>\n",
       "      <td>...</td>\n",
       "      <td>...</td>\n",
       "      <td>...</td>\n",
       "      <td>...</td>\n",
       "      <td>...</td>\n",
       "      <td>...</td>\n",
       "      <td>...</td>\n",
       "      <td>...</td>\n",
       "      <td>...</td>\n",
       "      <td>...</td>\n",
       "      <td>...</td>\n",
       "      <td>...</td>\n",
       "      <td>...</td>\n",
       "      <td>...</td>\n",
       "      <td>...</td>\n",
       "    </tr>\n",
       "    <tr>\n",
       "      <th>431</th>\n",
       "      <td>431</td>\n",
       "      <td>RNA_polymerase</td>\n",
       "      <td>BS</td>\n",
       "      <td>939937</td>\n",
       "      <td>NP_388354</td>\n",
       "      <td>-0.055848</td>\n",
       "      <td>728883360</td>\n",
       "      <td>mtqpskttkltkdevdrlisdyqtkqdeqaqetlvrvytnlvdmla...</td>\n",
       "      <td>42.748092</td>\n",
       "      <td>16.030534</td>\n",
       "      <td>24.809160</td>\n",
       "      <td>16.412214</td>\n",
       "      <td>29900.8971</td>\n",
       "      <td>0.049618</td>\n",
       "      <td>5.545803</td>\n",
       "    </tr>\n",
       "    <tr>\n",
       "      <th>432</th>\n",
       "      <td>432</td>\n",
       "      <td>RNA_polymerase</td>\n",
       "      <td>BS</td>\n",
       "      <td>936362</td>\n",
       "      <td>NP_391300</td>\n",
       "      <td>-0.140629</td>\n",
       "      <td>728886343</td>\n",
       "      <td>mdmklqqvqvlkpqltqelrqaitllgyhsaelaeyidelslenpl...</td>\n",
       "      <td>43.807339</td>\n",
       "      <td>15.596330</td>\n",
       "      <td>27.752294</td>\n",
       "      <td>12.844037</td>\n",
       "      <td>49700.0669</td>\n",
       "      <td>0.064220</td>\n",
       "      <td>7.716086</td>\n",
       "    </tr>\n",
       "    <tr>\n",
       "      <th>433</th>\n",
       "      <td>433</td>\n",
       "      <td>RNA_polymerase</td>\n",
       "      <td>BS</td>\n",
       "      <td>938729</td>\n",
       "      <td>NP_390226</td>\n",
       "      <td>-0.528350</td>\n",
       "      <td>728885268</td>\n",
       "      <td>mdvevkkngknaqlkdhevkelikqsqngdqqardllieknmrlvw...</td>\n",
       "      <td>43.137255</td>\n",
       "      <td>16.862745</td>\n",
       "      <td>21.568627</td>\n",
       "      <td>18.431373</td>\n",
       "      <td>29372.0675</td>\n",
       "      <td>0.058824</td>\n",
       "      <td>5.252059</td>\n",
       "    </tr>\n",
       "    <tr>\n",
       "      <th>434</th>\n",
       "      <td>434</td>\n",
       "      <td>RNA_polymerase</td>\n",
       "      <td>BS</td>\n",
       "      <td>939953</td>\n",
       "      <td>NP_389416</td>\n",
       "      <td>0.303125</td>\n",
       "      <td>728884442</td>\n",
       "      <td>msrnkveicgvdtsklpvlkneemrklfrqlqdegddsareklvng...</td>\n",
       "      <td>45.384615</td>\n",
       "      <td>16.153846</td>\n",
       "      <td>21.923077</td>\n",
       "      <td>16.538462</td>\n",
       "      <td>30073.0463</td>\n",
       "      <td>0.061538</td>\n",
       "      <td>5.632312</td>\n",
       "    </tr>\n",
       "    <tr>\n",
       "      <th>435</th>\n",
       "      <td>435</td>\n",
       "      <td>RNA_polymerase</td>\n",
       "      <td>BS</td>\n",
       "      <td>939683</td>\n",
       "      <td>NP_389415</td>\n",
       "      <td>-0.083972</td>\n",
       "      <td>728884441</td>\n",
       "      <td>mkklklrlthlwykllmklglksdevyyiggsealppplskdeeqv...</td>\n",
       "      <td>47.280335</td>\n",
       "      <td>17.573222</td>\n",
       "      <td>19.246862</td>\n",
       "      <td>15.899582</td>\n",
       "      <td>27652.0460</td>\n",
       "      <td>0.058577</td>\n",
       "      <td>8.725812</td>\n",
       "    </tr>\n",
       "  </tbody>\n",
       "</table>\n",
       "<p>436 rows × 15 columns</p>\n",
       "</div>"
      ],
      "text/plain": [
       "     Unnamed: 0         GENENAME ORG  ENTREZID     REFSEQ    LOG2FC  \\\n",
       "0             0  ABC_transporter  PA    879411  NP_248876 -0.038469   \n",
       "1             1  ABC_transporter  PA    883108  NP_248894 -0.207718   \n",
       "2             2  ABC_transporter  PA    878380  NP_249014 -0.187309   \n",
       "3             3  ABC_transporter  PA    880771  NP_249293  0.085173   \n",
       "4             4  ABC_transporter  PA    879023  NP_249295  0.038834   \n",
       "..          ...              ...  ..       ...        ...       ...   \n",
       "431         431   RNA_polymerase  BS    939937  NP_388354 -0.055848   \n",
       "432         432   RNA_polymerase  BS    936362  NP_391300 -0.140629   \n",
       "433         433   RNA_polymerase  BS    938729  NP_390226 -0.528350   \n",
       "434         434   RNA_polymerase  BS    939953  NP_389416  0.303125   \n",
       "435         435   RNA_polymerase  BS    939683  NP_389415 -0.083972   \n",
       "\n",
       "      True_EID                                           SEQUENCE      AA_NP  \\\n",
       "0     15595384  mkaltssllglfaapvlagllgayvplasaappkeiriavpdvsag...  59.773371   \n",
       "1     15595400  mhqriasiglgltlalggsaqaagqlnvvswsgyfspqllekfeke...  54.941860   \n",
       "2     15595520  mtyrtpltllfaaglalggqaraegtlhfanwsdyyppellkkfek...  52.449568   \n",
       "3     15595799  mlpamrtgllcallgvtapawaeyvtvisfggankeaqetafykpf...  59.593023   \n",
       "4     15595801  mskslkaaslkfatlaaglacaaqamavdltvvsfgganksaqika...  54.310345   \n",
       "..         ...                                                ...        ...   \n",
       "431  728883360  mtqpskttkltkdevdrlisdyqtkqdeqaqetlvrvytnlvdmla...  42.748092   \n",
       "432  728886343  mdmklqqvqvlkpqltqelrqaitllgyhsaelaeyidelslenpl...  43.807339   \n",
       "433  728885268  mdvevkkngknaqlkdhevkelikqsqngdqqardllieknmrlvw...  43.137255   \n",
       "434  728884442  msrnkveicgvdtsklpvlkneemrklfrqlqdegddsareklvng...  45.384615   \n",
       "435  728884441  mkklklrlthlwykllmklglksdevyyiggsealppplskdeeqv...  47.280335   \n",
       "\n",
       "        AA_POS     AA_POL     AA_NEG          MW      AROM     ISO_E  \n",
       "0    11.614731  17.847025  10.764873  37193.0756  0.070822  6.871061  \n",
       "1    11.337209  22.674419  11.046512  37859.8560  0.093023  6.033937  \n",
       "2    14.121037  20.461095  12.968300  38901.0268  0.112392  6.350359  \n",
       "3    11.918605  17.732558  10.755814  37832.8132  0.116279  6.919602  \n",
       "4    11.494253  22.413793  11.781609  38166.9526  0.112069  5.869103  \n",
       "..         ...        ...        ...         ...       ...       ...  \n",
       "431  16.030534  24.809160  16.412214  29900.8971  0.049618  5.545803  \n",
       "432  15.596330  27.752294  12.844037  49700.0669  0.064220  7.716086  \n",
       "433  16.862745  21.568627  18.431373  29372.0675  0.058824  5.252059  \n",
       "434  16.153846  21.923077  16.538462  30073.0463  0.061538  5.632312  \n",
       "435  17.573222  19.246862  15.899582  27652.0460  0.058577  8.725812  \n",
       "\n",
       "[436 rows x 15 columns]"
      ]
     },
     "execution_count": 67,
     "metadata": {},
     "output_type": "execute_result"
    }
   ],
   "source": [
    "# Open and load dataset\n",
    "bacterial_csv = pd.read_csv('compiled_features_complete.csv')\n",
    "df = pd.DataFrame(data=bacterial_csv)\n",
    "df"
   ]
  },
  {
   "cell_type": "code",
   "execution_count": 68,
   "id": "chemical-mauritius",
   "metadata": {},
   "outputs": [],
   "source": [
    "#assign input (X) /output (y) features\n",
    "X= df[['AA_NP','AA_POS','AA_NEG', 'AA_POL', 'MW', 'AROM', 'ISO_E']]\n",
    "y= df['LOG2FC']\n",
    "\n",
    "#Change as you decrease/select input features!!\n",
    "#Nfeat is number of input features\n",
    "Nfeat = X.shape[1]"
   ]
  },
  {
   "cell_type": "markdown",
   "id": "tender-virginia",
   "metadata": {},
   "source": [
    "#### Scale input features (Rory will write a function, need to implement later)\n",
    "for now just do a jupyter notebook lines"
   ]
  },
  {
   "cell_type": "code",
   "execution_count": 69,
   "id": "stunning-tiffany",
   "metadata": {},
   "outputs": [],
   "source": [
    "X_arr = X.values #returns a numpy array for X (needed to use the min_max_scaler)\n",
    "\n",
    "X_col_names = list(X.columns.values.tolist()) #get column names to then put back into X_norm\n",
    "\n",
    "#min-max normalization (rescaling) of input features\n",
    "min_max_scaler = preprocessing.MinMaxScaler()\n",
    "X_scaled = min_max_scaler.fit_transform(X_arr)\n",
    "X_norm= pd.DataFrame(X_scaled)\n",
    "\n",
    "#put back the original column names\n",
    "X_norm.columns = X_col_names\n",
    "\n",
    "X = X_norm"
   ]
  },
  {
   "cell_type": "code",
   "execution_count": 70,
   "id": "collected-cargo",
   "metadata": {},
   "outputs": [
    {
     "data": {
      "text/html": [
       "<div>\n",
       "<style scoped>\n",
       "    .dataframe tbody tr th:only-of-type {\n",
       "        vertical-align: middle;\n",
       "    }\n",
       "\n",
       "    .dataframe tbody tr th {\n",
       "        vertical-align: top;\n",
       "    }\n",
       "\n",
       "    .dataframe thead th {\n",
       "        text-align: right;\n",
       "    }\n",
       "</style>\n",
       "<table border=\"1\" class=\"dataframe\">\n",
       "  <thead>\n",
       "    <tr style=\"text-align: right;\">\n",
       "      <th></th>\n",
       "      <th>AA_NP</th>\n",
       "      <th>AA_POS</th>\n",
       "      <th>AA_NEG</th>\n",
       "      <th>AA_POL</th>\n",
       "      <th>MW</th>\n",
       "      <th>AROM</th>\n",
       "      <th>ISO_E</th>\n",
       "    </tr>\n",
       "  </thead>\n",
       "  <tbody>\n",
       "    <tr>\n",
       "      <th>0</th>\n",
       "      <td>0.560010</td>\n",
       "      <td>0.473362</td>\n",
       "      <td>0.223260</td>\n",
       "      <td>0.250886</td>\n",
       "      <td>0.208999</td>\n",
       "      <td>0.329985</td>\n",
       "      <td>0.380891</td>\n",
       "    </tr>\n",
       "    <tr>\n",
       "      <th>1</th>\n",
       "      <td>0.452176</td>\n",
       "      <td>0.457427</td>\n",
       "      <td>0.231083</td>\n",
       "      <td>0.387387</td>\n",
       "      <td>0.213203</td>\n",
       "      <td>0.452431</td>\n",
       "      <td>0.267864</td>\n",
       "    </tr>\n",
       "    <tr>\n",
       "      <th>2</th>\n",
       "      <td>0.396551</td>\n",
       "      <td>0.617272</td>\n",
       "      <td>0.284465</td>\n",
       "      <td>0.324803</td>\n",
       "      <td>0.219767</td>\n",
       "      <td>0.559252</td>\n",
       "      <td>0.310587</td>\n",
       "    </tr>\n",
       "    <tr>\n",
       "      <th>3</th>\n",
       "      <td>0.555985</td>\n",
       "      <td>0.490810</td>\n",
       "      <td>0.223009</td>\n",
       "      <td>0.247650</td>\n",
       "      <td>0.213032</td>\n",
       "      <td>0.580691</td>\n",
       "      <td>0.387445</td>\n",
       "    </tr>\n",
       "    <tr>\n",
       "      <th>4</th>\n",
       "      <td>0.438081</td>\n",
       "      <td>0.466444</td>\n",
       "      <td>0.251502</td>\n",
       "      <td>0.380018</td>\n",
       "      <td>0.215139</td>\n",
       "      <td>0.557471</td>\n",
       "      <td>0.245608</td>\n",
       "    </tr>\n",
       "    <tr>\n",
       "      <th>...</th>\n",
       "      <td>...</td>\n",
       "      <td>...</td>\n",
       "      <td>...</td>\n",
       "      <td>...</td>\n",
       "      <td>...</td>\n",
       "      <td>...</td>\n",
       "      <td>...</td>\n",
       "    </tr>\n",
       "    <tr>\n",
       "      <th>431</th>\n",
       "      <td>0.180024</td>\n",
       "      <td>0.726915</td>\n",
       "      <td>0.380126</td>\n",
       "      <td>0.447750</td>\n",
       "      <td>0.163027</td>\n",
       "      <td>0.213046</td>\n",
       "      <td>0.201957</td>\n",
       "    </tr>\n",
       "    <tr>\n",
       "      <th>432</th>\n",
       "      <td>0.203666</td>\n",
       "      <td>0.701983</td>\n",
       "      <td>0.281013</td>\n",
       "      <td>0.530971</td>\n",
       "      <td>0.287848</td>\n",
       "      <td>0.293578</td>\n",
       "      <td>0.494985</td>\n",
       "    </tr>\n",
       "    <tr>\n",
       "      <th>433</th>\n",
       "      <td>0.188710</td>\n",
       "      <td>0.774700</td>\n",
       "      <td>0.436212</td>\n",
       "      <td>0.356120</td>\n",
       "      <td>0.159693</td>\n",
       "      <td>0.263815</td>\n",
       "      <td>0.162296</td>\n",
       "    </tr>\n",
       "    <tr>\n",
       "      <th>434</th>\n",
       "      <td>0.238869</td>\n",
       "      <td>0.733995</td>\n",
       "      <td>0.383633</td>\n",
       "      <td>0.366142</td>\n",
       "      <td>0.164112</td>\n",
       "      <td>0.278788</td>\n",
       "      <td>0.213637</td>\n",
       "    </tr>\n",
       "    <tr>\n",
       "      <th>435</th>\n",
       "      <td>0.281179</td>\n",
       "      <td>0.815495</td>\n",
       "      <td>0.365887</td>\n",
       "      <td>0.290469</td>\n",
       "      <td>0.148849</td>\n",
       "      <td>0.262457</td>\n",
       "      <td>0.631316</td>\n",
       "    </tr>\n",
       "  </tbody>\n",
       "</table>\n",
       "<p>436 rows × 7 columns</p>\n",
       "</div>"
      ],
      "text/plain": [
       "        AA_NP    AA_POS    AA_NEG    AA_POL        MW      AROM     ISO_E\n",
       "0    0.560010  0.473362  0.223260  0.250886  0.208999  0.329985  0.380891\n",
       "1    0.452176  0.457427  0.231083  0.387387  0.213203  0.452431  0.267864\n",
       "2    0.396551  0.617272  0.284465  0.324803  0.219767  0.559252  0.310587\n",
       "3    0.555985  0.490810  0.223009  0.247650  0.213032  0.580691  0.387445\n",
       "4    0.438081  0.466444  0.251502  0.380018  0.215139  0.557471  0.245608\n",
       "..        ...       ...       ...       ...       ...       ...       ...\n",
       "431  0.180024  0.726915  0.380126  0.447750  0.163027  0.213046  0.201957\n",
       "432  0.203666  0.701983  0.281013  0.530971  0.287848  0.293578  0.494985\n",
       "433  0.188710  0.774700  0.436212  0.356120  0.159693  0.263815  0.162296\n",
       "434  0.238869  0.733995  0.383633  0.366142  0.164112  0.278788  0.213637\n",
       "435  0.281179  0.815495  0.365887  0.290469  0.148849  0.262457  0.631316\n",
       "\n",
       "[436 rows x 7 columns]"
      ]
     },
     "execution_count": 70,
     "metadata": {},
     "output_type": "execute_result"
    }
   ],
   "source": [
    "X"
   ]
  },
  {
   "cell_type": "markdown",
   "id": "dutch-spectacular",
   "metadata": {},
   "source": [
    "#### Function to do multiple linear regression with k-fold Cross-validation\n",
    "multilinregr_kf(n_split):"
   ]
  },
  {
   "cell_type": "code",
   "execution_count": 108,
   "id": "metric-burton",
   "metadata": {},
   "outputs": [],
   "source": [
    "def multilinregr_kf(n_split, X, y):\n",
    "#the function will split test/train data with k-fold cross validation\n",
    "#model used is multiple linear regression\n",
    "#will return test/train datasets, prediction, and a list of MSE based on k-fold CV\n",
    "    kf = KFold(n_splits=split_num, shuffle=True)\n",
    "    MSE_kf = []\n",
    "    for train_index, test_index in kf.split(X):\n",
    "        #split train/test dataset with k-fold cross validation\n",
    "        X_train, X_test = X.iloc[train_index], X.iloc[test_index]\n",
    "        y_train, y_test = y.iloc[train_index], y.iloc[test_index]\n",
    "    \n",
    "        #Define method and fit to the train set\n",
    "        model = linear_model.LinearRegression().fit(X_train, y_train)\n",
    "        y_predict = model.predict(X_test)\n",
    "        MSE_kf.append(mean_squared_error(y_test, y_predict))\n",
    "        \n",
    "        kf_cv_scores = cross_val_score(model, X_train, y_train, cv=kf)\n",
    "              \n",
    "        mlr_params = [model.coef_,model.intercept_,kf_cv_scores]\n",
    "        \n",
    "    return X_train, X_test, y_train, y_test, y_predict, MSE_kf, mlr_params"
   ]
  },
  {
   "cell_type": "code",
   "execution_count": 136,
   "id": "secure-aviation",
   "metadata": {
    "scrolled": true
   },
   "outputs": [],
   "source": [
    "#split num is a changeable parameter\n",
    "split_num = 40\n",
    "\n",
    "\n",
    "X_train, X_test, y_train, y_test, y_predict, MSE_kf, mlr_params= multilinregr_kf(split_num, X, y)\n",
    "# mlr_params list consists of [model.coef_,model.intercept_,kf_cv_scores]"
   ]
  },
  {
   "cell_type": "code",
   "execution_count": 137,
   "id": "realistic-society",
   "metadata": {
    "scrolled": true
   },
   "outputs": [
    {
     "name": "stdout",
     "output_type": "stream",
     "text": [
      "The multiple linear regression coefficients are [-9.11539393e+13 -3.54315129e+13 -7.32425041e+13 -7.19490237e+13\n",
      " -6.28117673e-02 -1.45721333e-01 -2.70305475e-04]\n",
      "The multiple linear regression intercept is 102222190805710.61\n"
     ]
    }
   ],
   "source": [
    "MLR_coeffs = mlr_params[0]\n",
    "MLR_intercept = mlr_params[1]\n",
    "kf_cv_scores = mlr_params[2]\n",
    "\n",
    "#print the regression coefficients (beta values) and intercept (beta zero)\n",
    "print(f\"The multiple linear regression coefficients are {MLR_coeffs}\")\n",
    "print(f\"The multiple linear regression intercept is {MLR_intercept}\")"
   ]
  },
  {
   "cell_type": "code",
   "execution_count": 138,
   "id": "joined-mention",
   "metadata": {},
   "outputs": [
    {
     "name": "stdout",
     "output_type": "stream",
     "text": [
      "K-fold CV average score: -0.24\n",
      "Mean MSE from test data using k-fold CV 0.08722862352763701\n",
      "Coefficient of determination (R^2 value): -0.04\n"
     ]
    }
   ],
   "source": [
    "#Evaluate model and report performance\n",
    "\n",
    "\n",
    "#Print kfold cross validation scores\n",
    "print(\"K-fold CV average score: %.2f\" % kf_cv_scores.mean())\n",
    "\n",
    "#calculate mean MSE from all iterations\n",
    "mean_kf_MSE = (1/split_num) *np.sum(MSE_kf)\n",
    "print(\"Mean MSE from test data using k-fold CV\", mean_kf_MSE)\n",
    "\n",
    "#calculate R^2 value (best value = 1, negative if we have huge error)\n",
    "print('Coefficient of determination (R^2 value): %.2f' % r2_score(y_test, y_predict))"
   ]
  },
  {
   "cell_type": "code",
   "execution_count": 139,
   "id": "therapeutic-selling",
   "metadata": {},
   "outputs": [
    {
     "data": {
      "image/png": "[encoded data removed]",
      "text/plain": [
       "<Figure size 432x288 with 1 Axes>"
      ]
     },
     "metadata": {
      "needs_background": "light"
     },
     "output_type": "display_data"
    }
   ],
   "source": [
    "#plot MSE values at every k-fold iteration    \n",
    "plt.figure()\n",
    "plt.plot(MSE_kf,'*',color='blue')\n",
    "plt.xlabel('Test set k-fold')\n",
    "plt.ylabel('MSE')\n",
    "plt.show()"
   ]
  },
  {
   "cell_type": "markdown",
   "id": "mechanical-damages",
   "metadata": {},
   "source": [
    "#### Check y_test and y_predict per input features"
   ]
  },
  {
   "cell_type": "code",
   "execution_count": 140,
   "id": "south-friend",
   "metadata": {},
   "outputs": [
    {
     "data": {
      "image/png": "[encoded data removed]",
      "text/plain": [
       "<Figure size 1512x216 with 7 Axes>"
      ]
     },
     "metadata": {
      "needs_background": "light"
     },
     "output_type": "display_data"
    }
   ],
   "source": [
    "# Plot LogFC output feature per input feature\n",
    "feature_names = np.array(list(X.columns))\n",
    "fig, ax = plt.subplots(1,Nfeat,figsize=(Nfeat*3,3))\n",
    "for i in range(Nfeat):\n",
    "  \n",
    "    ax[i].scatter(X_test.iloc[:,i], y_test, s=50, marker='o', color=\"cornflowerblue\", alpha=0.8, label=\"exact\")\n",
    "    ax[i].scatter(X_test.iloc[:,i], y_predict, s=100, marker='>', color=\"tomato\", alpha=0.8, label=\"predicted\")\n",
    "    ax[i].set_xlabel(feature_names[i])\n",
    "    ax[i].set_ylabel('Y target')\n",
    "    ax[i].legend(fontsize=8)\n",
    "\n",
    "plt.tight_layout()"
   ]
  },
  {
   "cell_type": "markdown",
   "id": "convinced-reputation",
   "metadata": {},
   "source": [
    "#### if not using MLR k-fold CV function:"
   ]
  },
  {
   "cell_type": "code",
   "execution_count": 10,
   "id": "floppy-background",
   "metadata": {},
   "outputs": [],
   "source": [
    "#Apply cross-validation with a k-fold method\n",
    "split_num = 5\n",
    "kf = KFold(n_splits=split_num, shuffle=True)"
   ]
  },
  {
   "cell_type": "code",
   "execution_count": 22,
   "id": "arctic-helena",
   "metadata": {},
   "outputs": [],
   "source": [
    "#Check MSE at each iteration when doing cross-validation k-fold\n",
    "MSE_kf = []\n",
    "for train_index, test_index in kf.split(X):\n",
    "    #split train/test dataset with k-fold cross validation\n",
    "    X_train, X_test = X.iloc[train_index], X.iloc[test_index]\n",
    "    y_train, y_test = y.iloc[train_index], y.iloc[test_index]\n",
    "    \n",
    "    #Define method and fit to the train set\n",
    "    model = linear_model.LinearRegression().fit(X_train, y_train)\n",
    "    y_predict = model.predict(X_test)\n",
    "    MSE_kf.append(mean_squared_error(y_test, y_predict))"
   ]
  },
  {
   "cell_type": "code",
   "execution_count": null,
   "id": "likely-mississippi",
   "metadata": {},
   "outputs": [],
   "source": [
    "#plot MSE values at every k-fold iteration    \n",
    "plt.figure()\n",
    "plt.plot(MSE_kf,'*',color='blue')\n",
    "plt.xlabel('Test set k-fold')\n",
    "plt.ylabel('MSE')\n",
    "plt.show()"
   ]
  },
  {
   "cell_type": "code",
   "execution_count": 2,
   "id": "operating-mustang",
   "metadata": {},
   "outputs": [],
   "source": [
    "#print the regression coefficients (beta values) and intercept (beta zero)\n",
    "print(\"The multiple linear regression coefficients are\" % model.coef_)\n",
    "print(\"The multiple linear regression intercept is\" % model.intercept_)"
   ]
  },
  {
   "cell_type": "code",
   "execution_count": 24,
   "id": "lightweight-wells",
   "metadata": {
    "scrolled": false
   },
   "outputs": [
    {
     "name": "stdout",
     "output_type": "stream",
     "text": [
      "K-fold CV average score: -0.05\n",
      "Mean MSE from test data using k-fold CV 0.08558595823361925\n",
      "Coefficient of determination (R^2 value): -0.03\n"
     ]
    }
   ],
   "source": [
    "#Evaluate model and report performance\n",
    "\n",
    "#Calculate kfold cross validation scores\n",
    "kf_cv_scores = cross_val_score(model, X_train, y_train, cv=kf )\n",
    "print(\"K-fold CV average score: %.2f\" % kf_cv_scores.mean())\n",
    "\n",
    "#calculate mean MSE from all iterations\n",
    "mean_kf_MSE = (1/split_num) *np.sum(MSE_kf)\n",
    "print(\"Mean MSE from test data using k-fold CV\", mean_kf_MSE)\n",
    "\n",
    "#calculate R^2 value (best value = 1, negative if we have huge error)\n",
    "print('Coefficient of determination (R^2 value): %.2f' % r2_score(y_test, y_predict))"
   ]
  },
  {
   "cell_type": "markdown",
   "id": "comparable-compensation",
   "metadata": {},
   "source": [
    "#### plot test output feature and predicted output feature"
   ]
  },
  {
   "cell_type": "code",
   "execution_count": 62,
   "id": "gentle-command",
   "metadata": {},
   "outputs": [],
   "source": [
    "def plot_prediction(y_test, y_predict):\n",
    "#the function will plot prediction and test output data\n",
    "#to see how acurrate the prediction data are\n",
    "    x_ax = range(len(y_test))\n",
    "    plt.scatter(x_ax, y_test, s=5, color=\"blue\", label=\"original\")\n",
    "    plt.plot(x_ax, y_predict, lw=0.8, color=\"red\", label=\"predicted\")\n",
    "    plt.legend(loc='upper right', prop={'size': 10})\n",
    "    plt.show()"
   ]
  },
  {
   "cell_type": "code",
   "execution_count": 141,
   "id": "dental-vermont",
   "metadata": {},
   "outputs": [
    {
     "data": {
      "image/png": "[encoded data removed]",
      "text/plain": [
       "<Figure size 432x288 with 1 Axes>"
      ]
     },
     "metadata": {
      "needs_background": "light"
     },
     "output_type": "display_data"
    }
   ],
   "source": [
    "#visualize the original and predicted test data in a plot\n",
    "plot_pred = plot_prediction(y_test, y_predict)"
   ]
  },
  {
   "cell_type": "markdown",
   "id": "surprised-water",
   "metadata": {},
   "source": [
    "#### what if we vary the Split ratios, collect average MSE and R2 values in a list"
   ]
  },
  {
   "cell_type": "code",
   "execution_count": 89,
   "id": "southern-journalism",
   "metadata": {},
   "outputs": [],
   "source": [
    "def MLR_kf_splitvar(split_list, X, y):\n",
    "#the function will split test/train data with k-fold cross validation\n",
    "#model used is multiple linear regression\n",
    "#will return test/train datasets, prediction, and a list of MSE based on k-fold CV\n",
    "    kf = KFold(n_splits=split_num, shuffle=True)\n",
    "    MSE_diffkf = []\n",
    "    R2_diffkf = []\n",
    "    score_diffkf = []\n",
    "    for i in range(len(split_list)):\n",
    "        MSE_kf = []\n",
    "        for train_index, test_index in kf.split(X):\n",
    "            #split train/test dataset with k-fold cross validation\n",
    "            X_train, X_test = X.iloc[train_index], X.iloc[test_index]\n",
    "            y_train, y_test = y.iloc[train_index], y.iloc[test_index]\n",
    "    \n",
    "            #Define method and fit to the train set\n",
    "            model = linear_model.LinearRegression().fit(X_train, y_train)\n",
    "            y_predict = model.predict(X_test)\n",
    "            MSE_kf.append(mean_squared_error(y_test, y_predict))\n",
    "        \n",
    "            kf_cv_scores = cross_val_score(model, X_train, y_train, cv=kf)\n",
    "            \n",
    "        R2 = r2_score(y_test, y_predict)\n",
    "        \n",
    "        mean_kf_MSE = (1/split_list[i]) *np.sum(MSE_kf)\n",
    "        \n",
    "        MSE_diffkf.append(mean_kf_MSE)\n",
    "        R2_diffkf.append(R2)\n",
    "        score_diffkf.append(kf_cv_scores)\n",
    "        \n",
    "        return MSE_diffkf, R2_diffkf, score_diffkf"
   ]
  },
  {
   "cell_type": "code",
   "execution_count": 90,
   "id": "random-lighter",
   "metadata": {},
   "outputs": [],
   "source": [
    "split_list = [5,10,15,20,25]\n",
    "MSE_diffkf, R2_diffkf, score_diffkf = MLR_kf_splitvar(split_list, X, y)"
   ]
  },
  {
   "cell_type": "code",
   "execution_count": 91,
   "id": "cleared-shareware",
   "metadata": {},
   "outputs": [
    {
     "data": {
      "text/plain": [
       "[0.0865558137366029]"
      ]
     },
     "execution_count": 91,
     "metadata": {},
     "output_type": "execute_result"
    }
   ],
   "source": [
    "MSE_diffkf"
   ]
  },
  {
   "cell_type": "code",
   "execution_count": 92,
   "id": "noted-mexico",
   "metadata": {},
   "outputs": [
    {
     "data": {
      "text/plain": [
       "[-0.013773779761899974]"
      ]
     },
     "execution_count": 92,
     "metadata": {},
     "output_type": "execute_result"
    }
   ],
   "source": [
    "R2_diffkf"
   ]
  },
  {
   "cell_type": "code",
   "execution_count": 93,
   "id": "broad-abraham",
   "metadata": {},
   "outputs": [
    {
     "data": {
      "text/plain": [
       "[array([-0.32505678, -0.08313089, -0.04331435, -0.0316221 , -0.02019018])]"
      ]
     },
     "execution_count": 93,
     "metadata": {},
     "output_type": "execute_result"
    }
   ],
   "source": [
    "score_diffkf"
   ]
  },
  {
   "cell_type": "code",
   "execution_count": null,
   "id": "decreased-congo",
   "metadata": {},
   "outputs": [],
   "source": []
  }
 ],
 "metadata": {
  "kernelspec": {
   "display_name": "Python 3",
   "language": "python",
   "name": "python3"
  },
  "language_info": {
   "codemirror_mode": {
    "name": "ipython",
    "version": 3
   },
   "file_extension": ".py",
   "mimetype": "text/x-python",
   "name": "python",
   "nbconvert_exporter": "python",
   "pygments_lexer": "ipython3",
   "version": "3.8.5"
  }
 },
 "nbformat": 4,
 "nbformat_minor": 5
}
