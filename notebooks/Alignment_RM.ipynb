{
 "cells": [
  {
   "cell_type": "code",
   "execution_count": 1,
   "id": "federal-serve",
   "metadata": {},
   "outputs": [],
   "source": [
    "from Bio import Align\n",
    "import csv\n",
    "import itertools\n",
    "import pandas as pd\n",
    "import numpy as np"
   ]
  },
  {
   "cell_type": "markdown",
   "id": "potential-employee",
   "metadata": {},
   "source": [
    "#### Psuedo Code:\n",
    "\n",
    "- read csv column containing sequences as a list of strings\n",
    "- use single for loop with `itertools.combinations(<listname>, 2)` and `Align.PairwiseAligner()` to get new list of alignement scores.\n",
    "\n",
    "- Issues to solve:\n",
    "    - Limit each sequence pair to 1 alignment (sometimes it likes to give 2)\n",
    "    - Ensure scoring params are same as blastn (https://www.ncbi.nlm.nih.gov/books/NBK279684/#_appendices_BLAST_Substitution_Matrices_)\n"
   ]
  },
  {
   "cell_type": "code",
   "execution_count": 2,
   "id": "textile-exemption",
   "metadata": {},
   "outputs": [],
   "source": [
    "with open('Alignment_RM_Test.csv', 'r') as csv_file:\n",
    "    lines = csv_file.readlines()\n",
    "    \n",
    "headers = lines[0].rstrip().split(',') # rstrip removes end-of-line chars\n",
    "numLines = len(lines)\n",
    "\n",
    "# create lineList to include only numLines elements\n",
    "linelist = [x.rstrip().split(',')\n",
    "           for x in lines[1:numLines+1]] \n",
    "\n",
    "# list comprehension within dictionary comprehension to split each element by its headers and create dictionary of lists\n",
    "outputDict = {keyVal:[x[idx] \n",
    "                       for x in linelist \n",
    "                       if len(x) == len(headers)] \n",
    "              for idx, keyVal in enumerate (headers)} \n",
    "\n"
   ]
  },
  {
   "cell_type": "code",
   "execution_count": 3,
   "id": "nearby-present",
   "metadata": {},
   "outputs": [
    {
     "data": {
      "text/plain": [
       "{'x': ['1', '2', '3', '4', '5', '6', '7'],\n",
       " 'y': ['atgcatgc',\n",
       "  'attgctgc',\n",
       "  'tttgccgg',\n",
       "  'atgctttt',\n",
       "  'cgggctaa',\n",
       "  'tgtgtgta',\n",
       "  'tagggccc'],\n",
       " '': ['', '', '', '', '', '', '']}"
      ]
     },
     "execution_count": 3,
     "metadata": {},
     "output_type": "execute_result"
    }
   ],
   "source": [
    "outputDict # print dict to make sure everything worked"
   ]
  },
  {
   "cell_type": "code",
   "execution_count": 4,
   "id": "scheduled-plain",
   "metadata": {},
   "outputs": [
    {
     "name": "stdout",
     "output_type": "stream",
     "text": [
      "['atgcatgc', 'attgctgc', 'tttgccgg', 'atgctttt', 'cgggctaa', 'tgtgtgta', 'tagggccc']\n"
     ]
    }
   ],
   "source": [
    "# convert our desired column(s) from dict values into list\n",
    "seq_list = list(outputDict.get('y'))\n",
    "print(seq_list)"
   ]
  },
  {
   "cell_type": "code",
   "execution_count": 5,
   "id": "clear-italian",
   "metadata": {},
   "outputs": [
    {
     "name": "stdout",
     "output_type": "stream",
     "text": [
      "[['atgcatgc', 'attgctgc'], ['atgcatgc', 'tttgccgg'], ['atgcatgc', 'atgctttt'], ['atgcatgc', 'cgggctaa'], ['atgcatgc', 'tgtgtgta'], ['atgcatgc', 'tagggccc'], ['attgctgc', 'tttgccgg'], ['attgctgc', 'atgctttt'], ['attgctgc', 'cgggctaa'], ['attgctgc', 'tgtgtgta'], ['attgctgc', 'tagggccc'], ['tttgccgg', 'atgctttt'], ['tttgccgg', 'cgggctaa'], ['tttgccgg', 'tgtgtgta'], ['tttgccgg', 'tagggccc'], ['atgctttt', 'cgggctaa'], ['atgctttt', 'tgtgtgta'], ['atgctttt', 'tagggccc'], ['cgggctaa', 'tgtgtgta'], ['cgggctaa', 'tagggccc'], ['tgtgtgta', 'tagggccc']]\n"
     ]
    }
   ],
   "source": [
    "pair_list = []\n",
    "\n",
    "for a, b in itertools.combinations(seq_list, 2): \n",
    "    pair_list.append([a, b])\n",
    "    \n",
    "print(pair_list)\n"
   ]
  },
  {
   "cell_type": "code",
   "execution_count": 6,
   "id": "rotary-device",
   "metadata": {},
   "outputs": [
    {
     "data": {
      "text/plain": [
       "[<Bio.Align.PairwiseAlignments at 0x7fed0745a190>,\n",
       " <Bio.Align.PairwiseAlignments at 0x7fed0842b820>,\n",
       " <Bio.Align.PairwiseAlignments at 0x7fed0842b7c0>,\n",
       " <Bio.Align.PairwiseAlignments at 0x7fed0842b4c0>,\n",
       " <Bio.Align.PairwiseAlignments at 0x7fed0842b6d0>,\n",
       " <Bio.Align.PairwiseAlignments at 0x7fed0842b130>,\n",
       " <Bio.Align.PairwiseAlignments at 0x7fed0842b520>,\n",
       " <Bio.Align.PairwiseAlignments at 0x7fed0842b1f0>,\n",
       " <Bio.Align.PairwiseAlignments at 0x7fed0842b3a0>,\n",
       " <Bio.Align.PairwiseAlignments at 0x7fed0842b4f0>,\n",
       " <Bio.Align.PairwiseAlignments at 0x7fed0842b730>,\n",
       " <Bio.Align.PairwiseAlignments at 0x7fed0842b250>,\n",
       " <Bio.Align.PairwiseAlignments at 0x7fed0842b2e0>,\n",
       " <Bio.Align.PairwiseAlignments at 0x7fed0842b040>,\n",
       " <Bio.Align.PairwiseAlignments at 0x7fed0842b0a0>,\n",
       " <Bio.Align.PairwiseAlignments at 0x7fed0842b310>,\n",
       " <Bio.Align.PairwiseAlignments at 0x7fed0842b220>,\n",
       " <Bio.Align.PairwiseAlignments at 0x7fed0842b610>,\n",
       " <Bio.Align.PairwiseAlignments at 0x7fed0842b8b0>,\n",
       " <Bio.Align.PairwiseAlignments at 0x7fed0842b340>,\n",
       " <Bio.Align.PairwiseAlignments at 0x7fed0842b1c0>]"
      ]
     },
     "execution_count": 6,
     "metadata": {},
     "output_type": "execute_result"
    }
   ],
   "source": [
    "aligner = Align.PairwiseAligner()\n",
    "aligner.mode = 'local'\n",
    "\n",
    "alignments_list = []\n",
    "\n",
    "for pair in pair_list:\n",
    "    alignments_list.append(aligner.align(pair[0], pair[1]))\n",
    "    \n",
    "alignments_list # check to make sure correct number of alignments generated"
   ]
  },
  {
   "cell_type": "code",
   "execution_count": 77,
   "id": "danish-arcade",
   "metadata": {},
   "outputs": [
    {
     "data": {
      "text/plain": [
       "[4.0,\n",
       " 4.0,\n",
       " 4.0,\n",
       " 4.0,\n",
       " 4.0,\n",
       " 4.0,\n",
       " 4.0,\n",
       " 4.0,\n",
       " 4.0,\n",
       " 4.0,\n",
       " 4.0,\n",
       " 4.0,\n",
       " 4.0,\n",
       " 4.0,\n",
       " 4.0,\n",
       " 4.0,\n",
       " 4.0,\n",
       " 4.0,\n",
       " 4.0,\n",
       " 4.0,\n",
       " 4.0]"
      ]
     },
     "execution_count": 77,
     "metadata": {},
     "output_type": "execute_result"
    }
   ],
   "source": [
    "'''play code (not necessary for running entire notebook)'''\n",
    "\n",
    "def avg_score(alignments_list):\n",
    "    \n",
    "    # Finding length of the list\n",
    "    length = len(alignments_list) \n",
    "    i = 0\n",
    "    y = []\n",
    "    \n",
    "    # While Loop to iterate through list\n",
    "    while i < length:\n",
    "        x = []\n",
    "        for alignment in test_alignment:\n",
    "            x.append(alignment.score)\n",
    "        y.append(np.mean(x))\n",
    "        i += 1\n",
    "    return y\n",
    "\n",
    "'''this returns the correct number of scores, but the values are wrong.\n",
    "  averaged values should not all be four.  this is obvious when you print the scores\n",
    "  for the first alignment only, which returns two alignment scores, both of 7.'''\n",
    "avg_score(alignments_list)  "
   ]
  },
  {
   "cell_type": "code",
   "execution_count": 78,
   "id": "auburn-moscow",
   "metadata": {},
   "outputs": [
    {
     "name": "stdout",
     "output_type": "stream",
     "text": [
      "[7.0, 7.0, 4.0, 4.0, 4.0, 4.0, 4.0, 4.0, 4.0, 4.0, 4.0, 4.0, 4.0, 4.0, 4.0, 4.0, 4.0, 4.0, 4.0, 4.0, 4.0, 4.0, 4.0, 4.0, 4.0, 4.0, 4.0, 4.0, 4.0, 4.0, 4.0, 4.0, 4.0, 4.0, 4.0, 4.0, 4.0, 4.0, 4.0, 4.0, 4.0, 4.0, 4.0, 4.0, 4.0, 4.0, 4.0, 4.0, 4.0, 4.0, 4.0, 4.0, 4.0, 4.0, 4.0, 4.0, 4.0, 4.0, 4.0, 4.0, 4.0, 4.0, 4.0, 4.0, 4.0, 4.0, 4.0, 4.0, 4.0, 4.0, 4.0, 4.0, 4.0, 4.0, 4.0, 4.0, 4.0, 4.0, 4.0, 4.0, 4.0, 4.0, 4.0, 4.0, 4.0, 4.0, 4.0, 4.0, 4.0, 4.0, 4.0, 4.0, 4.0, 4.0, 4.0, 5.0, 5.0, 5.0, 5.0, 5.0, 5.0, 5.0, 5.0, 5.0, 5.0, 5.0, 5.0, 5.0, 5.0, 5.0, 5.0, 3.0, 3.0, 3.0, 3.0, 3.0, 3.0, 3.0, 3.0, 3.0, 3.0, 3.0, 3.0, 3.0, 3.0, 3.0, 3.0, 3.0, 3.0, 3.0, 3.0, 3.0, 3.0, 3.0, 3.0, 3.0, 3.0, 3.0, 3.0, 3.0, 3.0, 3.0, 3.0, 3.0, 3.0, 3.0, 3.0, 3.0, 4.0, 4.0, 4.0, 4.0, 4.0, 4.0, 4.0, 4.0, 4.0, 4.0, 4.0, 4.0, 4.0, 4.0, 4.0, 4.0, 4.0, 4.0, 4.0, 4.0, 4.0, 4.0, 4.0, 4.0, 4.0, 4.0, 4.0, 4.0, 4.0, 4.0, 4.0, 4.0, 4.0, 4.0, 4.0, 4.0, 4.0, 4.0, 4.0, 4.0, 4.0, 4.0, 4.0, 4.0, 4.0, 4.0, 4.0, 4.0, 4.0, 4.0, 4.0, 4.0, 4.0, 4.0, 4.0, 4.0, 4.0, 4.0, 4.0, 4.0, 4.0, 4.0, 4.0, 4.0, 4.0, 4.0, 4.0, 4.0, 4.0, 4.0, 4.0, 4.0, 4.0, 4.0, 4.0, 4.0, 4.0, 4.0, 4.0, 4.0, 4.0, 4.0, 4.0, 4.0, 4.0, 4.0, 4.0, 4.0, 4.0, 4.0, 4.0, 4.0, 4.0, 4.0, 4.0, 4.0, 4.0, 4.0, 4.0, 4.0, 4.0, 4.0, 4.0, 4.0, 4.0, 4.0, 4.0, 4.0, 4.0, 4.0, 4.0, 4.0, 4.0, 4.0, 4.0, 4.0, 4.0, 4.0, 4.0, 4.0, 4.0, 4.0, 4.0, 4.0, 4.0, 4.0, 4.0, 4.0, 4.0, 4.0, 4.0, 4.0, 4.0, 4.0, 4.0, 4.0, 4.0, 4.0, 4.0, 4.0, 4.0, 4.0, 4.0, 4.0, 4.0, 4.0, 4.0, 4.0, 4.0, 4.0, 4.0, 4.0, 4.0, 4.0, 4.0, 4.0, 4.0, 4.0, 4.0, 4.0, 4.0, 4.0, 4.0, 4.0, 4.0, 4.0, 4.0, 4.0, 4.0, 4.0, 4.0, 4.0, 4.0, 4.0, 4.0, 4.0, 4.0, 4.0, 4.0, 4.0, 4.0, 4.0, 4.0, 4.0, 4.0, 4.0, 4.0, 4.0, 4.0, 4.0, 4.0, 4.0, 4.0, 4.0, 4.0, 4.0, 4.0, 4.0, 4.0, 4.0, 4.0, 4.0, 4.0, 4.0, 4.0, 4.0, 4.0, 4.0, 4.0, 4.0, 4.0, 4.0, 5.0, 5.0, 5.0, 5.0, 5.0, 5.0, 5.0, 5.0, 5.0, 5.0, 5.0, 5.0, 5.0, 5.0, 5.0, 5.0, 5.0, 5.0, 5.0, 5.0, 5.0, 5.0, 5.0, 5.0, 5.0, 5.0, 5.0, 5.0, 5.0, 5.0, 5.0, 5.0, 5.0, 5.0, 5.0, 5.0, 5.0, 5.0, 5.0, 5.0, 5.0, 5.0, 5.0, 5.0, 5.0, 5.0, 5.0, 5.0, 5.0, 3.0, 3.0, 3.0, 3.0, 3.0, 3.0, 3.0, 3.0, 3.0, 3.0, 3.0, 3.0, 3.0, 3.0, 3.0, 3.0, 3.0, 3.0, 3.0, 5.0, 4.0, 4.0, 4.0, 4.0, 4.0, 4.0, 4.0, 4.0, 4.0, 4.0, 4.0, 4.0, 4.0, 4.0, 4.0, 4.0, 4.0, 4.0, 4.0, 4.0, 4.0, 4.0, 4.0, 4.0, 4.0, 4.0, 4.0, 4.0, 4.0, 4.0, 4.0, 4.0, 4.0, 4.0, 4.0, 4.0, 4.0, 4.0, 4.0, 4.0, 4.0, 4.0, 4.0, 4.0, 4.0, 4.0, 4.0, 4.0, 4.0, 4.0, 4.0, 4.0, 4.0, 4.0, 4.0, 4.0, 4.0, 4.0, 4.0, 4.0, 4.0, 4.0, 4.0, 4.0, 4.0, 4.0, 4.0, 4.0, 4.0, 4.0, 4.0, 4.0, 4.0, 4.0, 4.0, 4.0, 4.0, 4.0, 4.0, 4.0, 4.0, 4.0, 4.0, 4.0, 4.0, 4.0, 4.0, 4.0, 4.0, 4.0, 4.0, 4.0, 4.0, 4.0, 4.0, 4.0, 4.0, 4.0, 4.0, 4.0, 4.0, 4.0, 4.0, 4.0, 4.0, 4.0, 4.0, 4.0, 4.0, 4.0, 4.0, 4.0, 4.0, 4.0, 4.0, 4.0, 4.0, 4.0, 4.0, 4.0, 4.0, 4.0, 4.0, 4.0, 4.0, 4.0, 4.0, 4.0, 4.0, 4.0, 4.0, 4.0, 4.0, 4.0, 4.0, 4.0, 4.0, 4.0, 4.0, 4.0, 4.0, 4.0, 4.0, 4.0, 4.0, 4.0, 4.0, 4.0, 4.0, 4.0, 4.0, 4.0, 4.0, 4.0, 4.0, 4.0, 4.0, 4.0, 4.0, 4.0, 4.0, 4.0, 4.0, 4.0, 4.0, 4.0, 4.0, 4.0, 4.0, 4.0, 4.0, 4.0, 4.0, 4.0, 4.0, 4.0, 4.0, 4.0, 4.0, 4.0, 4.0, 4.0, 4.0, 4.0, 4.0, 4.0, 4.0, 4.0, 4.0, 4.0, 4.0, 4.0, 4.0, 4.0, 4.0, 4.0, 4.0, 4.0, 4.0, 4.0, 4.0, 4.0, 4.0, 4.0, 4.0, 4.0, 4.0, 4.0, 4.0, 4.0, 4.0, 4.0, 4.0, 4.0, 4.0, 4.0, 4.0, 4.0, 4.0, 4.0, 4.0, 4.0, 4.0, 4.0, 4.0, 4.0, 4.0, 4.0, 4.0, 4.0, 4.0, 4.0, 4.0, 4.0, 4.0, 4.0, 4.0, 4.0, 4.0, 4.0, 4.0, 4.0, 4.0, 4.0, 4.0, 4.0, 4.0, 4.0, 4.0, 4.0, 4.0, 4.0, 4.0, 4.0, 4.0, 4.0, 4.0, 4.0, 4.0, 4.0, 4.0, 4.0, 4.0, 4.0, 4.0, 4.0, 4.0, 4.0, 4.0, 4.0, 4.0, 4.0, 4.0, 4.0, 4.0, 4.0, 4.0, 4.0, 4.0, 4.0, 4.0, 4.0, 4.0, 4.0, 4.0, 4.0, 4.0, 4.0, 4.0, 4.0, 4.0, 4.0, 4.0, 4.0, 4.0, 4.0, 4.0, 4.0, 4.0, 4.0, 4.0, 4.0, 4.0, 4.0, 4.0, 4.0, 4.0, 4.0, 4.0, 4.0, 4.0, 4.0, 4.0, 4.0, 4.0, 4.0, 4.0, 4.0, 4.0, 4.0, 4.0, 4.0, 4.0, 4.0, 4.0, 4.0, 4.0, 4.0, 4.0, 4.0, 4.0, 4.0, 4.0, 4.0, 4.0, 4.0, 4.0, 4.0, 4.0, 4.0, 4.0, 4.0, 4.0, 4.0, 4.0, 4.0, 4.0, 4.0, 4.0, 4.0, 4.0, 4.0, 4.0, 4.0, 4.0, 4.0, 4.0, 4.0, 4.0, 4.0, 4.0, 4.0, 4.0, 4.0, 4.0, 4.0, 4.0, 4.0, 4.0, 4.0, 4.0, 4.0, 4.0, 4.0, 4.0, 4.0, 4.0, 4.0, 4.0, 4.0, 4.0, 4.0, 3.0, 3.0, 3.0, 3.0, 3.0, 3.0, 3.0, 3.0, 3.0, 3.0, 3.0, 3.0, 3.0, 3.0, 3.0, 3.0, 3.0, 3.0, 3.0, 3.0, 3.0, 3.0, 3.0, 3.0, 3.0, 4.0, 4.0, 4.0, 4.0, 4.0, 4.0, 4.0, 4.0, 4.0, 4.0, 4.0, 4.0, 4.0, 4.0, 4.0, 4.0, 4.0, 4.0, 4.0, 4.0, 4.0, 4.0, 4.0, 4.0, 4.0, 4.0, 4.0, 4.0, 4.0, 4.0, 4.0, 4.0, 4.0, 4.0, 4.0, 4.0, 4.0, 4.0, 4.0, 4.0, 4.0, 4.0, 4.0, 4.0, 4.0, 4.0, 4.0, 4.0, 4.0, 4.0, 4.0, 4.0, 4.0, 4.0, 4.0, 4.0, 4.0, 4.0, 4.0, 4.0, 4.0, 4.0, 4.0, 4.0, 4.0, 4.0, 4.0, 4.0, 4.0, 4.0, 4.0, 4.0, 4.0, 4.0, 4.0, 4.0, 4.0, 4.0, 4.0, 4.0, 4.0, 4.0, 4.0, 4.0, 4.0, 4.0, 4.0, 4.0, 4.0, 4.0, 4.0, 4.0, 4.0, 4.0, 4.0, 4.0, 4.0, 4.0, 4.0, 4.0, 4.0, 4.0, 4.0, 4.0, 4.0, 4.0, 4.0, 4.0, 4.0, 4.0, 4.0, 4.0, 4.0, 4.0, 4.0, 4.0, 4.0, 4.0, 4.0, 4.0, 4.0, 4.0, 4.0, 4.0, 4.0, 4.0, 4.0, 4.0, 4.0, 4.0, 4.0, 4.0, 4.0, 4.0, 4.0, 4.0, 4.0, 4.0, 4.0, 4.0, 4.0, 4.0, 4.0, 4.0, 4.0, 4.0, 4.0, 4.0, 4.0, 4.0, 4.0, 4.0, 4.0, 4.0, 4.0, 4.0, 4.0, 4.0, 4.0, 4.0, 4.0, 4.0, 4.0, 4.0, 4.0, 4.0, 4.0, 4.0, 4.0, 4.0, 4.0, 4.0, 4.0, 4.0, 4.0, 4.0, 4.0, 4.0, 4.0, 4.0, 4.0, 4.0, 4.0, 4.0, 4.0, 4.0, 4.0, 4.0, 4.0, 4.0, 4.0, 4.0, 4.0, 4.0, 4.0, 4.0, 4.0, 4.0, 4.0, 4.0, 4.0, 4.0, 4.0, 4.0, 4.0, 4.0, 4.0, 4.0, 4.0, 4.0, 4.0, 4.0, 4.0, 4.0, 4.0, 4.0, 4.0, 4.0, 4.0, 4.0, 4.0, 4.0, 4.0, 4.0, 4.0, 4.0, 4.0, 4.0, 4.0, 4.0, 4.0, 4.0, 4.0, 4.0, 4.0, 4.0, 4.0, 4.0, 4.0, 4.0, 4.0, 4.0, 4.0, 4.0, 4.0, 4.0, 4.0, 4.0, 4.0, 4.0, 4.0, 4.0, 4.0, 4.0, 4.0, 4.0, 4.0, 4.0, 4.0, 4.0, 4.0, 4.0, 4.0, 4.0, 4.0, 4.0, 4.0, 4.0, 4.0, 4.0, 4.0, 4.0, 4.0, 4.0, 4.0, 3.0, 3.0, 3.0, 3.0, 3.0, 3.0, 3.0, 3.0, 3.0, 3.0, 3.0, 3.0, 5.0, 5.0, 5.0, 5.0, 5.0, 5.0, 5.0, 5.0, 3.0, 3.0, 3.0, 3.0, 3.0, 3.0, 3.0, 3.0, 3.0, 3.0, 3.0, 3.0, 3.0, 3.0, 3.0, 3.0, 3.0, 3.0, 3.0, 3.0, 3.0, 3.0, 3.0, 3.0, 3.0, 3.0, 3.0, 3.0, 3.0, 3.0, 3.0, 3.0, 3.0, 3.0, 3.0, 3.0, 5.0, 5.0, 4.0, 4.0, 4.0, 4.0]\n"
     ]
    }
   ],
   "source": [
    "'''Need to figure out how to get one score value back for every alignment'''\n",
    "\n",
    "\n",
    "\n",
    "\n",
    "score_list = []\n",
    "avg_score_list = []\n",
    "\n",
    "for alignments in alignments_list:\n",
    "    for alignment in alignments:\n",
    "        score_list.append(alignment.score)\n",
    "        avg_score_list = np.mean(score_list)\n",
    "    #avg_score_list.append(np.mean(score_list))\n",
    "    \n",
    "\n",
    "print(score_list)\n",
    "#print(avg_score_list)"
   ]
  },
  {
   "cell_type": "code",
   "execution_count": 79,
   "id": "gentle-reunion",
   "metadata": {},
   "outputs": [
    {
     "name": "stdout",
     "output_type": "stream",
     "text": [
      "21\n"
     ]
    }
   ],
   "source": [
    "pair_list\n",
    "print(len(pair_list))"
   ]
  },
  {
   "cell_type": "code",
   "execution_count": 81,
   "id": "motivated-cambridge",
   "metadata": {},
   "outputs": [
    {
     "name": "stdout",
     "output_type": "stream",
     "text": [
      "1173\n"
     ]
    }
   ],
   "source": [
    "'''waaaaaaaaay too big.  we need to get this value down to 21'''\n",
    "\n",
    "\n",
    "score_list\n",
    "print(len(score_list))"
   ]
  },
  {
   "cell_type": "code",
   "execution_count": 82,
   "id": "fatal-juice",
   "metadata": {},
   "outputs": [
    {
     "data": {
      "text/html": [
       "<div>\n",
       "<style scoped>\n",
       "    .dataframe tbody tr th:only-of-type {\n",
       "        vertical-align: middle;\n",
       "    }\n",
       "\n",
       "    .dataframe tbody tr th {\n",
       "        vertical-align: top;\n",
       "    }\n",
       "\n",
       "    .dataframe thead th {\n",
       "        text-align: right;\n",
       "    }\n",
       "</style>\n",
       "<table border=\"1\" class=\"dataframe\">\n",
       "  <thead>\n",
       "    <tr style=\"text-align: right;\">\n",
       "      <th></th>\n",
       "      <th>0</th>\n",
       "      <th>1</th>\n",
       "    </tr>\n",
       "  </thead>\n",
       "  <tbody>\n",
       "    <tr>\n",
       "      <th>0</th>\n",
       "      <td>atgcatgc</td>\n",
       "      <td>attgctgc</td>\n",
       "    </tr>\n",
       "    <tr>\n",
       "      <th>1</th>\n",
       "      <td>atgcatgc</td>\n",
       "      <td>tttgccgg</td>\n",
       "    </tr>\n",
       "    <tr>\n",
       "      <th>2</th>\n",
       "      <td>atgcatgc</td>\n",
       "      <td>atgctttt</td>\n",
       "    </tr>\n",
       "    <tr>\n",
       "      <th>3</th>\n",
       "      <td>atgcatgc</td>\n",
       "      <td>cgggctaa</td>\n",
       "    </tr>\n",
       "    <tr>\n",
       "      <th>4</th>\n",
       "      <td>atgcatgc</td>\n",
       "      <td>tgtgtgta</td>\n",
       "    </tr>\n",
       "    <tr>\n",
       "      <th>5</th>\n",
       "      <td>atgcatgc</td>\n",
       "      <td>tagggccc</td>\n",
       "    </tr>\n",
       "    <tr>\n",
       "      <th>6</th>\n",
       "      <td>attgctgc</td>\n",
       "      <td>tttgccgg</td>\n",
       "    </tr>\n",
       "    <tr>\n",
       "      <th>7</th>\n",
       "      <td>attgctgc</td>\n",
       "      <td>atgctttt</td>\n",
       "    </tr>\n",
       "    <tr>\n",
       "      <th>8</th>\n",
       "      <td>attgctgc</td>\n",
       "      <td>cgggctaa</td>\n",
       "    </tr>\n",
       "    <tr>\n",
       "      <th>9</th>\n",
       "      <td>attgctgc</td>\n",
       "      <td>tgtgtgta</td>\n",
       "    </tr>\n",
       "    <tr>\n",
       "      <th>10</th>\n",
       "      <td>attgctgc</td>\n",
       "      <td>tagggccc</td>\n",
       "    </tr>\n",
       "    <tr>\n",
       "      <th>11</th>\n",
       "      <td>tttgccgg</td>\n",
       "      <td>atgctttt</td>\n",
       "    </tr>\n",
       "    <tr>\n",
       "      <th>12</th>\n",
       "      <td>tttgccgg</td>\n",
       "      <td>cgggctaa</td>\n",
       "    </tr>\n",
       "    <tr>\n",
       "      <th>13</th>\n",
       "      <td>tttgccgg</td>\n",
       "      <td>tgtgtgta</td>\n",
       "    </tr>\n",
       "    <tr>\n",
       "      <th>14</th>\n",
       "      <td>tttgccgg</td>\n",
       "      <td>tagggccc</td>\n",
       "    </tr>\n",
       "    <tr>\n",
       "      <th>15</th>\n",
       "      <td>atgctttt</td>\n",
       "      <td>cgggctaa</td>\n",
       "    </tr>\n",
       "    <tr>\n",
       "      <th>16</th>\n",
       "      <td>atgctttt</td>\n",
       "      <td>tgtgtgta</td>\n",
       "    </tr>\n",
       "    <tr>\n",
       "      <th>17</th>\n",
       "      <td>atgctttt</td>\n",
       "      <td>tagggccc</td>\n",
       "    </tr>\n",
       "    <tr>\n",
       "      <th>18</th>\n",
       "      <td>cgggctaa</td>\n",
       "      <td>tgtgtgta</td>\n",
       "    </tr>\n",
       "    <tr>\n",
       "      <th>19</th>\n",
       "      <td>cgggctaa</td>\n",
       "      <td>tagggccc</td>\n",
       "    </tr>\n",
       "    <tr>\n",
       "      <th>20</th>\n",
       "      <td>tgtgtgta</td>\n",
       "      <td>tagggccc</td>\n",
       "    </tr>\n",
       "  </tbody>\n",
       "</table>\n",
       "</div>"
      ],
      "text/plain": [
       "           0         1\n",
       "0   atgcatgc  attgctgc\n",
       "1   atgcatgc  tttgccgg\n",
       "2   atgcatgc  atgctttt\n",
       "3   atgcatgc  cgggctaa\n",
       "4   atgcatgc  tgtgtgta\n",
       "5   atgcatgc  tagggccc\n",
       "6   attgctgc  tttgccgg\n",
       "7   attgctgc  atgctttt\n",
       "8   attgctgc  cgggctaa\n",
       "9   attgctgc  tgtgtgta\n",
       "10  attgctgc  tagggccc\n",
       "11  tttgccgg  atgctttt\n",
       "12  tttgccgg  cgggctaa\n",
       "13  tttgccgg  tgtgtgta\n",
       "14  tttgccgg  tagggccc\n",
       "15  atgctttt  cgggctaa\n",
       "16  atgctttt  tgtgtgta\n",
       "17  atgctttt  tagggccc\n",
       "18  cgggctaa  tgtgtgta\n",
       "19  cgggctaa  tagggccc\n",
       "20  tgtgtgta  tagggccc"
      ]
     },
     "execution_count": 82,
     "metadata": {},
     "output_type": "execute_result"
    }
   ],
   "source": [
    "alignment_df = pd.DataFrame(pair_list)\n",
    "alignment_df"
   ]
  }
 ],
 "metadata": {
  "kernelspec": {
   "display_name": "Python 3",
   "language": "python",
   "name": "python3"
  },
  "language_info": {
   "codemirror_mode": {
    "name": "ipython",
    "version": 3
   },
   "file_extension": ".py",
   "mimetype": "text/x-python",
   "name": "python",
   "nbconvert_exporter": "python",
   "pygments_lexer": "ipython3",
   "version": "3.8.5"
  }
 },
 "nbformat": 4,
 "nbformat_minor": 5
}
