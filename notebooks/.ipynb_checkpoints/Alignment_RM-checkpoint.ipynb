{
 "cells": [
  {
   "cell_type": "code",
   "execution_count": 29,
   "id": "federal-serve",
   "metadata": {},
   "outputs": [],
   "source": [
    "from Bio import Align\n",
    "import csv\n",
    "import itertools\n",
    "import pandas as pd"
   ]
  },
  {
   "cell_type": "markdown",
   "id": "potential-employee",
   "metadata": {},
   "source": [
    "#### Psuedo Code:\n",
    "\n",
    "- read csv column containing sequences as a list of strings\n",
    "- use single for loop with `itertools.combinations(<listname>, 2)` and `Align.PairwiseAligner()` to get new list of alignement scores.\n",
    "\n",
    "- Issues to solve:\n",
    "    - Limit each sequence pair to 1 alignment (sometimes it likes to give 2)\n",
    "    - Ensure scoring params are same as blastn (https://www.ncbi.nlm.nih.gov/books/NBK279684/#_appendices_BLAST_Substitution_Matrices_)\n"
   ]
  },
  {
   "cell_type": "code",
   "execution_count": 37,
   "id": "textile-exemption",
   "metadata": {},
   "outputs": [],
   "source": [
    "with open('Alignment_RM_Test.csv', 'r') as csv_file:\n",
    "    lines = csv_file.readlines()\n",
    "    \n",
    "headers = lines[0].rstrip().split(',') # rstrip removes end-of-line chars\n",
    "numLines = len(lines)\n",
    "\n",
    "# create lineList to include only numLines elements\n",
    "linelist = [x.rstrip().split(',')\n",
    "           for x in lines[1:numLines+1]] \n",
    "\n",
    "# list comprehension within dictionary comprehension to split each element by its headers and create dictionary of lists\n",
    "outputDict = {keyVal:[x[idx] \n",
    "                       for x in linelist \n",
    "                       if len(x) == len(headers)] \n",
    "              for idx, keyVal in enumerate (headers)} \n",
    "\n"
   ]
  },
  {
   "cell_type": "code",
   "execution_count": 38,
   "id": "nearby-present",
   "metadata": {},
   "outputs": [
    {
     "data": {
      "text/plain": [
       "{'x': ['1', '2', '3', '4', '5', '6', '7'],\n",
       " 'y': ['atgcatgc',\n",
       "  'attgctgc',\n",
       "  'tttgccgg',\n",
       "  'atgctttt',\n",
       "  'cgggctaa',\n",
       "  'tgtgtgta',\n",
       "  'tagggccc'],\n",
       " '': ['', '', '', '', '', '', '']}"
      ]
     },
     "execution_count": 38,
     "metadata": {},
     "output_type": "execute_result"
    }
   ],
   "source": [
    "outputDict # print dict to make sure everything worked"
   ]
  },
  {
   "cell_type": "code",
   "execution_count": 39,
   "id": "scheduled-plain",
   "metadata": {},
   "outputs": [
    {
     "name": "stdout",
     "output_type": "stream",
     "text": [
      "['atgcatgc', 'attgctgc', 'tttgccgg', 'atgctttt', 'cgggctaa', 'tgtgtgta', 'tagggccc']\n"
     ]
    }
   ],
   "source": [
    "# convert our desired column(s) from dict values into list\n",
    "seq_list = list(outputDict.get('y'))\n",
    "print(seq_list)"
   ]
  },
  {
   "cell_type": "code",
   "execution_count": 50,
   "id": "clear-italian",
   "metadata": {},
   "outputs": [
    {
     "name": "stdout",
     "output_type": "stream",
     "text": [
      "[['atgcatgc', 'attgctgc'], ['atgcatgc', 'tttgccgg'], ['atgcatgc', 'atgctttt'], ['atgcatgc', 'cgggctaa'], ['atgcatgc', 'tgtgtgta'], ['atgcatgc', 'tagggccc'], ['attgctgc', 'tttgccgg'], ['attgctgc', 'atgctttt'], ['attgctgc', 'cgggctaa'], ['attgctgc', 'tgtgtgta'], ['attgctgc', 'tagggccc'], ['tttgccgg', 'atgctttt'], ['tttgccgg', 'cgggctaa'], ['tttgccgg', 'tgtgtgta'], ['tttgccgg', 'tagggccc'], ['atgctttt', 'cgggctaa'], ['atgctttt', 'tgtgtgta'], ['atgctttt', 'tagggccc'], ['cgggctaa', 'tgtgtgta'], ['cgggctaa', 'tagggccc'], ['tgtgtgta', 'tagggccc']]\n"
     ]
    }
   ],
   "source": [
    "aligner = Align.PairwiseAligner()\n",
    "aligner.mode = 'local'\n",
    "\n",
    "pair_list = []\n",
    "\n",
    "for a, b in itertools.combinations(seq_list, 2):\n",
    "    alignments = aligner.align(a, b)\n",
    "    pair_list.append([a, b])\n",
    "    \n",
    "print(pair_list)\n"
   ]
  },
  {
   "cell_type": "code",
   "execution_count": 51,
   "id": "auburn-moscow",
   "metadata": {},
   "outputs": [
    {
     "ename": "AttributeError",
     "evalue": "'list' object has no attribute 'score'",
     "output_type": "error",
     "traceback": [
      "\u001b[0;31m---------------------------------------------------------------------------\u001b[0m",
      "\u001b[0;31mAttributeError\u001b[0m                            Traceback (most recent call last)",
      "\u001b[0;32m<ipython-input-51-97d8a5c9fbac>\u001b[0m in \u001b[0;36m<module>\u001b[0;34m\u001b[0m\n\u001b[1;32m      6\u001b[0m     \u001b[0;31m#print(\"Score = %.1f:\" % alignment.score)\u001b[0m\u001b[0;34m\u001b[0m\u001b[0;34m\u001b[0m\u001b[0;34m\u001b[0m\u001b[0m\n\u001b[1;32m      7\u001b[0m     \u001b[0;31m#print(alignment)\u001b[0m\u001b[0;34m\u001b[0m\u001b[0;34m\u001b[0m\u001b[0;34m\u001b[0m\u001b[0m\n\u001b[0;32m----> 8\u001b[0;31m     \u001b[0mscore_list\u001b[0m\u001b[0;34m.\u001b[0m\u001b[0mappend\u001b[0m\u001b[0;34m(\u001b[0m\u001b[0malignment\u001b[0m\u001b[0;34m.\u001b[0m\u001b[0mscore\u001b[0m\u001b[0;34m)\u001b[0m\u001b[0;34m\u001b[0m\u001b[0;34m\u001b[0m\u001b[0m\n\u001b[0m",
      "\u001b[0;31mAttributeError\u001b[0m: 'list' object has no attribute 'score'"
     ]
    }
   ],
   "source": [
    "'''Needs to be fixed'''\n",
    "\n",
    "score_list = []\n",
    "    \n",
    "for alignment in sorted(pair_list):\n",
    "    #print(\"Score = %.1f:\" % alignment.score)\n",
    "    #print(alignment)\n",
    "    score_list.append(alignment.score)"
   ]
  },
  {
   "cell_type": "code",
   "execution_count": 41,
   "id": "gentle-reunion",
   "metadata": {},
   "outputs": [
    {
     "name": "stdout",
     "output_type": "stream",
     "text": [
      "21\n"
     ]
    }
   ],
   "source": [
    "pair_list\n",
    "print(len(pair_list))"
   ]
  },
  {
   "cell_type": "code",
   "execution_count": 42,
   "id": "motivated-cambridge",
   "metadata": {},
   "outputs": [
    {
     "name": "stdout",
     "output_type": "stream",
     "text": [
      "1\n"
     ]
    }
   ],
   "source": [
    "score_list\n",
    "print(len(score_list))"
   ]
  },
  {
   "cell_type": "code",
   "execution_count": 32,
   "id": "fatal-juice",
   "metadata": {},
   "outputs": [
    {
     "data": {
      "text/html": [
       "<div>\n",
       "<style scoped>\n",
       "    .dataframe tbody tr th:only-of-type {\n",
       "        vertical-align: middle;\n",
       "    }\n",
       "\n",
       "    .dataframe tbody tr th {\n",
       "        vertical-align: top;\n",
       "    }\n",
       "\n",
       "    .dataframe thead th {\n",
       "        text-align: right;\n",
       "    }\n",
       "</style>\n",
       "<table border=\"1\" class=\"dataframe\">\n",
       "  <thead>\n",
       "    <tr style=\"text-align: right;\">\n",
       "      <th></th>\n",
       "      <th>0</th>\n",
       "      <th>1</th>\n",
       "    </tr>\n",
       "  </thead>\n",
       "  <tbody>\n",
       "    <tr>\n",
       "      <th>0</th>\n",
       "      <td>atgcatgc</td>\n",
       "      <td>attgctgc</td>\n",
       "    </tr>\n",
       "    <tr>\n",
       "      <th>1</th>\n",
       "      <td>atgcatgc</td>\n",
       "      <td>tttgccgg</td>\n",
       "    </tr>\n",
       "    <tr>\n",
       "      <th>2</th>\n",
       "      <td>atgcatgc</td>\n",
       "      <td>atgctttt</td>\n",
       "    </tr>\n",
       "    <tr>\n",
       "      <th>3</th>\n",
       "      <td>atgcatgc</td>\n",
       "      <td>cgggctaa</td>\n",
       "    </tr>\n",
       "    <tr>\n",
       "      <th>4</th>\n",
       "      <td>atgcatgc</td>\n",
       "      <td>tgtgtgta</td>\n",
       "    </tr>\n",
       "    <tr>\n",
       "      <th>5</th>\n",
       "      <td>atgcatgc</td>\n",
       "      <td>tagggccc</td>\n",
       "    </tr>\n",
       "    <tr>\n",
       "      <th>6</th>\n",
       "      <td>attgctgc</td>\n",
       "      <td>tttgccgg</td>\n",
       "    </tr>\n",
       "    <tr>\n",
       "      <th>7</th>\n",
       "      <td>attgctgc</td>\n",
       "      <td>atgctttt</td>\n",
       "    </tr>\n",
       "    <tr>\n",
       "      <th>8</th>\n",
       "      <td>attgctgc</td>\n",
       "      <td>cgggctaa</td>\n",
       "    </tr>\n",
       "    <tr>\n",
       "      <th>9</th>\n",
       "      <td>attgctgc</td>\n",
       "      <td>tgtgtgta</td>\n",
       "    </tr>\n",
       "    <tr>\n",
       "      <th>10</th>\n",
       "      <td>attgctgc</td>\n",
       "      <td>tagggccc</td>\n",
       "    </tr>\n",
       "    <tr>\n",
       "      <th>11</th>\n",
       "      <td>tttgccgg</td>\n",
       "      <td>atgctttt</td>\n",
       "    </tr>\n",
       "    <tr>\n",
       "      <th>12</th>\n",
       "      <td>tttgccgg</td>\n",
       "      <td>cgggctaa</td>\n",
       "    </tr>\n",
       "    <tr>\n",
       "      <th>13</th>\n",
       "      <td>tttgccgg</td>\n",
       "      <td>tgtgtgta</td>\n",
       "    </tr>\n",
       "    <tr>\n",
       "      <th>14</th>\n",
       "      <td>tttgccgg</td>\n",
       "      <td>tagggccc</td>\n",
       "    </tr>\n",
       "    <tr>\n",
       "      <th>15</th>\n",
       "      <td>atgctttt</td>\n",
       "      <td>cgggctaa</td>\n",
       "    </tr>\n",
       "    <tr>\n",
       "      <th>16</th>\n",
       "      <td>atgctttt</td>\n",
       "      <td>tgtgtgta</td>\n",
       "    </tr>\n",
       "    <tr>\n",
       "      <th>17</th>\n",
       "      <td>atgctttt</td>\n",
       "      <td>tagggccc</td>\n",
       "    </tr>\n",
       "    <tr>\n",
       "      <th>18</th>\n",
       "      <td>cgggctaa</td>\n",
       "      <td>tgtgtgta</td>\n",
       "    </tr>\n",
       "    <tr>\n",
       "      <th>19</th>\n",
       "      <td>cgggctaa</td>\n",
       "      <td>tagggccc</td>\n",
       "    </tr>\n",
       "    <tr>\n",
       "      <th>20</th>\n",
       "      <td>tgtgtgta</td>\n",
       "      <td>tagggccc</td>\n",
       "    </tr>\n",
       "  </tbody>\n",
       "</table>\n",
       "</div>"
      ],
      "text/plain": [
       "           0         1\n",
       "0   atgcatgc  attgctgc\n",
       "1   atgcatgc  tttgccgg\n",
       "2   atgcatgc  atgctttt\n",
       "3   atgcatgc  cgggctaa\n",
       "4   atgcatgc  tgtgtgta\n",
       "5   atgcatgc  tagggccc\n",
       "6   attgctgc  tttgccgg\n",
       "7   attgctgc  atgctttt\n",
       "8   attgctgc  cgggctaa\n",
       "9   attgctgc  tgtgtgta\n",
       "10  attgctgc  tagggccc\n",
       "11  tttgccgg  atgctttt\n",
       "12  tttgccgg  cgggctaa\n",
       "13  tttgccgg  tgtgtgta\n",
       "14  tttgccgg  tagggccc\n",
       "15  atgctttt  cgggctaa\n",
       "16  atgctttt  tgtgtgta\n",
       "17  atgctttt  tagggccc\n",
       "18  cgggctaa  tgtgtgta\n",
       "19  cgggctaa  tagggccc\n",
       "20  tgtgtgta  tagggccc"
      ]
     },
     "execution_count": 32,
     "metadata": {},
     "output_type": "execute_result"
    }
   ],
   "source": [
    "alignment_df = pd.DataFrame(pair_list)\n",
    "alignment_df"
   ]
  },
  {
   "cell_type": "code",
   "execution_count": 36,
   "id": "above-intro",
   "metadata": {},
   "outputs": [
    {
     "data": {
      "text/html": [
       "<div>\n",
       "<style scoped>\n",
       "    .dataframe tbody tr th:only-of-type {\n",
       "        vertical-align: middle;\n",
       "    }\n",
       "\n",
       "    .dataframe tbody tr th {\n",
       "        vertical-align: top;\n",
       "    }\n",
       "\n",
       "    .dataframe thead th {\n",
       "        text-align: right;\n",
       "    }\n",
       "</style>\n",
       "<table border=\"1\" class=\"dataframe\">\n",
       "  <thead>\n",
       "    <tr style=\"text-align: right;\">\n",
       "      <th></th>\n",
       "      <th>0</th>\n",
       "    </tr>\n",
       "  </thead>\n",
       "  <tbody>\n",
       "    <tr>\n",
       "      <th>0</th>\n",
       "      <td>4.0</td>\n",
       "    </tr>\n",
       "    <tr>\n",
       "      <th>1</th>\n",
       "      <td>4.0</td>\n",
       "    </tr>\n",
       "    <tr>\n",
       "      <th>2</th>\n",
       "      <td>4.0</td>\n",
       "    </tr>\n",
       "    <tr>\n",
       "      <th>3</th>\n",
       "      <td>4.0</td>\n",
       "    </tr>\n",
       "    <tr>\n",
       "      <th>4</th>\n",
       "      <td>4.0</td>\n",
       "    </tr>\n",
       "    <tr>\n",
       "      <th>5</th>\n",
       "      <td>4.0</td>\n",
       "    </tr>\n",
       "    <tr>\n",
       "      <th>6</th>\n",
       "      <td>4.0</td>\n",
       "    </tr>\n",
       "    <tr>\n",
       "      <th>7</th>\n",
       "      <td>4.0</td>\n",
       "    </tr>\n",
       "    <tr>\n",
       "      <th>8</th>\n",
       "      <td>4.0</td>\n",
       "    </tr>\n",
       "    <tr>\n",
       "      <th>9</th>\n",
       "      <td>4.0</td>\n",
       "    </tr>\n",
       "    <tr>\n",
       "      <th>10</th>\n",
       "      <td>4.0</td>\n",
       "    </tr>\n",
       "    <tr>\n",
       "      <th>11</th>\n",
       "      <td>4.0</td>\n",
       "    </tr>\n",
       "    <tr>\n",
       "      <th>12</th>\n",
       "      <td>4.0</td>\n",
       "    </tr>\n",
       "    <tr>\n",
       "      <th>13</th>\n",
       "      <td>4.0</td>\n",
       "    </tr>\n",
       "    <tr>\n",
       "      <th>14</th>\n",
       "      <td>4.0</td>\n",
       "    </tr>\n",
       "    <tr>\n",
       "      <th>15</th>\n",
       "      <td>4.0</td>\n",
       "    </tr>\n",
       "    <tr>\n",
       "      <th>16</th>\n",
       "      <td>4.0</td>\n",
       "    </tr>\n",
       "    <tr>\n",
       "      <th>17</th>\n",
       "      <td>4.0</td>\n",
       "    </tr>\n",
       "    <tr>\n",
       "      <th>18</th>\n",
       "      <td>4.0</td>\n",
       "    </tr>\n",
       "    <tr>\n",
       "      <th>19</th>\n",
       "      <td>4.0</td>\n",
       "    </tr>\n",
       "    <tr>\n",
       "      <th>20</th>\n",
       "      <td>4.0</td>\n",
       "    </tr>\n",
       "    <tr>\n",
       "      <th>21</th>\n",
       "      <td>4.0</td>\n",
       "    </tr>\n",
       "    <tr>\n",
       "      <th>22</th>\n",
       "      <td>4.0</td>\n",
       "    </tr>\n",
       "    <tr>\n",
       "      <th>23</th>\n",
       "      <td>4.0</td>\n",
       "    </tr>\n",
       "    <tr>\n",
       "      <th>24</th>\n",
       "      <td>4.0</td>\n",
       "    </tr>\n",
       "  </tbody>\n",
       "</table>\n",
       "</div>"
      ],
      "text/plain": [
       "      0\n",
       "0   4.0\n",
       "1   4.0\n",
       "2   4.0\n",
       "3   4.0\n",
       "4   4.0\n",
       "5   4.0\n",
       "6   4.0\n",
       "7   4.0\n",
       "8   4.0\n",
       "9   4.0\n",
       "10  4.0\n",
       "11  4.0\n",
       "12  4.0\n",
       "13  4.0\n",
       "14  4.0\n",
       "15  4.0\n",
       "16  4.0\n",
       "17  4.0\n",
       "18  4.0\n",
       "19  4.0\n",
       "20  4.0\n",
       "21  4.0\n",
       "22  4.0\n",
       "23  4.0\n",
       "24  4.0"
      ]
     },
     "execution_count": 36,
     "metadata": {},
     "output_type": "execute_result"
    }
   ],
   "source": [
    "score_df = pd.DataFrame(score_list)\n",
    "score_df"
   ]
  },
  {
   "cell_type": "code",
   "execution_count": null,
   "id": "simple-binding",
   "metadata": {},
   "outputs": [],
   "source": []
  }
 ],
 "metadata": {
  "kernelspec": {
   "display_name": "Python 3",
   "language": "python",
   "name": "python3"
  },
  "language_info": {
   "codemirror_mode": {
    "name": "ipython",
    "version": 3
   },
   "file_extension": ".py",
   "mimetype": "text/x-python",
   "name": "python",
   "nbconvert_exporter": "python",
   "pygments_lexer": "ipython3",
   "version": "3.8.5"
  }
 },
 "nbformat": 4,
 "nbformat_minor": 5
}
