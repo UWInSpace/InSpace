{
 "cells": [
  {
   "cell_type": "markdown",
   "id": "greater-conclusion",
   "metadata": {},
   "source": [
    "# Obtain BLAST results as .xml's"
   ]
  },
  {
   "cell_type": "markdown",
   "id": "demographic-nurse",
   "metadata": {},
   "source": [
    "### Import packages"
   ]
  },
  {
   "cell_type": "code",
   "execution_count": 2,
   "id": "raising-leeds",
   "metadata": {},
   "outputs": [],
   "source": [
    "import math\n",
    "import os\n",
    "import requests\n",
    "\n",
    "from Bio.Blast import NCBIWWW\n",
    "from Bio.Blast import NCBIXML\n",
    "import numpy as np\n",
    "import pandas as pd"
   ]
  },
  {
   "cell_type": "markdown",
   "id": "excessive-somalia",
   "metadata": {},
   "source": [
    "### Upload ENTREZID's and Log2FC's for each of 3 organisms"
   ]
  },
  {
   "cell_type": "code",
   "execution_count": 6,
   "id": "rising-agenda",
   "metadata": {},
   "outputs": [],
   "source": [
    "#Upload from .txt files in this folder\n",
    "#First column is ENTREZID, second column log2FC(Earth v Space), third column is adj. p value (Earth v Space)\n",
    "dna_poly001 = np.loadtxt('dna_poly001.txt', skiprows=1)\n",
    "dna_poly002 = np.loadtxt('dna_poly002.txt', skiprows=1)\n",
    "dna_poly004 = np.loadtxt('dna_poly004.txt', skiprows=1)"
   ]
  },
  {
   "cell_type": "code",
   "execution_count": 4,
   "id": "southeast-silence",
   "metadata": {},
   "outputs": [
    {
     "data": {
      "text/plain": [
       "array([[ 9.45661000e+05, -2.29241440e-02,  9.98164659e-01],\n",
       "       [ 9.46359000e+05, -5.68272200e-03,  9.98164659e-01],\n",
       "       [ 9.48356000e+05,  4.84816190e-02,  9.98164659e-01],\n",
       "       [ 9.44922000e+05,  6.12830200e-03,  9.98164659e-01],\n",
       "       [ 9.47573000e+05, -3.06889620e-02,  9.98164659e-01],\n",
       "       [ 9.48787000e+05,  7.89048510e-02,  9.98164659e-01],\n",
       "       [ 9.46441000e+05,  8.35783890e-02,  9.98164659e-01],\n",
       "       [ 9.45746000e+05, -1.69070000e-03,  9.98164659e-01],\n",
       "       [ 9.48218000e+05,  2.55437000e-04,  9.98929078e-01],\n",
       "       [ 9.47471000e+05, -1.59480257e-01,  9.98164659e-01],\n",
       "       [ 9.48890000e+05,  1.36057974e-01,  9.98164659e-01],\n",
       "       [ 9.44779000e+05,  4.36699390e-02,  9.98164659e-01],\n",
       "       [ 9.44877000e+05,  4.99828580e-02,  9.98164659e-01],\n",
       "       [ 9.45105000e+05, -3.96347000e-03,  9.98164659e-01]])"
      ]
     },
     "execution_count": 4,
     "metadata": {},
     "output_type": "execute_result"
    }
   ],
   "source": [
    "dna_poly002"
   ]
  },
  {
   "cell_type": "markdown",
   "id": "encouraging-registration",
   "metadata": {},
   "source": [
    "### Function to BLAST an EID"
   ]
  },
  {
   "cell_type": "code",
   "execution_count": 7,
   "id": "racial-reunion",
   "metadata": {},
   "outputs": [],
   "source": [
    "def blast_eid_in_pdb(ENTREZID, save_file_xml):\n",
    "    \"\"\"\n",
    "    Function: Take EID, BLAST in a the NCBI PDB\n",
    "    ENTREZID: ENTREZID from 001.csv as added to bioproject_df, float\n",
    "    save_file_xml: file to save to as ncbidb_index.xml, string\n",
    "    eid_index: index of the ENTREZID, float\n",
    "    ncbi_database: the NCBI database to be used for BLASTing, string\n",
    "    \"\"\"\n",
    "    eid = ENTREZID\n",
    "    result_handle = NCBIWWW.qblast('blastp', 'pdb', eid)\n",
    "    with open(save_file_xml, 'w+') as save_to:\n",
    "        save_to.write(result_handle.read())\n",
    "        result_handle.close() "
   ]
  },
  {
   "cell_type": "markdown",
   "id": "weekly-concentrate",
   "metadata": {},
   "source": [
    "### Make file names to save results into (.xml)"
   ]
  },
  {
   "cell_type": "code",
   "execution_count": 12,
   "id": "bulgarian-effectiveness",
   "metadata": {},
   "outputs": [],
   "source": [
    "xml_names001 = ['abc001_1.xml', 'abc001_2.xml', 'abc001_3.xml', 'abc001_4.xml', 'abc001_5.xml', 'abc001_6.xml', 'abc001_7.xml', 'abc001_8.xml', 'abc001_9.xml', 'abc001_10.xml', 'abc001_11.xml', 'abc001_12.xml', 'abc001_13.xml', 'abc001_14.xml']\n",
    "xml_names002 = ['abc002_1.xml', 'abc002_2.xml', 'abc002_3.xml', 'abc002_4.xml', 'abc002_5.xml', 'abc002_6.xml', 'abc002_7.xml', 'abc002_8.xml', 'abc002_9.xml', 'abc002_10.xml', 'abc002_11.xml', 'abc002_12.xml', 'abc002_13.xml', 'abc002_14.xml']\n",
    "xml_names004 = ['abc004_1.xml', 'abc004_2.xml', 'abc004_3.xml', 'abc004_4.xml', 'abc004_5.xml', 'abc004_6.xml', 'abc004_7.xml', 'abc004_8.xml', 'abc004_9.xml', 'abc004_10.xml', 'abc004_11.xml', 'abc004_12.xml', 'abc004_13.xml', 'abc004_14.xml']"
   ]
  },
  {
   "cell_type": "markdown",
   "id": "metallic-screen",
   "metadata": {},
   "source": [
    "### For all of the EID's, do the BLAST.  <span style=\"color:red\"> WARNING: TAKES A LONG TIME</span>"
   ]
  },
  {
   "cell_type": "code",
   "execution_count": 6,
   "id": "neural-frontier",
   "metadata": {},
   "outputs": [
    {
     "name": "stdout",
     "output_type": "stream",
     "text": [
      "failed with 001 ENTREZID: 0\n",
      "failed with 001 ENTREZID: 1\n",
      "failed with 001 ENTREZID: 2\n",
      "failed with 001 ENTREZID: 3\n",
      "failed with 001 ENTREZID: 4\n",
      "failed with 001 ENTREZID: 5\n",
      "failed with 001 ENTREZID: 6\n",
      "failed with 001 ENTREZID: 7\n",
      "failed with 001 ENTREZID: 8\n",
      "failed with 001 ENTREZID: 9\n",
      "failed with 001 ENTREZID: 10\n",
      "failed with 001 ENTREZID: 11\n",
      "failed with 002 ENTREZID: 0\n",
      "failed with 002 ENTREZID: 1\n",
      "failed with 002 ENTREZID: 2\n",
      "failed with 002 ENTREZID: 3\n",
      "failed with 002 ENTREZID: 4\n",
      "failed with 002 ENTREZID: 5\n",
      "failed with 002 ENTREZID: 6\n",
      "failed with 002 ENTREZID: 7\n",
      "failed with 002 ENTREZID: 8\n",
      "failed with 002 ENTREZID: 9\n",
      "failed with 002 ENTREZID: 10\n",
      "failed with 002 ENTREZID: 11\n",
      "failed with 002 ENTREZID: 12\n",
      "failed with 002 ENTREZID: 13\n",
      "failed with 004 ENTREZID: 0\n"
     ]
    }
   ],
   "source": [
    "#Iterate through EID's in dna_poly001 and use BLAST function for NCBI PDB\n",
    "for i in range(14):\n",
    "    ENTREZID = int(dna_poly001[i,0]) #make eid an integer\n",
    "    save_file_xml = xml_names001[i] #define name to save BLAST hits to as .xml\n",
    "    try:\n",
    "        blast_eid_in_pdb(ENTREZID, save_file_xml)\n",
    "    except:\n",
    "        print('failed with 001 ENTREZID:', i)\n",
    "        continue\n",
    "\n",
    "#Iterate through EID's in dna_poly002\n",
    "for i in range(14):\n",
    "    ENTREZID = int(dna_poly002[i,0]) #make eid an integer\n",
    "    save_file_xml = xml_names002[i] #define name to save BLAST hits to as .xml\n",
    "    try:\n",
    "        blast_eid_in_pdb(ENTREZID, save_file_xml)\n",
    "    except:\n",
    "        print('failed with 002 ENTREZID:', i)\n",
    "        continue\n",
    "\n",
    "#Iterate through EID's in dna_poly004\n",
    "for i in range(:14):\n",
    "    ENTREZID = int(dna_poly004[i,0]) #make eid an integer\n",
    "    save_file_xml = xml_names004[i] #define name to save BLAST hits to as .xml\n",
    "    try:\n",
    "        blast_eid_in_pdb(ENTREZID, save_file_xml)\n",
    "    except:\n",
    "        print('failed with 004 ENTREZID:', i)\n",
    "        continue"
   ]
  },
  {
   "cell_type": "markdown",
   "id": "reserved-indonesian",
   "metadata": {},
   "source": [
    "# BLAST the ABC Trans EIDS"
   ]
  },
  {
   "cell_type": "code",
   "execution_count": 15,
   "id": "rural-contrast",
   "metadata": {},
   "outputs": [],
   "source": [
    "#Upload the data\n",
    "#Upload from .txt files in this folder\n",
    "#First column is ENTREZID, second column log2FC(Earth v Space), third column is adj. p value (Earth v Space)\n",
    "abc001 = np.loadtxt('abc001.txt', skiprows=1)\n",
    "abc002 = np.loadtxt('abc002.txt', skiprows=1)\n",
    "abc004 = np.loadtxt('abc004.txt', skiprows=1)"
   ]
  },
  {
   "cell_type": "code",
   "execution_count": 16,
   "id": "juvenile-thumb",
   "metadata": {},
   "outputs": [
    {
     "name": "stdout",
     "output_type": "stream",
     "text": [
      "failed with 001 ENTREZID: 0\n",
      "failed with 001 ENTREZID: 1\n",
      "failed with 001 ENTREZID: 2\n",
      "failed with 001 ENTREZID: 3\n",
      "failed with 001 ENTREZID: 4\n",
      "failed with 001 ENTREZID: 5\n",
      "failed with 001 ENTREZID: 6\n",
      "failed with 001 ENTREZID: 7\n",
      "failed with 001 ENTREZID: 8\n",
      "failed with 002 ENTREZID: 1\n",
      "failed with 002 ENTREZID: 2\n",
      "failed with 002 ENTREZID: 3\n",
      "failed with 002 ENTREZID: 4\n",
      "failed with 002 ENTREZID: 5\n",
      "failed with 002 ENTREZID: 6\n",
      "failed with 002 ENTREZID: 7\n",
      "failed with 002 ENTREZID: 8\n",
      "failed with 002 ENTREZID: 9\n",
      "failed with 002 ENTREZID: 10\n",
      "failed with 002 ENTREZID: 11\n",
      "failed with 002 ENTREZID: 12\n",
      "failed with 002 ENTREZID: 13\n",
      "failed with 004 ENTREZID: 0\n",
      "failed with 004 ENTREZID: 1\n",
      "failed with 004 ENTREZID: 2\n",
      "failed with 004 ENTREZID: 3\n",
      "failed with 004 ENTREZID: 4\n",
      "failed with 004 ENTREZID: 5\n",
      "failed with 004 ENTREZID: 6\n",
      "failed with 004 ENTREZID: 7\n",
      "failed with 004 ENTREZID: 8\n",
      "failed with 004 ENTREZID: 9\n",
      "failed with 004 ENTREZID: 10\n",
      "failed with 004 ENTREZID: 11\n",
      "failed with 004 ENTREZID: 12\n",
      "failed with 004 ENTREZID: 13\n"
     ]
    }
   ],
   "source": [
    "#Iterate through EID's in dna_poly001 and use BLAST function for NCBI PDB\n",
    "for i in range(14):\n",
    "    ENTREZID = int(abc001[i,0]) #make eid an integer\n",
    "    save_file_xml = xml_names001[i] #define name to save BLAST hits to as .xml\n",
    "    try:\n",
    "        blast_eid_in_pdb(ENTREZID, save_file_xml)\n",
    "    except:\n",
    "        print('failed with 001 ENTREZID:', i)\n",
    "        continue\n",
    "\n",
    "#Iterate through EID's in dna_poly002\n",
    "for i in range(14):\n",
    "    ENTREZID = int(abc002[i,0]) #make eid an integer\n",
    "    save_file_xml = xml_names002[i] #define name to save BLAST hits to as .xml\n",
    "    try:\n",
    "        blast_eid_in_pdb(ENTREZID, save_file_xml)\n",
    "    except:\n",
    "        print('failed with 002 ENTREZID:', i)\n",
    "        continue\n",
    "\n",
    "#Iterate through EID's in dna_poly004\n",
    "for i in range(14):\n",
    "    ENTREZID = int(abc004[i,0]) #make eid an integer\n",
    "    save_file_xml = xml_names004[i] #define name to save BLAST hits to as .xml\n",
    "    try:\n",
    "        blast_eid_in_pdb(ENTREZID, save_file_xml)\n",
    "    except:\n",
    "        print('failed with 004 ENTREZID:', i)\n",
    "        continue"
   ]
  },
  {
   "cell_type": "markdown",
   "id": "editorial-upper",
   "metadata": {},
   "source": [
    "### Do BLASTs Manually"
   ]
  },
  {
   "cell_type": "code",
   "execution_count": 20,
   "id": "medium-segment",
   "metadata": {},
   "outputs": [
    {
     "name": "stdout",
     "output_type": "stream",
     "text": [
      "939437\n"
     ]
    }
   ],
   "source": [
    "i = 4\n",
    "ENTREZID = int(dna_poly001[i, 0])\n",
    "print(ENTREZID)"
   ]
  },
  {
   "cell_type": "code",
   "execution_count": 18,
   "id": "beautiful-condition",
   "metadata": {},
   "outputs": [
    {
     "ename": "ValueError",
     "evalue": "Error message from NCBI: Message ID#24 Error: Failed to read the Blast query: GI/accession/sequence mismatch: protein input required but nucleotide provided",
     "output_type": "error",
     "traceback": [
      "\u001b[0;31m---------------------------------------------------------------------------\u001b[0m",
      "\u001b[0;31mValueError\u001b[0m                                Traceback (most recent call last)",
      "\u001b[0;32m<ipython-input-18-89c0a8a50a13>\u001b[0m in \u001b[0;36m<module>\u001b[0;34m\u001b[0m\n\u001b[1;32m      2\u001b[0m \u001b[0mENTREZID\u001b[0m \u001b[0;34m=\u001b[0m \u001b[0mint\u001b[0m\u001b[0;34m(\u001b[0m\u001b[0mdna_poly001\u001b[0m\u001b[0;34m[\u001b[0m\u001b[0mi\u001b[0m\u001b[0;34m,\u001b[0m \u001b[0;36m0\u001b[0m\u001b[0;34m]\u001b[0m\u001b[0;34m)\u001b[0m\u001b[0;34m\u001b[0m\u001b[0;34m\u001b[0m\u001b[0m\n\u001b[1;32m      3\u001b[0m \u001b[0msave_file_xml\u001b[0m \u001b[0;34m=\u001b[0m \u001b[0;34m'dna001_5.xml'\u001b[0m\u001b[0;34m\u001b[0m\u001b[0;34m\u001b[0m\u001b[0m\n\u001b[0;32m----> 4\u001b[0;31m \u001b[0mblast_eid_in_pdb\u001b[0m\u001b[0;34m(\u001b[0m\u001b[0mENTREZID\u001b[0m\u001b[0;34m,\u001b[0m \u001b[0msave_file_xml\u001b[0m\u001b[0;34m)\u001b[0m\u001b[0;34m\u001b[0m\u001b[0;34m\u001b[0m\u001b[0m\n\u001b[0m",
      "\u001b[0;32m<ipython-input-9-35d08f01ed17>\u001b[0m in \u001b[0;36mblast_eid_in_pdb\u001b[0;34m(ENTREZID, save_file_xml)\u001b[0m\n\u001b[1;32m      8\u001b[0m     \"\"\"\n\u001b[1;32m      9\u001b[0m     \u001b[0meid\u001b[0m \u001b[0;34m=\u001b[0m \u001b[0mENTREZID\u001b[0m\u001b[0;34m\u001b[0m\u001b[0;34m\u001b[0m\u001b[0m\n\u001b[0;32m---> 10\u001b[0;31m     \u001b[0mresult_handle\u001b[0m \u001b[0;34m=\u001b[0m \u001b[0mNCBIWWW\u001b[0m\u001b[0;34m.\u001b[0m\u001b[0mqblast\u001b[0m\u001b[0;34m(\u001b[0m\u001b[0;34m'blastp'\u001b[0m\u001b[0;34m,\u001b[0m \u001b[0;34m'pdb'\u001b[0m\u001b[0;34m,\u001b[0m \u001b[0meid\u001b[0m\u001b[0;34m)\u001b[0m\u001b[0;34m\u001b[0m\u001b[0;34m\u001b[0m\u001b[0m\n\u001b[0m\u001b[1;32m     11\u001b[0m     \u001b[0;32mwith\u001b[0m \u001b[0mopen\u001b[0m\u001b[0;34m(\u001b[0m\u001b[0msave_file_xml\u001b[0m\u001b[0;34m,\u001b[0m \u001b[0;34m'w+'\u001b[0m\u001b[0;34m)\u001b[0m \u001b[0;32mas\u001b[0m \u001b[0msave_to\u001b[0m\u001b[0;34m:\u001b[0m\u001b[0;34m\u001b[0m\u001b[0;34m\u001b[0m\u001b[0m\n\u001b[1;32m     12\u001b[0m         \u001b[0msave_to\u001b[0m\u001b[0;34m.\u001b[0m\u001b[0mwrite\u001b[0m\u001b[0;34m(\u001b[0m\u001b[0mresult_handle\u001b[0m\u001b[0;34m.\u001b[0m\u001b[0mread\u001b[0m\u001b[0;34m(\u001b[0m\u001b[0;34m)\u001b[0m\u001b[0;34m)\u001b[0m\u001b[0;34m\u001b[0m\u001b[0;34m\u001b[0m\u001b[0m\n",
      "\u001b[0;32m~/miniconda3/lib/python3.8/site-packages/Bio/Blast/NCBIWWW.py\u001b[0m in \u001b[0;36mqblast\u001b[0;34m(program, database, sequence, url_base, auto_format, composition_based_statistics, db_genetic_code, endpoints, entrez_query, expect, filter, gapcosts, genetic_code, hitlist_size, i_thresh, layout, lcase_mask, matrix_name, nucl_penalty, nucl_reward, other_advanced, perc_ident, phi_pattern, query_file, query_believe_defline, query_from, query_to, searchsp_eff, service, threshold, ungapped_alignment, word_size, short_query, alignments, alignment_view, descriptions, entrez_links_new_window, expect_low, expect_high, format_entrez_query, format_object, format_type, ncbi_gi, results_file, show_overview, megablast, template_type, template_length)\u001b[0m\n\u001b[1;32m    206\u001b[0m     \u001b[0;31m# Format the \"Get\" command, which gets the formatted results from qblast\u001b[0m\u001b[0;34m\u001b[0m\u001b[0;34m\u001b[0m\u001b[0;34m\u001b[0m\u001b[0m\n\u001b[1;32m    207\u001b[0m     \u001b[0;31m# Parameters taken from http://www.ncbi.nlm.nih.gov/BLAST/Doc/node6.html on 9 July 2007\u001b[0m\u001b[0;34m\u001b[0m\u001b[0;34m\u001b[0m\u001b[0;34m\u001b[0m\u001b[0m\n\u001b[0;32m--> 208\u001b[0;31m     \u001b[0mrid\u001b[0m\u001b[0;34m,\u001b[0m \u001b[0mrtoe\u001b[0m \u001b[0;34m=\u001b[0m \u001b[0m_parse_qblast_ref_page\u001b[0m\u001b[0;34m(\u001b[0m\u001b[0mhandle\u001b[0m\u001b[0;34m)\u001b[0m\u001b[0;34m\u001b[0m\u001b[0;34m\u001b[0m\u001b[0m\n\u001b[0m\u001b[1;32m    209\u001b[0m     parameters = [\n\u001b[1;32m    210\u001b[0m         \u001b[0;34m(\u001b[0m\u001b[0;34m\"ALIGNMENTS\"\u001b[0m\u001b[0;34m,\u001b[0m \u001b[0malignments\u001b[0m\u001b[0;34m)\u001b[0m\u001b[0;34m,\u001b[0m\u001b[0;34m\u001b[0m\u001b[0;34m\u001b[0m\u001b[0m\n",
      "\u001b[0;32m~/miniconda3/lib/python3.8/site-packages/Bio/Blast/NCBIWWW.py\u001b[0m in \u001b[0;36m_parse_qblast_ref_page\u001b[0;34m(handle)\u001b[0m\n\u001b[1;32m    316\u001b[0m             \u001b[0mmsg\u001b[0m \u001b[0;34m=\u001b[0m \u001b[0mmsg\u001b[0m\u001b[0;34m.\u001b[0m\u001b[0msplit\u001b[0m\u001b[0;34m(\u001b[0m\u001b[0;34m\"</p>\"\u001b[0m\u001b[0;34m,\u001b[0m \u001b[0;36m1\u001b[0m\u001b[0;34m)\u001b[0m\u001b[0;34m[\u001b[0m\u001b[0;36m0\u001b[0m\u001b[0;34m]\u001b[0m\u001b[0;34m.\u001b[0m\u001b[0msplit\u001b[0m\u001b[0;34m(\u001b[0m\u001b[0;34m\"\\n\"\u001b[0m\u001b[0;34m,\u001b[0m \u001b[0;36m1\u001b[0m\u001b[0;34m)\u001b[0m\u001b[0;34m[\u001b[0m\u001b[0;36m0\u001b[0m\u001b[0;34m]\u001b[0m\u001b[0;34m.\u001b[0m\u001b[0mstrip\u001b[0m\u001b[0;34m(\u001b[0m\u001b[0;34m)\u001b[0m\u001b[0;34m\u001b[0m\u001b[0;34m\u001b[0m\u001b[0m\n\u001b[1;32m    317\u001b[0m             \u001b[0;32mif\u001b[0m \u001b[0mmsg\u001b[0m\u001b[0;34m:\u001b[0m\u001b[0;34m\u001b[0m\u001b[0;34m\u001b[0m\u001b[0m\n\u001b[0;32m--> 318\u001b[0;31m                 \u001b[0;32mraise\u001b[0m \u001b[0mValueError\u001b[0m\u001b[0;34m(\u001b[0m\u001b[0;34m\"Error message from NCBI: %s\"\u001b[0m \u001b[0;34m%\u001b[0m \u001b[0mmsg\u001b[0m\u001b[0;34m)\u001b[0m\u001b[0;34m\u001b[0m\u001b[0;34m\u001b[0m\u001b[0m\n\u001b[0m\u001b[1;32m    319\u001b[0m         \u001b[0;31m# Generic search based on the way the error messages start:\u001b[0m\u001b[0;34m\u001b[0m\u001b[0;34m\u001b[0m\u001b[0;34m\u001b[0m\u001b[0m\n\u001b[1;32m    320\u001b[0m         \u001b[0mi\u001b[0m \u001b[0;34m=\u001b[0m \u001b[0ms\u001b[0m\u001b[0;34m.\u001b[0m\u001b[0mfind\u001b[0m\u001b[0;34m(\u001b[0m\u001b[0;34m\"Message ID#\"\u001b[0m\u001b[0;34m)\u001b[0m\u001b[0;34m\u001b[0m\u001b[0;34m\u001b[0m\u001b[0m\n",
      "\u001b[0;31mValueError\u001b[0m: Error message from NCBI: Message ID#24 Error: Failed to read the Blast query: GI/accession/sequence mismatch: protein input required but nucleotide provided"
     ]
    }
   ],
   "source": [
    "i = 4\n",
    "ENTREZID = int(dna_poly001[i, 0])\n",
    "save_file_xml = 'dna001_5.xml'\n",
    "blast_eid_in_pdb(ENTREZID, save_file_xml)"
   ]
  },
  {
   "cell_type": "markdown",
   "id": "thermal-watson",
   "metadata": {},
   "source": [
    "### Check to see if .xml file wrote"
   ]
  },
  {
   "cell_type": "code",
   "execution_count": 14,
   "id": "happy-characteristic",
   "metadata": {},
   "outputs": [
    {
     "name": "stdout",
     "output_type": "stream",
     "text": [
      "****Alignment****\n",
      "sequence: pdb|3SPH|A Inward rectifier potassium channel Kir2.2 I223L mutant in complex with PIP2 [Gallus gallus] >pdb|3SPJ|A Apo inward rectifier potassium channel Kir2.2 I223L mutant [Gallus gallus]\n",
      "e value: 4.28038e-97\n",
      "score: 751.0\n",
      "****Alignment****\n",
      "sequence: pdb|3JYC|A Crystal structure of the eukaryotic strong inward-rectifier K+ channel Kir2.2 at 3.1 Angstrom resolution [Gallus gallus] >pdb|3SPC|A Inward rectifier potassium channel Kir2.2 in complex with dioctanoylglycerol pyrophosphate (DGPP) [Gallus gallus] >pdb|3SPI|A Inward rectifier potassium channel Kir2.2 in complex with PIP2 [Gallus gallus] >pdb|6M85|A Crystal Structure of Inward Rectifier Kir2.2 in a different salt condition [Gallus gallus]\n",
      "e value: 9.97851e-97\n",
      "score: 748.0\n",
      "****Alignment****\n",
      "sequence: pdb|3SPG|A Inward rectifier potassium channel Kir2.2 R186A mutant in complex with PIP2 [Gallus gallus]\n",
      "e value: 1.50316e-95\n",
      "score: 740.0\n",
      "****Alignment****\n",
      "sequence: pdb|5KUK|A Crystal Structure of Inward Rectifier Kir2.2 K62W Mutant [Gallus gallus] >pdb|5KUM|A Crystal Structure of Inward Rectifier Kir2.2 K62W Mutant In Complex with PIP2 [Gallus gallus]\n",
      "e value: 2.53007e-95\n",
      "score: 739.0\n",
      "****Alignment****\n",
      "sequence: pdb|6M84|A Crystal structure of cKir2.2 force open mutant in complex with PI(4,5)P2 [Gallus gallus] >pdb|6M86|A Crystal Structure of Inward Rectifier Kir2.2 Force Open Mutant [Gallus gallus]\n",
      "e value: 2.0301e-94\n",
      "score: 733.0\n",
      "****Alignment****\n",
      "sequence: pdb|3SYC|A Crystal structure of the G protein-gated inward rectifier K+ channel GIRK2 (Kir3.2) D228N mutant [Mus musculus]\n",
      "e value: 1.02105e-90\n",
      "score: 708.0\n",
      "****Alignment****\n",
      "sequence: pdb|3SYA|A Crystal structure of the G protein-gated inward rectifier K+ channel GIRK2 (Kir3.2) in complex with sodium and PIP2 [Mus musculus] >pdb|3SYO|A Crystal structure of the G protein-gated inward rectifier K+ channel GIRK2 (Kir3.2) in complex with sodium [Mus musculus] >pdb|4KFM|A Crystal structure of the G protein-gated inward rectifier K+ channel GIRK2 (Kir3.2) in complex with the beta-gamma G protein subunits [Mus musculus] >pdb|6XIS|A Cryo-EM structure of the G protein-gated inward rectifier K+ channel GIRK2 (Kir3.2) in apo form [Mus musculus] >pdb|6XIS|B Cryo-EM structure of the G protein-gated inward rectifier K+ channel GIRK2 (Kir3.2) in apo form [Mus musculus] >pdb|6XIS|C Cryo-EM structure of the G protein-gated inward rectifier K+ channel GIRK2 (Kir3.2) in apo form [Mus musculus] >pdb|6XIS|D Cryo-EM structure of the G protein-gated inward rectifier K+ channel GIRK2 (Kir3.2) in apo form [Mus musculus] >pdb|6XIT|A Cryo-EM structure of the G protein-gated inward rectifier K+ channel GIRK2 (Kir3.2) in complex with PIP2 [Mus musculus] >pdb|6XIT|B Cryo-EM structure of the G protein-gated inward rectifier K+ channel GIRK2 (Kir3.2) in complex with PIP2 [Mus musculus] >pdb|6XIT|C Cryo-EM structure of the G protein-gated inward rectifier K+ channel GIRK2 (Kir3.2) in complex with PIP2 [Mus musculus] >pdb|6XIT|D Cryo-EM structure of the G protein-gated inward rectifier K+ channel GIRK2 (Kir3.2) in complex with PIP2 [Mus musculus]\n",
      "e value: 4.75572e-90\n",
      "score: 704.0\n",
      "****Alignment****\n",
      "sequence: pdb|3SYP|A Crystal structure of the G protein-gated inward rectifier K+ channel GIRK2 (Kir3.2) R201A mutant [Mus musculus] >pdb|3SYQ|A Crystal structure of the G protein-gated inward rectifier K+ channel GIRK2 (Kir3.2) R201A mutant in complex with PIP2 [Mus musculus] >pdb|3SYQ|B Crystal structure of the G protein-gated inward rectifier K+ channel GIRK2 (Kir3.2) R201A mutant in complex with PIP2 [Mus musculus]\n",
      "e value: 6.75694e-89\n",
      "score: 696.0\n",
      "****Alignment****\n",
      "sequence: pdb|6C3O|A Cryo-EM structure of human KATP bound to ATP and ADP in quatrefoil form [Homo sapiens] >pdb|6C3O|B Cryo-EM structure of human KATP bound to ATP and ADP in quatrefoil form [Homo sapiens] >pdb|6C3O|C Cryo-EM structure of human KATP bound to ATP and ADP in quatrefoil form [Homo sapiens] >pdb|6C3O|D Cryo-EM structure of human KATP bound to ATP and ADP in quatrefoil form [Homo sapiens] >pdb|6C3P|A Cryo-EM structure of human KATP bound to ATP and ADP in propeller form [Homo sapiens] >pdb|6C3P|B Cryo-EM structure of human KATP bound to ATP and ADP in propeller form [Homo sapiens] >pdb|6C3P|C Cryo-EM structure of human KATP bound to ATP and ADP in propeller form [Homo sapiens] >pdb|6C3P|D Cryo-EM structure of human KATP bound to ATP and ADP in propeller form [Homo sapiens]\n",
      "e value: 3.92843e-85\n",
      "score: 677.0\n",
      "****Alignment****\n",
      "sequence: pdb|5TWV|A Cryo-EM structure of the pancreatic ATP-sensitive K+ channel SUR1/Kir6.2 in the presence of ATP and glibenclamide [Rattus norvegicus] >pdb|5TWV|C Cryo-EM structure of the pancreatic ATP-sensitive K+ channel SUR1/Kir6.2 in the presence of ATP and glibenclamide [Rattus norvegicus] >pdb|5TWV|E Cryo-EM structure of the pancreatic ATP-sensitive K+ channel SUR1/Kir6.2 in the presence of ATP and glibenclamide [Rattus norvegicus] >pdb|5TWV|G Cryo-EM structure of the pancreatic ATP-sensitive K+ channel SUR1/Kir6.2 in the presence of ATP and glibenclamide [Rattus norvegicus] >pdb|6BAA|A Cryo-EM structure of the pancreatic beta-cell KATP channel bound to ATP and glibenclamide [Rattus norvegicus] >pdb|6BAA|B Cryo-EM structure of the pancreatic beta-cell KATP channel bound to ATP and glibenclamide [Rattus norvegicus] >pdb|6BAA|C Cryo-EM structure of the pancreatic beta-cell KATP channel bound to ATP and glibenclamide [Rattus norvegicus] >pdb|6BAA|D Cryo-EM structure of the pancreatic beta-cell KATP channel bound to ATP and glibenclamide [Rattus norvegicus] >pdb|6PZ9|D Cryo-EM structure of the pancreatic beta-cell SUR1 bound to ATP and repaglinide [Rattus norvegicus] >pdb|6PZA|D Cryo-EM structure of the pancreatic beta-cell SUR1 bound to ATP and glibenclamide [Rattus norvegicus]\n",
      "e value: 4.94705e-85\n",
      "score: 675.0\n",
      "****Alignment****\n",
      "sequence: pdb|5YKE|A Structure of pancreatic ATP-sensitive potassium channel bound with glibenclamide and ATPgammaS (focused refinement on TM at 4.11A) [Mus musculus] >pdb|5YKE|C Structure of pancreatic ATP-sensitive potassium channel bound with glibenclamide and ATPgammaS (focused refinement on TM at 4.11A) [Mus musculus] >pdb|5YKE|E Structure of pancreatic ATP-sensitive potassium channel bound with glibenclamide and ATPgammaS (focused refinement on TM at 4.11A) [Mus musculus] >pdb|5YKE|G Structure of pancreatic ATP-sensitive potassium channel bound with glibenclamide and ATPgammaS (focused refinement on TM at 4.11A) [Mus musculus] >pdb|5YKF|A Structure of pancreatic ATP-sensitive potassium channel bound with glibenclamide and ATPgammaS (3D class1 at 4.33A) [Mus musculus] >pdb|5YKF|C Structure of pancreatic ATP-sensitive potassium channel bound with glibenclamide and ATPgammaS (3D class1 at 4.33A) [Mus musculus] >pdb|5YKF|E Structure of pancreatic ATP-sensitive potassium channel bound with glibenclamide and ATPgammaS (3D class1 at 4.33A) [Mus musculus] >pdb|5YKF|G Structure of pancreatic ATP-sensitive potassium channel bound with glibenclamide and ATPgammaS (3D class1 at 4.33A) [Mus musculus] >pdb|5YKG|A Structure of pancreatic ATP-sensitive potassium channel bound with glibenclamide and ATPgammaS (Class2 at 4.57A) [Mus musculus] >pdb|5YKG|C Structure of pancreatic ATP-sensitive potassium channel bound with glibenclamide and ATPgammaS (Class2 at 4.57A) [Mus musculus] >pdb|5YKG|E Structure of pancreatic ATP-sensitive potassium channel bound with glibenclamide and ATPgammaS (Class2 at 4.57A) [Mus musculus] >pdb|5YKG|G Structure of pancreatic ATP-sensitive potassium channel bound with glibenclamide and ATPgammaS (Class2 at 4.57A) [Mus musculus] >pdb|5YW8|A Structure of pancreatic ATP-sensitive potassium channel bound with ATPgammaS (all particles at 4.4A) [Mus musculus] >pdb|5YW8|C Structure of pancreatic ATP-sensitive potassium channel bound with ATPgammaS (all particles at 4.4A) [Mus musculus] >pdb|5YW8|E Structure of pancreatic ATP-sensitive potassium channel bound with ATPgammaS (all particles at 4.4A) [Mus musculus] >pdb|5YW8|G Structure of pancreatic ATP-sensitive potassium channel bound with ATPgammaS (all particles at 4.4A) [Mus musculus] >pdb|5YW9|A Structure of pancreatic ATP-sensitive potassium channel bound with ATPgammaS (class1 5.0A) [Mus musculus] >pdb|5YW9|C Structure of pancreatic ATP-sensitive potassium channel bound with ATPgammaS (class1 5.0A) [Mus musculus] >pdb|5YW9|E Structure of pancreatic ATP-sensitive potassium channel bound with ATPgammaS (class1 5.0A) [Mus musculus] >pdb|5YW9|G Structure of pancreatic ATP-sensitive potassium channel bound with ATPgammaS (class1 5.0A) [Mus musculus] >pdb|5YWA|A Structure of pancreatic ATP-sensitive potassium channel bound with ATPgammaS (CTD class 2 at 6.1A) [Mus musculus] >pdb|5YWA|C Structure of pancreatic ATP-sensitive potassium channel bound with ATPgammaS (CTD class 2 at 6.1A) [Mus musculus] >pdb|5YWA|E Structure of pancreatic ATP-sensitive potassium channel bound with ATPgammaS (CTD class 2 at 6.1A) [Mus musculus] >pdb|5YWA|G Structure of pancreatic ATP-sensitive potassium channel bound with ATPgammaS (CTD class 2 at 6.1A) [Mus musculus] >pdb|5YWB|A Structure of pancreatic ATP-sensitive potassium channel bound with Mg-ADP (CTD class2 at 5.2A) [Mus musculus] >pdb|5YWB|C Structure of pancreatic ATP-sensitive potassium channel bound with Mg-ADP (CTD class2 at 5.2A) [Mus musculus] >pdb|5YWB|E Structure of pancreatic ATP-sensitive potassium channel bound with Mg-ADP (CTD class2 at 5.2A) [Mus musculus] >pdb|5YWB|G Structure of pancreatic ATP-sensitive potassium channel bound with Mg-ADP (CTD class2 at 5.2A) [Mus musculus] >pdb|5YWC|A Structure of pancreatic ATP-sensitive potassium channel bound with Mg-ADP (CTD class1 at 4.3A) [Mus musculus] >pdb|5YWC|C Structure of pancreatic ATP-sensitive potassium channel bound with Mg-ADP (CTD class1 at 4.3A) [Mus musculus] >pdb|5YWC|E Structure of pancreatic ATP-sensitive potassium channel bound with Mg-ADP (CTD class1 at 4.3A) [Mus musculus] >pdb|5YWC|G Structure of pancreatic ATP-sensitive potassium channel bound with Mg-ADP (CTD class1 at 4.3A) [Mus musculus] >pdb|6JB1|A Structure of pancreatic ATP-sensitive potassium channel bound with repaglinide and ATPgammaS at 3.3A resolution [Mus musculus] >pdb|6JB1|C Structure of pancreatic ATP-sensitive potassium channel bound with repaglinide and ATPgammaS at 3.3A resolution [Mus musculus] >pdb|6JB1|E Structure of pancreatic ATP-sensitive potassium channel bound with repaglinide and ATPgammaS at 3.3A resolution [Mus musculus] >pdb|6JB1|G Structure of pancreatic ATP-sensitive potassium channel bound with repaglinide and ATPgammaS at 3.3A resolution [Mus musculus]\n",
      "e value: 1.99043e-84\n",
      "score: 671.0\n",
      "****Alignment****\n",
      "sequence: pdb|5WUA|A Structure of a Pancreatic ATP-sensitive Potassium Channel [Mus musculus] >pdb|5WUA|B Structure of a Pancreatic ATP-sensitive Potassium Channel [Mus musculus] >pdb|5WUA|C Structure of a Pancreatic ATP-sensitive Potassium Channel [Mus musculus] >pdb|5WUA|D Structure of a Pancreatic ATP-sensitive Potassium Channel [Mus musculus]\n",
      "e value: 5.48982e-81\n",
      "score: 669.0\n",
      "****Alignment****\n",
      "sequence: pdb|2QKS|A Crystal structure of a Kir3.1-prokaryotic Kir channel chimera [Mus musculus] >pdb|2QKS|B Crystal structure of a Kir3.1-prokaryotic Kir channel chimera [Mus musculus]\n",
      "e value: 1.3212e-65\n",
      "score: 539.0\n",
      "There are 41 sequences in the BLAST output\n"
     ]
    }
   ],
   "source": [
    "result_handle = open('dna001_1.xml')\n",
    "\n",
    "blast_record = NCBIXML.read(result_handle)\n",
    "\n",
    "# Getting info out of code\n",
    "E_VALUE_THRESH = 0.0000000000000000000000000000000000000000000000004\n",
    "count = 0\n",
    "for alignment in blast_record.alignments:\n",
    "    count += 1\n",
    "    for hsp in alignment.hsps:\n",
    "        if hsp.expect < E_VALUE_THRESH:\n",
    "            print('****Alignment****')\n",
    "            print('sequence:', alignment.title)\n",
    "            print('e value:', hsp.expect)\n",
    "            print('score:', hsp.score)\n",
    "            #print('identities:', hsp.identities)\n",
    "print('There are', count, 'sequences in the BLAST output')"
   ]
  },
  {
   "cell_type": "code",
   "execution_count": null,
   "id": "attractive-bumper",
   "metadata": {},
   "outputs": [],
   "source": []
  }
 ],
 "metadata": {
  "kernelspec": {
   "display_name": "Python 3",
   "language": "python",
   "name": "python3"
  },
  "language_info": {
   "codemirror_mode": {
    "name": "ipython",
    "version": 3
   },
   "file_extension": ".py",
   "mimetype": "text/x-python",
   "name": "python",
   "nbconvert_exporter": "python",
   "pygments_lexer": "ipython3",
   "version": "3.8.5"
  }
 },
 "nbformat": 4,
 "nbformat_minor": 5
}
