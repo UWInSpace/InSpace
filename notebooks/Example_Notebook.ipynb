{
 "cells": [
  {
   "cell_type": "markdown",
   "id": "genetic-deadline",
   "metadata": {},
   "source": [
    "![](https://live.staticflickr.com/65535/50931445562_96fb599a02_m.jpg)"
   ]
  },
  {
   "cell_type": "markdown",
   "id": "hourly-bread",
   "metadata": {},
   "source": [
    "# Example Notebook\n",
    "This notebook will show you how to use the methods we have created for this tool.  \n",
    "  \n",
    "**Purpose:** to predict the change of a protein after being in space.  Space conditions include increased radiation and near-zero gravity which affects how organisms replicate and re-produce genes and proteins.  Taking into account proteins of known change measured by the NASA GeneLab initiative (as presented as a log ratio), we have developed a model to predict the change for a protein of your interest.\n",
    "  \n",
    "**Input:** *Either* 1) protein accession number (GI) for the protein of interest or 2) the amino acid sequence for the protein of interst *AND* an email address to do the query of the sequence.  Note: if you already have a sequence, the tool will skip the sequence fetching step and your email will not be used."
   ]
  },
  {
   "cell_type": "markdown",
   "id": "subjective-undergraduate",
   "metadata": {},
   "source": [
    "### Import Python packages and methods from `utils.py`"
   ]
  },
  {
   "cell_type": "code",
   "execution_count": 7,
   "id": "unlike-printing",
   "metadata": {},
   "outputs": [],
   "source": [
    "import utils as u"
   ]
  },
  {
   "cell_type": "markdown",
   "id": "biblical-competition",
   "metadata": {},
   "source": [
    "### Input a protein accession number or a sequence.  Here, we will demonstrate both input types."
   ]
  },
  {
   "cell_type": "code",
   "execution_count": 2,
   "id": "convenient-policy",
   "metadata": {},
   "outputs": [],
   "source": [
    "# Sample Input 1\n",
    "prot_acc_num_1 = 15600267\n",
    "\n",
    "# Sample Input 2\n",
    "sequence_2 = 'mlpamrtgllcallgvtapawaeyvtvisfggankeaqetafykpfksatgnrvvhgsyngdlaklkrmveishvswdvveveapelargceeglfekldmakvgdpadfvpgavqpcgvgifvwttllaynpgkvagspqgwadfwdvkkfpgkrglrwgakyslefalmadgvapkdvyqtlatpagverafrkldelkpyihwwksgqdpvrdladgtvvmssayngriaaaqaekqrlamvwsggvydfdfwalpvgvwkkqlaeefirfasqpeqqkafaeniaygpanrkavglldpqvaanlptapqnmqnavgmnvafwaehgealeqrfqnwakr'"
   ]
  },
  {
   "cell_type": "markdown",
   "id": "existing-sullivan",
   "metadata": {},
   "source": [
    "### Use the `predict_log2fc()` function to predict the change in expression of these inputs in space"
   ]
  },
  {
   "cell_type": "code",
   "execution_count": 3,
   "id": "mighty-flooring",
   "metadata": {},
   "outputs": [
    {
     "name": "stdout",
     "output_type": "stream",
     "text": [
      "The predicted log2fc is  0.5338\n",
      "The predicted log2fc is  0.5338\n"
     ]
    }
   ],
   "source": [
    "log2fc_1 = u.predict_log2fc(prot_acc_num_1, 'jaking11@uw.edu')\n",
    "log2fc_2 = u.predict_log2fc(sequence_2, 'jaking11@uw.edu')"
   ]
  },
  {
   "cell_type": "markdown",
   "id": "emerging-responsibility",
   "metadata": {},
   "source": [
    "### There are a couple other things we can do with inner functions within this tool:\n",
    "1. Get the protein sequence using Biopython.Entrez module for the sample protein accession number\n",
    "2. Determine the mass of the protein\n",
    "3. Determine the percentages of amino acids present in the protein"
   ]
  },
  {
   "cell_type": "markdown",
   "id": "treated-thousand",
   "metadata": {},
   "source": [
    "### 1. Get protein sequence"
   ]
  },
  {
   "cell_type": "code",
   "execution_count": 4,
   "id": "turned-education",
   "metadata": {},
   "outputs": [
    {
     "name": "stdout",
     "output_type": "stream",
     "text": [
      "mievrnllkvfdtrgqvvravddvstrvargevlvvigpsgsgkstflrclngleefdegsvsidgvdladprtdinayrrevgmvfqhfnlfphmtvlenlclaqrvvrkrgkaereakarallakvgigqkadeypsrlsggqqqrvaiaralcmdpkvmlfdeptsaldpemvgevldvmktlavegmtmvcvthemgfarevadrvlffdhgklledappaqffdnpqdpraqaflrqvl\n"
     ]
    }
   ],
   "source": [
    "sequence_1 = u.get_seq('jaking11@uw.edu', prot_acc_num_1)\n",
    "print(sequence_1)"
   ]
  },
  {
   "cell_type": "markdown",
   "id": "freelance-letters",
   "metadata": {},
   "source": [
    "### 2. Determine mass of protein"
   ]
  },
  {
   "cell_type": "code",
   "execution_count": 5,
   "id": "perceived-latex",
   "metadata": {},
   "outputs": [
    {
     "name": "stdout",
     "output_type": "stream",
     "text": [
      "27056.93\n"
     ]
    }
   ],
   "source": [
    "mass_1 = u.get_prot_mass(sequence_1)\n",
    "print(mass_1)"
   ]
  },
  {
   "cell_type": "markdown",
   "id": "literary-nothing",
   "metadata": {},
   "source": [
    "### 3. Determine percentages of amino acids present in the protein"
   ]
  },
  {
   "cell_type": "code",
   "execution_count": 6,
   "id": "classical-turtle",
   "metadata": {},
   "outputs": [
    {
     "name": "stdout",
     "output_type": "stream",
     "text": [
      "nonpolar: 59.59\n",
      "positive: 11.92\n",
      "polar: 17.73\n",
      "negative: 10.76\n"
     ]
    }
   ],
   "source": [
    "nonpolar, positive, polar, negative = u.count_aa_types(sequence_2)\n",
    "print('nonpolar:', nonpolar)\n",
    "print('positive:', positive)\n",
    "print('polar:', polar)\n",
    "print('negative:', negative)"
   ]
  },
  {
   "cell_type": "markdown",
   "id": "composite-sterling",
   "metadata": {},
   "source": [
    "Use the visualization function to see the percentages of amino acid types in this sequence"
   ]
  },
  {
   "cell_type": "code",
   "execution_count": null,
   "id": "baking-interest",
   "metadata": {},
   "outputs": [],
   "source": [
    "figure = viz_aa_groups(nonpolar, positive, polar, negative)"
   ]
  },
  {
   "cell_type": "code",
   "execution_count": null,
   "id": "skilled-hebrew",
   "metadata": {},
   "outputs": [],
   "source": []
  }
 ],
 "metadata": {
  "kernelspec": {
   "display_name": "Python 3",
   "language": "python",
   "name": "python3"
  },
  "language_info": {
   "codemirror_mode": {
    "name": "ipython",
    "version": 3
   },
   "file_extension": ".py",
   "mimetype": "text/x-python",
   "name": "python",
   "nbconvert_exporter": "python",
   "pygments_lexer": "ipython3",
   "version": "3.8.5"
  }
 },
 "nbformat": 4,
 "nbformat_minor": 5
}
