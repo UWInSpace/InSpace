{
 "cells": [
  {
   "cell_type": "markdown",
   "id": "mental-beach",
   "metadata": {},
   "source": [
    "### SIMPLER Bagging Regressor"
   ]
  },
  {
   "cell_type": "code",
   "execution_count": 1,
   "id": "sealed-salon",
   "metadata": {},
   "outputs": [],
   "source": [
    "#Import python libraries/packages\n",
    "\n",
    "# Pandas to handle dataframes\n",
    "import pandas as pd    \n",
    "\n",
    "# Import Scikit-Learn library for the regression model\n",
    "import sklearn   \n",
    "from sklearn import preprocessing #sklearn for normalization function\n",
    "from sklearn.model_selection import train_test_split\n",
    "from sklearn.metrics import mean_squared_error, r2_score\n",
    "#for Bagging regressor\n",
    "from sklearn.ensemble import BaggingRegressor\n",
    "from sklearn.tree import DecisionTreeRegressor\n",
    "\n",
    "# Import numpy \n",
    "import numpy as np\n",
    "\n",
    "# Import plotting libraries\n",
    "import matplotlib \n",
    "from matplotlib import pyplot as plt\n"
   ]
  },
  {
   "cell_type": "markdown",
   "id": "functioning-melbourne",
   "metadata": {},
   "source": [
    "#### Function to do multiple linear regression with bagging regressor (BR)\n",
    "bagging_regr(test_ratio, n_estim, seed_random, X, y):"
   ]
  },
  {
   "cell_type": "code",
   "execution_count": 2,
   "id": "personal-terrain",
   "metadata": {},
   "outputs": [],
   "source": [
    "def bagging_regr(csv_file, X_user):\n",
    "    '''\n",
    "    the function takes in the master csv and user input\n",
    "    csv_file should be inputted as a string = 'compiled_features_complete.csv'\n",
    "    test ratio, random state and n_estimator are set (from previous ML optimization)\n",
    "    returning the predicted output based on user input\n",
    "    '''\n",
    "\n",
    "    # Open and load dataset\n",
    "    bacterial_csv = pd.read_csv(csv_file)\n",
    "    df = pd.DataFrame(data=bacterial_csv)\n",
    "    \n",
    "    #assign input (X) /output (y) features\n",
    "    X= df[['AA_NP','AA_POS', 'AA_POL','AA_NEG', 'MW', 'AROM', 'ISO_E']]\n",
    "    y= df['LOG2FC']\n",
    "    \n",
    "    #Scale input features\n",
    "    X_arr = X.values #returns a numpy array for X (needed to use the min_max_scaler)\n",
    "\n",
    "    X_col_names = list(X.columns.values.tolist()) #get column names to then put back into X_norm\n",
    "\n",
    "    #min-max normalization (rescaling) of input features\n",
    "    min_max_scaler = preprocessing.MinMaxScaler()\n",
    "    X_scaled = min_max_scaler.fit_transform(X_arr)\n",
    "    X_norm= pd.DataFrame(X_scaled)\n",
    "\n",
    "    #put back the original column names\n",
    "    X_norm.columns = X_col_names\n",
    "    \n",
    "  \n",
    "    #set Bagging regressor parameters, from ML training: \n",
    "    test_ratio = 0.30\n",
    "    seed_random = 42\n",
    "    n_estim= 20\n",
    "    \n",
    "    X_train, X_test, y_train, y_test = train_test_split(X_norm, y, test_size=test_ratio, random_state=seed_random, shuffle=True)\n",
    "    #Model is Bagging Regressor, base estimator is Decision Tree regressor\n",
    "    model = BaggingRegressor(base_estimator=DecisionTreeRegressor(),n_estimators=n_estim, random_state=seed_random)\n",
    "    model.fit(X_train, y_train)\n",
    "    #y_testpredict = model.predict(X_test)\n",
    "       \n",
    "      \n",
    "    user_predict = model.predict(X_user)\n",
    "    \n",
    "    return user_predict"
   ]
  },
  {
   "cell_type": "markdown",
   "id": "rational-china",
   "metadata": {},
   "source": [
    "## Unit Tests for above code"
   ]
  },
  {
   "cell_type": "code",
   "execution_count": 11,
   "id": "extra-observer",
   "metadata": {},
   "outputs": [
    {
     "ename": "ModuleNotFoundError",
     "evalue": "No module named 'functions'",
     "output_type": "error",
     "traceback": [
      "\u001b[0;31m---------------------------------------------------------------------------\u001b[0m",
      "\u001b[0;31mModuleNotFoundError\u001b[0m                       Traceback (most recent call last)",
      "\u001b[0;32m<ipython-input-11-0880824c2dd3>\u001b[0m in \u001b[0;36m<module>\u001b[0;34m\u001b[0m\n\u001b[1;32m      1\u001b[0m \u001b[0;32mimport\u001b[0m \u001b[0munittest\u001b[0m \u001b[0;31m# Will likely already have this import in master test .py file\u001b[0m\u001b[0;34m\u001b[0m\u001b[0;34m\u001b[0m\u001b[0m\n\u001b[1;32m      2\u001b[0m \u001b[0;34m\u001b[0m\u001b[0m\n\u001b[0;32m----> 3\u001b[0;31m \u001b[0;32mfrom\u001b[0m \u001b[0mfunctions\u001b[0m\u001b[0;34m.\u001b[0m\u001b[0mpy\u001b[0m \u001b[0;32mimport\u001b[0m \u001b[0mbagging_regr\u001b[0m \u001b[0;31m# Also likely redundant if import already included in master test .py file\u001b[0m\u001b[0;34m\u001b[0m\u001b[0;34m\u001b[0m\u001b[0m\n\u001b[0m\u001b[1;32m      4\u001b[0m \u001b[0;34m\u001b[0m\u001b[0m\n\u001b[1;32m      5\u001b[0m \u001b[0;32mclass\u001b[0m \u001b[0mBaggingRegrTestCase\u001b[0m\u001b[0;34m(\u001b[0m\u001b[0munittest\u001b[0m\u001b[0;34m.\u001b[0m\u001b[0mTestCase\u001b[0m\u001b[0;34m)\u001b[0m\u001b[0;34m:\u001b[0m\u001b[0;34m\u001b[0m\u001b[0;34m\u001b[0m\u001b[0m\n",
      "\u001b[0;31mModuleNotFoundError\u001b[0m: No module named 'functions'"
     ]
    }
   ],
   "source": [
    "import unittest # will likely already have this import in master test .py file\n",
    "\n",
    "from functions.py import bagging_regr # also likely redundant if import already included in master test .py file\n",
    "\n",
    "class BaggingRegrTestCase(unittest.TestCase):\n",
    "\n",
    "    def test_incomplete_csv(self):\n",
    "        '''\n",
    "        This test function is relevant if the master csv is ever updated to include additional data for model training.\n",
    "        '''\n",
    "        \n",
    "        csv_file = 'test_bagging_1.csv' # csv contains one row with empty cells\n",
    "        test_user_features = [{'AA_NP':0.23,'AA_POS':0.3,'AA_POL':0.9, 'AA_NEG': 0.3, 'MW':0.95, 'AROM':0.891, 'ISO_E': 0.012}]\n",
    "        X_user = pd.DataFrame(test_user_features)\n",
    "        \n",
    "        # check that the function fails when fed csv with NaN cells\n",
    "        with self.assertRaises(ValueError):\n",
    "            bagging_regr(csv_file, X_user)\n",
    "    \n",
    "    def test_values_csv(self):\n",
    "        '''\n",
    "        This test function is relevant if the master csv is ever updated to include additional data for model training.\n",
    "        '''\n",
    "        \n",
    "        csv_file = 'test_bagging_2.csv' # csv contains one row with strings rather than floats\n",
    "        test_user_features = [{'AA_NP':0.23,'AA_POS':0.3,'AA_POL':0.9, 'AA_NEG': 0.3, 'MW':0.95, 'AROM':0.891, 'ISO_E': 0.012}]\n",
    "        X_user = pd.DataFrame(test_user_features)\n",
    "        \n",
    "        # check that the function fails when fed csv with values other than floats\n",
    "        with self.assertRaises(ValueError):\n",
    "            bagging_regr(csv_file, X_user)\n",
    "\n",
    "\n",
    "if __name__ == '__main__':\n",
    "    unittest.main()"
   ]
  },
  {
   "cell_type": "markdown",
   "id": "responsible-relevance",
   "metadata": {},
   "source": [
    "### EXAMPLE USE OF THE FUNCTION:"
   ]
  },
  {
   "cell_type": "markdown",
   "id": "public-accessory",
   "metadata": {},
   "source": [
    "User input:"
   ]
  },
  {
   "cell_type": "code",
   "execution_count": 7,
   "id": "musical-happening",
   "metadata": {},
   "outputs": [
    {
     "data": {
      "text/html": [
       "<div>\n",
       "<style scoped>\n",
       "    .dataframe tbody tr th:only-of-type {\n",
       "        vertical-align: middle;\n",
       "    }\n",
       "\n",
       "    .dataframe tbody tr th {\n",
       "        vertical-align: top;\n",
       "    }\n",
       "\n",
       "    .dataframe thead th {\n",
       "        text-align: right;\n",
       "    }\n",
       "</style>\n",
       "<table border=\"1\" class=\"dataframe\">\n",
       "  <thead>\n",
       "    <tr style=\"text-align: right;\">\n",
       "      <th></th>\n",
       "      <th>AA_NP</th>\n",
       "      <th>AA_POS</th>\n",
       "      <th>AA_POL</th>\n",
       "      <th>AA_NEG</th>\n",
       "      <th>MW</th>\n",
       "      <th>AROM</th>\n",
       "      <th>ISO_E</th>\n",
       "    </tr>\n",
       "  </thead>\n",
       "  <tbody>\n",
       "    <tr>\n",
       "      <th>0</th>\n",
       "      <td>0.23</td>\n",
       "      <td>0.3</td>\n",
       "      <td>0.9</td>\n",
       "      <td>0.3</td>\n",
       "      <td>0.95</td>\n",
       "      <td>0.891</td>\n",
       "      <td>0.012</td>\n",
       "    </tr>\n",
       "  </tbody>\n",
       "</table>\n",
       "</div>"
      ],
      "text/plain": [
       "   AA_NP  AA_POS  AA_POL  AA_NEG    MW   AROM  ISO_E\n",
       "0   0.23     0.3     0.9     0.3  0.95  0.891  0.012"
      ]
     },
     "execution_count": 7,
     "metadata": {},
     "output_type": "execute_result"
    }
   ],
   "source": [
    "user_features = [{'AA_NP':0.23,'AA_POS':0.3,'AA_POL':0.9, 'AA_NEG': 0.3, 'MW':0.95, 'AROM':0.891, 'ISO_E': 0.012}]\n",
    "X_user = pd.DataFrame(user_features)\n",
    "X_user"
   ]
  },
  {
   "cell_type": "code",
   "execution_count": 8,
   "id": "guilty-amateur",
   "metadata": {
    "scrolled": true
   },
   "outputs": [
    {
     "name": "stdout",
     "output_type": "stream",
     "text": [
      "The predicted log2FC for user input is 0.20913\n"
     ]
    }
   ],
   "source": [
    "csv_file = 'compiled_features_complete.csv'\n",
    "pred_input_logFC = bagging_regr(csv_file, X_user)\n",
    "print(\"The predicted log2FC for user input is %.5f\" % pred_input_logFC)"
   ]
  },
  {
   "cell_type": "code",
   "execution_count": null,
   "id": "authentic-delhi",
   "metadata": {},
   "outputs": [],
   "source": []
  }
 ],
 "metadata": {
  "kernelspec": {
   "display_name": "Python 3",
   "language": "python",
   "name": "python3"
  },
  "language_info": {
   "codemirror_mode": {
    "name": "ipython",
    "version": 3
   },
   "file_extension": ".py",
   "mimetype": "text/x-python",
   "name": "python",
   "nbconvert_exporter": "python",
   "pygments_lexer": "ipython3",
   "version": "3.8.5"
  }
 },
 "nbformat": 4,
 "nbformat_minor": 5
}
