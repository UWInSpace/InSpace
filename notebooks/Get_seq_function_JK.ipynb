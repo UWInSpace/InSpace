{
 "cells": [
  {
   "cell_type": "markdown",
   "id": "removable-fifteen",
   "metadata": {},
   "source": [
    "# `get_seq()` function from Biopython.ENTREZ"
   ]
  },
  {
   "cell_type": "code",
   "execution_count": 1,
   "id": "entertaining-protocol",
   "metadata": {},
   "outputs": [],
   "source": [
    "def get_seq(eid, email):\n",
    "    \"\"\"\n",
    "    This function gets the sequence for the eid called\n",
    "    \"\"\"\n",
    "    seq = []\n",
    "\n",
    "    Entrez.email = email\n",
    "    \n",
    "    request = Entrez.epost(\"protein\",id=\",\".join(map(str,id_list)))\n",
    "    result = Entrez.read(request)\n",
    "    webEnv = result[\"WebEnv\"]\n",
    "    queryKey = result[\"QueryKey\"]\n",
    "    handle = Entrez.efetch(db=\"protein\",retmode=\"xml\", webenv=webEnv, query_key=queryKey)\n",
    "\n",
    "    for r in Entrez.parse(handle):\n",
    "        try:\n",
    "            gi=int([x for x in r['GBSeq_other-seqids'] if \"gi\" in x][0].split(\"|\")[1])\n",
    "        except ValueError:\n",
    "            gi=None\n",
    "        seq.append((r['GBSeq_sequence']))\n",
    "    \n",
    "    return seq"
   ]
  },
  {
   "cell_type": "code",
   "execution_count": null,
   "id": "personal-growth",
   "metadata": {},
   "outputs": [],
   "source": []
  }
 ],
 "metadata": {
  "kernelspec": {
   "display_name": "Python 3",
   "language": "python",
   "name": "python3"
  },
  "language_info": {
   "codemirror_mode": {
    "name": "ipython",
    "version": 3
   },
   "file_extension": ".py",
   "mimetype": "text/x-python",
   "name": "python",
   "nbconvert_exporter": "python",
   "pygments_lexer": "ipython3",
   "version": "3.8.5"
  }
 },
 "nbformat": 4,
 "nbformat_minor": 5
}
