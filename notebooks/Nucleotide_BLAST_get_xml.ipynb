{
 "cells": [
  {
   "cell_type": "markdown",
   "id": "productive-dressing",
   "metadata": {},
   "source": [
    "# Use BLASTn to get nucleotide-to-nucleotide alignments and store as .xml"
   ]
  },
  {
   "cell_type": "markdown",
   "id": "ahead-venezuela",
   "metadata": {},
   "source": [
    "### Import packages"
   ]
  },
  {
   "cell_type": "code",
   "execution_count": 1,
   "id": "green-national",
   "metadata": {},
   "outputs": [],
   "source": [
    "import math\n",
    "import os\n",
    "import requests\n",
    "\n",
    "from Bio.Blast import NCBIWWW\n",
    "from Bio.Blast import NCBIXML\n",
    "import numpy as np\n",
    "import pandas as pd"
   ]
  },
  {
   "cell_type": "markdown",
   "id": "athletic-story",
   "metadata": {},
   "source": [
    "### Upload ENTREZID's and Log2FC's for each of 3 organisms"
   ]
  },
  {
   "cell_type": "code",
   "execution_count": 2,
   "id": "opponent-moscow",
   "metadata": {},
   "outputs": [],
   "source": [
    "#Upload the data\n",
    "#Upload from .txt files in this folder\n",
    "#First column is ENTREZID, second column log2FC(Earth v Space), third column is adj. p value (Earth v Space)\n",
    "abc001 = np.loadtxt('abc001.txt', skiprows=1)\n",
    "abc002 = np.loadtxt('abc002.txt', skiprows=1)\n",
    "abc004 = np.loadtxt('abc004.txt', skiprows=1)"
   ]
  },
  {
   "cell_type": "markdown",
   "id": "color-delhi",
   "metadata": {},
   "source": [
    "### Function to BLAST an EID"
   ]
  },
  {
   "cell_type": "code",
   "execution_count": 3,
   "id": "temporal-honor",
   "metadata": {},
   "outputs": [],
   "source": [
    "def blast_eid_in_nt(ENTREZID, save_file_xml):\n",
    "    \"\"\"\n",
    "    Function: Take EID, BLAST in a the NCBI PDB\n",
    "    ENTREZID: ENTREZID from 001.csv as added to bioproject_df, float\n",
    "    save_file_xml: file to save to as ncbidb_index.xml, string\n",
    "    eid_index: index of the ENTREZID, float\n",
    "    ncbi_database: the NCBI database to be used for BLASTing, string\n",
    "    \"\"\"\n",
    "    eid = ENTREZID\n",
    "    result_handle = NCBIWWW.qblast('blastn', 'nt', eid)\n",
    "    with open(save_file_xml, 'w+') as save_to:\n",
    "        save_to.write(result_handle.read())\n",
    "        result_handle.close() "
   ]
  },
  {
   "cell_type": "markdown",
   "id": "suited-dominican",
   "metadata": {},
   "source": [
    "### Make file names to save results into (.xml)"
   ]
  },
  {
   "cell_type": "code",
   "execution_count": 4,
   "id": "novel-contractor",
   "metadata": {},
   "outputs": [],
   "source": [
    "xml_names001 = ['nabc001_1.xml', 'nabc001_2.xml', 'nabc001_3.xml', 'nabc001_4.xml', 'nabc001_5.xml', 'nabc001_6.xml', \n",
    "                'nabc001_7.xml', 'nabc001_8.xml', 'nabc001_9.xml', 'nabc001_10.xml', 'nabc001_11.xml', 'nabc001_12.xml', \n",
    "                'nabc001_13.xml', 'nabc001_14.xml', 'nabc001_15.xml', 'nabc001_16.xml', 'nabc001_17.xml', 'nabc001_18.xml', \n",
    "                'nabc001_19.xml', 'nabc001_20.xml', 'nabc001_21.xml', 'nabc001_22.xml', 'nabc001_23.xml', 'nabc001_24.xml',\n",
    "                'nabc001_25.xml', 'nabc001_26.xml', 'nabc001_27.xml', 'nabc001_28.xml', 'nabc001_29.xml', 'nabc001_30.xml', \n",
    "                'nabc001_31.xml', 'nabc001_32.xml', 'nabc001_33.xml', 'nabc001_34.xml', 'nabc001_35.xml', 'nabc001_36.xml', \n",
    "                'nabc001_37.xml', 'nabc001_38.xml', 'nabc001_39.xml']\n",
    "xml_names002 = ['nabc002_1.xml', 'nabc002_2.xml', 'nabc002_3.xml', 'nabc002_4.xml', 'nabc002_5.xml', 'nabc002_6.xml', \n",
    "                'nabc002_7.xml', 'nabc002_8.xml', 'nabc002_9.xml', 'nabc002_10.xml', 'nabc002_11.xml', 'nabc002_12.xml', \n",
    "                'nabc002_13.xml', 'nabc002_14.xml', 'nabc002_15.xml', 'nabc002_16.xml', 'nabc002_17.xml', 'nabc002_18.xml', \n",
    "                'nabc002_19.xml', 'nabc002_20.xml']\n",
    "xml_names004 = ['nabc004_1.xml', 'nabc004_2.xml', 'nabc004_3.xml', 'nabc004_4.xml', 'nabc004_5.xml', 'nabc004_6.xml', \n",
    "                'nabc004_7.xml', 'nabc004_8.xml', 'nabc004_9.xml', 'nabc004_10.xml', 'nabc004_11.xml', 'nabc004_12.xml', \n",
    "                'nabc004_13.xml', 'nabc004_14.xml', 'nabc004_15.xml', 'nabc004_16.xml', 'nabc004_17.xml', 'nabc004_18.xml', \n",
    "                'nabc004_19.xml', 'nabc004_20.xml', 'nabc004_21.xml', 'nabc004_22.xml', 'nabc004_23.xml', 'nabc004_24.xml', \n",
    "                'nabc004_25.xml', 'nabc004_26.xml', 'nabc004_27.xml', 'nabc004_28.xml', 'nabc004_29.xml', 'nabc004_30.xml', \n",
    "                'nabc004_31.xml']"
   ]
  },
  {
   "cell_type": "markdown",
   "id": "damaged-creature",
   "metadata": {},
   "source": [
    "### BLAST the ENTREZID's using blastn - 'nt'"
   ]
  },
  {
   "cell_type": "code",
   "execution_count": 5,
   "id": "mobile-leonard",
   "metadata": {},
   "outputs": [
    {
     "name": "stdout",
     "output_type": "stream",
     "text": [
      "failed with 001 ENTREZID: 0\n",
      "failed with 001 ENTREZID: 1\n",
      "failed with 001 ENTREZID: 2\n",
      "failed with 001 ENTREZID: 3\n",
      "failed with 001 ENTREZID: 4\n",
      "failed with 001 ENTREZID: 5\n",
      "failed with 001 ENTREZID: 6\n",
      "failed with 001 ENTREZID: 7\n",
      "failed with 001 ENTREZID: 8\n",
      "failed with 001 ENTREZID: 9\n",
      "failed with 001 ENTREZID: 10\n",
      "failed with 001 ENTREZID: 11\n",
      "failed with 001 ENTREZID: 12\n",
      "failed with 001 ENTREZID: 13\n",
      "failed with 001 ENTREZID: 14\n",
      "failed with 001 ENTREZID: 15\n",
      "failed with 001 ENTREZID: 16\n",
      "failed with 001 ENTREZID: 17\n",
      "failed with 001 ENTREZID: 18\n",
      "failed with 001 ENTREZID: 19\n",
      "failed with 001 ENTREZID: 20\n",
      "failed with 001 ENTREZID: 21\n",
      "failed with 001 ENTREZID: 22\n",
      "failed with 001 ENTREZID: 23\n",
      "failed with 001 ENTREZID: 24\n",
      "failed with 001 ENTREZID: 25\n",
      "failed with 001 ENTREZID: 26\n",
      "failed with 001 ENTREZID: 27\n",
      "failed with 001 ENTREZID: 28\n",
      "failed with 001 ENTREZID: 29\n",
      "failed with 001 ENTREZID: 30\n",
      "failed with 001 ENTREZID: 31\n",
      "failed with 001 ENTREZID: 32\n",
      "failed with 001 ENTREZID: 33\n",
      "failed with 001 ENTREZID: 34\n",
      "failed with 001 ENTREZID: 35\n",
      "failed with 001 ENTREZID: 36\n",
      "failed with 001 ENTREZID: 37\n",
      "failed with 001 ENTREZID: 38\n",
      "failed with 002 ENTREZID: 0\n",
      "failed with 002 ENTREZID: 1\n",
      "failed with 002 ENTREZID: 2\n",
      "failed with 002 ENTREZID: 3\n",
      "failed with 002 ENTREZID: 4\n",
      "failed with 002 ENTREZID: 5\n",
      "failed with 002 ENTREZID: 6\n",
      "failed with 002 ENTREZID: 7\n",
      "failed with 002 ENTREZID: 8\n",
      "failed with 002 ENTREZID: 9\n",
      "failed with 002 ENTREZID: 10\n",
      "failed with 002 ENTREZID: 11\n",
      "failed with 002 ENTREZID: 12\n",
      "failed with 002 ENTREZID: 13\n",
      "failed with 002 ENTREZID: 14\n",
      "failed with 002 ENTREZID: 15\n",
      "failed with 002 ENTREZID: 16\n",
      "failed with 002 ENTREZID: 17\n",
      "failed with 002 ENTREZID: 18\n",
      "failed with 002 ENTREZID: 19\n",
      "failed with 004 ENTREZID: 0\n",
      "failed with 004 ENTREZID: 1\n",
      "failed with 004 ENTREZID: 2\n",
      "failed with 004 ENTREZID: 3\n",
      "failed with 004 ENTREZID: 4\n",
      "failed with 004 ENTREZID: 5\n",
      "failed with 004 ENTREZID: 6\n",
      "failed with 004 ENTREZID: 7\n",
      "failed with 004 ENTREZID: 8\n",
      "failed with 004 ENTREZID: 9\n",
      "failed with 004 ENTREZID: 10\n",
      "failed with 004 ENTREZID: 11\n",
      "failed with 004 ENTREZID: 12\n",
      "failed with 004 ENTREZID: 13\n",
      "failed with 004 ENTREZID: 14\n",
      "failed with 004 ENTREZID: 15\n",
      "failed with 004 ENTREZID: 16\n",
      "failed with 004 ENTREZID: 17\n",
      "failed with 004 ENTREZID: 18\n",
      "failed with 004 ENTREZID: 19\n",
      "failed with 004 ENTREZID: 20\n",
      "failed with 004 ENTREZID: 21\n",
      "failed with 004 ENTREZID: 22\n",
      "failed with 004 ENTREZID: 23\n",
      "failed with 004 ENTREZID: 24\n",
      "failed with 004 ENTREZID: 25\n",
      "failed with 004 ENTREZID: 26\n",
      "failed with 004 ENTREZID: 27\n",
      "failed with 004 ENTREZID: 28\n",
      "failed with 004 ENTREZID: 29\n",
      "failed with 004 ENTREZID: 30\n"
     ]
    }
   ],
   "source": [
    "#Iterate through EID's in dna_poly001 and use BLAST function for NCBI PDB\n",
    "for i in range(len(xml_names001)):\n",
    "    ENTREZID = int(abc001[i,0]) #make eid an integer\n",
    "    save_file_xml = xml_names001[i] #define name to save BLAST hits to as .xml\n",
    "    try:\n",
    "        blast_eid_in_nt(ENTREZID, save_file_xml)\n",
    "        print('saved 001 ENTREZID', i)\n",
    "    except:\n",
    "        print('failed with 001 ENTREZID:', i)\n",
    "        continue\n",
    "\n",
    "#Iterate through EID's in dna_poly002\n",
    "for i in range(len(xml_names002)):\n",
    "    ENTREZID = int(abc002[i,0]) #make eid an integer\n",
    "    save_file_xml = xml_names002[i] #define name to save BLAST hits to as .xml\n",
    "    try:\n",
    "        blast_eid_in_nt(ENTREZID, save_file_xml)\n",
    "        print('saved 002 ENTREZID', i)\n",
    "    except:\n",
    "        print('failed with 002 ENTREZID:', i)\n",
    "        continue\n",
    "\n",
    "#Iterate through EID's in dna_poly004\n",
    "for i in range(len(xml_names004)):\n",
    "    ENTREZID = int(abc004[i,0]) #make eid an integer\n",
    "    save_file_xml = xml_names004[i] #define name to save BLAST hits to as .xml\n",
    "    try:\n",
    "        blast_eid_in_nt(ENTREZID, save_file_xml)\n",
    "        print('saved 004 ENTREZID', i)\n",
    "    except:\n",
    "        print('failed with 004 ENTREZID:', i)\n",
    "        continue"
   ]
  },
  {
   "cell_type": "code",
   "execution_count": null,
   "id": "coated-buffalo",
   "metadata": {},
   "outputs": [],
   "source": []
  }
 ],
 "metadata": {
  "kernelspec": {
   "display_name": "Python 3",
   "language": "python",
   "name": "python3"
  },
  "language_info": {
   "codemirror_mode": {
    "name": "ipython",
    "version": 3
   },
   "file_extension": ".py",
   "mimetype": "text/x-python",
   "name": "python",
   "nbconvert_exporter": "python",
   "pygments_lexer": "ipython3",
   "version": "3.8.5"
  }
 },
 "nbformat": 4,
 "nbformat_minor": 5
}
