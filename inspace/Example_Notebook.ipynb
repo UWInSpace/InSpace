{
 "cells": [
  {
   "cell_type": "markdown",
   "id": "upset-indicator",
   "metadata": {},
   "source": [
    "![](https://live.staticflickr.com/65535/50931445562_96fb599a02_m.jpg)"
   ]
  },
  {
   "cell_type": "markdown",
   "id": "minus-mexico",
   "metadata": {},
   "source": [
    "# Example Notebook\n",
    "This notebook will show you how to use the methods we have created for this tool.  \n",
    "  \n",
    "**Purpose:** to predict the change of a protein after being in space.  Space conditions include increased radiation and near-zero gravity which affects how organisms replicate and re-produce genes and proteins.  Taking into account proteins of known change measured by the NASA GeneLab initiative (as presented as a log ratio), we have developed a model to predict the change for a protein of your interest.\n",
    "  \n",
    "**Input:** *Either* 1) protein accession number (GI) for the protein of interest or 2) the amino acid sequence for the protein of interst *AND* an email address to do the query of the sequence.  Note: if you already have a sequence, the tool will skip the sequence fetching step and your email will not be used."
   ]
  },
  {
   "cell_type": "markdown",
   "id": "sapphire-deputy",
   "metadata": {},
   "source": [
    "### Import Python packages and methods from `utils.py`"
   ]
  },
  {
   "cell_type": "code",
   "execution_count": null,
   "id": "constant-brand",
   "metadata": {},
   "outputs": [],
   "source": [
    "import utils as u"
   ]
  },
  {
   "cell_type": "markdown",
   "id": "prompt-northern",
   "metadata": {},
   "source": [
    "### Input a protein accession number or a sequence.  Here, we will demonstrate both input types."
   ]
  },
  {
   "cell_type": "code",
   "execution_count": null,
   "id": "continued-limit",
   "metadata": {},
   "outputs": [],
   "source": [
    "# Sample Input 1\n",
    "prot_acc_num_1 = 15600267\n",
    "\n",
    "# Sample Input 2\n",
    "sequence_2 = 'mlpamrtgllcallgvtapawaeyvtvisfggankeaqetafykpfksatgnrvvhgsyngdlaklkrmveishvswdvveveapelargceeglfekldmakvgdpadfvpgavqpcgvgifvwttllaynpgkvagspqgwadfwdvkkfpgkrglrwgakyslefalmadgvapkdvyqtlatpagverafrkldelkpyihwwksgqdpvrdladgtvvmssayngriaaaqaekqrlamvwsggvydfdfwalpvgvwkkqlaeefirfasqpeqqkafaeniaygpanrkavglldpqvaanlptapqnmqnavgmnvafwaehgealeqrfqnwakr'\n",
    "\n",
    "# Sample Input 3\n",
    "prot_acc_num_3 = 15595355"
   ]
  },
  {
   "cell_type": "markdown",
   "id": "circular-spouse",
   "metadata": {},
   "source": [
    "### Use the `predict_log2fc()` function to predict the change in expression of these inputs in space"
   ]
  },
  {
   "cell_type": "code",
   "execution_count": null,
   "id": "bridal-promotion",
   "metadata": {
    "scrolled": true
   },
   "outputs": [],
   "source": [
    "log2fc_1 = u.predict_log2fc(prot_acc_num_1, 'jaking11@uw.edu')\n",
    "log2fc_2 = u.predict_log2fc(sequence_2, 'jaking11@uw.edu')\n",
    "log2fc_3 = u.predict_log2fc(prot_acc_num_3, 'jaking11@uw.edu')"
   ]
  },
  {
   "cell_type": "code",
   "execution_count": null,
   "id": "labeled-episode",
   "metadata": {
    "scrolled": true
   },
   "outputs": [],
   "source": [
    "log2fc, df = u.predict_log2fc(prot_acc_num_3, 'jaking11@uw.edu')\n",
    "df"
   ]
  },
  {
   "cell_type": "markdown",
   "id": "established-checkout",
   "metadata": {},
   "source": [
    "### There are a couple other things we can do with inner functions within this tool:\n",
    "1. Get the protein sequence using Biopython.Entrez module for the sample protein accession number\n",
    "2. Determine the mass of the protein\n",
    "3. Determine the percentages of amino acids present in the protein"
   ]
  },
  {
   "cell_type": "markdown",
   "id": "needed-antarctica",
   "metadata": {},
   "source": [
    "### 1. Get protein sequence"
   ]
  },
  {
   "cell_type": "code",
   "execution_count": null,
   "id": "sonic-helmet",
   "metadata": {},
   "outputs": [],
   "source": [
    "sequence_1 = u.get_seq('jaking11@uw.edu', prot_acc_num_1)\n",
    "print(sequence_1)"
   ]
  },
  {
   "cell_type": "markdown",
   "id": "lasting-culture",
   "metadata": {},
   "source": [
    "### 2. Determine mass of protein"
   ]
  },
  {
   "cell_type": "code",
   "execution_count": null,
   "id": "derived-plasma",
   "metadata": {},
   "outputs": [],
   "source": [
    "mass_1 = u.get_prot_mass(sequence_1)\n",
    "print(mass_1)"
   ]
  },
  {
   "cell_type": "markdown",
   "id": "superb-airplane",
   "metadata": {},
   "source": [
    "### 3. Determine percentages of amino acids present in the protein"
   ]
  },
  {
   "cell_type": "code",
   "execution_count": null,
   "id": "consecutive-payday",
   "metadata": {},
   "outputs": [],
   "source": [
    "nonpolar, positive, polar, negative = u.count_aa_types(sequence_2)\n",
    "print('nonpolar:', nonpolar)\n",
    "print('positive:', positive)\n",
    "print('polar:', polar)\n",
    "print('negative:', negative)"
   ]
  },
  {
   "cell_type": "markdown",
   "id": "medium-serial",
   "metadata": {},
   "source": [
    "## You can also find log2fc predictions for *multiple* molecules of interest at once with `multi_pred_log2fc`"
   ]
  },
  {
   "cell_type": "code",
   "execution_count": null,
   "id": "dimensional-break",
   "metadata": {},
   "outputs": [],
   "source": [
    "IDs = [15600267, 15595355]\n",
    "email = 'roryjm@uw.edu'\n",
    "predicted_log2fcs = u.multi_pred_log2fc(IDs, email)\n",
    "print(predicted_log2fcs)"
   ]
  },
  {
   "cell_type": "markdown",
   "id": "latin-egyptian",
   "metadata": {},
   "source": [
    "## We've made a simple visualization tool to relate the input protein to other species for the same molecule type"
   ]
  },
  {
   "cell_type": "code",
   "execution_count": null,
   "id": "central-uncle",
   "metadata": {},
   "outputs": [],
   "source": [
    "u.cluster_visuals(df, 'ABC_transporter')"
   ]
  },
  {
   "cell_type": "code",
   "execution_count": null,
   "id": "nonprofit-preference",
   "metadata": {},
   "outputs": [],
   "source": []
  }
 ],
 "metadata": {
  "kernelspec": {
   "display_name": "Python 3",
   "language": "python",
   "name": "python3"
  },
  "language_info": {
   "codemirror_mode": {
    "name": "ipython",
    "version": 3
   },
   "file_extension": ".py",
   "mimetype": "text/x-python",
   "name": "python",
   "nbconvert_exporter": "python",
   "pygments_lexer": "ipython3",
   "version": "3.8.5"
  }
 },
 "nbformat": 4,
 "nbformat_minor": 5
}
